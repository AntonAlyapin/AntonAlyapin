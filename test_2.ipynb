{
 "cells": [
  {
   "cell_type": "markdown",
   "id": "6e5388c8-87d2-4861-8140-24ee3348f935",
   "metadata": {},
   "source": [
    "***\n",
    "\n",
    "## Задание 2 \n",
    "\n",
    "(frame_2 (1).7z).\n",
    "\n",
    "1. Определить портрет читающих маркетинговые рассылки.\n",
    "2. Имеется ли корреляция между датой/временем отправки письма и его прочтением\n",
    "3. Имеется ли региональные особенности среди потребителей данного маркетинговых рассылок\n",
    "\n",
    "***"
   ]
  },
  {
   "cell_type": "code",
   "execution_count": 1,
   "id": "71c7de1c-c4de-4e03-a964-9bf6c603bf7c",
   "metadata": {},
   "outputs": [],
   "source": [
    "import pandas as pd\n",
    "import numpy as np\n",
    "import seaborn as sns\n",
    "import matplotlib.pyplot as plt\n",
    "%matplotlib inline"
   ]
  },
  {
   "cell_type": "code",
   "execution_count": 2,
   "id": "29c317a2-687d-4d68-96fc-d3024e137c20",
   "metadata": {},
   "outputs": [],
   "source": [
    "# Настройка отображения графиков\n",
    "\n",
    "sns.set(\n",
    "    font_scale=2,\n",
    "    style=\"darkgrid\",\n",
    "    rc={'figure.figsize':(10,10)}\n",
    "        )"
   ]
  },
  {
   "cell_type": "code",
   "execution_count": 3,
   "id": "de9f06a2-9545-44f7-bc3f-135b3b61a59b",
   "metadata": {},
   "outputs": [],
   "source": [
    "plt.style.use(\"dark_background\") # применим темную тему для графиков"
   ]
  },
  {
   "cell_type": "code",
   "execution_count": 4,
   "id": "4bfa1258-88fb-4bc1-84b4-606b2b2ebac0",
   "metadata": {},
   "outputs": [],
   "source": [
    "import py7zr\n",
    "with py7zr.SevenZipFile('C:/Users/alyap/Finam/frame_2 (1).7z', mode='r') as z:\n",
    "    z.extractall()"
   ]
  },
  {
   "cell_type": "code",
   "execution_count": 5,
   "id": "22c240cf-15ee-4c9e-bb71-e0276e99f36a",
   "metadata": {},
   "outputs": [],
   "source": [
    "df = pd.read_csv('C:/Users/alyap/Finam/frame_2.csv')"
   ]
  },
  {
   "cell_type": "code",
   "execution_count": 6,
   "id": "2277734f-6d13-4877-a91f-2d20ff383b24",
   "metadata": {},
   "outputs": [
    {
     "data": {
      "text/html": [
       "<div>\n",
       "<style scoped>\n",
       "    .dataframe tbody tr th:only-of-type {\n",
       "        vertical-align: middle;\n",
       "    }\n",
       "\n",
       "    .dataframe tbody tr th {\n",
       "        vertical-align: top;\n",
       "    }\n",
       "\n",
       "    .dataframe thead th {\n",
       "        text-align: right;\n",
       "    }\n",
       "</style>\n",
       "<table border=\"1\" class=\"dataframe\">\n",
       "  <thead>\n",
       "    <tr style=\"text-align: right;\">\n",
       "      <th></th>\n",
       "      <th>Id</th>\n",
       "      <th>Город</th>\n",
       "      <th>Пол</th>\n",
       "      <th>Дата рождения</th>\n",
       "      <th>Дата отправки</th>\n",
       "      <th>Статус отправки</th>\n",
       "      <th>Название_письма</th>\n",
       "    </tr>\n",
       "  </thead>\n",
       "  <tbody>\n",
       "    <tr>\n",
       "      <th>0</th>\n",
       "      <td>2</td>\n",
       "      <td>Мытищи</td>\n",
       "      <td>мужской</td>\n",
       "      <td>1964-02-24</td>\n",
       "      <td>2020-11-19 00:46:09</td>\n",
       "      <td>Открыто</td>\n",
       "      <td>Еженедельный Аналитический Дайджест</td>\n",
       "    </tr>\n",
       "    <tr>\n",
       "      <th>1</th>\n",
       "      <td>2</td>\n",
       "      <td>Мытищи</td>\n",
       "      <td>мужской</td>\n",
       "      <td>1964-02-24</td>\n",
       "      <td>2020-11-26 01:58:27</td>\n",
       "      <td>Открыто</td>\n",
       "      <td>Еженедельный Аналитический Дайджест</td>\n",
       "    </tr>\n",
       "    <tr>\n",
       "      <th>2</th>\n",
       "      <td>2</td>\n",
       "      <td>Мытищи</td>\n",
       "      <td>мужской</td>\n",
       "      <td>1964-02-24</td>\n",
       "      <td>2020-11-27 00:24:05</td>\n",
       "      <td>Отправлено</td>\n",
       "      <td>Еженедельный Аналитический Дайджест</td>\n",
       "    </tr>\n",
       "    <tr>\n",
       "      <th>3</th>\n",
       "      <td>2</td>\n",
       "      <td>Мытищи</td>\n",
       "      <td>мужской</td>\n",
       "      <td>1964-02-24</td>\n",
       "      <td>2020-12-03 02:21:10</td>\n",
       "      <td>Открыто</td>\n",
       "      <td>Еженедельный Аналитический Дайджест</td>\n",
       "    </tr>\n",
       "    <tr>\n",
       "      <th>4</th>\n",
       "      <td>2</td>\n",
       "      <td>Мытищи</td>\n",
       "      <td>мужской</td>\n",
       "      <td>1964-02-24</td>\n",
       "      <td>2020-12-04 00:46:05</td>\n",
       "      <td>Отправлено</td>\n",
       "      <td>Еженедельный Аналитический Дайджест</td>\n",
       "    </tr>\n",
       "  </tbody>\n",
       "</table>\n",
       "</div>"
      ],
      "text/plain": [
       "   Id   Город      Пол Дата рождения        Дата отправки Статус отправки  \\\n",
       "0   2  Мытищи  мужской    1964-02-24  2020-11-19 00:46:09         Открыто   \n",
       "1   2  Мытищи  мужской    1964-02-24  2020-11-26 01:58:27         Открыто   \n",
       "2   2  Мытищи  мужской    1964-02-24  2020-11-27 00:24:05      Отправлено   \n",
       "3   2  Мытищи  мужской    1964-02-24  2020-12-03 02:21:10         Открыто   \n",
       "4   2  Мытищи  мужской    1964-02-24  2020-12-04 00:46:05      Отправлено   \n",
       "\n",
       "                       Название_письма  \n",
       "0  Еженедельный Аналитический Дайджест  \n",
       "1  Еженедельный Аналитический Дайджест  \n",
       "2  Еженедельный Аналитический Дайджест  \n",
       "3  Еженедельный Аналитический Дайджест  \n",
       "4  Еженедельный Аналитический Дайджест  "
      ]
     },
     "execution_count": 6,
     "metadata": {},
     "output_type": "execute_result"
    }
   ],
   "source": [
    "df.head()"
   ]
  },
  {
   "cell_type": "code",
   "execution_count": 7,
   "id": "0df16706-48e4-4246-8ee1-94b3d4bb7754",
   "metadata": {},
   "outputs": [
    {
     "data": {
      "text/plain": [
       "(360127, 7)"
      ]
     },
     "execution_count": 7,
     "metadata": {},
     "output_type": "execute_result"
    }
   ],
   "source": [
    "df.shape # Размер датафрейма"
   ]
  },
  {
   "cell_type": "code",
   "execution_count": 8,
   "id": "789778eb-3d5c-4876-a82d-0fd164b0d6b2",
   "metadata": {},
   "outputs": [
    {
     "data": {
      "text/plain": [
       "Id                  int64\n",
       "Город              object\n",
       "Пол                object\n",
       "Дата рождения      object\n",
       "Дата отправки      object\n",
       "Статус отправки    object\n",
       "Название_письма    object\n",
       "dtype: object"
      ]
     },
     "execution_count": 8,
     "metadata": {},
     "output_type": "execute_result"
    }
   ],
   "source": [
    "df.dtypes"
   ]
  },
  {
   "cell_type": "markdown",
   "id": "25b07100-448b-4d81-820b-47603e236e31",
   "metadata": {},
   "source": [
    "Необходимо преобразовать временные типы данных в date, datetime"
   ]
  },
  {
   "cell_type": "code",
   "execution_count": 9,
   "id": "c119f98f-ea8a-4273-936c-71ca50967c2b",
   "metadata": {},
   "outputs": [],
   "source": [
    "df['Дата рождения'] = pd.to_datetime(df['Дата рождения'])"
   ]
  },
  {
   "cell_type": "code",
   "execution_count": 10,
   "id": "843c00d5-174c-466a-ab80-a80e619e3b6f",
   "metadata": {},
   "outputs": [],
   "source": [
    "df['Дата отправки'] = pd.to_datetime(df['Дата отправки'])"
   ]
  },
  {
   "cell_type": "code",
   "execution_count": 11,
   "id": "2fdf8b97-c11f-44ed-a407-05902d2dfbce",
   "metadata": {},
   "outputs": [
    {
     "data": {
      "text/plain": [
       "9"
      ]
     },
     "execution_count": 11,
     "metadata": {},
     "output_type": "execute_result"
    }
   ],
   "source": [
    "df.duplicated().sum() # Проверка на дубликаты. "
   ]
  },
  {
   "cell_type": "code",
   "execution_count": 12,
   "id": "7a466e28-3896-46bb-94a9-3409276563ed",
   "metadata": {},
   "outputs": [],
   "source": [
    "df.drop_duplicates(inplace=True) # имеем 9 дублирующих строк, удаляем дубли"
   ]
  },
  {
   "cell_type": "code",
   "execution_count": 13,
   "id": "73a992b8-ee51-4bc1-9cd9-22b0f1177522",
   "metadata": {},
   "outputs": [
    {
     "data": {
      "text/plain": [
       "(360118, 7)"
      ]
     },
     "execution_count": 13,
     "metadata": {},
     "output_type": "execute_result"
    }
   ],
   "source": [
    "df.shape"
   ]
  },
  {
   "cell_type": "code",
   "execution_count": 14,
   "id": "a0648920-932f-425a-89af-722fa22fa99a",
   "metadata": {},
   "outputs": [
    {
     "data": {
      "text/plain": [
       "Id                   0\n",
       "Город                0\n",
       "Пол                  0\n",
       "Дата рождения      120\n",
       "Дата отправки        0\n",
       "Статус отправки     31\n",
       "Название_письма      0\n",
       "dtype: int64"
      ]
     },
     "execution_count": 14,
     "metadata": {},
     "output_type": "execute_result"
    }
   ],
   "source": [
    "df.isna().sum()"
   ]
  },
  {
   "cell_type": "markdown",
   "id": "5a6c5340-1287-4ac9-b364-f2e1dd2407ea",
   "metadata": {},
   "source": [
    "В датафрейме есть пропущенные значения в колонках дата рождени и статус отправки"
   ]
  },
  {
   "cell_type": "code",
   "execution_count": 15,
   "id": "a6a6c1cb-86c7-4554-a501-7a1d70beba36",
   "metadata": {},
   "outputs": [
    {
     "data": {
      "text/plain": [
       "Еженедельный Аналитический Дайджест    360118\n",
       "Name: Название_письма, dtype: int64"
      ]
     },
     "execution_count": 15,
     "metadata": {},
     "output_type": "execute_result"
    }
   ],
   "source": [
    "df['Название_письма'].value_counts()"
   ]
  },
  {
   "cell_type": "markdown",
   "id": "f20996fd-f6cc-48fd-a629-583ba51871e7",
   "metadata": {},
   "source": [
    "Название письма одинаково в датафрейме"
   ]
  },
  {
   "cell_type": "markdown",
   "id": "e731db3b-a45d-459a-aad6-176a23fd589a",
   "metadata": {},
   "source": [
    "Изучаем пропущенные даты рождения"
   ]
  },
  {
   "cell_type": "code",
   "execution_count": 16,
   "id": "da3d7d6b-7eec-450d-88ff-bbd1b73e023e",
   "metadata": {},
   "outputs": [
    {
     "data": {
      "text/plain": [
       "мужской    120\n",
       "Name: Пол, dtype: int64"
      ]
     },
     "execution_count": 16,
     "metadata": {},
     "output_type": "execute_result"
    }
   ],
   "source": [
    "df[df['Дата рождения'].isna() == True]['Пол'].value_counts()"
   ]
  },
  {
   "cell_type": "markdown",
   "id": "cc5c6d54-07f9-413a-a61a-f8566c05b179",
   "metadata": {},
   "source": [
    "Список городов, в которых есть пропущенная дата рождения"
   ]
  },
  {
   "cell_type": "code",
   "execution_count": 17,
   "id": "97d2cea9-5bd4-42de-b245-9fa4d58e98c7",
   "metadata": {},
   "outputs": [
    {
     "data": {
      "text/plain": [
       "['Уфа', 'Санкт-Петербург', 'Омск', 'Видное', 'Белгород', 'Улан-Удэ']"
      ]
     },
     "execution_count": 17,
     "metadata": {},
     "output_type": "execute_result"
    }
   ],
   "source": [
    "date_null = df[df['Дата рождения'].isna() == True]['Город'].value_counts().reset_index()['index'].tolist()\n",
    "date_null"
   ]
  },
  {
   "cell_type": "markdown",
   "id": "034b0be9-cf16-40fa-8209-65586f1aabc7",
   "metadata": {},
   "source": [
    "Найдем максимальную дату отправки"
   ]
  },
  {
   "cell_type": "code",
   "execution_count": 18,
   "id": "0068fc4b-62c3-4a7b-8310-5226ec0c5b89",
   "metadata": {},
   "outputs": [
    {
     "data": {
      "text/plain": [
       "datetime.date(2021, 5, 31)"
      ]
     },
     "execution_count": 18,
     "metadata": {},
     "output_type": "execute_result"
    }
   ],
   "source": [
    "max_date = df['Дата отправки'].dt.date.max()\n",
    "max_date"
   ]
  },
  {
   "cell_type": "markdown",
   "id": "c3bb684a-a5f5-4d6e-af31-bdd729142644",
   "metadata": {},
   "source": [
    "Рассчитаем возраст пользователей"
   ]
  },
  {
   "cell_type": "code",
   "execution_count": 19,
   "id": "2fdbc981-0700-4b96-991a-21e1ad3a7b00",
   "metadata": {},
   "outputs": [],
   "source": [
    "df['Возраст'] = df['Дата рождения'].apply(\n",
    "               lambda x: max_date.year - x.year - \n",
    "               ((max_date.month, max_date.day) < (x.month, x.day)) \n",
    "               )"
   ]
  },
  {
   "cell_type": "code",
   "execution_count": 20,
   "id": "c76ba537-05a4-41c5-92bb-1c3e314ec050",
   "metadata": {},
   "outputs": [
    {
     "name": "stderr",
     "output_type": "stream",
     "text": [
      "C:\\Users\\alyap\\anaconda3\\lib\\site-packages\\seaborn\\distributions.py:2619: FutureWarning: `distplot` is a deprecated function and will be removed in a future version. Please adapt your code to use either `displot` (a figure-level function with similar flexibility) or `histplot` (an axes-level function for histograms).\n",
      "  warnings.warn(msg, FutureWarning)\n"
     ]
    },
    {
     "data": {
      "text/plain": [
       "<AxesSubplot:xlabel='Возраст'>"
      ]
     },
     "execution_count": 20,
     "metadata": {},
     "output_type": "execute_result"
    },
    {
     "data": {
      "image/png": "[encoded data removed]",
      "text/plain": [
       "<Figure size 720x720 with 1 Axes>"
      ]
     },
     "metadata": {},
     "output_type": "display_data"
    }
   ],
   "source": [
    "sns.distplot(df['Возраст'], kde=False)"
   ]
  },
  {
   "cell_type": "code",
   "execution_count": 21,
   "id": "0d8dda56-a47f-4845-b2c0-00af773578be",
   "metadata": {},
   "outputs": [
    {
     "data": {
      "text/plain": [
       "count    359998.000000\n",
       "mean         43.578859\n",
       "std          11.177346\n",
       "min          14.000000\n",
       "25%          36.000000\n",
       "50%          42.000000\n",
       "75%          51.000000\n",
       "max         121.000000\n",
       "Name: Возраст, dtype: float64"
      ]
     },
     "execution_count": 21,
     "metadata": {},
     "output_type": "execute_result"
    }
   ],
   "source": [
    "df['Возраст'].describe()"
   ]
  },
  {
   "cell_type": "code",
   "execution_count": 22,
   "id": "cba8d77f-43fb-4b1c-8a21-f234a7900a94",
   "metadata": {},
   "outputs": [
    {
     "data": {
      "text/plain": [
       "43.578858771437616"
      ]
     },
     "execution_count": 22,
     "metadata": {},
     "output_type": "execute_result"
    }
   ],
   "source": [
    "df['Возраст'].mean()"
   ]
  },
  {
   "cell_type": "markdown",
   "id": "721b7891-6b6b-48c9-8067-f810d5a827f6",
   "metadata": {},
   "source": [
    "Медианный и средний возраст выборки близки по значению, средний возраст мужчин и женщин также практически не отличается."
   ]
  },
  {
   "cell_type": "code",
   "execution_count": 23,
   "id": "5c185b50-c8bd-4f6e-a94f-322ab10571fc",
   "metadata": {},
   "outputs": [
    {
     "data": {
      "text/html": [
       "<div>\n",
       "<style scoped>\n",
       "    .dataframe tbody tr th:only-of-type {\n",
       "        vertical-align: middle;\n",
       "    }\n",
       "\n",
       "    .dataframe tbody tr th {\n",
       "        vertical-align: top;\n",
       "    }\n",
       "\n",
       "    .dataframe thead th {\n",
       "        text-align: right;\n",
       "    }\n",
       "</style>\n",
       "<table border=\"1\" class=\"dataframe\">\n",
       "  <thead>\n",
       "    <tr style=\"text-align: right;\">\n",
       "      <th></th>\n",
       "      <th>Город</th>\n",
       "      <th>Возраст</th>\n",
       "    </tr>\n",
       "  </thead>\n",
       "  <tbody>\n",
       "    <tr>\n",
       "      <th>0</th>\n",
       "      <td>Белгород</td>\n",
       "      <td>45.124060</td>\n",
       "    </tr>\n",
       "    <tr>\n",
       "      <th>1</th>\n",
       "      <td>Видное</td>\n",
       "      <td>41.702247</td>\n",
       "    </tr>\n",
       "    <tr>\n",
       "      <th>2</th>\n",
       "      <td>Омск</td>\n",
       "      <td>44.022834</td>\n",
       "    </tr>\n",
       "    <tr>\n",
       "      <th>3</th>\n",
       "      <td>Санкт-Петербург</td>\n",
       "      <td>43.163294</td>\n",
       "    </tr>\n",
       "    <tr>\n",
       "      <th>4</th>\n",
       "      <td>Улан-Удэ</td>\n",
       "      <td>43.199616</td>\n",
       "    </tr>\n",
       "    <tr>\n",
       "      <th>5</th>\n",
       "      <td>Уфа</td>\n",
       "      <td>43.002021</td>\n",
       "    </tr>\n",
       "  </tbody>\n",
       "</table>\n",
       "</div>"
      ],
      "text/plain": [
       "             Город    Возраст\n",
       "0         Белгород  45.124060\n",
       "1           Видное  41.702247\n",
       "2             Омск  44.022834\n",
       "3  Санкт-Петербург  43.163294\n",
       "4         Улан-Удэ  43.199616\n",
       "5              Уфа  43.002021"
      ]
     },
     "execution_count": 23,
     "metadata": {},
     "output_type": "execute_result"
    }
   ],
   "source": [
    "df.query('Город in @date_null').groupby('Город', as_index=False).agg({'Возраст':'mean'})"
   ]
  },
  {
   "cell_type": "code",
   "execution_count": 24,
   "id": "bee91afc-1b65-4514-b6c5-e42680a231e2",
   "metadata": {},
   "outputs": [
    {
     "data": {
      "text/plain": [
       "42"
      ]
     },
     "execution_count": 24,
     "metadata": {},
     "output_type": "execute_result"
    }
   ],
   "source": [
    "avg_age = df.query('Город in @date_null and Пол == \"мужской\"').groupby('Город', as_index=False)\\\n",
    "                .agg({'Возраст':'mean'})['Возраст'].mean()\n",
    "avg_age = int(avg_age)\n",
    "avg_age"
   ]
  },
  {
   "cell_type": "markdown",
   "id": "c06f2a83-ecfa-4b55-8f69-8372e6623ced",
   "metadata": {},
   "source": [
    "Средний возраст в данных городах равен медианному по всей выборке.   \n",
    "Т.к. пропущенные даты рождения относятся к мужскому полу, добавим дополнительный фильтр по полу.   \n",
    "Заменим пропущенные значения на среднее данной выборки"
   ]
  },
  {
   "cell_type": "code",
   "execution_count": 25,
   "id": "226195a5-df2a-45f4-927f-d757b933e890",
   "metadata": {},
   "outputs": [],
   "source": [
    "df['Возраст'].fillna(avg_age, inplace=True)"
   ]
  },
  {
   "cell_type": "code",
   "execution_count": 26,
   "id": "4cd13c85-7034-48b6-b4b5-fd6589dbd7e8",
   "metadata": {},
   "outputs": [
    {
     "data": {
      "text/plain": [
       "0"
      ]
     },
     "execution_count": 26,
     "metadata": {},
     "output_type": "execute_result"
    }
   ],
   "source": [
    "df['Возраст'].isna().sum()"
   ]
  },
  {
   "cell_type": "markdown",
   "id": "d5b6f13d-2491-4a82-9d8b-48860b827499",
   "metadata": {},
   "source": [
    "Рассмотрим статусы отправки"
   ]
  },
  {
   "cell_type": "markdown",
   "id": "96b9f649-5d1e-4c98-b04e-a33f1531da30",
   "metadata": {},
   "source": [
    "Пропущенные значения"
   ]
  },
  {
   "cell_type": "code",
   "execution_count": 27,
   "id": "c86ad2ae-fdb9-46c3-afc9-28b70b8e08e7",
   "metadata": {},
   "outputs": [
    {
     "data": {
      "text/html": [
       "<div>\n",
       "<style scoped>\n",
       "    .dataframe tbody tr th:only-of-type {\n",
       "        vertical-align: middle;\n",
       "    }\n",
       "\n",
       "    .dataframe tbody tr th {\n",
       "        vertical-align: top;\n",
       "    }\n",
       "\n",
       "    .dataframe thead th {\n",
       "        text-align: right;\n",
       "    }\n",
       "</style>\n",
       "<table border=\"1\" class=\"dataframe\">\n",
       "  <thead>\n",
       "    <tr style=\"text-align: right;\">\n",
       "      <th></th>\n",
       "      <th>Id</th>\n",
       "      <th>Город</th>\n",
       "      <th>Пол</th>\n",
       "      <th>Дата рождения</th>\n",
       "      <th>Дата отправки</th>\n",
       "      <th>Статус отправки</th>\n",
       "      <th>Название_письма</th>\n",
       "      <th>Возраст</th>\n",
       "    </tr>\n",
       "  </thead>\n",
       "  <tbody>\n",
       "    <tr>\n",
       "      <th>12826</th>\n",
       "      <td>884</td>\n",
       "      <td>Белорецк</td>\n",
       "      <td>мужской</td>\n",
       "      <td>1987-12-02</td>\n",
       "      <td>2020-12-10 01:47:24</td>\n",
       "      <td>NaN</td>\n",
       "      <td>Еженедельный Аналитический Дайджест</td>\n",
       "      <td>33.0</td>\n",
       "    </tr>\n",
       "    <tr>\n",
       "      <th>12904</th>\n",
       "      <td>893</td>\n",
       "      <td>Обнинск</td>\n",
       "      <td>мужской</td>\n",
       "      <td>1986-10-05</td>\n",
       "      <td>2021-04-14 23:06:15</td>\n",
       "      <td>NaN</td>\n",
       "      <td>Еженедельный Аналитический Дайджест</td>\n",
       "      <td>34.0</td>\n",
       "    </tr>\n",
       "    <tr>\n",
       "      <th>18615</th>\n",
       "      <td>1304</td>\n",
       "      <td>Балашиха</td>\n",
       "      <td>женский</td>\n",
       "      <td>1989-05-16</td>\n",
       "      <td>2021-05-27 22:52:52</td>\n",
       "      <td>NaN</td>\n",
       "      <td>Еженедельный Аналитический Дайджест</td>\n",
       "      <td>32.0</td>\n",
       "    </tr>\n",
       "    <tr>\n",
       "      <th>59613</th>\n",
       "      <td>4124</td>\n",
       "      <td>Ростов-на-Дону</td>\n",
       "      <td>мужской</td>\n",
       "      <td>1968-03-13</td>\n",
       "      <td>2021-01-02 02:04:06</td>\n",
       "      <td>NaN</td>\n",
       "      <td>Еженедельный Аналитический Дайджест</td>\n",
       "      <td>53.0</td>\n",
       "    </tr>\n",
       "    <tr>\n",
       "      <th>70655</th>\n",
       "      <td>4835</td>\n",
       "      <td>Архангельск</td>\n",
       "      <td>мужской</td>\n",
       "      <td>1976-08-05</td>\n",
       "      <td>2021-05-14 22:47:00</td>\n",
       "      <td>NaN</td>\n",
       "      <td>Еженедельный Аналитический Дайджест</td>\n",
       "      <td>44.0</td>\n",
       "    </tr>\n",
       "    <tr>\n",
       "      <th>81258</th>\n",
       "      <td>5530</td>\n",
       "      <td>Казань, офис на Пушкина</td>\n",
       "      <td>женский</td>\n",
       "      <td>1984-01-14</td>\n",
       "      <td>2020-12-24 02:22:26</td>\n",
       "      <td>NaN</td>\n",
       "      <td>Еженедельный Аналитический Дайджест</td>\n",
       "      <td>37.0</td>\n",
       "    </tr>\n",
       "    <tr>\n",
       "      <th>115713</th>\n",
       "      <td>7927</td>\n",
       "      <td>Пермь</td>\n",
       "      <td>мужской</td>\n",
       "      <td>1975-03-07</td>\n",
       "      <td>2020-11-26 01:52:40</td>\n",
       "      <td>NaN</td>\n",
       "      <td>Еженедельный Аналитический Дайджест</td>\n",
       "      <td>46.0</td>\n",
       "    </tr>\n",
       "    <tr>\n",
       "      <th>129149</th>\n",
       "      <td>8832</td>\n",
       "      <td>Сургут</td>\n",
       "      <td>женский</td>\n",
       "      <td>1961-08-24</td>\n",
       "      <td>2021-01-11 02:02:38</td>\n",
       "      <td>NaN</td>\n",
       "      <td>Еженедельный Аналитический Дайджест</td>\n",
       "      <td>59.0</td>\n",
       "    </tr>\n",
       "    <tr>\n",
       "      <th>140825</th>\n",
       "      <td>9600</td>\n",
       "      <td>Барнаул</td>\n",
       "      <td>мужской</td>\n",
       "      <td>1970-07-01</td>\n",
       "      <td>2021-03-12 01:54:30</td>\n",
       "      <td>NaN</td>\n",
       "      <td>Еженедельный Аналитический Дайджест</td>\n",
       "      <td>50.0</td>\n",
       "    </tr>\n",
       "    <tr>\n",
       "      <th>144871</th>\n",
       "      <td>9874</td>\n",
       "      <td>Владимир</td>\n",
       "      <td>мужской</td>\n",
       "      <td>1982-12-01</td>\n",
       "      <td>2021-01-12 02:30:17</td>\n",
       "      <td>NaN</td>\n",
       "      <td>Еженедельный Аналитический Дайджест</td>\n",
       "      <td>38.0</td>\n",
       "    </tr>\n",
       "    <tr>\n",
       "      <th>157912</th>\n",
       "      <td>10763</td>\n",
       "      <td>Саранск</td>\n",
       "      <td>женский</td>\n",
       "      <td>1988-07-17</td>\n",
       "      <td>2021-04-15 23:00:51</td>\n",
       "      <td>NaN</td>\n",
       "      <td>Еженедельный Аналитический Дайджест</td>\n",
       "      <td>32.0</td>\n",
       "    </tr>\n",
       "    <tr>\n",
       "      <th>167178</th>\n",
       "      <td>11423</td>\n",
       "      <td>Нижневартовск</td>\n",
       "      <td>мужской</td>\n",
       "      <td>1974-11-15</td>\n",
       "      <td>2021-04-12 22:47:44</td>\n",
       "      <td>NaN</td>\n",
       "      <td>Еженедельный Аналитический Дайджест</td>\n",
       "      <td>46.0</td>\n",
       "    </tr>\n",
       "    <tr>\n",
       "      <th>167179</th>\n",
       "      <td>11423</td>\n",
       "      <td>Нижневартовск</td>\n",
       "      <td>мужской</td>\n",
       "      <td>1974-11-15</td>\n",
       "      <td>2021-04-12 22:48:35</td>\n",
       "      <td>NaN</td>\n",
       "      <td>Еженедельный Аналитический Дайджест</td>\n",
       "      <td>46.0</td>\n",
       "    </tr>\n",
       "    <tr>\n",
       "      <th>194651</th>\n",
       "      <td>13309</td>\n",
       "      <td>Москва</td>\n",
       "      <td>мужской</td>\n",
       "      <td>1978-01-19</td>\n",
       "      <td>2021-02-24 23:54:10</td>\n",
       "      <td>NaN</td>\n",
       "      <td>Еженедельный Аналитический Дайджест</td>\n",
       "      <td>43.0</td>\n",
       "    </tr>\n",
       "    <tr>\n",
       "      <th>215470</th>\n",
       "      <td>14761</td>\n",
       "      <td>Москва</td>\n",
       "      <td>женский</td>\n",
       "      <td>1976-06-28</td>\n",
       "      <td>2021-02-18 01:13:47</td>\n",
       "      <td>NaN</td>\n",
       "      <td>Еженедельный Аналитический Дайджест</td>\n",
       "      <td>44.0</td>\n",
       "    </tr>\n",
       "    <tr>\n",
       "      <th>229554</th>\n",
       "      <td>15751</td>\n",
       "      <td>Салехард</td>\n",
       "      <td>женский</td>\n",
       "      <td>1990-11-17</td>\n",
       "      <td>2021-01-22 03:16:28</td>\n",
       "      <td>NaN</td>\n",
       "      <td>Еженедельный Аналитический Дайджест</td>\n",
       "      <td>30.0</td>\n",
       "    </tr>\n",
       "    <tr>\n",
       "      <th>229555</th>\n",
       "      <td>15751</td>\n",
       "      <td>Салехард</td>\n",
       "      <td>женский</td>\n",
       "      <td>1990-11-17</td>\n",
       "      <td>2021-01-22 03:18:52</td>\n",
       "      <td>NaN</td>\n",
       "      <td>Еженедельный Аналитический Дайджест</td>\n",
       "      <td>30.0</td>\n",
       "    </tr>\n",
       "    <tr>\n",
       "      <th>231615</th>\n",
       "      <td>15898</td>\n",
       "      <td>Краснодар</td>\n",
       "      <td>мужской</td>\n",
       "      <td>1980-05-25</td>\n",
       "      <td>2020-12-10 01:59:27</td>\n",
       "      <td>NaN</td>\n",
       "      <td>Еженедельный Аналитический Дайджест</td>\n",
       "      <td>41.0</td>\n",
       "    </tr>\n",
       "    <tr>\n",
       "      <th>241297</th>\n",
       "      <td>16582</td>\n",
       "      <td>Тюмень</td>\n",
       "      <td>мужской</td>\n",
       "      <td>2000-03-20</td>\n",
       "      <td>2021-04-21 22:35:18</td>\n",
       "      <td>NaN</td>\n",
       "      <td>Еженедельный Аналитический Дайджест</td>\n",
       "      <td>21.0</td>\n",
       "    </tr>\n",
       "    <tr>\n",
       "      <th>253447</th>\n",
       "      <td>17402</td>\n",
       "      <td>Санкт-Петербург</td>\n",
       "      <td>мужской</td>\n",
       "      <td>1948-06-04</td>\n",
       "      <td>2021-05-07 22:53:50</td>\n",
       "      <td>NaN</td>\n",
       "      <td>Еженедельный Аналитический Дайджест</td>\n",
       "      <td>72.0</td>\n",
       "    </tr>\n",
       "    <tr>\n",
       "      <th>255079</th>\n",
       "      <td>17518</td>\n",
       "      <td>Тюмень</td>\n",
       "      <td>мужской</td>\n",
       "      <td>1980-03-29</td>\n",
       "      <td>2021-04-10 13:41:07</td>\n",
       "      <td>NaN</td>\n",
       "      <td>Еженедельный Аналитический Дайджест</td>\n",
       "      <td>41.0</td>\n",
       "    </tr>\n",
       "    <tr>\n",
       "      <th>269295</th>\n",
       "      <td>18518</td>\n",
       "      <td>Новосибирск</td>\n",
       "      <td>женский</td>\n",
       "      <td>1986-09-02</td>\n",
       "      <td>2021-05-26 22:52:21</td>\n",
       "      <td>NaN</td>\n",
       "      <td>Еженедельный Аналитический Дайджест</td>\n",
       "      <td>34.0</td>\n",
       "    </tr>\n",
       "    <tr>\n",
       "      <th>280733</th>\n",
       "      <td>19274</td>\n",
       "      <td>Химки</td>\n",
       "      <td>женский</td>\n",
       "      <td>1957-08-25</td>\n",
       "      <td>2021-05-27 23:01:54</td>\n",
       "      <td>NaN</td>\n",
       "      <td>Еженедельный Аналитический Дайджест</td>\n",
       "      <td>63.0</td>\n",
       "    </tr>\n",
       "    <tr>\n",
       "      <th>286450</th>\n",
       "      <td>19661</td>\n",
       "      <td>Ростов-на-Дону</td>\n",
       "      <td>мужской</td>\n",
       "      <td>1996-05-09</td>\n",
       "      <td>2021-01-01 02:05:54</td>\n",
       "      <td>NaN</td>\n",
       "      <td>Еженедельный Аналитический Дайджест</td>\n",
       "      <td>25.0</td>\n",
       "    </tr>\n",
       "    <tr>\n",
       "      <th>290989</th>\n",
       "      <td>19966</td>\n",
       "      <td>Владимир</td>\n",
       "      <td>мужской</td>\n",
       "      <td>1954-07-22</td>\n",
       "      <td>2021-01-27 23:53:25</td>\n",
       "      <td>NaN</td>\n",
       "      <td>Еженедельный Аналитический Дайджест</td>\n",
       "      <td>66.0</td>\n",
       "    </tr>\n",
       "    <tr>\n",
       "      <th>308145</th>\n",
       "      <td>21126</td>\n",
       "      <td>Москва</td>\n",
       "      <td>мужской</td>\n",
       "      <td>1989-08-22</td>\n",
       "      <td>2021-04-14 23:08:00</td>\n",
       "      <td>NaN</td>\n",
       "      <td>Еженедельный Аналитический Дайджест</td>\n",
       "      <td>31.0</td>\n",
       "    </tr>\n",
       "    <tr>\n",
       "      <th>326282</th>\n",
       "      <td>22310</td>\n",
       "      <td>Челябинск, офис на улице Красной</td>\n",
       "      <td>мужской</td>\n",
       "      <td>1976-05-24</td>\n",
       "      <td>2021-04-10 10:38:25</td>\n",
       "      <td>NaN</td>\n",
       "      <td>Еженедельный Аналитический Дайджест</td>\n",
       "      <td>45.0</td>\n",
       "    </tr>\n",
       "    <tr>\n",
       "      <th>336371</th>\n",
       "      <td>22975</td>\n",
       "      <td>Москва</td>\n",
       "      <td>мужской</td>\n",
       "      <td>1978-05-10</td>\n",
       "      <td>2021-05-07 22:56:08</td>\n",
       "      <td>NaN</td>\n",
       "      <td>Еженедельный Аналитический Дайджест</td>\n",
       "      <td>43.0</td>\n",
       "    </tr>\n",
       "    <tr>\n",
       "      <th>339791</th>\n",
       "      <td>23202</td>\n",
       "      <td>Санкт-Петербург</td>\n",
       "      <td>женский</td>\n",
       "      <td>1989-04-26</td>\n",
       "      <td>2020-12-10 01:54:42</td>\n",
       "      <td>NaN</td>\n",
       "      <td>Еженедельный Аналитический Дайджест</td>\n",
       "      <td>32.0</td>\n",
       "    </tr>\n",
       "    <tr>\n",
       "      <th>344478</th>\n",
       "      <td>23535</td>\n",
       "      <td>Москва</td>\n",
       "      <td>мужской</td>\n",
       "      <td>1985-08-04</td>\n",
       "      <td>2021-01-08 02:02:15</td>\n",
       "      <td>NaN</td>\n",
       "      <td>Еженедельный Аналитический Дайджест</td>\n",
       "      <td>35.0</td>\n",
       "    </tr>\n",
       "    <tr>\n",
       "      <th>353504</th>\n",
       "      <td>24122</td>\n",
       "      <td>Ижевск</td>\n",
       "      <td>мужской</td>\n",
       "      <td>1989-03-24</td>\n",
       "      <td>2021-01-20 01:50:56</td>\n",
       "      <td>NaN</td>\n",
       "      <td>Еженедельный Аналитический Дайджест</td>\n",
       "      <td>32.0</td>\n",
       "    </tr>\n",
       "  </tbody>\n",
       "</table>\n",
       "</div>"
      ],
      "text/plain": [
       "           Id                             Город      Пол Дата рождения  \\\n",
       "12826     884                          Белорецк  мужской    1987-12-02   \n",
       "12904     893                           Обнинск  мужской    1986-10-05   \n",
       "18615    1304                          Балашиха  женский    1989-05-16   \n",
       "59613    4124                    Ростов-на-Дону  мужской    1968-03-13   \n",
       "70655    4835                       Архангельск  мужской    1976-08-05   \n",
       "81258    5530           Казань, офис на Пушкина  женский    1984-01-14   \n",
       "115713   7927                             Пермь  мужской    1975-03-07   \n",
       "129149   8832                            Сургут  женский    1961-08-24   \n",
       "140825   9600                           Барнаул  мужской    1970-07-01   \n",
       "144871   9874                          Владимир  мужской    1982-12-01   \n",
       "157912  10763                           Саранск  женский    1988-07-17   \n",
       "167178  11423                     Нижневартовск  мужской    1974-11-15   \n",
       "167179  11423                     Нижневартовск  мужской    1974-11-15   \n",
       "194651  13309                            Москва  мужской    1978-01-19   \n",
       "215470  14761                            Москва  женский    1976-06-28   \n",
       "229554  15751                          Салехард  женский    1990-11-17   \n",
       "229555  15751                          Салехард  женский    1990-11-17   \n",
       "231615  15898                         Краснодар  мужской    1980-05-25   \n",
       "241297  16582                            Тюмень  мужской    2000-03-20   \n",
       "253447  17402                   Санкт-Петербург  мужской    1948-06-04   \n",
       "255079  17518                            Тюмень  мужской    1980-03-29   \n",
       "269295  18518                       Новосибирск  женский    1986-09-02   \n",
       "280733  19274                             Химки  женский    1957-08-25   \n",
       "286450  19661                    Ростов-на-Дону  мужской    1996-05-09   \n",
       "290989  19966                          Владимир  мужской    1954-07-22   \n",
       "308145  21126                            Москва  мужской    1989-08-22   \n",
       "326282  22310  Челябинск, офис на улице Красной  мужской    1976-05-24   \n",
       "336371  22975                            Москва  мужской    1978-05-10   \n",
       "339791  23202                   Санкт-Петербург  женский    1989-04-26   \n",
       "344478  23535                            Москва  мужской    1985-08-04   \n",
       "353504  24122                            Ижевск  мужской    1989-03-24   \n",
       "\n",
       "             Дата отправки Статус отправки  \\\n",
       "12826  2020-12-10 01:47:24             NaN   \n",
       "12904  2021-04-14 23:06:15             NaN   \n",
       "18615  2021-05-27 22:52:52             NaN   \n",
       "59613  2021-01-02 02:04:06             NaN   \n",
       "70655  2021-05-14 22:47:00             NaN   \n",
       "81258  2020-12-24 02:22:26             NaN   \n",
       "115713 2020-11-26 01:52:40             NaN   \n",
       "129149 2021-01-11 02:02:38             NaN   \n",
       "140825 2021-03-12 01:54:30             NaN   \n",
       "144871 2021-01-12 02:30:17             NaN   \n",
       "157912 2021-04-15 23:00:51             NaN   \n",
       "167178 2021-04-12 22:47:44             NaN   \n",
       "167179 2021-04-12 22:48:35             NaN   \n",
       "194651 2021-02-24 23:54:10             NaN   \n",
       "215470 2021-02-18 01:13:47             NaN   \n",
       "229554 2021-01-22 03:16:28             NaN   \n",
       "229555 2021-01-22 03:18:52             NaN   \n",
       "231615 2020-12-10 01:59:27             NaN   \n",
       "241297 2021-04-21 22:35:18             NaN   \n",
       "253447 2021-05-07 22:53:50             NaN   \n",
       "255079 2021-04-10 13:41:07             NaN   \n",
       "269295 2021-05-26 22:52:21             NaN   \n",
       "280733 2021-05-27 23:01:54             NaN   \n",
       "286450 2021-01-01 02:05:54             NaN   \n",
       "290989 2021-01-27 23:53:25             NaN   \n",
       "308145 2021-04-14 23:08:00             NaN   \n",
       "326282 2021-04-10 10:38:25             NaN   \n",
       "336371 2021-05-07 22:56:08             NaN   \n",
       "339791 2020-12-10 01:54:42             NaN   \n",
       "344478 2021-01-08 02:02:15             NaN   \n",
       "353504 2021-01-20 01:50:56             NaN   \n",
       "\n",
       "                            Название_письма  Возраст  \n",
       "12826   Еженедельный Аналитический Дайджест     33.0  \n",
       "12904   Еженедельный Аналитический Дайджест     34.0  \n",
       "18615   Еженедельный Аналитический Дайджест     32.0  \n",
       "59613   Еженедельный Аналитический Дайджест     53.0  \n",
       "70655   Еженедельный Аналитический Дайджест     44.0  \n",
       "81258   Еженедельный Аналитический Дайджест     37.0  \n",
       "115713  Еженедельный Аналитический Дайджест     46.0  \n",
       "129149  Еженедельный Аналитический Дайджест     59.0  \n",
       "140825  Еженедельный Аналитический Дайджест     50.0  \n",
       "144871  Еженедельный Аналитический Дайджест     38.0  \n",
       "157912  Еженедельный Аналитический Дайджест     32.0  \n",
       "167178  Еженедельный Аналитический Дайджест     46.0  \n",
       "167179  Еженедельный Аналитический Дайджест     46.0  \n",
       "194651  Еженедельный Аналитический Дайджест     43.0  \n",
       "215470  Еженедельный Аналитический Дайджест     44.0  \n",
       "229554  Еженедельный Аналитический Дайджест     30.0  \n",
       "229555  Еженедельный Аналитический Дайджест     30.0  \n",
       "231615  Еженедельный Аналитический Дайджест     41.0  \n",
       "241297  Еженедельный Аналитический Дайджест     21.0  \n",
       "253447  Еженедельный Аналитический Дайджест     72.0  \n",
       "255079  Еженедельный Аналитический Дайджест     41.0  \n",
       "269295  Еженедельный Аналитический Дайджест     34.0  \n",
       "280733  Еженедельный Аналитический Дайджест     63.0  \n",
       "286450  Еженедельный Аналитический Дайджест     25.0  \n",
       "290989  Еженедельный Аналитический Дайджест     66.0  \n",
       "308145  Еженедельный Аналитический Дайджест     31.0  \n",
       "326282  Еженедельный Аналитический Дайджест     45.0  \n",
       "336371  Еженедельный Аналитический Дайджест     43.0  \n",
       "339791  Еженедельный Аналитический Дайджест     32.0  \n",
       "344478  Еженедельный Аналитический Дайджест     35.0  \n",
       "353504  Еженедельный Аналитический Дайджест     32.0  "
      ]
     },
     "execution_count": 27,
     "metadata": {},
     "output_type": "execute_result"
    }
   ],
   "source": [
    "status =  df[df['Статус отправки'].isna() == True]\n",
    "status"
   ]
  },
  {
   "cell_type": "code",
   "execution_count": 28,
   "id": "8eac859b-b02c-42ba-8369-268347a70546",
   "metadata": {},
   "outputs": [
    {
     "data": {
      "text/plain": [
       "(31, 8)"
      ]
     },
     "execution_count": 28,
     "metadata": {},
     "output_type": "execute_result"
    }
   ],
   "source": [
    "status.shape"
   ]
  },
  {
   "cell_type": "markdown",
   "id": "e5c40952-726b-41d8-81eb-8fad8667fcf6",
   "metadata": {},
   "source": [
    "В настоящий момент мы не можем знать причины отсутствия данных по отправки этих писем.   \n",
    "Заменим пропуски на статус Нет данных"
   ]
  },
  {
   "cell_type": "code",
   "execution_count": 29,
   "id": "88b05323-7022-45ed-9d8b-899495564fb7",
   "metadata": {},
   "outputs": [],
   "source": [
    "df['Статус отправки'] = df['Статус отправки'].fillna('Нет_данных')"
   ]
  },
  {
   "cell_type": "code",
   "execution_count": 30,
   "id": "a0145cef-35fb-48a7-9622-d9fb6e017551",
   "metadata": {},
   "outputs": [
    {
     "data": {
      "text/html": [
       "<div>\n",
       "<style scoped>\n",
       "    .dataframe tbody tr th:only-of-type {\n",
       "        vertical-align: middle;\n",
       "    }\n",
       "\n",
       "    .dataframe tbody tr th {\n",
       "        vertical-align: top;\n",
       "    }\n",
       "\n",
       "    .dataframe thead th {\n",
       "        text-align: right;\n",
       "    }\n",
       "</style>\n",
       "<table border=\"1\" class=\"dataframe\">\n",
       "  <thead>\n",
       "    <tr style=\"text-align: right;\">\n",
       "      <th></th>\n",
       "      <th>Статус отправки</th>\n",
       "      <th>Количество</th>\n",
       "    </tr>\n",
       "  </thead>\n",
       "  <tbody>\n",
       "    <tr>\n",
       "      <th>0</th>\n",
       "      <td>Не отправлено</td>\n",
       "      <td>669</td>\n",
       "    </tr>\n",
       "    <tr>\n",
       "      <th>1</th>\n",
       "      <td>Нет_данных</td>\n",
       "      <td>31</td>\n",
       "    </tr>\n",
       "    <tr>\n",
       "      <th>2</th>\n",
       "      <td>Открыто</td>\n",
       "      <td>87507</td>\n",
       "    </tr>\n",
       "    <tr>\n",
       "      <th>3</th>\n",
       "      <td>Отправлено</td>\n",
       "      <td>265043</td>\n",
       "    </tr>\n",
       "    <tr>\n",
       "      <th>4</th>\n",
       "      <td>Переход по ссылке</td>\n",
       "      <td>6868</td>\n",
       "    </tr>\n",
       "  </tbody>\n",
       "</table>\n",
       "</div>"
      ],
      "text/plain": [
       "     Статус отправки  Количество\n",
       "0      Не отправлено         669\n",
       "1         Нет_данных          31\n",
       "2            Открыто       87507\n",
       "3         Отправлено      265043\n",
       "4  Переход по ссылке        6868"
      ]
     },
     "execution_count": 30,
     "metadata": {},
     "output_type": "execute_result"
    }
   ],
   "source": [
    "status_groups = df.groupby('Статус отправки', as_index=False).agg({'Id':'count'})\\\n",
    "                                            .rename(columns={'Id':'Количество'})\n",
    "status_groups"
   ]
  },
  {
   "cell_type": "code",
   "execution_count": 31,
   "id": "fc108102-5c26-47cc-98bf-4d9c1e263e87",
   "metadata": {},
   "outputs": [],
   "source": [
    "status_groups['Процент'] = round(status_groups['Количество'] / status_groups['Количество'].sum() * 100,2)"
   ]
  },
  {
   "cell_type": "code",
   "execution_count": 32,
   "id": "9034edf6-0723-4280-9023-d0c4f1477c32",
   "metadata": {},
   "outputs": [
    {
     "data": {
      "text/html": [
       "<div>\n",
       "<style scoped>\n",
       "    .dataframe tbody tr th:only-of-type {\n",
       "        vertical-align: middle;\n",
       "    }\n",
       "\n",
       "    .dataframe tbody tr th {\n",
       "        vertical-align: top;\n",
       "    }\n",
       "\n",
       "    .dataframe thead th {\n",
       "        text-align: right;\n",
       "    }\n",
       "</style>\n",
       "<table border=\"1\" class=\"dataframe\">\n",
       "  <thead>\n",
       "    <tr style=\"text-align: right;\">\n",
       "      <th></th>\n",
       "      <th>Статус отправки</th>\n",
       "      <th>Количество</th>\n",
       "      <th>Процент</th>\n",
       "    </tr>\n",
       "  </thead>\n",
       "  <tbody>\n",
       "    <tr>\n",
       "      <th>0</th>\n",
       "      <td>Не отправлено</td>\n",
       "      <td>669</td>\n",
       "      <td>0.19</td>\n",
       "    </tr>\n",
       "    <tr>\n",
       "      <th>1</th>\n",
       "      <td>Нет_данных</td>\n",
       "      <td>31</td>\n",
       "      <td>0.01</td>\n",
       "    </tr>\n",
       "    <tr>\n",
       "      <th>2</th>\n",
       "      <td>Открыто</td>\n",
       "      <td>87507</td>\n",
       "      <td>24.30</td>\n",
       "    </tr>\n",
       "    <tr>\n",
       "      <th>3</th>\n",
       "      <td>Отправлено</td>\n",
       "      <td>265043</td>\n",
       "      <td>73.60</td>\n",
       "    </tr>\n",
       "    <tr>\n",
       "      <th>4</th>\n",
       "      <td>Переход по ссылке</td>\n",
       "      <td>6868</td>\n",
       "      <td>1.91</td>\n",
       "    </tr>\n",
       "  </tbody>\n",
       "</table>\n",
       "</div>"
      ],
      "text/plain": [
       "     Статус отправки  Количество  Процент\n",
       "0      Не отправлено         669     0.19\n",
       "1         Нет_данных          31     0.01\n",
       "2            Открыто       87507    24.30\n",
       "3         Отправлено      265043    73.60\n",
       "4  Переход по ссылке        6868     1.91"
      ]
     },
     "execution_count": 32,
     "metadata": {},
     "output_type": "execute_result"
    }
   ],
   "source": [
    "status_groups"
   ]
  },
  {
   "cell_type": "markdown",
   "id": "694098b8-c0bd-400d-8608-54594ba4758a",
   "metadata": {},
   "source": [
    "Самый частый статус - Отправлено (73% в датафрейме)   \n",
    "Заменим этим статусом пропущенные значения"
   ]
  },
  {
   "cell_type": "markdown",
   "id": "769cb82b-551d-4009-a740-159d8b915e9e",
   "metadata": {},
   "source": [
    "Проверим запись городов в датафрейме.   \n"
   ]
  },
  {
   "cell_type": "code",
   "execution_count": 33,
   "id": "f4ae12a3-3bd6-4a0a-bb38-592b943e14f7",
   "metadata": {},
   "outputs": [
    {
     "data": {
      "text/plain": [
       "Екатеринбург, офис на Белинского                 6894\n",
       "Челябинск, офис на улице Красной                 5818\n",
       "Казань, офис на Пушкина                          3355\n",
       "Казань, офис на Декабристов                      1615\n",
       "Казань, офис на Зорге                            1167\n",
       "Санкт-Петербург, офис на Б.Московской             702\n",
       "Калининград, офис на Черняховского                626\n",
       "Екатеринбург, офис на Шейнкмана                   615\n",
       "Москва, головной офис                             476\n",
       "Калининград, офис на Театральной                  440\n",
       "Казань, офис на Спартаковской                     399\n",
       "Санкт-Петербург, офис на Московском проспекте      86\n",
       "Name: Город, dtype: int64"
      ]
     },
     "execution_count": 33,
     "metadata": {},
     "output_type": "execute_result"
    }
   ],
   "source": [
    "df[df['Город'].str.split(',').str[1].isna() == False]['Город'].value_counts()"
   ]
  },
  {
   "cell_type": "markdown",
   "id": "563e6cfe-a767-4fd0-9d50-4f328f954910",
   "metadata": {},
   "source": [
    "В нескольких городах запись более конкретизирована адресом офиса, избавимся от конкретики и оставим только наименование города."
   ]
  },
  {
   "cell_type": "code",
   "execution_count": 34,
   "id": "4745a031-46f3-4c91-9d3d-e2e28c34b7d4",
   "metadata": {},
   "outputs": [],
   "source": [
    "df['Город'] = df['Город'].str.split(',').str[0]"
   ]
  },
  {
   "cell_type": "code",
   "execution_count": 35,
   "id": "a37e2bd7-4e92-4466-afe7-0550439ef40b",
   "metadata": {},
   "outputs": [
    {
     "data": {
      "text/html": [
       "<div>\n",
       "<style scoped>\n",
       "    .dataframe tbody tr th:only-of-type {\n",
       "        vertical-align: middle;\n",
       "    }\n",
       "\n",
       "    .dataframe tbody tr th {\n",
       "        vertical-align: top;\n",
       "    }\n",
       "\n",
       "    .dataframe thead th {\n",
       "        text-align: right;\n",
       "    }\n",
       "</style>\n",
       "<table border=\"1\" class=\"dataframe\">\n",
       "  <thead>\n",
       "    <tr style=\"text-align: right;\">\n",
       "      <th></th>\n",
       "      <th>Id</th>\n",
       "      <th>Город</th>\n",
       "      <th>Пол</th>\n",
       "      <th>Дата рождения</th>\n",
       "      <th>Дата отправки</th>\n",
       "      <th>Статус отправки</th>\n",
       "      <th>Название_письма</th>\n",
       "      <th>Возраст</th>\n",
       "    </tr>\n",
       "  </thead>\n",
       "  <tbody>\n",
       "    <tr>\n",
       "      <th>0</th>\n",
       "      <td>2</td>\n",
       "      <td>Мытищи</td>\n",
       "      <td>мужской</td>\n",
       "      <td>1964-02-24</td>\n",
       "      <td>2020-11-19 00:46:09</td>\n",
       "      <td>Открыто</td>\n",
       "      <td>Еженедельный Аналитический Дайджест</td>\n",
       "      <td>57.0</td>\n",
       "    </tr>\n",
       "    <tr>\n",
       "      <th>1</th>\n",
       "      <td>2</td>\n",
       "      <td>Мытищи</td>\n",
       "      <td>мужской</td>\n",
       "      <td>1964-02-24</td>\n",
       "      <td>2020-11-26 01:58:27</td>\n",
       "      <td>Открыто</td>\n",
       "      <td>Еженедельный Аналитический Дайджест</td>\n",
       "      <td>57.0</td>\n",
       "    </tr>\n",
       "    <tr>\n",
       "      <th>2</th>\n",
       "      <td>2</td>\n",
       "      <td>Мытищи</td>\n",
       "      <td>мужской</td>\n",
       "      <td>1964-02-24</td>\n",
       "      <td>2020-11-27 00:24:05</td>\n",
       "      <td>Отправлено</td>\n",
       "      <td>Еженедельный Аналитический Дайджест</td>\n",
       "      <td>57.0</td>\n",
       "    </tr>\n",
       "    <tr>\n",
       "      <th>3</th>\n",
       "      <td>2</td>\n",
       "      <td>Мытищи</td>\n",
       "      <td>мужской</td>\n",
       "      <td>1964-02-24</td>\n",
       "      <td>2020-12-03 02:21:10</td>\n",
       "      <td>Открыто</td>\n",
       "      <td>Еженедельный Аналитический Дайджест</td>\n",
       "      <td>57.0</td>\n",
       "    </tr>\n",
       "    <tr>\n",
       "      <th>4</th>\n",
       "      <td>2</td>\n",
       "      <td>Мытищи</td>\n",
       "      <td>мужской</td>\n",
       "      <td>1964-02-24</td>\n",
       "      <td>2020-12-04 00:46:05</td>\n",
       "      <td>Отправлено</td>\n",
       "      <td>Еженедельный Аналитический Дайджест</td>\n",
       "      <td>57.0</td>\n",
       "    </tr>\n",
       "  </tbody>\n",
       "</table>\n",
       "</div>"
      ],
      "text/plain": [
       "   Id   Город      Пол Дата рождения       Дата отправки Статус отправки  \\\n",
       "0   2  Мытищи  мужской    1964-02-24 2020-11-19 00:46:09         Открыто   \n",
       "1   2  Мытищи  мужской    1964-02-24 2020-11-26 01:58:27         Открыто   \n",
       "2   2  Мытищи  мужской    1964-02-24 2020-11-27 00:24:05      Отправлено   \n",
       "3   2  Мытищи  мужской    1964-02-24 2020-12-03 02:21:10         Открыто   \n",
       "4   2  Мытищи  мужской    1964-02-24 2020-12-04 00:46:05      Отправлено   \n",
       "\n",
       "                       Название_письма  Возраст  \n",
       "0  Еженедельный Аналитический Дайджест     57.0  \n",
       "1  Еженедельный Аналитический Дайджест     57.0  \n",
       "2  Еженедельный Аналитический Дайджест     57.0  \n",
       "3  Еженедельный Аналитический Дайджест     57.0  \n",
       "4  Еженедельный Аналитический Дайджест     57.0  "
      ]
     },
     "execution_count": 35,
     "metadata": {},
     "output_type": "execute_result"
    }
   ],
   "source": [
    "df.head()"
   ]
  },
  {
   "cell_type": "markdown",
   "id": "1e4c6730-2be3-4228-a56d-60b55dc7060d",
   "metadata": {},
   "source": [
    "Задача: требуется определить портрет читающих маркетинговые рассылки.   \n",
    "Датасет подготовлен.   \n",
    "Считаем читающими пользователей, которые открывают наши пиьма и переходят по ссылке.   \n",
    "Всего ~ 26% таких пользователей."
   ]
  },
  {
   "cell_type": "code",
   "execution_count": 36,
   "id": "905a1397-c984-4a29-b2ef-62c71bb1dd21",
   "metadata": {},
   "outputs": [],
   "source": [
    "reading = df[(df['Статус отправки']\t== \"Открыто\") | (df['Статус отправки'] == \"Переход по ссылке\")]"
   ]
  },
  {
   "cell_type": "code",
   "execution_count": 37,
   "id": "71e1492e-098b-4880-a63c-cc419df22c12",
   "metadata": {},
   "outputs": [
    {
     "data": {
      "text/html": [
       "<div>\n",
       "<style scoped>\n",
       "    .dataframe tbody tr th:only-of-type {\n",
       "        vertical-align: middle;\n",
       "    }\n",
       "\n",
       "    .dataframe tbody tr th {\n",
       "        vertical-align: top;\n",
       "    }\n",
       "\n",
       "    .dataframe thead th {\n",
       "        text-align: right;\n",
       "    }\n",
       "</style>\n",
       "<table border=\"1\" class=\"dataframe\">\n",
       "  <thead>\n",
       "    <tr style=\"text-align: right;\">\n",
       "      <th></th>\n",
       "      <th>Id</th>\n",
       "      <th>Город</th>\n",
       "      <th>Пол</th>\n",
       "      <th>Дата рождения</th>\n",
       "      <th>Дата отправки</th>\n",
       "      <th>Статус отправки</th>\n",
       "      <th>Название_письма</th>\n",
       "      <th>Возраст</th>\n",
       "    </tr>\n",
       "  </thead>\n",
       "  <tbody>\n",
       "    <tr>\n",
       "      <th>0</th>\n",
       "      <td>2</td>\n",
       "      <td>Мытищи</td>\n",
       "      <td>мужской</td>\n",
       "      <td>1964-02-24</td>\n",
       "      <td>2020-11-19 00:46:09</td>\n",
       "      <td>Открыто</td>\n",
       "      <td>Еженедельный Аналитический Дайджест</td>\n",
       "      <td>57.0</td>\n",
       "    </tr>\n",
       "    <tr>\n",
       "      <th>1</th>\n",
       "      <td>2</td>\n",
       "      <td>Мытищи</td>\n",
       "      <td>мужской</td>\n",
       "      <td>1964-02-24</td>\n",
       "      <td>2020-11-26 01:58:27</td>\n",
       "      <td>Открыто</td>\n",
       "      <td>Еженедельный Аналитический Дайджест</td>\n",
       "      <td>57.0</td>\n",
       "    </tr>\n",
       "    <tr>\n",
       "      <th>3</th>\n",
       "      <td>2</td>\n",
       "      <td>Мытищи</td>\n",
       "      <td>мужской</td>\n",
       "      <td>1964-02-24</td>\n",
       "      <td>2020-12-03 02:21:10</td>\n",
       "      <td>Открыто</td>\n",
       "      <td>Еженедельный Аналитический Дайджест</td>\n",
       "      <td>57.0</td>\n",
       "    </tr>\n",
       "    <tr>\n",
       "      <th>5</th>\n",
       "      <td>2</td>\n",
       "      <td>Мытищи</td>\n",
       "      <td>мужской</td>\n",
       "      <td>1964-02-24</td>\n",
       "      <td>2020-12-10 02:01:21</td>\n",
       "      <td>Переход по ссылке</td>\n",
       "      <td>Еженедельный Аналитический Дайджест</td>\n",
       "      <td>57.0</td>\n",
       "    </tr>\n",
       "    <tr>\n",
       "      <th>7</th>\n",
       "      <td>2</td>\n",
       "      <td>Мытищи</td>\n",
       "      <td>мужской</td>\n",
       "      <td>1964-02-24</td>\n",
       "      <td>2020-12-17 01:48:16</td>\n",
       "      <td>Открыто</td>\n",
       "      <td>Еженедельный Аналитический Дайджест</td>\n",
       "      <td>57.0</td>\n",
       "    </tr>\n",
       "  </tbody>\n",
       "</table>\n",
       "</div>"
      ],
      "text/plain": [
       "   Id   Город      Пол Дата рождения       Дата отправки    Статус отправки  \\\n",
       "0   2  Мытищи  мужской    1964-02-24 2020-11-19 00:46:09            Открыто   \n",
       "1   2  Мытищи  мужской    1964-02-24 2020-11-26 01:58:27            Открыто   \n",
       "3   2  Мытищи  мужской    1964-02-24 2020-12-03 02:21:10            Открыто   \n",
       "5   2  Мытищи  мужской    1964-02-24 2020-12-10 02:01:21  Переход по ссылке   \n",
       "7   2  Мытищи  мужской    1964-02-24 2020-12-17 01:48:16            Открыто   \n",
       "\n",
       "                       Название_письма  Возраст  \n",
       "0  Еженедельный Аналитический Дайджест     57.0  \n",
       "1  Еженедельный Аналитический Дайджест     57.0  \n",
       "3  Еженедельный Аналитический Дайджест     57.0  \n",
       "5  Еженедельный Аналитический Дайджест     57.0  \n",
       "7  Еженедельный Аналитический Дайджест     57.0  "
      ]
     },
     "execution_count": 37,
     "metadata": {},
     "output_type": "execute_result"
    }
   ],
   "source": [
    "reading.head()"
   ]
  },
  {
   "cell_type": "markdown",
   "id": "ac592543-e178-4bde-bb11-34109f3eb7c4",
   "metadata": {},
   "source": [
    "Рассмотрим пользователей по количеству прочтенных писем"
   ]
  },
  {
   "cell_type": "code",
   "execution_count": 38,
   "id": "79ae4ac6-f8ba-4674-bb23-e255697c22ca",
   "metadata": {},
   "outputs": [],
   "source": [
    "reading_users = reading.groupby('Id',as_index=False).agg({'Статус отправки':'count'})\\\n",
    "                                                    .sort_values('Статус отправки',ascending=False)\\\n",
    "                                                    .rename(columns={'Статус отправки':'Количетсво_прочтенных_писем'})"
   ]
  },
  {
   "cell_type": "code",
   "execution_count": 39,
   "id": "2749cf20-61e8-450d-85d1-878812492ef6",
   "metadata": {},
   "outputs": [
    {
     "data": {
      "text/html": [
       "<div>\n",
       "<style scoped>\n",
       "    .dataframe tbody tr th:only-of-type {\n",
       "        vertical-align: middle;\n",
       "    }\n",
       "\n",
       "    .dataframe tbody tr th {\n",
       "        vertical-align: top;\n",
       "    }\n",
       "\n",
       "    .dataframe thead th {\n",
       "        text-align: right;\n",
       "    }\n",
       "</style>\n",
       "<table border=\"1\" class=\"dataframe\">\n",
       "  <thead>\n",
       "    <tr style=\"text-align: right;\">\n",
       "      <th></th>\n",
       "      <th>Id</th>\n",
       "      <th>Количетсво_прочтенных_писем</th>\n",
       "    </tr>\n",
       "  </thead>\n",
       "  <tbody>\n",
       "    <tr>\n",
       "      <th>710</th>\n",
       "      <td>1448</td>\n",
       "      <td>127</td>\n",
       "    </tr>\n",
       "    <tr>\n",
       "      <th>2261</th>\n",
       "      <td>4457</td>\n",
       "      <td>69</td>\n",
       "    </tr>\n",
       "    <tr>\n",
       "      <th>5423</th>\n",
       "      <td>10555</td>\n",
       "      <td>61</td>\n",
       "    </tr>\n",
       "    <tr>\n",
       "      <th>5489</th>\n",
       "      <td>10675</td>\n",
       "      <td>58</td>\n",
       "    </tr>\n",
       "    <tr>\n",
       "      <th>12358</th>\n",
       "      <td>23833</td>\n",
       "      <td>57</td>\n",
       "    </tr>\n",
       "    <tr>\n",
       "      <th>...</th>\n",
       "      <td>...</td>\n",
       "      <td>...</td>\n",
       "    </tr>\n",
       "    <tr>\n",
       "      <th>9999</th>\n",
       "      <td>19434</td>\n",
       "      <td>1</td>\n",
       "    </tr>\n",
       "    <tr>\n",
       "      <th>1582</th>\n",
       "      <td>3137</td>\n",
       "      <td>1</td>\n",
       "    </tr>\n",
       "    <tr>\n",
       "      <th>620</th>\n",
       "      <td>1271</td>\n",
       "      <td>1</td>\n",
       "    </tr>\n",
       "    <tr>\n",
       "      <th>10004</th>\n",
       "      <td>19443</td>\n",
       "      <td>1</td>\n",
       "    </tr>\n",
       "    <tr>\n",
       "      <th>7517</th>\n",
       "      <td>14578</td>\n",
       "      <td>1</td>\n",
       "    </tr>\n",
       "  </tbody>\n",
       "</table>\n",
       "<p>12752 rows × 2 columns</p>\n",
       "</div>"
      ],
      "text/plain": [
       "          Id  Количетсво_прочтенных_писем\n",
       "710     1448                          127\n",
       "2261    4457                           69\n",
       "5423   10555                           61\n",
       "5489   10675                           58\n",
       "12358  23833                           57\n",
       "...      ...                          ...\n",
       "9999   19434                            1\n",
       "1582    3137                            1\n",
       "620     1271                            1\n",
       "10004  19443                            1\n",
       "7517   14578                            1\n",
       "\n",
       "[12752 rows x 2 columns]"
      ]
     },
     "execution_count": 39,
     "metadata": {},
     "output_type": "execute_result"
    }
   ],
   "source": [
    "reading_users"
   ]
  },
  {
   "cell_type": "code",
   "execution_count": 40,
   "id": "a370dba7-90f8-4f40-8116-b86b1e1ea7d6",
   "metadata": {},
   "outputs": [
    {
     "data": {
      "text/plain": [
       "0.33281053952321205"
      ]
     },
     "execution_count": 40,
     "metadata": {},
     "output_type": "execute_result"
    }
   ],
   "source": [
    "reading_users.query('Количетсво_прочтенных_писем <= 2')['Id'].count() / reading_users['Id'].count()"
   ]
  },
  {
   "cell_type": "markdown",
   "id": "7cc40419-8a46-462c-893f-585394849817",
   "metadata": {},
   "source": [
    "Достаточно большое количество пользователей открывали письмо всего 1-2 раза (33%).   \n",
    "Возможно их не заинтересовала рассылка.   \n",
    "Не относим данных пользователей к постоянным.\n"
   ]
  },
  {
   "cell_type": "code",
   "execution_count": 41,
   "id": "3ad51166-7ac4-4e7d-8ea7-8ea9fefdbb14",
   "metadata": {},
   "outputs": [],
   "source": [
    "reading_users = reading_users.query('Количетсво_прочтенных_писем > 2')"
   ]
  },
  {
   "cell_type": "code",
   "execution_count": 42,
   "id": "65ebfd50-0128-454a-b0a6-f304ff57693c",
   "metadata": {},
   "outputs": [],
   "source": [
    "reading_ = reading.merge(reading_users['Id'], how = 'right', on = 'Id')"
   ]
  },
  {
   "cell_type": "code",
   "execution_count": 43,
   "id": "ce238a8b-2cbe-4b91-8bc7-b09f6e67d8e2",
   "metadata": {},
   "outputs": [
    {
     "data": {
      "text/html": [
       "<div>\n",
       "<style scoped>\n",
       "    .dataframe tbody tr th:only-of-type {\n",
       "        vertical-align: middle;\n",
       "    }\n",
       "\n",
       "    .dataframe tbody tr th {\n",
       "        vertical-align: top;\n",
       "    }\n",
       "\n",
       "    .dataframe thead th {\n",
       "        text-align: right;\n",
       "    }\n",
       "</style>\n",
       "<table border=\"1\" class=\"dataframe\">\n",
       "  <thead>\n",
       "    <tr style=\"text-align: right;\">\n",
       "      <th></th>\n",
       "      <th>Id</th>\n",
       "      <th>Город</th>\n",
       "      <th>Пол</th>\n",
       "      <th>Дата рождения</th>\n",
       "      <th>Дата отправки</th>\n",
       "      <th>Статус отправки</th>\n",
       "      <th>Название_письма</th>\n",
       "      <th>Возраст</th>\n",
       "    </tr>\n",
       "  </thead>\n",
       "  <tbody>\n",
       "    <tr>\n",
       "      <th>0</th>\n",
       "      <td>1448</td>\n",
       "      <td>Ухта</td>\n",
       "      <td>мужской</td>\n",
       "      <td>1957-07-11</td>\n",
       "      <td>2020-11-19 00:14:44</td>\n",
       "      <td>Открыто</td>\n",
       "      <td>Еженедельный Аналитический Дайджест</td>\n",
       "      <td>63.0</td>\n",
       "    </tr>\n",
       "    <tr>\n",
       "      <th>1</th>\n",
       "      <td>1448</td>\n",
       "      <td>Ухта</td>\n",
       "      <td>мужской</td>\n",
       "      <td>1957-07-11</td>\n",
       "      <td>2020-11-19 00:37:18</td>\n",
       "      <td>Открыто</td>\n",
       "      <td>Еженедельный Аналитический Дайджест</td>\n",
       "      <td>63.0</td>\n",
       "    </tr>\n",
       "    <tr>\n",
       "      <th>2</th>\n",
       "      <td>1448</td>\n",
       "      <td>Ухта</td>\n",
       "      <td>мужской</td>\n",
       "      <td>1957-07-11</td>\n",
       "      <td>2020-11-19 00:38:29</td>\n",
       "      <td>Открыто</td>\n",
       "      <td>Еженедельный Аналитический Дайджест</td>\n",
       "      <td>63.0</td>\n",
       "    </tr>\n",
       "    <tr>\n",
       "      <th>3</th>\n",
       "      <td>1448</td>\n",
       "      <td>Ухта</td>\n",
       "      <td>мужской</td>\n",
       "      <td>1957-07-11</td>\n",
       "      <td>2020-11-19 00:51:26</td>\n",
       "      <td>Открыто</td>\n",
       "      <td>Еженедельный Аналитический Дайджест</td>\n",
       "      <td>63.0</td>\n",
       "    </tr>\n",
       "    <tr>\n",
       "      <th>4</th>\n",
       "      <td>1448</td>\n",
       "      <td>Ухта</td>\n",
       "      <td>мужской</td>\n",
       "      <td>1957-07-11</td>\n",
       "      <td>2020-11-26 01:41:40</td>\n",
       "      <td>Открыто</td>\n",
       "      <td>Еженедельный Аналитический Дайджест</td>\n",
       "      <td>63.0</td>\n",
       "    </tr>\n",
       "  </tbody>\n",
       "</table>\n",
       "</div>"
      ],
      "text/plain": [
       "     Id Город      Пол Дата рождения       Дата отправки Статус отправки  \\\n",
       "0  1448  Ухта  мужской    1957-07-11 2020-11-19 00:14:44         Открыто   \n",
       "1  1448  Ухта  мужской    1957-07-11 2020-11-19 00:37:18         Открыто   \n",
       "2  1448  Ухта  мужской    1957-07-11 2020-11-19 00:38:29         Открыто   \n",
       "3  1448  Ухта  мужской    1957-07-11 2020-11-19 00:51:26         Открыто   \n",
       "4  1448  Ухта  мужской    1957-07-11 2020-11-26 01:41:40         Открыто   \n",
       "\n",
       "                       Название_письма  Возраст  \n",
       "0  Еженедельный Аналитический Дайджест     63.0  \n",
       "1  Еженедельный Аналитический Дайджест     63.0  \n",
       "2  Еженедельный Аналитический Дайджест     63.0  \n",
       "3  Еженедельный Аналитический Дайджест     63.0  \n",
       "4  Еженедельный Аналитический Дайджест     63.0  "
      ]
     },
     "execution_count": 43,
     "metadata": {},
     "output_type": "execute_result"
    }
   ],
   "source": [
    "reading_.head()"
   ]
  },
  {
   "cell_type": "markdown",
   "id": "424b8f4a-a438-4b35-9074-b2f488672685",
   "metadata": {},
   "source": [
    "Проанализируем возраст пользователей"
   ]
  },
  {
   "cell_type": "code",
   "execution_count": 44,
   "id": "496f7f78-1deb-4338-b845-41561f01a892",
   "metadata": {},
   "outputs": [],
   "source": [
    "age_group = reading_.groupby(['Id', 'Пол'],as_index=False).agg({'Возраст':'min'})"
   ]
  },
  {
   "cell_type": "code",
   "execution_count": 45,
   "id": "143f1377-a8d6-4688-9bed-5a538fcb48fb",
   "metadata": {},
   "outputs": [
    {
     "data": {
      "text/html": [
       "<div>\n",
       "<style scoped>\n",
       "    .dataframe tbody tr th:only-of-type {\n",
       "        vertical-align: middle;\n",
       "    }\n",
       "\n",
       "    .dataframe tbody tr th {\n",
       "        vertical-align: top;\n",
       "    }\n",
       "\n",
       "    .dataframe thead th {\n",
       "        text-align: right;\n",
       "    }\n",
       "</style>\n",
       "<table border=\"1\" class=\"dataframe\">\n",
       "  <thead>\n",
       "    <tr style=\"text-align: right;\">\n",
       "      <th></th>\n",
       "      <th>Id</th>\n",
       "      <th>Пол</th>\n",
       "      <th>Возраст</th>\n",
       "    </tr>\n",
       "  </thead>\n",
       "  <tbody>\n",
       "    <tr>\n",
       "      <th>0</th>\n",
       "      <td>2</td>\n",
       "      <td>мужской</td>\n",
       "      <td>57.0</td>\n",
       "    </tr>\n",
       "    <tr>\n",
       "      <th>1</th>\n",
       "      <td>3</td>\n",
       "      <td>мужской</td>\n",
       "      <td>27.0</td>\n",
       "    </tr>\n",
       "    <tr>\n",
       "      <th>2</th>\n",
       "      <td>5</td>\n",
       "      <td>мужской</td>\n",
       "      <td>34.0</td>\n",
       "    </tr>\n",
       "    <tr>\n",
       "      <th>3</th>\n",
       "      <td>8</td>\n",
       "      <td>мужской</td>\n",
       "      <td>61.0</td>\n",
       "    </tr>\n",
       "    <tr>\n",
       "      <th>4</th>\n",
       "      <td>13</td>\n",
       "      <td>женский</td>\n",
       "      <td>25.0</td>\n",
       "    </tr>\n",
       "  </tbody>\n",
       "</table>\n",
       "</div>"
      ],
      "text/plain": [
       "   Id      Пол  Возраст\n",
       "0   2  мужской     57.0\n",
       "1   3  мужской     27.0\n",
       "2   5  мужской     34.0\n",
       "3   8  мужской     61.0\n",
       "4  13  женский     25.0"
      ]
     },
     "execution_count": 45,
     "metadata": {},
     "output_type": "execute_result"
    }
   ],
   "source": [
    "age_group.head()"
   ]
  },
  {
   "cell_type": "code",
   "execution_count": 46,
   "id": "3eb79677-7177-47ae-a33a-dc1c3d519532",
   "metadata": {},
   "outputs": [
    {
     "data": {
      "text/plain": [
       "count    8508.000000\n",
       "mean       44.542901\n",
       "std        11.192521\n",
       "min        14.000000\n",
       "25%        36.000000\n",
       "50%        44.000000\n",
       "75%        52.000000\n",
       "max        87.000000\n",
       "Name: Возраст, dtype: float64"
      ]
     },
     "execution_count": 46,
     "metadata": {},
     "output_type": "execute_result"
    }
   ],
   "source": [
    "age_group['Возраст'].describe()"
   ]
  },
  {
   "cell_type": "code",
   "execution_count": 47,
   "id": "ed6ca1cb-efe1-497c-862a-a1b07ce6607a",
   "metadata": {},
   "outputs": [
    {
     "data": {
      "text/plain": [
       "<AxesSubplot:xlabel='Пол', ylabel='Возраст'>"
      ]
     },
     "execution_count": 47,
     "metadata": {},
     "output_type": "execute_result"
    },
    {
     "data": {
      "image/png": "[encoded data removed]",
      "text/plain": [
       "<Figure size 720x720 with 1 Axes>"
      ]
     },
     "metadata": {},
     "output_type": "display_data"
    }
   ],
   "source": [
    "sns.boxplot(data = age_group, y = 'Возраст', x ='Пол')"
   ]
  },
  {
   "cell_type": "code",
   "execution_count": 48,
   "id": "681c03fa-d694-4560-bd5e-9b7fcba4e859",
   "metadata": {},
   "outputs": [
    {
     "data": {
      "text/plain": [
       "21.0"
      ]
     },
     "execution_count": 48,
     "metadata": {},
     "output_type": "execute_result"
    }
   ],
   "source": [
    "a = age_group['Возраст'].quantile(0.01)\n",
    "a"
   ]
  },
  {
   "cell_type": "code",
   "execution_count": 49,
   "id": "4d850684-ee50-4dd8-af7c-885859de7722",
   "metadata": {},
   "outputs": [
    {
     "data": {
      "text/plain": [
       "66.0"
      ]
     },
     "execution_count": 49,
     "metadata": {},
     "output_type": "execute_result"
    }
   ],
   "source": [
    "b = age_group['Возраст'].quantile(0.96)\n",
    "b"
   ]
  },
  {
   "cell_type": "markdown",
   "id": "f1a0c113-a93d-4094-910d-1cfa4c9545f5",
   "metadata": {},
   "source": [
    "Средний возраст читателей составляет 44 года, средний возраст мужчин и женщин практически не отличается/   \n",
    "Возраст 95% пользоватлелей от 21 до 66 лет."
   ]
  },
  {
   "cell_type": "markdown",
   "id": "e8833879-45a9-4b62-b4ea-f80b8e07c168",
   "metadata": {},
   "source": [
    "Рассмотрим читателей по половому признаку"
   ]
  },
  {
   "cell_type": "code",
   "execution_count": 50,
   "id": "f2728bda-ed3d-47e5-8629-ad3d8a26c2eb",
   "metadata": {},
   "outputs": [],
   "source": [
    "gender_group = age_group.groupby('Пол', as_index=False).agg({'Id':'count'}).rename(columns={'Id':'Количетсво'})\n"
   ]
  },
  {
   "cell_type": "code",
   "execution_count": 51,
   "id": "7f627f9b-a579-4ddf-8cd0-c62347495716",
   "metadata": {},
   "outputs": [],
   "source": [
    "gender_group['Процент'] = round(gender_group['Количетсво'] / gender_group['Количетсво'].sum() * 100,2)"
   ]
  },
  {
   "cell_type": "code",
   "execution_count": 52,
   "id": "5545487e-7b65-4e23-9ad3-edda2d944076",
   "metadata": {},
   "outputs": [
    {
     "data": {
      "text/html": [
       "<div>\n",
       "<style scoped>\n",
       "    .dataframe tbody tr th:only-of-type {\n",
       "        vertical-align: middle;\n",
       "    }\n",
       "\n",
       "    .dataframe tbody tr th {\n",
       "        vertical-align: top;\n",
       "    }\n",
       "\n",
       "    .dataframe thead th {\n",
       "        text-align: right;\n",
       "    }\n",
       "</style>\n",
       "<table border=\"1\" class=\"dataframe\">\n",
       "  <thead>\n",
       "    <tr style=\"text-align: right;\">\n",
       "      <th></th>\n",
       "      <th>Пол</th>\n",
       "      <th>Количетсво</th>\n",
       "      <th>Процент</th>\n",
       "    </tr>\n",
       "  </thead>\n",
       "  <tbody>\n",
       "    <tr>\n",
       "      <th>0</th>\n",
       "      <td>женский</td>\n",
       "      <td>2080</td>\n",
       "      <td>24.45</td>\n",
       "    </tr>\n",
       "    <tr>\n",
       "      <th>1</th>\n",
       "      <td>мужской</td>\n",
       "      <td>6428</td>\n",
       "      <td>75.55</td>\n",
       "    </tr>\n",
       "  </tbody>\n",
       "</table>\n",
       "</div>"
      ],
      "text/plain": [
       "       Пол  Количетсво  Процент\n",
       "0  женский        2080    24.45\n",
       "1  мужской        6428    75.55"
      ]
     },
     "execution_count": 52,
     "metadata": {},
     "output_type": "execute_result"
    }
   ],
   "source": [
    "gender_group"
   ]
  },
  {
   "cell_type": "markdown",
   "id": "1dfce0a6-521a-49d3-b028-3cb36613e0c8",
   "metadata": {},
   "source": [
    "Рассмотрим из каких городов наши читатели"
   ]
  },
  {
   "cell_type": "code",
   "execution_count": 53,
   "id": "5c91dfd6-ce52-4c09-9e85-e2d389922416",
   "metadata": {},
   "outputs": [
    {
     "data": {
      "text/html": [
       "<div>\n",
       "<style scoped>\n",
       "    .dataframe tbody tr th:only-of-type {\n",
       "        vertical-align: middle;\n",
       "    }\n",
       "\n",
       "    .dataframe tbody tr th {\n",
       "        vertical-align: top;\n",
       "    }\n",
       "\n",
       "    .dataframe thead th {\n",
       "        text-align: right;\n",
       "    }\n",
       "</style>\n",
       "<table border=\"1\" class=\"dataframe\">\n",
       "  <thead>\n",
       "    <tr style=\"text-align: right;\">\n",
       "      <th></th>\n",
       "      <th>Город</th>\n",
       "      <th>Количетсво</th>\n",
       "      <th>Процент</th>\n",
       "    </tr>\n",
       "  </thead>\n",
       "  <tbody>\n",
       "    <tr>\n",
       "      <th>294</th>\n",
       "      <td>Москва</td>\n",
       "      <td>1761</td>\n",
       "      <td>20.70</td>\n",
       "    </tr>\n",
       "    <tr>\n",
       "      <th>415</th>\n",
       "      <td>Санкт-Петербург</td>\n",
       "      <td>555</td>\n",
       "      <td>6.52</td>\n",
       "    </tr>\n",
       "    <tr>\n",
       "      <th>505</th>\n",
       "      <td>Уфа</td>\n",
       "      <td>193</td>\n",
       "      <td>2.27</td>\n",
       "    </tr>\n",
       "    <tr>\n",
       "      <th>227</th>\n",
       "      <td>Краснодар</td>\n",
       "      <td>192</td>\n",
       "      <td>2.26</td>\n",
       "    </tr>\n",
       "    <tr>\n",
       "      <th>323</th>\n",
       "      <td>Нижний Новгород</td>\n",
       "      <td>189</td>\n",
       "      <td>2.22</td>\n",
       "    </tr>\n",
       "  </tbody>\n",
       "</table>\n",
       "</div>"
      ],
      "text/plain": [
       "               Город  Количетсво  Процент\n",
       "294           Москва        1761    20.70\n",
       "415  Санкт-Петербург         555     6.52\n",
       "505              Уфа         193     2.27\n",
       "227        Краснодар         192     2.26\n",
       "323  Нижний Новгород         189     2.22"
      ]
     },
     "execution_count": 53,
     "metadata": {},
     "output_type": "execute_result"
    }
   ],
   "source": [
    "cities = reading_.groupby('Город', as_index=False).agg({'Id':'nunique'})\\\n",
    "                                        .rename(columns={'Id':'Количетсво'})\\\n",
    "                                        .sort_values('Количетсво', ascending=False)\n",
    "cities['Процент'] = round(cities['Количетсво'] / cities['Количетсво'].sum() * 100,2)\n",
    "cities.head()"
   ]
  },
  {
   "cell_type": "code",
   "execution_count": 54,
   "id": "a20c3cc6-96cf-4121-8951-5e5a159696e6",
   "metadata": {},
   "outputs": [
    {
     "data": {
      "text/plain": [
       "73.44999999999999"
      ]
     },
     "execution_count": 54,
     "metadata": {},
     "output_type": "execute_result"
    }
   ],
   "source": [
    "cities.head(50)['Процент'].sum()"
   ]
  },
  {
   "cell_type": "code",
   "execution_count": 55,
   "id": "e5fb5622-e515-49be-ab49-3a0bdeaf8392",
   "metadata": {},
   "outputs": [
    {
     "data": {
      "text/html": [
       "<div>\n",
       "<style scoped>\n",
       "    .dataframe tbody tr th:only-of-type {\n",
       "        vertical-align: middle;\n",
       "    }\n",
       "\n",
       "    .dataframe tbody tr th {\n",
       "        vertical-align: top;\n",
       "    }\n",
       "\n",
       "    .dataframe thead th {\n",
       "        text-align: right;\n",
       "    }\n",
       "</style>\n",
       "<table border=\"1\" class=\"dataframe\">\n",
       "  <thead>\n",
       "    <tr style=\"text-align: right;\">\n",
       "      <th></th>\n",
       "      <th>Город</th>\n",
       "      <th>Количетсво</th>\n",
       "      <th>Процент</th>\n",
       "    </tr>\n",
       "  </thead>\n",
       "  <tbody>\n",
       "    <tr>\n",
       "      <th>294</th>\n",
       "      <td>Москва</td>\n",
       "      <td>1761</td>\n",
       "      <td>20.70</td>\n",
       "    </tr>\n",
       "    <tr>\n",
       "      <th>415</th>\n",
       "      <td>Санкт-Петербург</td>\n",
       "      <td>555</td>\n",
       "      <td>6.52</td>\n",
       "    </tr>\n",
       "    <tr>\n",
       "      <th>505</th>\n",
       "      <td>Уфа</td>\n",
       "      <td>193</td>\n",
       "      <td>2.27</td>\n",
       "    </tr>\n",
       "    <tr>\n",
       "      <th>227</th>\n",
       "      <td>Краснодар</td>\n",
       "      <td>192</td>\n",
       "      <td>2.26</td>\n",
       "    </tr>\n",
       "    <tr>\n",
       "      <th>323</th>\n",
       "      <td>Нижний Новгород</td>\n",
       "      <td>189</td>\n",
       "      <td>2.22</td>\n",
       "    </tr>\n",
       "    <tr>\n",
       "      <th>137</th>\n",
       "      <td>Екатеринбург</td>\n",
       "      <td>161</td>\n",
       "      <td>1.89</td>\n",
       "    </tr>\n",
       "    <tr>\n",
       "      <th>170</th>\n",
       "      <td>Казань</td>\n",
       "      <td>142</td>\n",
       "      <td>1.67</td>\n",
       "    </tr>\n",
       "    <tr>\n",
       "      <th>334</th>\n",
       "      <td>Новосибирск</td>\n",
       "      <td>139</td>\n",
       "      <td>1.63</td>\n",
       "    </tr>\n",
       "    <tr>\n",
       "      <th>164</th>\n",
       "      <td>Иркутск</td>\n",
       "      <td>136</td>\n",
       "      <td>1.60</td>\n",
       "    </tr>\n",
       "    <tr>\n",
       "      <th>520</th>\n",
       "      <td>Челябинск</td>\n",
       "      <td>131</td>\n",
       "      <td>1.54</td>\n",
       "    </tr>\n",
       "    <tr>\n",
       "      <th>371</th>\n",
       "      <td>Пермь</td>\n",
       "      <td>126</td>\n",
       "      <td>1.48</td>\n",
       "    </tr>\n",
       "    <tr>\n",
       "      <th>404</th>\n",
       "      <td>Ростов-на-Дону</td>\n",
       "      <td>117</td>\n",
       "      <td>1.38</td>\n",
       "    </tr>\n",
       "    <tr>\n",
       "      <th>271</th>\n",
       "      <td>Магнитогорск</td>\n",
       "      <td>100</td>\n",
       "      <td>1.18</td>\n",
       "    </tr>\n",
       "    <tr>\n",
       "      <th>232</th>\n",
       "      <td>Красноярск</td>\n",
       "      <td>95</td>\n",
       "      <td>1.12</td>\n",
       "    </tr>\n",
       "    <tr>\n",
       "      <th>496</th>\n",
       "      <td>Тюмень</td>\n",
       "      <td>94</td>\n",
       "      <td>1.10</td>\n",
       "    </tr>\n",
       "    <tr>\n",
       "      <th>519</th>\n",
       "      <td>Чебоксары</td>\n",
       "      <td>89</td>\n",
       "      <td>1.05</td>\n",
       "    </tr>\n",
       "    <tr>\n",
       "      <th>414</th>\n",
       "      <td>Самара</td>\n",
       "      <td>82</td>\n",
       "      <td>0.96</td>\n",
       "    </tr>\n",
       "    <tr>\n",
       "      <th>458</th>\n",
       "      <td>Ставрополь</td>\n",
       "      <td>81</td>\n",
       "      <td>0.95</td>\n",
       "    </tr>\n",
       "    <tr>\n",
       "      <th>467</th>\n",
       "      <td>Сургут</td>\n",
       "      <td>81</td>\n",
       "      <td>0.95</td>\n",
       "    </tr>\n",
       "    <tr>\n",
       "      <th>354</th>\n",
       "      <td>Омск</td>\n",
       "      <td>81</td>\n",
       "      <td>0.95</td>\n",
       "    </tr>\n",
       "    <tr>\n",
       "      <th>93</th>\n",
       "      <td>Воронеж</td>\n",
       "      <td>78</td>\n",
       "      <td>0.92</td>\n",
       "    </tr>\n",
       "    <tr>\n",
       "      <th>85</th>\n",
       "      <td>Волгоград</td>\n",
       "      <td>78</td>\n",
       "      <td>0.92</td>\n",
       "    </tr>\n",
       "    <tr>\n",
       "      <th>410</th>\n",
       "      <td>Рязань</td>\n",
       "      <td>77</td>\n",
       "      <td>0.91</td>\n",
       "    </tr>\n",
       "    <tr>\n",
       "      <th>161</th>\n",
       "      <td>Ижевск</td>\n",
       "      <td>76</td>\n",
       "      <td>0.89</td>\n",
       "    </tr>\n",
       "    <tr>\n",
       "      <th>345</th>\n",
       "      <td>Норильск</td>\n",
       "      <td>75</td>\n",
       "      <td>0.88</td>\n",
       "    </tr>\n",
       "    <tr>\n",
       "      <th>357</th>\n",
       "      <td>Оренбург</td>\n",
       "      <td>74</td>\n",
       "      <td>0.87</td>\n",
       "    </tr>\n",
       "    <tr>\n",
       "      <th>418</th>\n",
       "      <td>Саратов</td>\n",
       "      <td>71</td>\n",
       "      <td>0.83</td>\n",
       "    </tr>\n",
       "    <tr>\n",
       "      <th>485</th>\n",
       "      <td>Томск</td>\n",
       "      <td>68</td>\n",
       "      <td>0.80</td>\n",
       "    </tr>\n",
       "    <tr>\n",
       "      <th>333</th>\n",
       "      <td>Новороссийск</td>\n",
       "      <td>67</td>\n",
       "      <td>0.79</td>\n",
       "    </tr>\n",
       "    <tr>\n",
       "      <th>484</th>\n",
       "      <td>Тольятти</td>\n",
       "      <td>65</td>\n",
       "      <td>0.76</td>\n",
       "    </tr>\n",
       "    <tr>\n",
       "      <th>455</th>\n",
       "      <td>Сочи</td>\n",
       "      <td>63</td>\n",
       "      <td>0.74</td>\n",
       "    </tr>\n",
       "    <tr>\n",
       "      <th>226</th>\n",
       "      <td>Красногорск</td>\n",
       "      <td>60</td>\n",
       "      <td>0.71</td>\n",
       "    </tr>\n",
       "    <tr>\n",
       "      <th>82</th>\n",
       "      <td>Владивосток</td>\n",
       "      <td>56</td>\n",
       "      <td>0.66</td>\n",
       "    </tr>\n",
       "    <tr>\n",
       "      <th>510</th>\n",
       "      <td>Хабаровск</td>\n",
       "      <td>55</td>\n",
       "      <td>0.65</td>\n",
       "    </tr>\n",
       "    <tr>\n",
       "      <th>198</th>\n",
       "      <td>Киров</td>\n",
       "      <td>55</td>\n",
       "      <td>0.65</td>\n",
       "    </tr>\n",
       "    <tr>\n",
       "      <th>367</th>\n",
       "      <td>Пенза</td>\n",
       "      <td>54</td>\n",
       "      <td>0.63</td>\n",
       "    </tr>\n",
       "    <tr>\n",
       "      <th>301</th>\n",
       "      <td>Набережные Челны</td>\n",
       "      <td>52</td>\n",
       "      <td>0.61</td>\n",
       "    </tr>\n",
       "    <tr>\n",
       "      <th>493</th>\n",
       "      <td>Тула</td>\n",
       "      <td>51</td>\n",
       "      <td>0.60</td>\n",
       "    </tr>\n",
       "    <tr>\n",
       "      <th>522</th>\n",
       "      <td>Череповец</td>\n",
       "      <td>51</td>\n",
       "      <td>0.60</td>\n",
       "    </tr>\n",
       "    <tr>\n",
       "      <th>65</th>\n",
       "      <td>Брянск</td>\n",
       "      <td>51</td>\n",
       "      <td>0.60</td>\n",
       "    </tr>\n",
       "    <tr>\n",
       "      <th>321</th>\n",
       "      <td>Нижневартовск</td>\n",
       "      <td>50</td>\n",
       "      <td>0.59</td>\n",
       "    </tr>\n",
       "    <tr>\n",
       "      <th>416</th>\n",
       "      <td>Саранск</td>\n",
       "      <td>45</td>\n",
       "      <td>0.53</td>\n",
       "    </tr>\n",
       "    <tr>\n",
       "      <th>31</th>\n",
       "      <td>Балашиха</td>\n",
       "      <td>44</td>\n",
       "      <td>0.52</td>\n",
       "    </tr>\n",
       "    <tr>\n",
       "      <th>168</th>\n",
       "      <td>Йошкар-Ола</td>\n",
       "      <td>44</td>\n",
       "      <td>0.52</td>\n",
       "    </tr>\n",
       "    <tr>\n",
       "      <th>36</th>\n",
       "      <td>Белгород</td>\n",
       "      <td>42</td>\n",
       "      <td>0.49</td>\n",
       "    </tr>\n",
       "    <tr>\n",
       "      <th>557</th>\n",
       "      <td>Ярославль</td>\n",
       "      <td>42</td>\n",
       "      <td>0.49</td>\n",
       "    </tr>\n",
       "    <tr>\n",
       "      <th>33</th>\n",
       "      <td>Барнаул</td>\n",
       "      <td>40</td>\n",
       "      <td>0.47</td>\n",
       "    </tr>\n",
       "    <tr>\n",
       "      <th>514</th>\n",
       "      <td>Химки</td>\n",
       "      <td>40</td>\n",
       "      <td>0.47</td>\n",
       "    </tr>\n",
       "    <tr>\n",
       "      <th>50</th>\n",
       "      <td>Благовещенск</td>\n",
       "      <td>40</td>\n",
       "      <td>0.47</td>\n",
       "    </tr>\n",
       "    <tr>\n",
       "      <th>300</th>\n",
       "      <td>Мытищи</td>\n",
       "      <td>39</td>\n",
       "      <td>0.46</td>\n",
       "    </tr>\n",
       "  </tbody>\n",
       "</table>\n",
       "</div>"
      ],
      "text/plain": [
       "                Город  Количетсво  Процент\n",
       "294            Москва        1761    20.70\n",
       "415   Санкт-Петербург         555     6.52\n",
       "505               Уфа         193     2.27\n",
       "227         Краснодар         192     2.26\n",
       "323   Нижний Новгород         189     2.22\n",
       "137      Екатеринбург         161     1.89\n",
       "170            Казань         142     1.67\n",
       "334       Новосибирск         139     1.63\n",
       "164           Иркутск         136     1.60\n",
       "520         Челябинск         131     1.54\n",
       "371             Пермь         126     1.48\n",
       "404    Ростов-на-Дону         117     1.38\n",
       "271      Магнитогорск         100     1.18\n",
       "232        Красноярск          95     1.12\n",
       "496            Тюмень          94     1.10\n",
       "519         Чебоксары          89     1.05\n",
       "414            Самара          82     0.96\n",
       "458        Ставрополь          81     0.95\n",
       "467            Сургут          81     0.95\n",
       "354              Омск          81     0.95\n",
       "93            Воронеж          78     0.92\n",
       "85          Волгоград          78     0.92\n",
       "410            Рязань          77     0.91\n",
       "161            Ижевск          76     0.89\n",
       "345          Норильск          75     0.88\n",
       "357          Оренбург          74     0.87\n",
       "418           Саратов          71     0.83\n",
       "485             Томск          68     0.80\n",
       "333      Новороссийск          67     0.79\n",
       "484          Тольятти          65     0.76\n",
       "455              Сочи          63     0.74\n",
       "226       Красногорск          60     0.71\n",
       "82        Владивосток          56     0.66\n",
       "510         Хабаровск          55     0.65\n",
       "198             Киров          55     0.65\n",
       "367             Пенза          54     0.63\n",
       "301  Набережные Челны          52     0.61\n",
       "493              Тула          51     0.60\n",
       "522         Череповец          51     0.60\n",
       "65             Брянск          51     0.60\n",
       "321     Нижневартовск          50     0.59\n",
       "416           Саранск          45     0.53\n",
       "31           Балашиха          44     0.52\n",
       "168        Йошкар-Ола          44     0.52\n",
       "36           Белгород          42     0.49\n",
       "557         Ярославль          42     0.49\n",
       "33            Барнаул          40     0.47\n",
       "514             Химки          40     0.47\n",
       "50       Благовещенск          40     0.47\n",
       "300            Мытищи          39     0.46"
      ]
     },
     "execution_count": 55,
     "metadata": {},
     "output_type": "execute_result"
    }
   ],
   "source": [
    "cities.head(50)"
   ]
  },
  {
   "cell_type": "markdown",
   "id": "6ba8e8dd-9442-4739-9d35-b97d0c258cac",
   "metadata": {},
   "source": [
    "## Портрет читающих маркетинговые рассылки:\n",
    "\n",
    "Исходя из представленных данных можем сказать следующее о наших читателях:\n",
    "\n",
    " * Жители крупных городов, городов-миллинников, областных центров. Значительная доля приходится на жителей Москвы и Московской области(~ 22%),   \n",
    "   Санкт-Петербурга (~ 6.5%), остальная большая доля приходится на остальные крупные города (доля каждого города менее 2.5%);\n",
    " * Большая часть читателей - мужчины (75%);\n",
    " * 95% пользоватлелей трудоспособного возраста от 21 до 66 лет (75% старше 36 лет). Средний возраст - 44 года."
   ]
  },
  {
   "cell_type": "markdown",
   "id": "30034ecc-d714-444d-9480-d3206d9ff119",
   "metadata": {},
   "source": [
    "**2.Проверка корреляции между датой/временем отправки письма**"
   ]
  },
  {
   "cell_type": "markdown",
   "id": "c22228eb-ddc4-4af1-9eac-0a55efcddd38",
   "metadata": {},
   "source": [
    "Сделаем копию датафрейма"
   ]
  },
  {
   "cell_type": "code",
   "execution_count": 56,
   "id": "fa301548-08df-42a5-ad23-6aa91b5d65ff",
   "metadata": {},
   "outputs": [],
   "source": [
    "data = df.copy()"
   ]
  },
  {
   "cell_type": "code",
   "execution_count": 57,
   "id": "500c6923-f1e0-4ea0-86b9-cd56e28c14ca",
   "metadata": {},
   "outputs": [
    {
     "data": {
      "text/html": [
       "<div>\n",
       "<style scoped>\n",
       "    .dataframe tbody tr th:only-of-type {\n",
       "        vertical-align: middle;\n",
       "    }\n",
       "\n",
       "    .dataframe tbody tr th {\n",
       "        vertical-align: top;\n",
       "    }\n",
       "\n",
       "    .dataframe thead th {\n",
       "        text-align: right;\n",
       "    }\n",
       "</style>\n",
       "<table border=\"1\" class=\"dataframe\">\n",
       "  <thead>\n",
       "    <tr style=\"text-align: right;\">\n",
       "      <th></th>\n",
       "      <th>Id</th>\n",
       "      <th>Город</th>\n",
       "      <th>Пол</th>\n",
       "      <th>Дата рождения</th>\n",
       "      <th>Дата отправки</th>\n",
       "      <th>Статус отправки</th>\n",
       "      <th>Название_письма</th>\n",
       "      <th>Возраст</th>\n",
       "    </tr>\n",
       "  </thead>\n",
       "  <tbody>\n",
       "    <tr>\n",
       "      <th>0</th>\n",
       "      <td>2</td>\n",
       "      <td>Мытищи</td>\n",
       "      <td>мужской</td>\n",
       "      <td>1964-02-24</td>\n",
       "      <td>2020-11-19 00:46:09</td>\n",
       "      <td>Открыто</td>\n",
       "      <td>Еженедельный Аналитический Дайджест</td>\n",
       "      <td>57.0</td>\n",
       "    </tr>\n",
       "    <tr>\n",
       "      <th>1</th>\n",
       "      <td>2</td>\n",
       "      <td>Мытищи</td>\n",
       "      <td>мужской</td>\n",
       "      <td>1964-02-24</td>\n",
       "      <td>2020-11-26 01:58:27</td>\n",
       "      <td>Открыто</td>\n",
       "      <td>Еженедельный Аналитический Дайджест</td>\n",
       "      <td>57.0</td>\n",
       "    </tr>\n",
       "    <tr>\n",
       "      <th>2</th>\n",
       "      <td>2</td>\n",
       "      <td>Мытищи</td>\n",
       "      <td>мужской</td>\n",
       "      <td>1964-02-24</td>\n",
       "      <td>2020-11-27 00:24:05</td>\n",
       "      <td>Отправлено</td>\n",
       "      <td>Еженедельный Аналитический Дайджест</td>\n",
       "      <td>57.0</td>\n",
       "    </tr>\n",
       "    <tr>\n",
       "      <th>3</th>\n",
       "      <td>2</td>\n",
       "      <td>Мытищи</td>\n",
       "      <td>мужской</td>\n",
       "      <td>1964-02-24</td>\n",
       "      <td>2020-12-03 02:21:10</td>\n",
       "      <td>Открыто</td>\n",
       "      <td>Еженедельный Аналитический Дайджест</td>\n",
       "      <td>57.0</td>\n",
       "    </tr>\n",
       "    <tr>\n",
       "      <th>4</th>\n",
       "      <td>2</td>\n",
       "      <td>Мытищи</td>\n",
       "      <td>мужской</td>\n",
       "      <td>1964-02-24</td>\n",
       "      <td>2020-12-04 00:46:05</td>\n",
       "      <td>Отправлено</td>\n",
       "      <td>Еженедельный Аналитический Дайджест</td>\n",
       "      <td>57.0</td>\n",
       "    </tr>\n",
       "  </tbody>\n",
       "</table>\n",
       "</div>"
      ],
      "text/plain": [
       "   Id   Город      Пол Дата рождения       Дата отправки Статус отправки  \\\n",
       "0   2  Мытищи  мужской    1964-02-24 2020-11-19 00:46:09         Открыто   \n",
       "1   2  Мытищи  мужской    1964-02-24 2020-11-26 01:58:27         Открыто   \n",
       "2   2  Мытищи  мужской    1964-02-24 2020-11-27 00:24:05      Отправлено   \n",
       "3   2  Мытищи  мужской    1964-02-24 2020-12-03 02:21:10         Открыто   \n",
       "4   2  Мытищи  мужской    1964-02-24 2020-12-04 00:46:05      Отправлено   \n",
       "\n",
       "                       Название_письма  Возраст  \n",
       "0  Еженедельный Аналитический Дайджест     57.0  \n",
       "1  Еженедельный Аналитический Дайджест     57.0  \n",
       "2  Еженедельный Аналитический Дайджест     57.0  \n",
       "3  Еженедельный Аналитический Дайджест     57.0  \n",
       "4  Еженедельный Аналитический Дайджест     57.0  "
      ]
     },
     "execution_count": 57,
     "metadata": {},
     "output_type": "execute_result"
    }
   ],
   "source": [
    "data.head()"
   ]
  },
  {
   "cell_type": "markdown",
   "id": "58d616f3-8ec7-4db1-b90a-c142cd2b43dc",
   "metadata": {},
   "source": [
    "Выделим отдельно часы отправки и день недели."
   ]
  },
  {
   "cell_type": "code",
   "execution_count": 58,
   "id": "64af977b-7e88-48d8-9ae9-6b0c720da809",
   "metadata": {},
   "outputs": [],
   "source": [
    "data['Час_отправки'] = data['Дата отправки'].dt.hour"
   ]
  },
  {
   "cell_type": "code",
   "execution_count": 59,
   "id": "d92337bf-4c1b-4a91-8a25-501b7c76db64",
   "metadata": {},
   "outputs": [],
   "source": [
    "data['День_недели'] = data['Дата отправки'].dt.day_name()"
   ]
  },
  {
   "cell_type": "code",
   "execution_count": 60,
   "id": "be1b05ac-9db4-463e-8927-4816cd7a465a",
   "metadata": {},
   "outputs": [
    {
     "data": {
      "text/html": [
       "<div>\n",
       "<style scoped>\n",
       "    .dataframe tbody tr th:only-of-type {\n",
       "        vertical-align: middle;\n",
       "    }\n",
       "\n",
       "    .dataframe tbody tr th {\n",
       "        vertical-align: top;\n",
       "    }\n",
       "\n",
       "    .dataframe thead th {\n",
       "        text-align: right;\n",
       "    }\n",
       "</style>\n",
       "<table border=\"1\" class=\"dataframe\">\n",
       "  <thead>\n",
       "    <tr style=\"text-align: right;\">\n",
       "      <th></th>\n",
       "      <th>Id</th>\n",
       "      <th>Город</th>\n",
       "      <th>Пол</th>\n",
       "      <th>Дата рождения</th>\n",
       "      <th>Дата отправки</th>\n",
       "      <th>Статус отправки</th>\n",
       "      <th>Название_письма</th>\n",
       "      <th>Возраст</th>\n",
       "      <th>Час_отправки</th>\n",
       "      <th>День_недели</th>\n",
       "    </tr>\n",
       "  </thead>\n",
       "  <tbody>\n",
       "    <tr>\n",
       "      <th>0</th>\n",
       "      <td>2</td>\n",
       "      <td>Мытищи</td>\n",
       "      <td>мужской</td>\n",
       "      <td>1964-02-24</td>\n",
       "      <td>2020-11-19 00:46:09</td>\n",
       "      <td>Открыто</td>\n",
       "      <td>Еженедельный Аналитический Дайджест</td>\n",
       "      <td>57.0</td>\n",
       "      <td>0</td>\n",
       "      <td>Thursday</td>\n",
       "    </tr>\n",
       "    <tr>\n",
       "      <th>1</th>\n",
       "      <td>2</td>\n",
       "      <td>Мытищи</td>\n",
       "      <td>мужской</td>\n",
       "      <td>1964-02-24</td>\n",
       "      <td>2020-11-26 01:58:27</td>\n",
       "      <td>Открыто</td>\n",
       "      <td>Еженедельный Аналитический Дайджест</td>\n",
       "      <td>57.0</td>\n",
       "      <td>1</td>\n",
       "      <td>Thursday</td>\n",
       "    </tr>\n",
       "    <tr>\n",
       "      <th>2</th>\n",
       "      <td>2</td>\n",
       "      <td>Мытищи</td>\n",
       "      <td>мужской</td>\n",
       "      <td>1964-02-24</td>\n",
       "      <td>2020-11-27 00:24:05</td>\n",
       "      <td>Отправлено</td>\n",
       "      <td>Еженедельный Аналитический Дайджест</td>\n",
       "      <td>57.0</td>\n",
       "      <td>0</td>\n",
       "      <td>Friday</td>\n",
       "    </tr>\n",
       "    <tr>\n",
       "      <th>3</th>\n",
       "      <td>2</td>\n",
       "      <td>Мытищи</td>\n",
       "      <td>мужской</td>\n",
       "      <td>1964-02-24</td>\n",
       "      <td>2020-12-03 02:21:10</td>\n",
       "      <td>Открыто</td>\n",
       "      <td>Еженедельный Аналитический Дайджест</td>\n",
       "      <td>57.0</td>\n",
       "      <td>2</td>\n",
       "      <td>Thursday</td>\n",
       "    </tr>\n",
       "    <tr>\n",
       "      <th>4</th>\n",
       "      <td>2</td>\n",
       "      <td>Мытищи</td>\n",
       "      <td>мужской</td>\n",
       "      <td>1964-02-24</td>\n",
       "      <td>2020-12-04 00:46:05</td>\n",
       "      <td>Отправлено</td>\n",
       "      <td>Еженедельный Аналитический Дайджест</td>\n",
       "      <td>57.0</td>\n",
       "      <td>0</td>\n",
       "      <td>Friday</td>\n",
       "    </tr>\n",
       "    <tr>\n",
       "      <th>5</th>\n",
       "      <td>2</td>\n",
       "      <td>Мытищи</td>\n",
       "      <td>мужской</td>\n",
       "      <td>1964-02-24</td>\n",
       "      <td>2020-12-10 02:01:21</td>\n",
       "      <td>Переход по ссылке</td>\n",
       "      <td>Еженедельный Аналитический Дайджест</td>\n",
       "      <td>57.0</td>\n",
       "      <td>2</td>\n",
       "      <td>Thursday</td>\n",
       "    </tr>\n",
       "    <tr>\n",
       "      <th>6</th>\n",
       "      <td>2</td>\n",
       "      <td>Мытищи</td>\n",
       "      <td>мужской</td>\n",
       "      <td>1964-02-24</td>\n",
       "      <td>2020-12-11 00:17:14</td>\n",
       "      <td>Отправлено</td>\n",
       "      <td>Еженедельный Аналитический Дайджест</td>\n",
       "      <td>57.0</td>\n",
       "      <td>0</td>\n",
       "      <td>Friday</td>\n",
       "    </tr>\n",
       "    <tr>\n",
       "      <th>7</th>\n",
       "      <td>2</td>\n",
       "      <td>Мытищи</td>\n",
       "      <td>мужской</td>\n",
       "      <td>1964-02-24</td>\n",
       "      <td>2020-12-17 01:48:16</td>\n",
       "      <td>Открыто</td>\n",
       "      <td>Еженедельный Аналитический Дайджест</td>\n",
       "      <td>57.0</td>\n",
       "      <td>1</td>\n",
       "      <td>Thursday</td>\n",
       "    </tr>\n",
       "    <tr>\n",
       "      <th>8</th>\n",
       "      <td>2</td>\n",
       "      <td>Мытищи</td>\n",
       "      <td>мужской</td>\n",
       "      <td>1964-02-24</td>\n",
       "      <td>2020-12-17 23:44:47</td>\n",
       "      <td>Отправлено</td>\n",
       "      <td>Еженедельный Аналитический Дайджест</td>\n",
       "      <td>57.0</td>\n",
       "      <td>23</td>\n",
       "      <td>Thursday</td>\n",
       "    </tr>\n",
       "    <tr>\n",
       "      <th>9</th>\n",
       "      <td>2</td>\n",
       "      <td>Мытищи</td>\n",
       "      <td>мужской</td>\n",
       "      <td>1964-02-24</td>\n",
       "      <td>2020-12-24 02:26:17</td>\n",
       "      <td>Открыто</td>\n",
       "      <td>Еженедельный Аналитический Дайджест</td>\n",
       "      <td>57.0</td>\n",
       "      <td>2</td>\n",
       "      <td>Thursday</td>\n",
       "    </tr>\n",
       "  </tbody>\n",
       "</table>\n",
       "</div>"
      ],
      "text/plain": [
       "   Id   Город      Пол Дата рождения       Дата отправки    Статус отправки  \\\n",
       "0   2  Мытищи  мужской    1964-02-24 2020-11-19 00:46:09            Открыто   \n",
       "1   2  Мытищи  мужской    1964-02-24 2020-11-26 01:58:27            Открыто   \n",
       "2   2  Мытищи  мужской    1964-02-24 2020-11-27 00:24:05         Отправлено   \n",
       "3   2  Мытищи  мужской    1964-02-24 2020-12-03 02:21:10            Открыто   \n",
       "4   2  Мытищи  мужской    1964-02-24 2020-12-04 00:46:05         Отправлено   \n",
       "5   2  Мытищи  мужской    1964-02-24 2020-12-10 02:01:21  Переход по ссылке   \n",
       "6   2  Мытищи  мужской    1964-02-24 2020-12-11 00:17:14         Отправлено   \n",
       "7   2  Мытищи  мужской    1964-02-24 2020-12-17 01:48:16            Открыто   \n",
       "8   2  Мытищи  мужской    1964-02-24 2020-12-17 23:44:47         Отправлено   \n",
       "9   2  Мытищи  мужской    1964-02-24 2020-12-24 02:26:17            Открыто   \n",
       "\n",
       "                       Название_письма  Возраст  Час_отправки День_недели  \n",
       "0  Еженедельный Аналитический Дайджест     57.0             0    Thursday  \n",
       "1  Еженедельный Аналитический Дайджест     57.0             1    Thursday  \n",
       "2  Еженедельный Аналитический Дайджест     57.0             0      Friday  \n",
       "3  Еженедельный Аналитический Дайджест     57.0             2    Thursday  \n",
       "4  Еженедельный Аналитический Дайджест     57.0             0      Friday  \n",
       "5  Еженедельный Аналитический Дайджест     57.0             2    Thursday  \n",
       "6  Еженедельный Аналитический Дайджест     57.0             0      Friday  \n",
       "7  Еженедельный Аналитический Дайджест     57.0             1    Thursday  \n",
       "8  Еженедельный Аналитический Дайджест     57.0            23    Thursday  \n",
       "9  Еженедельный Аналитический Дайджест     57.0             2    Thursday  "
      ]
     },
     "execution_count": 60,
     "metadata": {},
     "output_type": "execute_result"
    }
   ],
   "source": [
    "data.head(10)"
   ]
  },
  {
   "cell_type": "code",
   "execution_count": 61,
   "id": "6cb16113-0a6f-43f7-97a3-f2b37fd56970",
   "metadata": {},
   "outputs": [
    {
     "data": {
      "text/plain": [
       "dtype('int64')"
      ]
     },
     "execution_count": 61,
     "metadata": {},
     "output_type": "execute_result"
    }
   ],
   "source": [
    "data.Час_отправки.dtypes"
   ]
  },
  {
   "cell_type": "markdown",
   "id": "76e211ff-cdf9-4d04-ad47-7ea5f6e02588",
   "metadata": {},
   "source": [
    "Заменим в часах 0 на 24"
   ]
  },
  {
   "cell_type": "code",
   "execution_count": 62,
   "id": "3fb38750-f736-4e97-834a-050bf192edc9",
   "metadata": {},
   "outputs": [],
   "source": [
    "data.Час_отправки = np.where(data.Час_отправки == 0, 24, data.Час_отправки)"
   ]
  },
  {
   "cell_type": "markdown",
   "id": "dea47db5-1de7-4f09-93e5-390357c6f65c",
   "metadata": {},
   "source": [
    "Разделим часы на группы:   \n",
    " * с 7 до 11 утра;\n",
    " * с 12 до 16;\n",
    " * с 17 до 20;\n",
    " * с 21 до 24;\n",
    " * с 1 до 6"
   ]
  },
  {
   "cell_type": "code",
   "execution_count": 63,
   "id": "5a76b391-ae87-40c8-9ae9-f430ed6d2b82",
   "metadata": {},
   "outputs": [],
   "source": [
    "data['Временная_группа'] = pd.cut(data['Час_отправки'], [0, 6, 11, 16, 20, 24],\\\n",
    "                                  labels = ['с 1 до 6', 'с 7 до 11', 'с 12 до 16', 'с 17 до 20', 'с 21 до 24'])"
   ]
  },
  {
   "cell_type": "code",
   "execution_count": 64,
   "id": "1e9a22cd-8439-40f2-909e-dc4c7f772ff2",
   "metadata": {},
   "outputs": [
    {
     "data": {
      "text/plain": [
       "с 21 до 24    337394\n",
       "с 1 до 6       16738\n",
       "с 12 до 16      3185\n",
       "с 7 до 11       2801\n",
       "с 17 до 20         0\n",
       "Name: Временная_группа, dtype: int64"
      ]
     },
     "execution_count": 64,
     "metadata": {},
     "output_type": "execute_result"
    }
   ],
   "source": [
    "data['Временная_группа'].value_counts()"
   ]
  },
  {
   "cell_type": "code",
   "execution_count": 65,
   "id": "2dc953a8-f290-41eb-b88e-1c72d40418e1",
   "metadata": {},
   "outputs": [
    {
     "data": {
      "text/plain": [
       "0"
      ]
     },
     "execution_count": 65,
     "metadata": {},
     "output_type": "execute_result"
    }
   ],
   "source": [
    "data['Временная_группа'].isna().sum()"
   ]
  },
  {
   "cell_type": "code",
   "execution_count": 66,
   "id": "05f88877-cabb-4a43-b146-ca6b3c761058",
   "metadata": {},
   "outputs": [
    {
     "data": {
      "text/plain": [
       "Отправлено           265043\n",
       "Открыто               87507\n",
       "Переход по ссылке      6868\n",
       "Не отправлено           669\n",
       "Нет_данных               31\n",
       "Name: Статус отправки, dtype: int64"
      ]
     },
     "execution_count": 66,
     "metadata": {},
     "output_type": "execute_result"
    }
   ],
   "source": [
    "data['Статус отправки'].value_counts()"
   ]
  },
  {
   "cell_type": "markdown",
   "id": "e8b2303e-5af8-4ac8-b812-86757e0d54df",
   "metadata": {},
   "source": [
    "Для проверки корреляции прочтения письма со временем отправки, статус отправки оставим открыто / отправлено.   \n",
    "Однако у нас также есть статус Переход по ссылке, который предполагает собой прочтение письма, а также переход по ссылке в теле письма.   \n",
    "Заменим данный статус на открыто. Не отправленные данные уберем из датафрейма."
   ]
  },
  {
   "cell_type": "code",
   "execution_count": 67,
   "id": "c4fc16c6-776d-4758-8e79-010abbdf934a",
   "metadata": {},
   "outputs": [],
   "source": [
    "data['Статус отправки'] = data['Статус отправки'].str.replace('Переход по ссылке', 'Открыто')"
   ]
  },
  {
   "cell_type": "code",
   "execution_count": 68,
   "id": "edb356b3-c406-4c67-8b61-34e145142ca1",
   "metadata": {},
   "outputs": [],
   "source": [
    "data = data[data['Статус отправки'] != \"Не отправлено\"]"
   ]
  },
  {
   "cell_type": "code",
   "execution_count": 69,
   "id": "2c62f32d-5eba-4555-99d5-7056ab9d7b8c",
   "metadata": {},
   "outputs": [
    {
     "data": {
      "text/plain": [
       "Отправлено    265043\n",
       "Открыто        94375\n",
       "Нет_данных        31\n",
       "Name: Статус отправки, dtype: int64"
      ]
     },
     "execution_count": 69,
     "metadata": {},
     "output_type": "execute_result"
    }
   ],
   "source": [
    "data['Статус отправки'].value_counts()"
   ]
  },
  {
   "cell_type": "markdown",
   "id": "df8a7210-1636-4ff9-b154-e9d5a9b9edbb",
   "metadata": {},
   "source": [
    "Определив временные интервалы, можем проверить корреляцию временной переменной с отправкой письма.   \n"
   ]
  },
  {
   "cell_type": "markdown",
   "id": "4be76b65-bd9b-49e0-ac80-e8dd1491c87d",
   "metadata": {},
   "source": [
    "Переменные имеют категориальный характер.   \n",
    "Для проверки зависимости переменных необходимо на основании таблицы сопряжения применить тест Хи-квадрат."
   ]
  },
  {
   "cell_type": "code",
   "execution_count": 70,
   "id": "7ba94a2c-4e99-4c3a-aff2-b14509e7f67f",
   "metadata": {},
   "outputs": [],
   "source": [
    "from scipy.stats import chi2_contingency"
   ]
  },
  {
   "cell_type": "code",
   "execution_count": 71,
   "id": "cb4b62b6-6c69-41c8-b98f-080e34b67e58",
   "metadata": {},
   "outputs": [
    {
     "data": {
      "text/html": [
       "<div>\n",
       "<style scoped>\n",
       "    .dataframe tbody tr th:only-of-type {\n",
       "        vertical-align: middle;\n",
       "    }\n",
       "\n",
       "    .dataframe tbody tr th {\n",
       "        vertical-align: top;\n",
       "    }\n",
       "\n",
       "    .dataframe thead th {\n",
       "        text-align: right;\n",
       "    }\n",
       "</style>\n",
       "<table border=\"1\" class=\"dataframe\">\n",
       "  <thead>\n",
       "    <tr style=\"text-align: right;\">\n",
       "      <th>Статус отправки</th>\n",
       "      <th>Нет_данных</th>\n",
       "      <th>Открыто</th>\n",
       "      <th>Отправлено</th>\n",
       "    </tr>\n",
       "    <tr>\n",
       "      <th>Временная_группа</th>\n",
       "      <th></th>\n",
       "      <th></th>\n",
       "      <th></th>\n",
       "    </tr>\n",
       "  </thead>\n",
       "  <tbody>\n",
       "    <tr>\n",
       "      <th>с 1 до 6</th>\n",
       "      <td>15</td>\n",
       "      <td>16723</td>\n",
       "      <td>0</td>\n",
       "    </tr>\n",
       "    <tr>\n",
       "      <th>с 7 до 11</th>\n",
       "      <td>1</td>\n",
       "      <td>2800</td>\n",
       "      <td>0</td>\n",
       "    </tr>\n",
       "    <tr>\n",
       "      <th>с 12 до 16</th>\n",
       "      <td>1</td>\n",
       "      <td>3184</td>\n",
       "      <td>0</td>\n",
       "    </tr>\n",
       "    <tr>\n",
       "      <th>с 21 до 24</th>\n",
       "      <td>14</td>\n",
       "      <td>71668</td>\n",
       "      <td>265043</td>\n",
       "    </tr>\n",
       "  </tbody>\n",
       "</table>\n",
       "</div>"
      ],
      "text/plain": [
       "Статус отправки   Нет_данных  Открыто  Отправлено\n",
       "Временная_группа                                 \n",
       "с 1 до 6                  15    16723           0\n",
       "с 7 до 11                  1     2800           0\n",
       "с 12 до 16                 1     3184           0\n",
       "с 21 до 24                14    71668      265043"
      ]
     },
     "execution_count": 71,
     "metadata": {},
     "output_type": "execute_result"
    }
   ],
   "source": [
    "crosstab = pd.crosstab(data['Временная_группа'], data['Статус отправки']) # Таблица сопряжения\n",
    "crosstab"
   ]
  },
  {
   "cell_type": "markdown",
   "id": "5e835b51-0a6f-403e-893f-2f2286d8041b",
   "metadata": {},
   "source": [
    "Проверим таблицу crosstab с помощью pivot"
   ]
  },
  {
   "cell_type": "code",
   "execution_count": 72,
   "id": "f2b2eee2-eafe-4a96-ba42-28523f3c85cb",
   "metadata": {},
   "outputs": [
    {
     "data": {
      "text/html": [
       "<div>\n",
       "<style scoped>\n",
       "    .dataframe tbody tr th:only-of-type {\n",
       "        vertical-align: middle;\n",
       "    }\n",
       "\n",
       "    .dataframe tbody tr th {\n",
       "        vertical-align: top;\n",
       "    }\n",
       "\n",
       "    .dataframe thead th {\n",
       "        text-align: right;\n",
       "    }\n",
       "</style>\n",
       "<table border=\"1\" class=\"dataframe\">\n",
       "  <thead>\n",
       "    <tr style=\"text-align: right;\">\n",
       "      <th>Статус отправки</th>\n",
       "      <th>Нет_данных</th>\n",
       "      <th>Открыто</th>\n",
       "      <th>Отправлено</th>\n",
       "    </tr>\n",
       "    <tr>\n",
       "      <th>Временная_группа</th>\n",
       "      <th></th>\n",
       "      <th></th>\n",
       "      <th></th>\n",
       "    </tr>\n",
       "  </thead>\n",
       "  <tbody>\n",
       "    <tr>\n",
       "      <th>с 1 до 6</th>\n",
       "      <td>15</td>\n",
       "      <td>16723</td>\n",
       "      <td>0</td>\n",
       "    </tr>\n",
       "    <tr>\n",
       "      <th>с 7 до 11</th>\n",
       "      <td>1</td>\n",
       "      <td>2800</td>\n",
       "      <td>0</td>\n",
       "    </tr>\n",
       "    <tr>\n",
       "      <th>с 12 до 16</th>\n",
       "      <td>1</td>\n",
       "      <td>3184</td>\n",
       "      <td>0</td>\n",
       "    </tr>\n",
       "    <tr>\n",
       "      <th>с 17 до 20</th>\n",
       "      <td>0</td>\n",
       "      <td>0</td>\n",
       "      <td>0</td>\n",
       "    </tr>\n",
       "    <tr>\n",
       "      <th>с 21 до 24</th>\n",
       "      <td>14</td>\n",
       "      <td>71668</td>\n",
       "      <td>265043</td>\n",
       "    </tr>\n",
       "  </tbody>\n",
       "</table>\n",
       "</div>"
      ],
      "text/plain": [
       "Статус отправки   Нет_данных  Открыто  Отправлено\n",
       "Временная_группа                                 \n",
       "с 1 до 6                  15    16723           0\n",
       "с 7 до 11                  1     2800           0\n",
       "с 12 до 16                 1     3184           0\n",
       "с 17 до 20                 0        0           0\n",
       "с 21 до 24                14    71668      265043"
      ]
     },
     "execution_count": 72,
     "metadata": {},
     "output_type": "execute_result"
    }
   ],
   "source": [
    "data.groupby(['Временная_группа','Статус отправки']).agg({'Id':'count'})\\\n",
    "                                                    .reset_index()\\\n",
    "                                                    .pivot(values='Id', columns='Статус отправки', index='Временная_группа')"
   ]
  },
  {
   "cell_type": "markdown",
   "id": "b953caee-67c2-43f0-9104-e30ebdb80f1d",
   "metadata": {},
   "source": [
    "Применим тест Хи-квадрат"
   ]
  },
  {
   "cell_type": "code",
   "execution_count": 73,
   "id": "11fb4763-f99f-4e56-88fc-56fe11351535",
   "metadata": {},
   "outputs": [
    {
     "data": {
      "text/plain": [
       "(68168.31867780536, 0.0, 6)"
      ]
     },
     "execution_count": 73,
     "metadata": {},
     "output_type": "execute_result"
    }
   ],
   "source": [
    "chi2_contingency(crosstab)[0:3]"
   ]
  },
  {
   "cell_type": "markdown",
   "id": "4a930c04-410e-4087-b5c9-ffa6b8ce312d",
   "metadata": {},
   "source": [
    "## Вывод:\n",
    "\n",
    "p-value < 0.05, а значит корреляция статуса с временем отправки есть.   \n",
    "Из таблицы сопряжения видно, что большая часть отправленных писем в вечерний период с 21 до 24 прочитана в тот же период.   \n",
    "Существуют пользователи, которые читают дайжест ночью, позднее после получения, и совсем редко в течении дня."
   ]
  },
  {
   "cell_type": "markdown",
   "id": "0d3d10ab-13bb-42db-ac16-0e6de97d3459",
   "metadata": {},
   "source": [
    "Рассмотрим есть ли корреляция прочтения по дням недели."
   ]
  },
  {
   "cell_type": "code",
   "execution_count": 74,
   "id": "ca7a0103-753a-4d15-adf5-d7b5c4e9a1d2",
   "metadata": {},
   "outputs": [
    {
     "data": {
      "text/html": [
       "<div>\n",
       "<style scoped>\n",
       "    .dataframe tbody tr th:only-of-type {\n",
       "        vertical-align: middle;\n",
       "    }\n",
       "\n",
       "    .dataframe tbody tr th {\n",
       "        vertical-align: top;\n",
       "    }\n",
       "\n",
       "    .dataframe thead th {\n",
       "        text-align: right;\n",
       "    }\n",
       "</style>\n",
       "<table border=\"1\" class=\"dataframe\">\n",
       "  <thead>\n",
       "    <tr style=\"text-align: right;\">\n",
       "      <th>Статус отправки</th>\n",
       "      <th>Нет_данных</th>\n",
       "      <th>Открыто</th>\n",
       "      <th>Отправлено</th>\n",
       "    </tr>\n",
       "    <tr>\n",
       "      <th>День_недели</th>\n",
       "      <th></th>\n",
       "      <th></th>\n",
       "      <th></th>\n",
       "    </tr>\n",
       "  </thead>\n",
       "  <tbody>\n",
       "    <tr>\n",
       "      <th>Friday</th>\n",
       "      <td>8</td>\n",
       "      <td>31307</td>\n",
       "      <td>124549</td>\n",
       "    </tr>\n",
       "    <tr>\n",
       "      <th>Monday</th>\n",
       "      <td>3</td>\n",
       "      <td>308</td>\n",
       "      <td>0</td>\n",
       "    </tr>\n",
       "    <tr>\n",
       "      <th>Saturday</th>\n",
       "      <td>3</td>\n",
       "      <td>9366</td>\n",
       "      <td>44510</td>\n",
       "    </tr>\n",
       "    <tr>\n",
       "      <th>Sunday</th>\n",
       "      <td>0</td>\n",
       "      <td>387</td>\n",
       "      <td>6</td>\n",
       "    </tr>\n",
       "    <tr>\n",
       "      <th>Thursday</th>\n",
       "      <td>9</td>\n",
       "      <td>44215</td>\n",
       "      <td>95978</td>\n",
       "    </tr>\n",
       "    <tr>\n",
       "      <th>Tuesday</th>\n",
       "      <td>1</td>\n",
       "      <td>294</td>\n",
       "      <td>0</td>\n",
       "    </tr>\n",
       "    <tr>\n",
       "      <th>Wednesday</th>\n",
       "      <td>7</td>\n",
       "      <td>8498</td>\n",
       "      <td>0</td>\n",
       "    </tr>\n",
       "  </tbody>\n",
       "</table>\n",
       "</div>"
      ],
      "text/plain": [
       "Статус отправки  Нет_данных  Открыто  Отправлено\n",
       "День_недели                                     \n",
       "Friday                    8    31307      124549\n",
       "Monday                    3      308           0\n",
       "Saturday                  3     9366       44510\n",
       "Sunday                    0      387           6\n",
       "Thursday                  9    44215       95978\n",
       "Tuesday                   1      294           0\n",
       "Wednesday                 7     8498           0"
      ]
     },
     "execution_count": 74,
     "metadata": {},
     "output_type": "execute_result"
    }
   ],
   "source": [
    "crosstab_2 = pd.crosstab(data['День_недели'], data['Статус отправки']) # Таблица сопряжения\n",
    "crosstab_2"
   ]
  },
  {
   "cell_type": "markdown",
   "id": "5530f9b2-b2ca-46d9-8483-d33b7357c94f",
   "metadata": {},
   "source": [
    "Применим тест Хи-квадрат"
   ]
  },
  {
   "cell_type": "code",
   "execution_count": 75,
   "id": "bcc63531-10db-48d8-baa5-b7d55d37da67",
   "metadata": {},
   "outputs": [
    {
     "data": {
      "text/plain": [
       "(34285.52642775704, 0.0, 12)"
      ]
     },
     "execution_count": 75,
     "metadata": {},
     "output_type": "execute_result"
    }
   ],
   "source": [
    "chi2_contingency(crosstab_2)[0:3]"
   ]
  },
  {
   "cell_type": "markdown",
   "id": "8154e83f-60bd-4ecf-b940-209dc0d95147",
   "metadata": {},
   "source": [
    "p-value < 0.05\n",
    "\n",
    "Также заметим определенную закономерность прочтения в день отправки.   \n",
    "Большинство пользователей читают с четверга по субботу."
   ]
  },
  {
   "cell_type": "markdown",
   "id": "f158c5fd-985f-4fbc-b37e-e6b37c36e369",
   "metadata": {},
   "source": [
    "Региональные особенности читателей представлены в выводах по 1 пункту, а также в ходе анализа отображения городов."
   ]
  },
  {
   "cell_type": "code",
   "execution_count": null,
   "id": "ab5e8433-a2f7-4cbe-b9b3-8e2d3f1e0462",
   "metadata": {},
   "outputs": [],
   "source": []
  }
 ],
 "metadata": {
  "kernelspec": {
   "display_name": "Python 3 (ipykernel)",
   "language": "python",
   "name": "python3"
  },
  "language_info": {
   "codemirror_mode": {
    "name": "ipython",
    "version": 3
   },
   "file_extension": ".py",
   "mimetype": "text/x-python",
   "name": "python",
   "nbconvert_exporter": "python",
   "pygments_lexer": "ipython3",
   "version": "3.9.12"
  }
 },
 "nbformat": 4,
 "nbformat_minor": 5
}

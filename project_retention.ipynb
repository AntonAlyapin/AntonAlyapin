{
 "cells": [
  {
   "cell_type": "code",
   "execution_count": 1,
   "metadata": {},
   "outputs": [],
   "source": [
    "import pandas as pd\n",
    "import numpy as np, scipy.stats as st\n",
    "from datetime import datetime\n",
    "import statsmodels.stats.api as sms\n",
    "import seaborn as sns\n",
    "import scipy.stats as stats\n",
    "from scipy.stats import norm\n",
    "import statsmodels.formula.api as smf \n",
    "import requests \n",
    "from urllib.parse import urlencode \n",
    "from tqdm.auto import tqdm\n",
    "\n",
    "import matplotlib.pyplot as plt\n",
    "%matplotlib inline"
   ]
  },
  {
   "cell_type": "markdown",
   "metadata": {},
   "source": [
    "***\n",
    "\n",
    "## Проект: вариант 1\n",
    "\n",
    "***\n",
    "**Задание 1**\n",
    " * Задача – написать функцию, которая будет считать retention игроков (по дням от даты регистрации игрока). Данные лежат в папке shared\n",
    " * *shared/problem1-reg_data.csv* – данные о времени регистрации\n",
    " * *shared/problem1-auth_data.csv* – данные о времени захода пользователей в игру"
   ]
  },
  {
   "cell_type": "markdown",
   "metadata": {},
   "source": [
    "Создадим две переменные, в каждой будет храниться ссылка на путь к соответствующему файлу"
   ]
  },
  {
   "cell_type": "code",
   "execution_count": 2,
   "metadata": {},
   "outputs": [],
   "source": [
    "# ссылка на путь к данным о регистрации\n",
    "\n",
    "path_reg = '/mnt/HC_Volume_18315164/home-jupyter/jupyter-a-aljapin-31/shared/problem1-reg_data.csv' "
   ]
  },
  {
   "cell_type": "code",
   "execution_count": 3,
   "metadata": {},
   "outputs": [],
   "source": [
    "# ссылка на путь к данным о времени захода пользователей в игру\n",
    "\n",
    "path_auth = '/mnt/HC_Volume_18315164/home-jupyter/jupyter-a-aljapin-31/shared/problem1-auth_data.csv'"
   ]
  },
  {
   "cell_type": "markdown",
   "metadata": {},
   "source": [
    "Прочитаем данные и проведем предварительный анализ"
   ]
  },
  {
   "cell_type": "code",
   "execution_count": 4,
   "metadata": {},
   "outputs": [],
   "source": [
    "reg = pd.read_csv(path_reg, sep=';') # Датафрейм с данными о регистрации"
   ]
  },
  {
   "cell_type": "code",
   "execution_count": 5,
   "metadata": {},
   "outputs": [
    {
     "data": {
      "text/html": [
       "<div>\n",
       "<style scoped>\n",
       "    .dataframe tbody tr th:only-of-type {\n",
       "        vertical-align: middle;\n",
       "    }\n",
       "\n",
       "    .dataframe tbody tr th {\n",
       "        vertical-align: top;\n",
       "    }\n",
       "\n",
       "    .dataframe thead th {\n",
       "        text-align: right;\n",
       "    }\n",
       "</style>\n",
       "<table border=\"1\" class=\"dataframe\">\n",
       "  <thead>\n",
       "    <tr style=\"text-align: right;\">\n",
       "      <th></th>\n",
       "      <th>reg_ts</th>\n",
       "      <th>uid</th>\n",
       "    </tr>\n",
       "  </thead>\n",
       "  <tbody>\n",
       "    <tr>\n",
       "      <th>0</th>\n",
       "      <td>911382223</td>\n",
       "      <td>1</td>\n",
       "    </tr>\n",
       "    <tr>\n",
       "      <th>1</th>\n",
       "      <td>932683089</td>\n",
       "      <td>2</td>\n",
       "    </tr>\n",
       "    <tr>\n",
       "      <th>2</th>\n",
       "      <td>947802447</td>\n",
       "      <td>3</td>\n",
       "    </tr>\n",
       "    <tr>\n",
       "      <th>3</th>\n",
       "      <td>959523541</td>\n",
       "      <td>4</td>\n",
       "    </tr>\n",
       "    <tr>\n",
       "      <th>4</th>\n",
       "      <td>969103313</td>\n",
       "      <td>5</td>\n",
       "    </tr>\n",
       "  </tbody>\n",
       "</table>\n",
       "</div>"
      ],
      "text/plain": [
       "      reg_ts  uid\n",
       "0  911382223    1\n",
       "1  932683089    2\n",
       "2  947802447    3\n",
       "3  959523541    4\n",
       "4  969103313    5"
      ]
     },
     "execution_count": 5,
     "metadata": {},
     "output_type": "execute_result"
    }
   ],
   "source": [
    "reg.head()"
   ]
  },
  {
   "cell_type": "code",
   "execution_count": 6,
   "metadata": {},
   "outputs": [
    {
     "data": {
      "text/plain": [
       "reg_ts    int64\n",
       "uid       int64\n",
       "dtype: object"
      ]
     },
     "execution_count": 6,
     "metadata": {},
     "output_type": "execute_result"
    }
   ],
   "source": [
    "reg.dtypes"
   ]
  },
  {
   "cell_type": "markdown",
   "metadata": {},
   "source": [
    "Даты регистрации записаны в Unix timestamp, нужно будет перевести в текущие даты"
   ]
  },
  {
   "cell_type": "code",
   "execution_count": 7,
   "metadata": {},
   "outputs": [
    {
     "data": {
      "text/plain": [
       "reg_ts    0\n",
       "uid       0\n",
       "dtype: int64"
      ]
     },
     "execution_count": 7,
     "metadata": {},
     "output_type": "execute_result"
    }
   ],
   "source": [
    "reg.isna().sum()"
   ]
  },
  {
   "cell_type": "markdown",
   "metadata": {},
   "source": [
    "Пропусков не обнаружено"
   ]
  },
  {
   "cell_type": "code",
   "execution_count": 8,
   "metadata": {},
   "outputs": [
    {
     "data": {
      "text/plain": [
       "(1000000, 2)"
      ]
     },
     "execution_count": 8,
     "metadata": {},
     "output_type": "execute_result"
    }
   ],
   "source": [
    "reg.shape"
   ]
  },
  {
   "cell_type": "code",
   "execution_count": 9,
   "metadata": {},
   "outputs": [
    {
     "data": {
      "text/plain": [
       "1000000"
      ]
     },
     "execution_count": 9,
     "metadata": {},
     "output_type": "execute_result"
    }
   ],
   "source": [
    "reg.uid.nunique()"
   ]
  },
  {
   "cell_type": "markdown",
   "metadata": {},
   "source": [
    "Количество уникальных пользователей совпадает с количеством строк в датафрейме, повторов нет"
   ]
  },
  {
   "cell_type": "markdown",
   "metadata": {},
   "source": [
    "Преобразуем дату регистрации в формат datetime"
   ]
  },
  {
   "cell_type": "code",
   "execution_count": 10,
   "metadata": {},
   "outputs": [],
   "source": [
    "reg.reg_ts = pd.to_datetime(reg.reg_ts, unit='s')"
   ]
  },
  {
   "cell_type": "code",
   "execution_count": 11,
   "metadata": {},
   "outputs": [
    {
     "data": {
      "text/html": [
       "<div>\n",
       "<style scoped>\n",
       "    .dataframe tbody tr th:only-of-type {\n",
       "        vertical-align: middle;\n",
       "    }\n",
       "\n",
       "    .dataframe tbody tr th {\n",
       "        vertical-align: top;\n",
       "    }\n",
       "\n",
       "    .dataframe thead th {\n",
       "        text-align: right;\n",
       "    }\n",
       "</style>\n",
       "<table border=\"1\" class=\"dataframe\">\n",
       "  <thead>\n",
       "    <tr style=\"text-align: right;\">\n",
       "      <th></th>\n",
       "      <th>reg_ts</th>\n",
       "      <th>uid</th>\n",
       "    </tr>\n",
       "  </thead>\n",
       "  <tbody>\n",
       "    <tr>\n",
       "      <th>0</th>\n",
       "      <td>1998-11-18 09:43:43</td>\n",
       "      <td>1</td>\n",
       "    </tr>\n",
       "    <tr>\n",
       "      <th>1</th>\n",
       "      <td>1999-07-22 22:38:09</td>\n",
       "      <td>2</td>\n",
       "    </tr>\n",
       "    <tr>\n",
       "      <th>2</th>\n",
       "      <td>2000-01-13 22:27:27</td>\n",
       "      <td>3</td>\n",
       "    </tr>\n",
       "    <tr>\n",
       "      <th>3</th>\n",
       "      <td>2000-05-28 14:19:01</td>\n",
       "      <td>4</td>\n",
       "    </tr>\n",
       "    <tr>\n",
       "      <th>4</th>\n",
       "      <td>2000-09-16 11:21:53</td>\n",
       "      <td>5</td>\n",
       "    </tr>\n",
       "  </tbody>\n",
       "</table>\n",
       "</div>"
      ],
      "text/plain": [
       "               reg_ts  uid\n",
       "0 1998-11-18 09:43:43    1\n",
       "1 1999-07-22 22:38:09    2\n",
       "2 2000-01-13 22:27:27    3\n",
       "3 2000-05-28 14:19:01    4\n",
       "4 2000-09-16 11:21:53    5"
      ]
     },
     "execution_count": 11,
     "metadata": {},
     "output_type": "execute_result"
    }
   ],
   "source": [
    "reg.head()"
   ]
  },
  {
   "cell_type": "code",
   "execution_count": 12,
   "metadata": {},
   "outputs": [
    {
     "data": {
      "text/plain": [
       "reg_ts    datetime64[ns]\n",
       "uid                int64\n",
       "dtype: object"
      ]
     },
     "execution_count": 12,
     "metadata": {},
     "output_type": "execute_result"
    }
   ],
   "source": [
    "reg.dtypes"
   ]
  },
  {
   "cell_type": "markdown",
   "metadata": {},
   "source": [
    "Самая ранняя дата регистрации"
   ]
  },
  {
   "cell_type": "code",
   "execution_count": 13,
   "metadata": {},
   "outputs": [
    {
     "data": {
      "text/plain": [
       "Timestamp('1998-11-18 09:43:43')"
      ]
     },
     "execution_count": 13,
     "metadata": {},
     "output_type": "execute_result"
    }
   ],
   "source": [
    "reg.reg_ts.min()"
   ]
  },
  {
   "cell_type": "markdown",
   "metadata": {},
   "source": [
    "Последняя дата регистрации"
   ]
  },
  {
   "cell_type": "code",
   "execution_count": 14,
   "metadata": {},
   "outputs": [
    {
     "data": {
      "text/plain": [
       "Timestamp('2020-09-23 15:17:24')"
      ]
     },
     "execution_count": 14,
     "metadata": {},
     "output_type": "execute_result"
    }
   ],
   "source": [
    "reg.reg_ts.max()"
   ]
  },
  {
   "cell_type": "markdown",
   "metadata": {},
   "source": [
    "Посмотрим количество пользователей по годам регистрации"
   ]
  },
  {
   "cell_type": "code",
   "execution_count": 15,
   "metadata": {},
   "outputs": [],
   "source": [
    "reg['years'] = reg.reg_ts.dt.year"
   ]
  },
  {
   "cell_type": "code",
   "execution_count": 16,
   "metadata": {},
   "outputs": [
    {
     "data": {
      "text/plain": [
       "<matplotlib.axes._subplots.AxesSubplot at 0x7fa5074ec2b0>"
      ]
     },
     "execution_count": 16,
     "metadata": {},
     "output_type": "execute_result"
    },
    {
     "data": {
      "image/png": "[encoded data removed]",
      "text/plain": [
       "<Figure size 432x288 with 1 Axes>"
      ]
     },
     "metadata": {
      "needs_background": "light"
     },
     "output_type": "display_data"
    }
   ],
   "source": [
    "reg.groupby('years')['uid'].nunique().plot(kind='bar')"
   ]
  },
  {
   "cell_type": "code",
   "execution_count": 17,
   "metadata": {
    "scrolled": true
   },
   "outputs": [
    {
     "data": {
      "text/plain": [
       "years\n",
       "1998         1\n",
       "1999         1\n",
       "2000         4\n",
       "2001         6\n",
       "2002        10\n",
       "2003        20\n",
       "2004        35\n",
       "2005        65\n",
       "2006       119\n",
       "2007       216\n",
       "2008       394\n",
       "2009       718\n",
       "2010      1308\n",
       "2011      2385\n",
       "2012      4361\n",
       "2013      7932\n",
       "2014     14455\n",
       "2015     26344\n",
       "2016     48187\n",
       "2017     87645\n",
       "2018    159729\n",
       "2019    291102\n",
       "2020    354963\n",
       "Name: uid, dtype: int64"
      ]
     },
     "execution_count": 17,
     "metadata": {},
     "output_type": "execute_result"
    }
   ],
   "source": [
    "reg.groupby('years')['uid'].nunique()"
   ]
  },
  {
   "cell_type": "markdown",
   "metadata": {},
   "source": [
    "Большинство зарегистрированных пользователей в диапазоне с 2016 по 2020 год"
   ]
  },
  {
   "cell_type": "markdown",
   "metadata": {},
   "source": [
    "Проанализируем данные о времени захода пользователей в игру"
   ]
  },
  {
   "cell_type": "code",
   "execution_count": 18,
   "metadata": {},
   "outputs": [],
   "source": [
    "auth = pd.read_csv(path_auth, sep = ';')"
   ]
  },
  {
   "cell_type": "code",
   "execution_count": 19,
   "metadata": {},
   "outputs": [
    {
     "data": {
      "text/html": [
       "<div>\n",
       "<style scoped>\n",
       "    .dataframe tbody tr th:only-of-type {\n",
       "        vertical-align: middle;\n",
       "    }\n",
       "\n",
       "    .dataframe tbody tr th {\n",
       "        vertical-align: top;\n",
       "    }\n",
       "\n",
       "    .dataframe thead th {\n",
       "        text-align: right;\n",
       "    }\n",
       "</style>\n",
       "<table border=\"1\" class=\"dataframe\">\n",
       "  <thead>\n",
       "    <tr style=\"text-align: right;\">\n",
       "      <th></th>\n",
       "      <th>auth_ts</th>\n",
       "      <th>uid</th>\n",
       "    </tr>\n",
       "  </thead>\n",
       "  <tbody>\n",
       "    <tr>\n",
       "      <th>0</th>\n",
       "      <td>911382223</td>\n",
       "      <td>1</td>\n",
       "    </tr>\n",
       "    <tr>\n",
       "      <th>1</th>\n",
       "      <td>932683089</td>\n",
       "      <td>2</td>\n",
       "    </tr>\n",
       "    <tr>\n",
       "      <th>2</th>\n",
       "      <td>932921206</td>\n",
       "      <td>2</td>\n",
       "    </tr>\n",
       "    <tr>\n",
       "      <th>3</th>\n",
       "      <td>933393015</td>\n",
       "      <td>2</td>\n",
       "    </tr>\n",
       "    <tr>\n",
       "      <th>4</th>\n",
       "      <td>933875379</td>\n",
       "      <td>2</td>\n",
       "    </tr>\n",
       "  </tbody>\n",
       "</table>\n",
       "</div>"
      ],
      "text/plain": [
       "     auth_ts  uid\n",
       "0  911382223    1\n",
       "1  932683089    2\n",
       "2  932921206    2\n",
       "3  933393015    2\n",
       "4  933875379    2"
      ]
     },
     "execution_count": 19,
     "metadata": {},
     "output_type": "execute_result"
    }
   ],
   "source": [
    "auth.head()"
   ]
  },
  {
   "cell_type": "markdown",
   "metadata": {},
   "source": [
    "Аналогично, потребуется преобразование даты из unix timestamp в datetime"
   ]
  },
  {
   "cell_type": "code",
   "execution_count": 20,
   "metadata": {},
   "outputs": [
    {
     "data": {
      "text/plain": [
       "auth_ts    0\n",
       "uid        0\n",
       "dtype: int64"
      ]
     },
     "execution_count": 20,
     "metadata": {},
     "output_type": "execute_result"
    }
   ],
   "source": [
    "auth.isna().sum()"
   ]
  },
  {
   "cell_type": "code",
   "execution_count": 21,
   "metadata": {},
   "outputs": [
    {
     "data": {
      "text/plain": [
       "auth_ts    int64\n",
       "uid        int64\n",
       "dtype: object"
      ]
     },
     "execution_count": 21,
     "metadata": {},
     "output_type": "execute_result"
    }
   ],
   "source": [
    "auth.dtypes"
   ]
  },
  {
   "cell_type": "markdown",
   "metadata": {},
   "source": [
    "Пропусков нет"
   ]
  },
  {
   "cell_type": "code",
   "execution_count": 22,
   "metadata": {},
   "outputs": [
    {
     "data": {
      "text/plain": [
       "(9601013, 2)"
      ]
     },
     "execution_count": 22,
     "metadata": {},
     "output_type": "execute_result"
    }
   ],
   "source": [
    "auth.shape # Размер датафрейма"
   ]
  },
  {
   "cell_type": "markdown",
   "metadata": {},
   "source": [
    "***\n",
    "\n",
    "## Напишем функцию retention для прослеживания данамики пользования приложением\n",
    "\n",
    "***"
   ]
  },
  {
   "cell_type": "markdown",
   "metadata": {},
   "source": [
    "Для написания данной функции следует учесть следующие аспекты:\n",
    "\n",
    "1. Скорее всего потребуется использовать данную функцию в диапазоне интересующих дат с указанием времени наблюдения   \n",
    "retention (количества дней);\n",
    "   \n",
    "2. Следует учесть возможность изменения пути к файлам;\n",
    "3. Показатель retention необходимо вывести по дням от даты регистрации игрока;\n",
    "4. В случае отсутствия ввода аргументов вывести retention по всем данным."
   ]
  },
  {
   "cell_type": "markdown",
   "metadata": {},
   "source": [
    "Прежде чем написать функцию retention, следует заранее учитывать время на ее выполнение.\n",
    "Сделаем удобной функцию для ее пользователей и для этого напишем вспомогательную функцию для получения общего датафрейма.\n",
    "Т.к. функцию retention понадобится выполнять в различных временных срезах, будем применять к уже считанному датафрейму, тем самым снизим время на ее выполнение."
   ]
  },
  {
   "cell_type": "markdown",
   "metadata": {},
   "source": [
    "Функция получения обработанного датафрейма"
   ]
  },
  {
   "cell_type": "code",
   "execution_count": 69,
   "metadata": {},
   "outputs": [],
   "source": [
    "def get_df(path_reg=None, path_auth=None):\n",
    "    \"\"\"\n",
    "    Параметры:\n",
    "    \n",
    "    path_reg: str, по умолчанию None\n",
    "        - path_reg = None: Чтение и запись в датафрейм данных о зарегистрированных пользователей используя вариант \n",
    "        стандартного пути к файлу;\n",
    "          Warning: Предупреждеждение о необходимости указать другой путь к файлу в параметре path_reg;\n",
    "         \n",
    "    path_auth: str, по умолчанию None\n",
    "        -  path_auth = None: Чтение и запись в датафрейм данных о времени захода пользователей  в игру используя вариант \n",
    "        стандартного пути к файлу;\n",
    "          Warning: Предупреждеждение о необходимости указать другой путь к файлу в параметре path_auth;\n",
    "    \"\"\"\n",
    "    # Чтение данных и запись в датафреймы при стандартном пути к файлам и заданном пути:\n",
    "    \n",
    "    if path_reg is None:\n",
    "        try:\n",
    "            path_reg = '/mnt/HC_Volume_18315164/home-jupyter/jupyter-a-aljapin-31/shared/problem1-reg_data.csv'\n",
    "            reg = pd.read_csv(path_reg, sep=';') # Чтение файла с данными по зарегистрированным пользоватеям\n",
    "        except: \n",
    "            print(\"Чтение файла 'problem1-reg_data.csv' не удалось, укажите другой путь в аргументе path_auth\")\n",
    "    else:\n",
    "        reg = pd.read_csv(path_reg, sep=';')\n",
    "    if path_auth is None:\n",
    "        try:\n",
    "            path_auth = '/mnt/HC_Volume_18315164/home-jupyter/jupyter-a-aljapin-31/shared/problem1-auth_data.csv'\n",
    "            auth = pd.read_csv(path_auth, sep = ';') #  Чтение файла с данными с временем захода в игру\n",
    "        except: \n",
    "            print(\"Чтение файла 'problem1-auth_data.csv' не удалось,  укажите другой путь в аргументе path_reg\")\n",
    "    else:\n",
    "        auth = pd.read_csv(path_auth, sep = ';')\n",
    "        \n",
    "    reg.reg_ts = pd.to_datetime(reg.reg_ts, unit='s') # Перевод времени регистрации из unix timestamp в datetime\n",
    "    reg.reg_ts = reg.reg_ts.dt.date # Оставляем только дату\n",
    "    \n",
    "    # Соединяем два датафрейма по ID пользователей:\n",
    "    users = reg.merge(auth, on = 'uid', how = 'inner')\n",
    "    users.auth_ts = pd.to_datetime(users.auth_ts, unit='s') # Перевод времени захода из unix timestamp в datetime\n",
    "    users.auth_ts =  users.auth_ts.dt.date # Оставляем только дату\n",
    "    return users"
   ]
  },
  {
   "cell_type": "markdown",
   "metadata": {},
   "source": [
    "Функция retention"
   ]
  },
  {
   "cell_type": "code",
   "execution_count": 24,
   "metadata": {},
   "outputs": [],
   "source": [
    "def retention(users, start=None, end=None, days = None):\n",
    "    \"\"\"\n",
    "    Параметры:\n",
    "    \n",
    "    users: DataFrame, таблица по которой необходимо рассчитать retention;\n",
    "    \n",
    "    start: str, по умолчанию None - начальная дата заданного диапазона, \n",
    "            если параметр не указывается, берется самая ранняя дата в таблице;\n",
    "            \n",
    "    end: str, по умолчанию None - конечная дата заданного диапазона, \n",
    "            если параметр не указывается, берется самая последняя дата в таблице;\n",
    "            \n",
    "    Если оба параметра не указаны, расчет производится по всему датафрейму.   \n",
    "    \n",
    "    days: int, по умолчанию None - количество дней по которым будет производится расчет;\n",
    "            если параметр не указывается, расчет производится по всем доступным дням для когорты.\n",
    "    \n",
    "    \"\"\"\n",
    "    \n",
    "    # Заданные временные границы для зарегистрированных пользователей и фильтрация датафрейма:\n",
    "    \n",
    "    if (start is not None) and (end is not None):\n",
    "        users = users[(users['reg_ts'] >= pd.to_datetime(start)) & (users['reg_ts'] <= pd.to_datetime(end))]\n",
    "\n",
    "    if (start is not None) and (end is None):\n",
    "        users = users[users['reg_ts'] >= pd.to_datetime(start)]\n",
    "\n",
    "    if (start is None) and (end is not None):\n",
    "        users = users[users['reg_ts'] <= pd.to_datetime(end)]\n",
    "         \n",
    "    # Считаем количество уникальных пользователей по датам регистрации и записываем в датафрейм\n",
    "    users_reg = users.groupby('reg_ts', as_index=False).agg({'uid':'nunique'}).rename(columns={'uid':'users_reg'})\n",
    "    \n",
    "    # Группируем по времени регистрации и дате захода и считаем количество уникальных пользователей\n",
    "    users_by_day = users.groupby(['reg_ts','auth_ts'], as_index=False).agg({'uid':'nunique'})\\\n",
    "                                                                        .rename(columns={'uid':'users_by_day'})\n",
    "    \n",
    "    # Соединяем два датафрейма в один:\n",
    "    users_retantion = users_reg.merge(users_by_day, on='reg_ts', how='left')\n",
    "    \n",
    "    # Считаем разницу в днях между датой регистрации и датой захода\n",
    "    users_retantion['delta_days'] = users_retantion.auth_ts - users_retantion.reg_ts\n",
    "    \n",
    "    # Оставляем только количество дней\n",
    "    users_retantion['delta_days'] = users_retantion['delta_days'].dt.days\n",
    "    \n",
    "    # Фильтруем датафрейм по указанному количеству дней в параметре\n",
    "    if days is not None:\n",
    "        d = days\n",
    "        users_retantion = users_retantion.query('delta_days <= @d')\n",
    "            \n",
    "    # Считаем retention\n",
    "    users_retantion['retantion'] = users_retantion.users_by_day / users_retantion.users_reg\n",
    "    \n",
    "    # Транспонируем таблицу по датам захода с помошью pivot\n",
    "    retantion_tabl = users_retantion.pivot(index='reg_ts', columns = 'delta_days', values = 'retantion')\n",
    "    \n",
    "    # Форматируем таблицу: переводим показатель в %, красим ячейки в зависимости от уровня показателя, избавляемся от NaN,\n",
    "    ur_style = (retantion_tabl\n",
    "            .style\n",
    "            .set_caption('User retention by cohort')  # добавляем подпись\n",
    "            .background_gradient(cmap='viridis')  # раскрашиваем ячейки по столбцам\n",
    "            .highlight_null('white')  # делаем белый фон для значений NaN\n",
    "            .format(\"{:.2%}\", na_rep=\"\"))  # числа форматируем как проценты, NaN заменяем на пустоту\n",
    "    return ur_style"
   ]
  },
  {
   "cell_type": "markdown",
   "metadata": {},
   "source": [
    "Выполним функцию получения готового датафрейма для расчета"
   ]
  },
  {
   "cell_type": "code",
   "execution_count": 25,
   "metadata": {},
   "outputs": [],
   "source": [
    "df = get_df()"
   ]
  },
  {
   "cell_type": "code",
   "execution_count": 26,
   "metadata": {},
   "outputs": [
    {
     "data": {
      "text/html": [
       "<div>\n",
       "<style scoped>\n",
       "    .dataframe tbody tr th:only-of-type {\n",
       "        vertical-align: middle;\n",
       "    }\n",
       "\n",
       "    .dataframe tbody tr th {\n",
       "        vertical-align: top;\n",
       "    }\n",
       "\n",
       "    .dataframe thead th {\n",
       "        text-align: right;\n",
       "    }\n",
       "</style>\n",
       "<table border=\"1\" class=\"dataframe\">\n",
       "  <thead>\n",
       "    <tr style=\"text-align: right;\">\n",
       "      <th></th>\n",
       "      <th>reg_ts</th>\n",
       "      <th>uid</th>\n",
       "      <th>auth_ts</th>\n",
       "    </tr>\n",
       "  </thead>\n",
       "  <tbody>\n",
       "    <tr>\n",
       "      <th>0</th>\n",
       "      <td>1998-11-18</td>\n",
       "      <td>1</td>\n",
       "      <td>1998-11-18</td>\n",
       "    </tr>\n",
       "    <tr>\n",
       "      <th>1</th>\n",
       "      <td>1999-07-22</td>\n",
       "      <td>2</td>\n",
       "      <td>1999-07-22</td>\n",
       "    </tr>\n",
       "    <tr>\n",
       "      <th>2</th>\n",
       "      <td>1999-07-22</td>\n",
       "      <td>2</td>\n",
       "      <td>1999-07-25</td>\n",
       "    </tr>\n",
       "    <tr>\n",
       "      <th>3</th>\n",
       "      <td>1999-07-22</td>\n",
       "      <td>2</td>\n",
       "      <td>1999-07-31</td>\n",
       "    </tr>\n",
       "    <tr>\n",
       "      <th>4</th>\n",
       "      <td>1999-07-22</td>\n",
       "      <td>2</td>\n",
       "      <td>1999-08-05</td>\n",
       "    </tr>\n",
       "    <tr>\n",
       "      <th>...</th>\n",
       "      <td>...</td>\n",
       "      <td>...</td>\n",
       "      <td>...</td>\n",
       "    </tr>\n",
       "    <tr>\n",
       "      <th>9601008</th>\n",
       "      <td>2020-09-23</td>\n",
       "      <td>1110618</td>\n",
       "      <td>2020-09-23</td>\n",
       "    </tr>\n",
       "    <tr>\n",
       "      <th>9601009</th>\n",
       "      <td>2020-09-23</td>\n",
       "      <td>1110619</td>\n",
       "      <td>2020-09-23</td>\n",
       "    </tr>\n",
       "    <tr>\n",
       "      <th>9601010</th>\n",
       "      <td>2020-09-23</td>\n",
       "      <td>1110620</td>\n",
       "      <td>2020-09-23</td>\n",
       "    </tr>\n",
       "    <tr>\n",
       "      <th>9601011</th>\n",
       "      <td>2020-09-23</td>\n",
       "      <td>1110621</td>\n",
       "      <td>2020-09-23</td>\n",
       "    </tr>\n",
       "    <tr>\n",
       "      <th>9601012</th>\n",
       "      <td>2020-09-23</td>\n",
       "      <td>1110622</td>\n",
       "      <td>2020-09-23</td>\n",
       "    </tr>\n",
       "  </tbody>\n",
       "</table>\n",
       "<p>9601013 rows × 3 columns</p>\n",
       "</div>"
      ],
      "text/plain": [
       "             reg_ts      uid     auth_ts\n",
       "0        1998-11-18        1  1998-11-18\n",
       "1        1999-07-22        2  1999-07-22\n",
       "2        1999-07-22        2  1999-07-25\n",
       "3        1999-07-22        2  1999-07-31\n",
       "4        1999-07-22        2  1999-08-05\n",
       "...             ...      ...         ...\n",
       "9601008  2020-09-23  1110618  2020-09-23\n",
       "9601009  2020-09-23  1110619  2020-09-23\n",
       "9601010  2020-09-23  1110620  2020-09-23\n",
       "9601011  2020-09-23  1110621  2020-09-23\n",
       "9601012  2020-09-23  1110622  2020-09-23\n",
       "\n",
       "[9601013 rows x 3 columns]"
      ]
     },
     "execution_count": 26,
     "metadata": {},
     "output_type": "execute_result"
    }
   ],
   "source": [
    "df"
   ]
  },
  {
   "cell_type": "markdown",
   "metadata": {},
   "source": [
    "Функция retention за период с 2020-09-01 по 2020-09-15, расчет за 15 дней"
   ]
  },
  {
   "cell_type": "code",
   "execution_count": 27,
   "metadata": {},
   "outputs": [
    {
     "name": "stderr",
     "output_type": "stream",
     "text": [
      "/opt/tljh/user/lib/python3.7/site-packages/ipykernel_launcher.py:53: SettingWithCopyWarning: \n",
      "A value is trying to be set on a copy of a slice from a DataFrame.\n",
      "Try using .loc[row_indexer,col_indexer] = value instead\n",
      "\n",
      "See the caveats in the documentation: https://pandas.pydata.org/pandas-docs/stable/user_guide/indexing.html#returning-a-view-versus-a-copy\n"
     ]
    },
    {
     "data": {
      "text/html": [
       "<style  type=\"text/css\" >\n",
       "#T_992e1158_cd94_11ed_bdbb_96000040dfb6row0_col0,#T_992e1158_cd94_11ed_bdbb_96000040dfb6row0_col6,#T_992e1158_cd94_11ed_bdbb_96000040dfb6row1_col0,#T_992e1158_cd94_11ed_bdbb_96000040dfb6row2_col0,#T_992e1158_cd94_11ed_bdbb_96000040dfb6row3_col0,#T_992e1158_cd94_11ed_bdbb_96000040dfb6row3_col3,#T_992e1158_cd94_11ed_bdbb_96000040dfb6row4_col0,#T_992e1158_cd94_11ed_bdbb_96000040dfb6row4_col7,#T_992e1158_cd94_11ed_bdbb_96000040dfb6row5_col0,#T_992e1158_cd94_11ed_bdbb_96000040dfb6row6_col0,#T_992e1158_cd94_11ed_bdbb_96000040dfb6row7_col0,#T_992e1158_cd94_11ed_bdbb_96000040dfb6row7_col15,#T_992e1158_cd94_11ed_bdbb_96000040dfb6row8_col0,#T_992e1158_cd94_11ed_bdbb_96000040dfb6row8_col2,#T_992e1158_cd94_11ed_bdbb_96000040dfb6row8_col14,#T_992e1158_cd94_11ed_bdbb_96000040dfb6row9_col0,#T_992e1158_cd94_11ed_bdbb_96000040dfb6row9_col4,#T_992e1158_cd94_11ed_bdbb_96000040dfb6row9_col13,#T_992e1158_cd94_11ed_bdbb_96000040dfb6row10_col0,#T_992e1158_cd94_11ed_bdbb_96000040dfb6row10_col1,#T_992e1158_cd94_11ed_bdbb_96000040dfb6row10_col12,#T_992e1158_cd94_11ed_bdbb_96000040dfb6row11_col0,#T_992e1158_cd94_11ed_bdbb_96000040dfb6row11_col11,#T_992e1158_cd94_11ed_bdbb_96000040dfb6row12_col0,#T_992e1158_cd94_11ed_bdbb_96000040dfb6row12_col10,#T_992e1158_cd94_11ed_bdbb_96000040dfb6row13_col0,#T_992e1158_cd94_11ed_bdbb_96000040dfb6row13_col9,#T_992e1158_cd94_11ed_bdbb_96000040dfb6row14_col0,#T_992e1158_cd94_11ed_bdbb_96000040dfb6row14_col5,#T_992e1158_cd94_11ed_bdbb_96000040dfb6row14_col8{\n",
       "            background-color:  #440154;\n",
       "            color:  #f1f1f1;\n",
       "        }#T_992e1158_cd94_11ed_bdbb_96000040dfb6row0_col1,#T_992e1158_cd94_11ed_bdbb_96000040dfb6row12_col4{\n",
       "            background-color:  #2a768e;\n",
       "            color:  #f1f1f1;\n",
       "        }#T_992e1158_cd94_11ed_bdbb_96000040dfb6row0_col2,#T_992e1158_cd94_11ed_bdbb_96000040dfb6row3_col5,#T_992e1158_cd94_11ed_bdbb_96000040dfb6row3_col12,#T_992e1158_cd94_11ed_bdbb_96000040dfb6row11_col7{\n",
       "            background-color:  #2a778e;\n",
       "            color:  #000000;\n",
       "        }#T_992e1158_cd94_11ed_bdbb_96000040dfb6row0_col3{\n",
       "            background-color:  #32658e;\n",
       "            color:  #f1f1f1;\n",
       "        }#T_992e1158_cd94_11ed_bdbb_96000040dfb6row0_col4,#T_992e1158_cd94_11ed_bdbb_96000040dfb6row6_col7{\n",
       "            background-color:  #453882;\n",
       "            color:  #f1f1f1;\n",
       "        }#T_992e1158_cd94_11ed_bdbb_96000040dfb6row0_col5,#T_992e1158_cd94_11ed_bdbb_96000040dfb6row5_col6,#T_992e1158_cd94_11ed_bdbb_96000040dfb6row9_col1{\n",
       "            background-color:  #297b8e;\n",
       "            color:  #000000;\n",
       "        }#T_992e1158_cd94_11ed_bdbb_96000040dfb6row0_col7,#T_992e1158_cd94_11ed_bdbb_96000040dfb6row9_col10{\n",
       "            background-color:  #44bf70;\n",
       "            color:  #000000;\n",
       "        }#T_992e1158_cd94_11ed_bdbb_96000040dfb6row0_col8,#T_992e1158_cd94_11ed_bdbb_96000040dfb6row4_col12,#T_992e1158_cd94_11ed_bdbb_96000040dfb6row9_col2{\n",
       "            background-color:  #228d8d;\n",
       "            color:  #000000;\n",
       "        }#T_992e1158_cd94_11ed_bdbb_96000040dfb6row0_col9{\n",
       "            background-color:  #5ac864;\n",
       "            color:  #000000;\n",
       "        }#T_992e1158_cd94_11ed_bdbb_96000040dfb6row0_col10,#T_992e1158_cd94_11ed_bdbb_96000040dfb6row1_col6{\n",
       "            background-color:  #20938c;\n",
       "            color:  #000000;\n",
       "        }#T_992e1158_cd94_11ed_bdbb_96000040dfb6row0_col11,#T_992e1158_cd94_11ed_bdbb_96000040dfb6row2_col8,#T_992e1158_cd94_11ed_bdbb_96000040dfb6row6_col1,#T_992e1158_cd94_11ed_bdbb_96000040dfb6row7_col11{\n",
       "            background-color:  #bade28;\n",
       "            color:  #000000;\n",
       "        }#T_992e1158_cd94_11ed_bdbb_96000040dfb6row0_col12,#T_992e1158_cd94_11ed_bdbb_96000040dfb6row0_col15,#T_992e1158_cd94_11ed_bdbb_96000040dfb6row2_col3{\n",
       "            background-color:  #22a785;\n",
       "            color:  #000000;\n",
       "        }#T_992e1158_cd94_11ed_bdbb_96000040dfb6row0_col13,#T_992e1158_cd94_11ed_bdbb_96000040dfb6row5_col12,#T_992e1158_cd94_11ed_bdbb_96000040dfb6row8_col11{\n",
       "            background-color:  #77d153;\n",
       "            color:  #000000;\n",
       "        }#T_992e1158_cd94_11ed_bdbb_96000040dfb6row0_col14,#T_992e1158_cd94_11ed_bdbb_96000040dfb6row12_col9{\n",
       "            background-color:  #23a983;\n",
       "            color:  #000000;\n",
       "        }#T_992e1158_cd94_11ed_bdbb_96000040dfb6row1_col1,#T_992e1158_cd94_11ed_bdbb_96000040dfb6row2_col7,#T_992e1158_cd94_11ed_bdbb_96000040dfb6row12_col8{\n",
       "            background-color:  #35b779;\n",
       "            color:  #000000;\n",
       "        }#T_992e1158_cd94_11ed_bdbb_96000040dfb6row1_col2{\n",
       "            background-color:  #34618d;\n",
       "            color:  #f1f1f1;\n",
       "        }#T_992e1158_cd94_11ed_bdbb_96000040dfb6row1_col3,#T_992e1158_cd94_11ed_bdbb_96000040dfb6row8_col8{\n",
       "            background-color:  #1fa088;\n",
       "            color:  #000000;\n",
       "        }#T_992e1158_cd94_11ed_bdbb_96000040dfb6row1_col4{\n",
       "            background-color:  #27ad81;\n",
       "            color:  #000000;\n",
       "        }#T_992e1158_cd94_11ed_bdbb_96000040dfb6row1_col5,#T_992e1158_cd94_11ed_bdbb_96000040dfb6row1_col13{\n",
       "            background-color:  #33638d;\n",
       "            color:  #f1f1f1;\n",
       "        }#T_992e1158_cd94_11ed_bdbb_96000040dfb6row1_col7,#T_992e1158_cd94_11ed_bdbb_96000040dfb6row13_col7{\n",
       "            background-color:  #2db27d;\n",
       "            color:  #000000;\n",
       "        }#T_992e1158_cd94_11ed_bdbb_96000040dfb6row1_col8,#T_992e1158_cd94_11ed_bdbb_96000040dfb6row9_col8,#T_992e1158_cd94_11ed_bdbb_96000040dfb6row11_col10{\n",
       "            background-color:  #4ac16d;\n",
       "            color:  #000000;\n",
       "        }#T_992e1158_cd94_11ed_bdbb_96000040dfb6row1_col9{\n",
       "            background-color:  #2e6d8e;\n",
       "            color:  #f1f1f1;\n",
       "        }#T_992e1158_cd94_11ed_bdbb_96000040dfb6row1_col10,#T_992e1158_cd94_11ed_bdbb_96000040dfb6row5_col11{\n",
       "            background-color:  #46c06f;\n",
       "            color:  #000000;\n",
       "        }#T_992e1158_cd94_11ed_bdbb_96000040dfb6row1_col11{\n",
       "            background-color:  #d5e21a;\n",
       "            color:  #000000;\n",
       "        }#T_992e1158_cd94_11ed_bdbb_96000040dfb6row1_col12,#T_992e1158_cd94_11ed_bdbb_96000040dfb6row1_col14{\n",
       "            background-color:  #8ed645;\n",
       "            color:  #000000;\n",
       "        }#T_992e1158_cd94_11ed_bdbb_96000040dfb6row1_col15{\n",
       "            background-color:  #f1e51d;\n",
       "            color:  #000000;\n",
       "        }#T_992e1158_cd94_11ed_bdbb_96000040dfb6row2_col1{\n",
       "            background-color:  #1f9f88;\n",
       "            color:  #000000;\n",
       "        }#T_992e1158_cd94_11ed_bdbb_96000040dfb6row2_col2,#T_992e1158_cd94_11ed_bdbb_96000040dfb6row2_col4,#T_992e1158_cd94_11ed_bdbb_96000040dfb6row2_col6,#T_992e1158_cd94_11ed_bdbb_96000040dfb6row2_col9,#T_992e1158_cd94_11ed_bdbb_96000040dfb6row2_col13,#T_992e1158_cd94_11ed_bdbb_96000040dfb6row2_col15,#T_992e1158_cd94_11ed_bdbb_96000040dfb6row5_col1,#T_992e1158_cd94_11ed_bdbb_96000040dfb6row5_col3,#T_992e1158_cd94_11ed_bdbb_96000040dfb6row5_col8,#T_992e1158_cd94_11ed_bdbb_96000040dfb6row5_col14,#T_992e1158_cd94_11ed_bdbb_96000040dfb6row6_col11,#T_992e1158_cd94_11ed_bdbb_96000040dfb6row7_col5,#T_992e1158_cd94_11ed_bdbb_96000040dfb6row7_col10,#T_992e1158_cd94_11ed_bdbb_96000040dfb6row7_col12,#T_992e1158_cd94_11ed_bdbb_96000040dfb6row9_col7{\n",
       "            background-color:  #fde725;\n",
       "            color:  #000000;\n",
       "        }#T_992e1158_cd94_11ed_bdbb_96000040dfb6row2_col5{\n",
       "            background-color:  #3dbc74;\n",
       "            color:  #000000;\n",
       "        }#T_992e1158_cd94_11ed_bdbb_96000040dfb6row2_col10{\n",
       "            background-color:  #d2e21b;\n",
       "            color:  #000000;\n",
       "        }#T_992e1158_cd94_11ed_bdbb_96000040dfb6row2_col11{\n",
       "            background-color:  #dfe318;\n",
       "            color:  #000000;\n",
       "        }#T_992e1158_cd94_11ed_bdbb_96000040dfb6row2_col12{\n",
       "            background-color:  #ece51b;\n",
       "            color:  #000000;\n",
       "        }#T_992e1158_cd94_11ed_bdbb_96000040dfb6row2_col14{\n",
       "            background-color:  #f8e621;\n",
       "            color:  #000000;\n",
       "        }#T_992e1158_cd94_11ed_bdbb_96000040dfb6row3_col1,#T_992e1158_cd94_11ed_bdbb_96000040dfb6row12_col2{\n",
       "            background-color:  #2b758e;\n",
       "            color:  #f1f1f1;\n",
       "        }#T_992e1158_cd94_11ed_bdbb_96000040dfb6row3_col2{\n",
       "            background-color:  #423f85;\n",
       "            color:  #f1f1f1;\n",
       "        }#T_992e1158_cd94_11ed_bdbb_96000040dfb6row3_col4{\n",
       "            background-color:  #2a788e;\n",
       "            color:  #000000;\n",
       "        }#T_992e1158_cd94_11ed_bdbb_96000040dfb6row3_col6,#T_992e1158_cd94_11ed_bdbb_96000040dfb6row8_col3{\n",
       "            background-color:  #1fa188;\n",
       "            color:  #000000;\n",
       "        }#T_992e1158_cd94_11ed_bdbb_96000040dfb6row3_col7{\n",
       "            background-color:  #470d60;\n",
       "            color:  #f1f1f1;\n",
       "        }#T_992e1158_cd94_11ed_bdbb_96000040dfb6row3_col8{\n",
       "            background-color:  #a0da39;\n",
       "            color:  #000000;\n",
       "        }#T_992e1158_cd94_11ed_bdbb_96000040dfb6row3_col9{\n",
       "            background-color:  #277e8e;\n",
       "            color:  #000000;\n",
       "        }#T_992e1158_cd94_11ed_bdbb_96000040dfb6row3_col10{\n",
       "            background-color:  #42be71;\n",
       "            color:  #000000;\n",
       "        }#T_992e1158_cd94_11ed_bdbb_96000040dfb6row3_col11{\n",
       "            background-color:  #dde318;\n",
       "            color:  #000000;\n",
       "        }#T_992e1158_cd94_11ed_bdbb_96000040dfb6row3_col13,#T_992e1158_cd94_11ed_bdbb_96000040dfb6row11_col8{\n",
       "            background-color:  #93d741;\n",
       "            color:  #000000;\n",
       "        }#T_992e1158_cd94_11ed_bdbb_96000040dfb6row3_col14,#T_992e1158_cd94_11ed_bdbb_96000040dfb6row3_col15{\n",
       "            background-color:  #2cb17e;\n",
       "            color:  #000000;\n",
       "        }#T_992e1158_cd94_11ed_bdbb_96000040dfb6row4_col1{\n",
       "            background-color:  #7ad151;\n",
       "            color:  #000000;\n",
       "        }#T_992e1158_cd94_11ed_bdbb_96000040dfb6row4_col2,#T_992e1158_cd94_11ed_bdbb_96000040dfb6row11_col6{\n",
       "            background-color:  #31668e;\n",
       "            color:  #f1f1f1;\n",
       "        }#T_992e1158_cd94_11ed_bdbb_96000040dfb6row4_col3{\n",
       "            background-color:  #1e9d89;\n",
       "            color:  #000000;\n",
       "        }#T_992e1158_cd94_11ed_bdbb_96000040dfb6row4_col4,#T_992e1158_cd94_11ed_bdbb_96000040dfb6row8_col13{\n",
       "            background-color:  #1f978b;\n",
       "            color:  #000000;\n",
       "        }#T_992e1158_cd94_11ed_bdbb_96000040dfb6row4_col5{\n",
       "            background-color:  #46327e;\n",
       "            color:  #f1f1f1;\n",
       "        }#T_992e1158_cd94_11ed_bdbb_96000040dfb6row4_col6{\n",
       "            background-color:  #28ae80;\n",
       "            color:  #000000;\n",
       "        }#T_992e1158_cd94_11ed_bdbb_96000040dfb6row4_col8{\n",
       "            background-color:  #6ece58;\n",
       "            color:  #000000;\n",
       "        }#T_992e1158_cd94_11ed_bdbb_96000040dfb6row4_col9,#T_992e1158_cd94_11ed_bdbb_96000040dfb6row4_col13,#T_992e1158_cd94_11ed_bdbb_96000040dfb6row7_col14{\n",
       "            background-color:  #5ec962;\n",
       "            color:  #000000;\n",
       "        }#T_992e1158_cd94_11ed_bdbb_96000040dfb6row4_col10{\n",
       "            background-color:  #89d548;\n",
       "            color:  #000000;\n",
       "        }#T_992e1158_cd94_11ed_bdbb_96000040dfb6row4_col11{\n",
       "            background-color:  #98d83e;\n",
       "            color:  #000000;\n",
       "        }#T_992e1158_cd94_11ed_bdbb_96000040dfb6row4_col14{\n",
       "            background-color:  #3aba76;\n",
       "            color:  #000000;\n",
       "        }#T_992e1158_cd94_11ed_bdbb_96000040dfb6row4_col15{\n",
       "            background-color:  #c5e021;\n",
       "            color:  #000000;\n",
       "        }#T_992e1158_cd94_11ed_bdbb_96000040dfb6row5_col2{\n",
       "            background-color:  #21908d;\n",
       "            color:  #000000;\n",
       "        }#T_992e1158_cd94_11ed_bdbb_96000040dfb6row5_col4{\n",
       "            background-color:  #24aa83;\n",
       "            color:  #000000;\n",
       "        }#T_992e1158_cd94_11ed_bdbb_96000040dfb6row5_col5{\n",
       "            background-color:  #472f7d;\n",
       "            color:  #f1f1f1;\n",
       "        }#T_992e1158_cd94_11ed_bdbb_96000040dfb6row5_col7{\n",
       "            background-color:  #1f998a;\n",
       "            color:  #000000;\n",
       "        }#T_992e1158_cd94_11ed_bdbb_96000040dfb6row5_col9{\n",
       "            background-color:  #67cc5c;\n",
       "            color:  #000000;\n",
       "        }#T_992e1158_cd94_11ed_bdbb_96000040dfb6row5_col10{\n",
       "            background-color:  #26818e;\n",
       "            color:  #000000;\n",
       "        }#T_992e1158_cd94_11ed_bdbb_96000040dfb6row5_col13,#T_992e1158_cd94_11ed_bdbb_96000040dfb6row7_col9{\n",
       "            background-color:  #37b878;\n",
       "            color:  #000000;\n",
       "        }#T_992e1158_cd94_11ed_bdbb_96000040dfb6row5_col15,#T_992e1158_cd94_11ed_bdbb_96000040dfb6row7_col13,#T_992e1158_cd94_11ed_bdbb_96000040dfb6row11_col9{\n",
       "            background-color:  #34b679;\n",
       "            color:  #000000;\n",
       "        }#T_992e1158_cd94_11ed_bdbb_96000040dfb6row6_col2,#T_992e1158_cd94_11ed_bdbb_96000040dfb6row8_col7,#T_992e1158_cd94_11ed_bdbb_96000040dfb6row13_col6{\n",
       "            background-color:  #23888e;\n",
       "            color:  #000000;\n",
       "        }#T_992e1158_cd94_11ed_bdbb_96000040dfb6row6_col3{\n",
       "            background-color:  #e7e419;\n",
       "            color:  #000000;\n",
       "        }#T_992e1158_cd94_11ed_bdbb_96000040dfb6row6_col4{\n",
       "            background-color:  #2e6f8e;\n",
       "            color:  #f1f1f1;\n",
       "        }#T_992e1158_cd94_11ed_bdbb_96000040dfb6row6_col5{\n",
       "            background-color:  #2c738e;\n",
       "            color:  #f1f1f1;\n",
       "        }#T_992e1158_cd94_11ed_bdbb_96000040dfb6row6_col6{\n",
       "            background-color:  #1fa287;\n",
       "            color:  #000000;\n",
       "        }#T_992e1158_cd94_11ed_bdbb_96000040dfb6row6_col8,#T_992e1158_cd94_11ed_bdbb_96000040dfb6row10_col3{\n",
       "            background-color:  #218f8d;\n",
       "            color:  #000000;\n",
       "        }#T_992e1158_cd94_11ed_bdbb_96000040dfb6row6_col9{\n",
       "            background-color:  #7cd250;\n",
       "            color:  #000000;\n",
       "        }#T_992e1158_cd94_11ed_bdbb_96000040dfb6row6_col10{\n",
       "            background-color:  #84d44b;\n",
       "            color:  #000000;\n",
       "        }#T_992e1158_cd94_11ed_bdbb_96000040dfb6row6_col12,#T_992e1158_cd94_11ed_bdbb_96000040dfb6row9_col9,#T_992e1158_cd94_11ed_bdbb_96000040dfb6row13_col3{\n",
       "            background-color:  #228c8d;\n",
       "            color:  #000000;\n",
       "        }#T_992e1158_cd94_11ed_bdbb_96000040dfb6row6_col13,#T_992e1158_cd94_11ed_bdbb_96000040dfb6row10_col4{\n",
       "            background-color:  #25ac82;\n",
       "            color:  #000000;\n",
       "        }#T_992e1158_cd94_11ed_bdbb_96000040dfb6row6_col14,#T_992e1158_cd94_11ed_bdbb_96000040dfb6row11_col3,#T_992e1158_cd94_11ed_bdbb_96000040dfb6row13_col8{\n",
       "            background-color:  #21a685;\n",
       "            color:  #000000;\n",
       "        }#T_992e1158_cd94_11ed_bdbb_96000040dfb6row6_col15{\n",
       "            background-color:  #addc30;\n",
       "            color:  #000000;\n",
       "        }#T_992e1158_cd94_11ed_bdbb_96000040dfb6row7_col1{\n",
       "            background-color:  #3c508b;\n",
       "            color:  #f1f1f1;\n",
       "        }#T_992e1158_cd94_11ed_bdbb_96000040dfb6row7_col2{\n",
       "            background-color:  #32648e;\n",
       "            color:  #f1f1f1;\n",
       "        }#T_992e1158_cd94_11ed_bdbb_96000040dfb6row7_col3{\n",
       "            background-color:  #453781;\n",
       "            color:  #f1f1f1;\n",
       "        }#T_992e1158_cd94_11ed_bdbb_96000040dfb6row7_col4,#T_992e1158_cd94_11ed_bdbb_96000040dfb6row13_col2{\n",
       "            background-color:  #38598c;\n",
       "            color:  #f1f1f1;\n",
       "        }#T_992e1158_cd94_11ed_bdbb_96000040dfb6row7_col6{\n",
       "            background-color:  #32b67a;\n",
       "            color:  #000000;\n",
       "        }#T_992e1158_cd94_11ed_bdbb_96000040dfb6row7_col7,#T_992e1158_cd94_11ed_bdbb_96000040dfb6row14_col4{\n",
       "            background-color:  #70cf57;\n",
       "            color:  #000000;\n",
       "        }#T_992e1158_cd94_11ed_bdbb_96000040dfb6row7_col8{\n",
       "            background-color:  #7fd34e;\n",
       "            color:  #000000;\n",
       "        }#T_992e1158_cd94_11ed_bdbb_96000040dfb6row8_col1{\n",
       "            background-color:  #3c4f8a;\n",
       "            color:  #f1f1f1;\n",
       "        }#T_992e1158_cd94_11ed_bdbb_96000040dfb6row8_col4{\n",
       "            background-color:  #2fb47c;\n",
       "            color:  #000000;\n",
       "        }#T_992e1158_cd94_11ed_bdbb_96000040dfb6row8_col5{\n",
       "            background-color:  #1f968b;\n",
       "            color:  #000000;\n",
       "        }#T_992e1158_cd94_11ed_bdbb_96000040dfb6row8_col6{\n",
       "            background-color:  #470e61;\n",
       "            color:  #f1f1f1;\n",
       "        }#T_992e1158_cd94_11ed_bdbb_96000040dfb6row8_col9{\n",
       "            background-color:  #29af7f;\n",
       "            color:  #000000;\n",
       "        }#T_992e1158_cd94_11ed_bdbb_96000040dfb6row8_col10,#T_992e1158_cd94_11ed_bdbb_96000040dfb6row10_col5{\n",
       "            background-color:  #471365;\n",
       "            color:  #f1f1f1;\n",
       "        }#T_992e1158_cd94_11ed_bdbb_96000040dfb6row8_col12{\n",
       "            background-color:  #1fa187;\n",
       "            color:  #000000;\n",
       "        }#T_992e1158_cd94_11ed_bdbb_96000040dfb6row8_col15,#T_992e1158_cd94_11ed_bdbb_96000040dfb6row9_col14,#T_992e1158_cd94_11ed_bdbb_96000040dfb6row9_col15,#T_992e1158_cd94_11ed_bdbb_96000040dfb6row10_col13,#T_992e1158_cd94_11ed_bdbb_96000040dfb6row10_col14,#T_992e1158_cd94_11ed_bdbb_96000040dfb6row10_col15,#T_992e1158_cd94_11ed_bdbb_96000040dfb6row11_col12,#T_992e1158_cd94_11ed_bdbb_96000040dfb6row11_col13,#T_992e1158_cd94_11ed_bdbb_96000040dfb6row11_col14,#T_992e1158_cd94_11ed_bdbb_96000040dfb6row11_col15,#T_992e1158_cd94_11ed_bdbb_96000040dfb6row12_col11,#T_992e1158_cd94_11ed_bdbb_96000040dfb6row12_col12,#T_992e1158_cd94_11ed_bdbb_96000040dfb6row12_col13,#T_992e1158_cd94_11ed_bdbb_96000040dfb6row12_col14,#T_992e1158_cd94_11ed_bdbb_96000040dfb6row12_col15,#T_992e1158_cd94_11ed_bdbb_96000040dfb6row13_col10,#T_992e1158_cd94_11ed_bdbb_96000040dfb6row13_col11,#T_992e1158_cd94_11ed_bdbb_96000040dfb6row13_col12,#T_992e1158_cd94_11ed_bdbb_96000040dfb6row13_col13,#T_992e1158_cd94_11ed_bdbb_96000040dfb6row13_col14,#T_992e1158_cd94_11ed_bdbb_96000040dfb6row13_col15,#T_992e1158_cd94_11ed_bdbb_96000040dfb6row14_col9,#T_992e1158_cd94_11ed_bdbb_96000040dfb6row14_col10,#T_992e1158_cd94_11ed_bdbb_96000040dfb6row14_col11,#T_992e1158_cd94_11ed_bdbb_96000040dfb6row14_col12,#T_992e1158_cd94_11ed_bdbb_96000040dfb6row14_col13,#T_992e1158_cd94_11ed_bdbb_96000040dfb6row14_col14,#T_992e1158_cd94_11ed_bdbb_96000040dfb6row14_col15{\n",
       "            background-color:  #000000;\n",
       "            color:  #f1f1f1;\n",
       "            background-color:  white;\n",
       "        }#T_992e1158_cd94_11ed_bdbb_96000040dfb6row9_col3{\n",
       "            background-color:  #2ab07f;\n",
       "            color:  #000000;\n",
       "        }#T_992e1158_cd94_11ed_bdbb_96000040dfb6row9_col5{\n",
       "            background-color:  #20a486;\n",
       "            color:  #000000;\n",
       "        }#T_992e1158_cd94_11ed_bdbb_96000040dfb6row9_col6{\n",
       "            background-color:  #3e4c8a;\n",
       "            color:  #f1f1f1;\n",
       "        }#T_992e1158_cd94_11ed_bdbb_96000040dfb6row9_col11{\n",
       "            background-color:  #40bd72;\n",
       "            color:  #000000;\n",
       "        }#T_992e1158_cd94_11ed_bdbb_96000040dfb6row9_col12{\n",
       "            background-color:  #54c568;\n",
       "            color:  #000000;\n",
       "        }#T_992e1158_cd94_11ed_bdbb_96000040dfb6row10_col2{\n",
       "            background-color:  #2d708e;\n",
       "            color:  #f1f1f1;\n",
       "        }#T_992e1158_cd94_11ed_bdbb_96000040dfb6row10_col6,#T_992e1158_cd94_11ed_bdbb_96000040dfb6row12_col1{\n",
       "            background-color:  #2d718e;\n",
       "            color:  #f1f1f1;\n",
       "        }#T_992e1158_cd94_11ed_bdbb_96000040dfb6row10_col7{\n",
       "            background-color:  #31b57b;\n",
       "            color:  #000000;\n",
       "        }#T_992e1158_cd94_11ed_bdbb_96000040dfb6row10_col8{\n",
       "            background-color:  #20a386;\n",
       "            color:  #000000;\n",
       "        }#T_992e1158_cd94_11ed_bdbb_96000040dfb6row10_col9{\n",
       "            background-color:  #1f948c;\n",
       "            color:  #000000;\n",
       "        }#T_992e1158_cd94_11ed_bdbb_96000040dfb6row10_col10{\n",
       "            background-color:  #25ab82;\n",
       "            color:  #000000;\n",
       "        }#T_992e1158_cd94_11ed_bdbb_96000040dfb6row10_col11{\n",
       "            background-color:  #b5de2b;\n",
       "            color:  #000000;\n",
       "        }#T_992e1158_cd94_11ed_bdbb_96000040dfb6row11_col1{\n",
       "            background-color:  #30698e;\n",
       "            color:  #f1f1f1;\n",
       "        }#T_992e1158_cd94_11ed_bdbb_96000040dfb6row11_col2{\n",
       "            background-color:  #375a8c;\n",
       "            color:  #f1f1f1;\n",
       "        }#T_992e1158_cd94_11ed_bdbb_96000040dfb6row11_col4{\n",
       "            background-color:  #433e85;\n",
       "            color:  #f1f1f1;\n",
       "        }#T_992e1158_cd94_11ed_bdbb_96000040dfb6row11_col5{\n",
       "            background-color:  #3d4d8a;\n",
       "            color:  #f1f1f1;\n",
       "        }#T_992e1158_cd94_11ed_bdbb_96000040dfb6row12_col3{\n",
       "            background-color:  #2f6b8e;\n",
       "            color:  #f1f1f1;\n",
       "        }#T_992e1158_cd94_11ed_bdbb_96000040dfb6row12_col5,#T_992e1158_cd94_11ed_bdbb_96000040dfb6row13_col4{\n",
       "            background-color:  #23898e;\n",
       "            color:  #000000;\n",
       "        }#T_992e1158_cd94_11ed_bdbb_96000040dfb6row12_col6{\n",
       "            background-color:  #355f8d;\n",
       "            color:  #f1f1f1;\n",
       "        }#T_992e1158_cd94_11ed_bdbb_96000040dfb6row12_col7{\n",
       "            background-color:  #460a5d;\n",
       "            color:  #f1f1f1;\n",
       "        }#T_992e1158_cd94_11ed_bdbb_96000040dfb6row13_col1,#T_992e1158_cd94_11ed_bdbb_96000040dfb6row14_col3{\n",
       "            background-color:  #20928c;\n",
       "            color:  #000000;\n",
       "        }#T_992e1158_cd94_11ed_bdbb_96000040dfb6row13_col5,#T_992e1158_cd94_11ed_bdbb_96000040dfb6row14_col6{\n",
       "            background-color:  #26828e;\n",
       "            color:  #000000;\n",
       "        }#T_992e1158_cd94_11ed_bdbb_96000040dfb6row14_col1{\n",
       "            background-color:  #21918c;\n",
       "            color:  #000000;\n",
       "        }#T_992e1158_cd94_11ed_bdbb_96000040dfb6row14_col2{\n",
       "            background-color:  #2b748e;\n",
       "            color:  #f1f1f1;\n",
       "        }#T_992e1158_cd94_11ed_bdbb_96000040dfb6row14_col7{\n",
       "            background-color:  #2e6e8e;\n",
       "            color:  #f1f1f1;\n",
       "        }</style><table id=\"T_992e1158_cd94_11ed_bdbb_96000040dfb6\" ><caption>User retention by cohort</caption><thead>    <tr>        <th class=\"index_name level0\" >delta_days</th>        <th class=\"col_heading level0 col0\" >0</th>        <th class=\"col_heading level0 col1\" >1</th>        <th class=\"col_heading level0 col2\" >2</th>        <th class=\"col_heading level0 col3\" >3</th>        <th class=\"col_heading level0 col4\" >4</th>        <th class=\"col_heading level0 col5\" >5</th>        <th class=\"col_heading level0 col6\" >6</th>        <th class=\"col_heading level0 col7\" >7</th>        <th class=\"col_heading level0 col8\" >8</th>        <th class=\"col_heading level0 col9\" >9</th>        <th class=\"col_heading level0 col10\" >10</th>        <th class=\"col_heading level0 col11\" >11</th>        <th class=\"col_heading level0 col12\" >12</th>        <th class=\"col_heading level0 col13\" >13</th>        <th class=\"col_heading level0 col14\" >14</th>        <th class=\"col_heading level0 col15\" >15</th>    </tr>    <tr>        <th class=\"index_name level0\" >reg_ts</th>        <th class=\"blank\" ></th>        <th class=\"blank\" ></th>        <th class=\"blank\" ></th>        <th class=\"blank\" ></th>        <th class=\"blank\" ></th>        <th class=\"blank\" ></th>        <th class=\"blank\" ></th>        <th class=\"blank\" ></th>        <th class=\"blank\" ></th>        <th class=\"blank\" ></th>        <th class=\"blank\" ></th>        <th class=\"blank\" ></th>        <th class=\"blank\" ></th>        <th class=\"blank\" ></th>        <th class=\"blank\" ></th>        <th class=\"blank\" ></th>    </tr></thead><tbody>\n",
       "                <tr>\n",
       "                        <th id=\"T_992e1158_cd94_11ed_bdbb_96000040dfb6level0_row0\" class=\"row_heading level0 row0\" >2020-09-01</th>\n",
       "                        <td id=\"T_992e1158_cd94_11ed_bdbb_96000040dfb6row0_col0\" class=\"data row0 col0\" >100.00%</td>\n",
       "                        <td id=\"T_992e1158_cd94_11ed_bdbb_96000040dfb6row0_col1\" class=\"data row0 col1\" >2.02%</td>\n",
       "                        <td id=\"T_992e1158_cd94_11ed_bdbb_96000040dfb6row0_col2\" class=\"data row0 col2\" >4.10%</td>\n",
       "                        <td id=\"T_992e1158_cd94_11ed_bdbb_96000040dfb6row0_col3\" class=\"data row0 col3\" >4.22%</td>\n",
       "                        <td id=\"T_992e1158_cd94_11ed_bdbb_96000040dfb6row0_col4\" class=\"data row0 col4\" >4.60%</td>\n",
       "                        <td id=\"T_992e1158_cd94_11ed_bdbb_96000040dfb6row0_col5\" class=\"data row0 col5\" >6.43%</td>\n",
       "                        <td id=\"T_992e1158_cd94_11ed_bdbb_96000040dfb6row0_col6\" class=\"data row0 col6\" >5.61%</td>\n",
       "                        <td id=\"T_992e1158_cd94_11ed_bdbb_96000040dfb6row0_col7\" class=\"data row0 col7\" >6.43%</td>\n",
       "                        <td id=\"T_992e1158_cd94_11ed_bdbb_96000040dfb6row0_col8\" class=\"data row0 col8\" >4.10%</td>\n",
       "                        <td id=\"T_992e1158_cd94_11ed_bdbb_96000040dfb6row0_col9\" class=\"data row0 col9\" >5.42%</td>\n",
       "                        <td id=\"T_992e1158_cd94_11ed_bdbb_96000040dfb6row0_col10\" class=\"data row0 col10\" >5.11%</td>\n",
       "                        <td id=\"T_992e1158_cd94_11ed_bdbb_96000040dfb6row0_col11\" class=\"data row0 col11\" >5.36%</td>\n",
       "                        <td id=\"T_992e1158_cd94_11ed_bdbb_96000040dfb6row0_col12\" class=\"data row0 col12\" >4.85%</td>\n",
       "                        <td id=\"T_992e1158_cd94_11ed_bdbb_96000040dfb6row0_col13\" class=\"data row0 col13\" >5.49%</td>\n",
       "                        <td id=\"T_992e1158_cd94_11ed_bdbb_96000040dfb6row0_col14\" class=\"data row0 col14\" >4.29%</td>\n",
       "                        <td id=\"T_992e1158_cd94_11ed_bdbb_96000040dfb6row0_col15\" class=\"data row0 col15\" >4.41%</td>\n",
       "            </tr>\n",
       "            <tr>\n",
       "                        <th id=\"T_992e1158_cd94_11ed_bdbb_96000040dfb6level0_row1\" class=\"row_heading level0 row1\" >2020-09-02</th>\n",
       "                        <td id=\"T_992e1158_cd94_11ed_bdbb_96000040dfb6row1_col0\" class=\"data row1 col0\" >100.00%</td>\n",
       "                        <td id=\"T_992e1158_cd94_11ed_bdbb_96000040dfb6row1_col1\" class=\"data row1 col1\" >2.52%</td>\n",
       "                        <td id=\"T_992e1158_cd94_11ed_bdbb_96000040dfb6row1_col2\" class=\"data row1 col2\" >3.90%</td>\n",
       "                        <td id=\"T_992e1158_cd94_11ed_bdbb_96000040dfb6row1_col3\" class=\"data row1 col3\" >4.66%</td>\n",
       "                        <td id=\"T_992e1158_cd94_11ed_bdbb_96000040dfb6row1_col4\" class=\"data row1 col4\" >5.67%</td>\n",
       "                        <td id=\"T_992e1158_cd94_11ed_bdbb_96000040dfb6row1_col5\" class=\"data row1 col5\" >6.23%</td>\n",
       "                        <td id=\"T_992e1158_cd94_11ed_bdbb_96000040dfb6row1_col6\" class=\"data row1 col6\" >7.12%</td>\n",
       "                        <td id=\"T_992e1158_cd94_11ed_bdbb_96000040dfb6row1_col7\" class=\"data row1 col7\" >6.30%</td>\n",
       "                        <td id=\"T_992e1158_cd94_11ed_bdbb_96000040dfb6row1_col8\" class=\"data row1 col8\" >4.85%</td>\n",
       "                        <td id=\"T_992e1158_cd94_11ed_bdbb_96000040dfb6row1_col9\" class=\"data row1 col9\" >4.09%</td>\n",
       "                        <td id=\"T_992e1158_cd94_11ed_bdbb_96000040dfb6row1_col10\" class=\"data row1 col10\" >5.67%</td>\n",
       "                        <td id=\"T_992e1158_cd94_11ed_bdbb_96000040dfb6row1_col11\" class=\"data row1 col11\" >5.48%</td>\n",
       "                        <td id=\"T_992e1158_cd94_11ed_bdbb_96000040dfb6row1_col12\" class=\"data row1 col12\" >5.48%</td>\n",
       "                        <td id=\"T_992e1158_cd94_11ed_bdbb_96000040dfb6row1_col13\" class=\"data row1 col13\" >4.35%</td>\n",
       "                        <td id=\"T_992e1158_cd94_11ed_bdbb_96000040dfb6row1_col14\" class=\"data row1 col14\" >4.97%</td>\n",
       "                        <td id=\"T_992e1158_cd94_11ed_bdbb_96000040dfb6row1_col15\" class=\"data row1 col15\" >5.29%</td>\n",
       "            </tr>\n",
       "            <tr>\n",
       "                        <th id=\"T_992e1158_cd94_11ed_bdbb_96000040dfb6level0_row2\" class=\"row_heading level0 row2\" >2020-09-03</th>\n",
       "                        <td id=\"T_992e1158_cd94_11ed_bdbb_96000040dfb6row2_col0\" class=\"data row2 col0\" >100.00%</td>\n",
       "                        <td id=\"T_992e1158_cd94_11ed_bdbb_96000040dfb6row2_col1\" class=\"data row2 col1\" >2.33%</td>\n",
       "                        <td id=\"T_992e1158_cd94_11ed_bdbb_96000040dfb6row2_col2\" class=\"data row2 col2\" >5.41%</td>\n",
       "                        <td id=\"T_992e1158_cd94_11ed_bdbb_96000040dfb6row2_col3\" class=\"data row2 col3\" >4.71%</td>\n",
       "                        <td id=\"T_992e1158_cd94_11ed_bdbb_96000040dfb6row2_col4\" class=\"data row2 col4\" >6.54%</td>\n",
       "                        <td id=\"T_992e1158_cd94_11ed_bdbb_96000040dfb6row2_col5\" class=\"data row2 col5\" >6.98%</td>\n",
       "                        <td id=\"T_992e1158_cd94_11ed_bdbb_96000040dfb6row2_col6\" class=\"data row2 col6\" >8.55%</td>\n",
       "                        <td id=\"T_992e1158_cd94_11ed_bdbb_96000040dfb6row2_col7\" class=\"data row2 col7\" >6.35%</td>\n",
       "                        <td id=\"T_992e1158_cd94_11ed_bdbb_96000040dfb6row2_col8\" class=\"data row2 col8\" >5.47%</td>\n",
       "                        <td id=\"T_992e1158_cd94_11ed_bdbb_96000040dfb6row2_col9\" class=\"data row2 col9\" >6.29%</td>\n",
       "                        <td id=\"T_992e1158_cd94_11ed_bdbb_96000040dfb6row2_col10\" class=\"data row2 col10\" >6.35%</td>\n",
       "                        <td id=\"T_992e1158_cd94_11ed_bdbb_96000040dfb6row2_col11\" class=\"data row2 col11\" >5.53%</td>\n",
       "                        <td id=\"T_992e1158_cd94_11ed_bdbb_96000040dfb6row2_col12\" class=\"data row2 col12\" >5.85%</td>\n",
       "                        <td id=\"T_992e1158_cd94_11ed_bdbb_96000040dfb6row2_col13\" class=\"data row2 col13\" >5.97%</td>\n",
       "                        <td id=\"T_992e1158_cd94_11ed_bdbb_96000040dfb6row2_col14\" class=\"data row2 col14\" >5.47%</td>\n",
       "                        <td id=\"T_992e1158_cd94_11ed_bdbb_96000040dfb6row2_col15\" class=\"data row2 col15\" >5.34%</td>\n",
       "            </tr>\n",
       "            <tr>\n",
       "                        <th id=\"T_992e1158_cd94_11ed_bdbb_96000040dfb6level0_row3\" class=\"row_heading level0 row3\" >2020-09-04</th>\n",
       "                        <td id=\"T_992e1158_cd94_11ed_bdbb_96000040dfb6row3_col0\" class=\"data row3 col0\" >100.00%</td>\n",
       "                        <td id=\"T_992e1158_cd94_11ed_bdbb_96000040dfb6row3_col1\" class=\"data row3 col1\" >2.01%</td>\n",
       "                        <td id=\"T_992e1158_cd94_11ed_bdbb_96000040dfb6row3_col2\" class=\"data row3 col2\" >3.64%</td>\n",
       "                        <td id=\"T_992e1158_cd94_11ed_bdbb_96000040dfb6row3_col3\" class=\"data row3 col3\" >3.64%</td>\n",
       "                        <td id=\"T_992e1158_cd94_11ed_bdbb_96000040dfb6row3_col4\" class=\"data row3 col4\" >5.15%</td>\n",
       "                        <td id=\"T_992e1158_cd94_11ed_bdbb_96000040dfb6row3_col5\" class=\"data row3 col5\" >6.40%</td>\n",
       "                        <td id=\"T_992e1158_cd94_11ed_bdbb_96000040dfb6row3_col6\" class=\"data row3 col6\" >7.28%</td>\n",
       "                        <td id=\"T_992e1158_cd94_11ed_bdbb_96000040dfb6row3_col7\" class=\"data row3 col7\" >4.96%</td>\n",
       "                        <td id=\"T_992e1158_cd94_11ed_bdbb_96000040dfb6row3_col8\" class=\"data row3 col8\" >5.34%</td>\n",
       "                        <td id=\"T_992e1158_cd94_11ed_bdbb_96000040dfb6row3_col9\" class=\"data row3 col9\" >4.33%</td>\n",
       "                        <td id=\"T_992e1158_cd94_11ed_bdbb_96000040dfb6row3_col10\" class=\"data row3 col10\" >5.65%</td>\n",
       "                        <td id=\"T_992e1158_cd94_11ed_bdbb_96000040dfb6row3_col11\" class=\"data row3 col11\" >5.52%</td>\n",
       "                        <td id=\"T_992e1158_cd94_11ed_bdbb_96000040dfb6row3_col12\" class=\"data row3 col12\" >4.33%</td>\n",
       "                        <td id=\"T_992e1158_cd94_11ed_bdbb_96000040dfb6row3_col13\" class=\"data row3 col13\" >5.59%</td>\n",
       "                        <td id=\"T_992e1158_cd94_11ed_bdbb_96000040dfb6row3_col14\" class=\"data row3 col14\" >4.39%</td>\n",
       "                        <td id=\"T_992e1158_cd94_11ed_bdbb_96000040dfb6row3_col15\" class=\"data row3 col15\" >4.52%</td>\n",
       "            </tr>\n",
       "            <tr>\n",
       "                        <th id=\"T_992e1158_cd94_11ed_bdbb_96000040dfb6level0_row4\" class=\"row_heading level0 row4\" >2020-09-05</th>\n",
       "                        <td id=\"T_992e1158_cd94_11ed_bdbb_96000040dfb6row4_col0\" class=\"data row4 col0\" >100.00%</td>\n",
       "                        <td id=\"T_992e1158_cd94_11ed_bdbb_96000040dfb6row4_col1\" class=\"data row4 col1\" >2.76%</td>\n",
       "                        <td id=\"T_992e1158_cd94_11ed_bdbb_96000040dfb6row4_col2\" class=\"data row4 col2\" >3.95%</td>\n",
       "                        <td id=\"T_992e1158_cd94_11ed_bdbb_96000040dfb6row4_col3\" class=\"data row4 col3\" >4.64%</td>\n",
       "                        <td id=\"T_992e1158_cd94_11ed_bdbb_96000040dfb6row4_col4\" class=\"data row4 col4\" >5.45%</td>\n",
       "                        <td id=\"T_992e1158_cd94_11ed_bdbb_96000040dfb6row4_col5\" class=\"data row4 col5\" >5.89%</td>\n",
       "                        <td id=\"T_992e1158_cd94_11ed_bdbb_96000040dfb6row4_col6\" class=\"data row4 col6\" >7.46%</td>\n",
       "                        <td id=\"T_992e1158_cd94_11ed_bdbb_96000040dfb6row4_col7\" class=\"data row4 col7\" >4.89%</td>\n",
       "                        <td id=\"T_992e1158_cd94_11ed_bdbb_96000040dfb6row4_col8\" class=\"data row4 col8\" >5.08%</td>\n",
       "                        <td id=\"T_992e1158_cd94_11ed_bdbb_96000040dfb6row4_col9\" class=\"data row4 col9\" >5.45%</td>\n",
       "                        <td id=\"T_992e1158_cd94_11ed_bdbb_96000040dfb6row4_col10\" class=\"data row4 col10\" >6.02%</td>\n",
       "                        <td id=\"T_992e1158_cd94_11ed_bdbb_96000040dfb6row4_col11\" class=\"data row4 col11\" >5.20%</td>\n",
       "                        <td id=\"T_992e1158_cd94_11ed_bdbb_96000040dfb6row4_col12\" class=\"data row4 col12\" >4.57%</td>\n",
       "                        <td id=\"T_992e1158_cd94_11ed_bdbb_96000040dfb6row4_col13\" class=\"data row4 col13\" >5.39%</td>\n",
       "                        <td id=\"T_992e1158_cd94_11ed_bdbb_96000040dfb6row4_col14\" class=\"data row4 col14\" >4.51%</td>\n",
       "                        <td id=\"T_992e1158_cd94_11ed_bdbb_96000040dfb6row4_col15\" class=\"data row4 col15\" >5.14%</td>\n",
       "            </tr>\n",
       "            <tr>\n",
       "                        <th id=\"T_992e1158_cd94_11ed_bdbb_96000040dfb6level0_row5\" class=\"row_heading level0 row5\" >2020-09-06</th>\n",
       "                        <td id=\"T_992e1158_cd94_11ed_bdbb_96000040dfb6row5_col0\" class=\"data row5 col0\" >100.00%</td>\n",
       "                        <td id=\"T_992e1158_cd94_11ed_bdbb_96000040dfb6row5_col1\" class=\"data row5 col1\" >3.13%</td>\n",
       "                        <td id=\"T_992e1158_cd94_11ed_bdbb_96000040dfb6row5_col2\" class=\"data row5 col2\" >4.32%</td>\n",
       "                        <td id=\"T_992e1158_cd94_11ed_bdbb_96000040dfb6row5_col3\" class=\"data row5 col3\" >5.44%</td>\n",
       "                        <td id=\"T_992e1158_cd94_11ed_bdbb_96000040dfb6row5_col4\" class=\"data row5 col4\" >5.63%</td>\n",
       "                        <td id=\"T_992e1158_cd94_11ed_bdbb_96000040dfb6row5_col5\" class=\"data row5 col5\" >5.88%</td>\n",
       "                        <td id=\"T_992e1158_cd94_11ed_bdbb_96000040dfb6row5_col6\" class=\"data row5 col6\" >6.82%</td>\n",
       "                        <td id=\"T_992e1158_cd94_11ed_bdbb_96000040dfb6row5_col7\" class=\"data row5 col7\" >6.07%</td>\n",
       "                        <td id=\"T_992e1158_cd94_11ed_bdbb_96000040dfb6row5_col8\" class=\"data row5 col8\" >5.82%</td>\n",
       "                        <td id=\"T_992e1158_cd94_11ed_bdbb_96000040dfb6row5_col9\" class=\"data row5 col9\" >5.50%</td>\n",
       "                        <td id=\"T_992e1158_cd94_11ed_bdbb_96000040dfb6row5_col10\" class=\"data row5 col10\" >4.88%</td>\n",
       "                        <td id=\"T_992e1158_cd94_11ed_bdbb_96000040dfb6row5_col11\" class=\"data row5 col11\" >4.75%</td>\n",
       "                        <td id=\"T_992e1158_cd94_11ed_bdbb_96000040dfb6row5_col12\" class=\"data row5 col12\" >5.38%</td>\n",
       "                        <td id=\"T_992e1158_cd94_11ed_bdbb_96000040dfb6row5_col13\" class=\"data row5 col13\" >5.19%</td>\n",
       "                        <td id=\"T_992e1158_cd94_11ed_bdbb_96000040dfb6row5_col14\" class=\"data row5 col14\" >5.50%</td>\n",
       "                        <td id=\"T_992e1158_cd94_11ed_bdbb_96000040dfb6row5_col15\" class=\"data row5 col15\" >4.57%</td>\n",
       "            </tr>\n",
       "            <tr>\n",
       "                        <th id=\"T_992e1158_cd94_11ed_bdbb_96000040dfb6level0_row6\" class=\"row_heading level0 row6\" >2020-09-07</th>\n",
       "                        <td id=\"T_992e1158_cd94_11ed_bdbb_96000040dfb6row6_col0\" class=\"data row6 col0\" >100.00%</td>\n",
       "                        <td id=\"T_992e1158_cd94_11ed_bdbb_96000040dfb6row6_col1\" class=\"data row6 col1\" >2.94%</td>\n",
       "                        <td id=\"T_992e1158_cd94_11ed_bdbb_96000040dfb6row6_col2\" class=\"data row6 col2\" >4.25%</td>\n",
       "                        <td id=\"T_992e1158_cd94_11ed_bdbb_96000040dfb6row6_col3\" class=\"data row6 col3\" >5.37%</td>\n",
       "                        <td id=\"T_992e1158_cd94_11ed_bdbb_96000040dfb6row6_col4\" class=\"data row6 col4\" >5.06%</td>\n",
       "                        <td id=\"T_992e1158_cd94_11ed_bdbb_96000040dfb6row6_col5\" class=\"data row6 col5\" >6.37%</td>\n",
       "                        <td id=\"T_992e1158_cd94_11ed_bdbb_96000040dfb6row6_col6\" class=\"data row6 col6\" >7.31%</td>\n",
       "                        <td id=\"T_992e1158_cd94_11ed_bdbb_96000040dfb6row6_col7\" class=\"data row6 col7\" >5.25%</td>\n",
       "                        <td id=\"T_992e1158_cd94_11ed_bdbb_96000040dfb6row6_col8\" class=\"data row6 col8\" >4.12%</td>\n",
       "                        <td id=\"T_992e1158_cd94_11ed_bdbb_96000040dfb6row6_col9\" class=\"data row6 col9\" >5.62%</td>\n",
       "                        <td id=\"T_992e1158_cd94_11ed_bdbb_96000040dfb6row6_col10\" class=\"data row6 col10\" >6.00%</td>\n",
       "                        <td id=\"T_992e1158_cd94_11ed_bdbb_96000040dfb6row6_col11\" class=\"data row6 col11\" >5.68%</td>\n",
       "                        <td id=\"T_992e1158_cd94_11ed_bdbb_96000040dfb6row6_col12\" class=\"data row6 col12\" >4.56%</td>\n",
       "                        <td id=\"T_992e1158_cd94_11ed_bdbb_96000040dfb6row6_col13\" class=\"data row6 col13\" >5.06%</td>\n",
       "                        <td id=\"T_992e1158_cd94_11ed_bdbb_96000040dfb6row6_col14\" class=\"data row6 col14\" >4.25%</td>\n",
       "                        <td id=\"T_992e1158_cd94_11ed_bdbb_96000040dfb6row6_col15\" class=\"data row6 col15\" >5.06%</td>\n",
       "            </tr>\n",
       "            <tr>\n",
       "                        <th id=\"T_992e1158_cd94_11ed_bdbb_96000040dfb6level0_row7\" class=\"row_heading level0 row7\" >2020-09-08</th>\n",
       "                        <td id=\"T_992e1158_cd94_11ed_bdbb_96000040dfb6row7_col0\" class=\"data row7 col0\" >100.00%</td>\n",
       "                        <td id=\"T_992e1158_cd94_11ed_bdbb_96000040dfb6row7_col1\" class=\"data row7 col1\" >1.75%</td>\n",
       "                        <td id=\"T_992e1158_cd94_11ed_bdbb_96000040dfb6row7_col2\" class=\"data row7 col2\" >3.93%</td>\n",
       "                        <td id=\"T_992e1158_cd94_11ed_bdbb_96000040dfb6row7_col3\" class=\"data row7 col3\" >3.93%</td>\n",
       "                        <td id=\"T_992e1158_cd94_11ed_bdbb_96000040dfb6row7_col4\" class=\"data row7 col4\" >4.86%</td>\n",
       "                        <td id=\"T_992e1158_cd94_11ed_bdbb_96000040dfb6row7_col5\" class=\"data row7 col5\" >7.61%</td>\n",
       "                        <td id=\"T_992e1158_cd94_11ed_bdbb_96000040dfb6row7_col6\" class=\"data row7 col6\" >7.54%</td>\n",
       "                        <td id=\"T_992e1158_cd94_11ed_bdbb_96000040dfb6row7_col7\" class=\"data row7 col7\" >6.61%</td>\n",
       "                        <td id=\"T_992e1158_cd94_11ed_bdbb_96000040dfb6row7_col8\" class=\"data row7 col8\" >5.17%</td>\n",
       "                        <td id=\"T_992e1158_cd94_11ed_bdbb_96000040dfb6row7_col9\" class=\"data row7 col9\" >5.17%</td>\n",
       "                        <td id=\"T_992e1158_cd94_11ed_bdbb_96000040dfb6row7_col10\" class=\"data row7 col10\" >6.55%</td>\n",
       "                        <td id=\"T_992e1158_cd94_11ed_bdbb_96000040dfb6row7_col11\" class=\"data row7 col11\" >5.36%</td>\n",
       "                        <td id=\"T_992e1158_cd94_11ed_bdbb_96000040dfb6row7_col12\" class=\"data row7 col12\" >5.92%</td>\n",
       "                        <td id=\"T_992e1158_cd94_11ed_bdbb_96000040dfb6row7_col13\" class=\"data row7 col13\" >5.17%</td>\n",
       "                        <td id=\"T_992e1158_cd94_11ed_bdbb_96000040dfb6row7_col14\" class=\"data row7 col14\" >4.74%</td>\n",
       "                        <td id=\"T_992e1158_cd94_11ed_bdbb_96000040dfb6row7_col15\" class=\"data row7 col15\" >3.05%</td>\n",
       "            </tr>\n",
       "            <tr>\n",
       "                        <th id=\"T_992e1158_cd94_11ed_bdbb_96000040dfb6level0_row8\" class=\"row_heading level0 row8\" >2020-09-09</th>\n",
       "                        <td id=\"T_992e1158_cd94_11ed_bdbb_96000040dfb6row8_col0\" class=\"data row8 col0\" >100.00%</td>\n",
       "                        <td id=\"T_992e1158_cd94_11ed_bdbb_96000040dfb6row8_col1\" class=\"data row8 col1\" >1.74%</td>\n",
       "                        <td id=\"T_992e1158_cd94_11ed_bdbb_96000040dfb6row8_col2\" class=\"data row8 col2\" >3.24%</td>\n",
       "                        <td id=\"T_992e1158_cd94_11ed_bdbb_96000040dfb6row8_col3\" class=\"data row8 col3\" >4.67%</td>\n",
       "                        <td id=\"T_992e1158_cd94_11ed_bdbb_96000040dfb6row8_col4\" class=\"data row8 col4\" >5.72%</td>\n",
       "                        <td id=\"T_992e1158_cd94_11ed_bdbb_96000040dfb6row8_col5\" class=\"data row8 col5\" >6.66%</td>\n",
       "                        <td id=\"T_992e1158_cd94_11ed_bdbb_96000040dfb6row8_col6\" class=\"data row8 col6\" >5.72%</td>\n",
       "                        <td id=\"T_992e1158_cd94_11ed_bdbb_96000040dfb6row8_col7\" class=\"data row8 col7\" >5.91%</td>\n",
       "                        <td id=\"T_992e1158_cd94_11ed_bdbb_96000040dfb6row8_col8\" class=\"data row8 col8\" >4.36%</td>\n",
       "                        <td id=\"T_992e1158_cd94_11ed_bdbb_96000040dfb6row8_col9\" class=\"data row8 col9\" >5.04%</td>\n",
       "                        <td id=\"T_992e1158_cd94_11ed_bdbb_96000040dfb6row8_col10\" class=\"data row8 col10\" >3.73%</td>\n",
       "                        <td id=\"T_992e1158_cd94_11ed_bdbb_96000040dfb6row8_col11\" class=\"data row8 col11\" >5.04%</td>\n",
       "                        <td id=\"T_992e1158_cd94_11ed_bdbb_96000040dfb6row8_col12\" class=\"data row8 col12\" >4.79%</td>\n",
       "                        <td id=\"T_992e1158_cd94_11ed_bdbb_96000040dfb6row8_col13\" class=\"data row8 col13\" >4.85%</td>\n",
       "                        <td id=\"T_992e1158_cd94_11ed_bdbb_96000040dfb6row8_col14\" class=\"data row8 col14\" >2.43%</td>\n",
       "                        <td id=\"T_992e1158_cd94_11ed_bdbb_96000040dfb6row8_col15\" class=\"data row8 col15\" ></td>\n",
       "            </tr>\n",
       "            <tr>\n",
       "                        <th id=\"T_992e1158_cd94_11ed_bdbb_96000040dfb6level0_row9\" class=\"row_heading level0 row9\" >2020-09-10</th>\n",
       "                        <td id=\"T_992e1158_cd94_11ed_bdbb_96000040dfb6row9_col0\" class=\"data row9 col0\" >100.00%</td>\n",
       "                        <td id=\"T_992e1158_cd94_11ed_bdbb_96000040dfb6row9_col1\" class=\"data row9 col1\" >2.05%</td>\n",
       "                        <td id=\"T_992e1158_cd94_11ed_bdbb_96000040dfb6row9_col2\" class=\"data row9 col2\" >4.29%</td>\n",
       "                        <td id=\"T_992e1158_cd94_11ed_bdbb_96000040dfb6row9_col3\" class=\"data row9 col3\" >4.79%</td>\n",
       "                        <td id=\"T_992e1158_cd94_11ed_bdbb_96000040dfb6row9_col4\" class=\"data row9 col4\" >4.23%</td>\n",
       "                        <td id=\"T_992e1158_cd94_11ed_bdbb_96000040dfb6row9_col5\" class=\"data row9 col5\" >6.77%</td>\n",
       "                        <td id=\"T_992e1158_cd94_11ed_bdbb_96000040dfb6row9_col6\" class=\"data row9 col6\" >6.28%</td>\n",
       "                        <td id=\"T_992e1158_cd94_11ed_bdbb_96000040dfb6row9_col7\" class=\"data row9 col7\" >7.09%</td>\n",
       "                        <td id=\"T_992e1158_cd94_11ed_bdbb_96000040dfb6row9_col8\" class=\"data row9 col8\" >4.85%</td>\n",
       "                        <td id=\"T_992e1158_cd94_11ed_bdbb_96000040dfb6row9_col9\" class=\"data row9 col9\" >4.54%</td>\n",
       "                        <td id=\"T_992e1158_cd94_11ed_bdbb_96000040dfb6row9_col10\" class=\"data row9 col10\" >5.66%</td>\n",
       "                        <td id=\"T_992e1158_cd94_11ed_bdbb_96000040dfb6row9_col11\" class=\"data row9 col11\" >4.72%</td>\n",
       "                        <td id=\"T_992e1158_cd94_11ed_bdbb_96000040dfb6row9_col12\" class=\"data row9 col12\" >5.22%</td>\n",
       "                        <td id=\"T_992e1158_cd94_11ed_bdbb_96000040dfb6row9_col13\" class=\"data row9 col13\" >3.60%</td>\n",
       "                        <td id=\"T_992e1158_cd94_11ed_bdbb_96000040dfb6row9_col14\" class=\"data row9 col14\" ></td>\n",
       "                        <td id=\"T_992e1158_cd94_11ed_bdbb_96000040dfb6row9_col15\" class=\"data row9 col15\" ></td>\n",
       "            </tr>\n",
       "            <tr>\n",
       "                        <th id=\"T_992e1158_cd94_11ed_bdbb_96000040dfb6level0_row10\" class=\"row_heading level0 row10\" >2020-09-11</th>\n",
       "                        <td id=\"T_992e1158_cd94_11ed_bdbb_96000040dfb6row10_col0\" class=\"data row10 col0\" >100.00%</td>\n",
       "                        <td id=\"T_992e1158_cd94_11ed_bdbb_96000040dfb6row10_col1\" class=\"data row10 col1\" >1.30%</td>\n",
       "                        <td id=\"T_992e1158_cd94_11ed_bdbb_96000040dfb6row10_col2\" class=\"data row10 col2\" >4.03%</td>\n",
       "                        <td id=\"T_992e1158_cd94_11ed_bdbb_96000040dfb6row10_col3\" class=\"data row10 col3\" >4.53%</td>\n",
       "                        <td id=\"T_992e1158_cd94_11ed_bdbb_96000040dfb6row10_col4\" class=\"data row10 col4\" >5.65%</td>\n",
       "                        <td id=\"T_992e1158_cd94_11ed_bdbb_96000040dfb6row10_col5\" class=\"data row10 col5\" >5.71%</td>\n",
       "                        <td id=\"T_992e1158_cd94_11ed_bdbb_96000040dfb6row10_col6\" class=\"data row10 col6\" >6.70%</td>\n",
       "                        <td id=\"T_992e1158_cd94_11ed_bdbb_96000040dfb6row10_col7\" class=\"data row10 col7\" >6.33%</td>\n",
       "                        <td id=\"T_992e1158_cd94_11ed_bdbb_96000040dfb6row10_col8\" class=\"data row10 col8\" >4.40%</td>\n",
       "                        <td id=\"T_992e1158_cd94_11ed_bdbb_96000040dfb6row10_col9\" class=\"data row10 col9\" >4.65%</td>\n",
       "                        <td id=\"T_992e1158_cd94_11ed_bdbb_96000040dfb6row10_col10\" class=\"data row10 col10\" >5.40%</td>\n",
       "                        <td id=\"T_992e1158_cd94_11ed_bdbb_96000040dfb6row10_col11\" class=\"data row10 col11\" >5.33%</td>\n",
       "                        <td id=\"T_992e1158_cd94_11ed_bdbb_96000040dfb6row10_col12\" class=\"data row10 col12\" >3.29%</td>\n",
       "                        <td id=\"T_992e1158_cd94_11ed_bdbb_96000040dfb6row10_col13\" class=\"data row10 col13\" ></td>\n",
       "                        <td id=\"T_992e1158_cd94_11ed_bdbb_96000040dfb6row10_col14\" class=\"data row10 col14\" ></td>\n",
       "                        <td id=\"T_992e1158_cd94_11ed_bdbb_96000040dfb6row10_col15\" class=\"data row10 col15\" ></td>\n",
       "            </tr>\n",
       "            <tr>\n",
       "                        <th id=\"T_992e1158_cd94_11ed_bdbb_96000040dfb6level0_row11\" class=\"row_heading level0 row11\" >2020-09-12</th>\n",
       "                        <td id=\"T_992e1158_cd94_11ed_bdbb_96000040dfb6row11_col0\" class=\"data row11 col0\" >100.00%</td>\n",
       "                        <td id=\"T_992e1158_cd94_11ed_bdbb_96000040dfb6row11_col1\" class=\"data row11 col1\" >1.92%</td>\n",
       "                        <td id=\"T_992e1158_cd94_11ed_bdbb_96000040dfb6row11_col2\" class=\"data row11 col2\" >3.84%</td>\n",
       "                        <td id=\"T_992e1158_cd94_11ed_bdbb_96000040dfb6row11_col3\" class=\"data row11 col3\" >4.71%</td>\n",
       "                        <td id=\"T_992e1158_cd94_11ed_bdbb_96000040dfb6row11_col4\" class=\"data row11 col4\" >4.65%</td>\n",
       "                        <td id=\"T_992e1158_cd94_11ed_bdbb_96000040dfb6row11_col5\" class=\"data row11 col5\" >6.07%</td>\n",
       "                        <td id=\"T_992e1158_cd94_11ed_bdbb_96000040dfb6row11_col6\" class=\"data row11 col6\" >6.57%</td>\n",
       "                        <td id=\"T_992e1158_cd94_11ed_bdbb_96000040dfb6row11_col7\" class=\"data row11 col7\" >5.76%</td>\n",
       "                        <td id=\"T_992e1158_cd94_11ed_bdbb_96000040dfb6row11_col8\" class=\"data row11 col8\" >5.27%</td>\n",
       "                        <td id=\"T_992e1158_cd94_11ed_bdbb_96000040dfb6row11_col9\" class=\"data row11 col9\" >5.14%</td>\n",
       "                        <td id=\"T_992e1158_cd94_11ed_bdbb_96000040dfb6row11_col10\" class=\"data row11 col10\" >5.70%</td>\n",
       "                        <td id=\"T_992e1158_cd94_11ed_bdbb_96000040dfb6row11_col11\" class=\"data row11 col11\" >2.54%</td>\n",
       "                        <td id=\"T_992e1158_cd94_11ed_bdbb_96000040dfb6row11_col12\" class=\"data row11 col12\" ></td>\n",
       "                        <td id=\"T_992e1158_cd94_11ed_bdbb_96000040dfb6row11_col13\" class=\"data row11 col13\" ></td>\n",
       "                        <td id=\"T_992e1158_cd94_11ed_bdbb_96000040dfb6row11_col14\" class=\"data row11 col14\" ></td>\n",
       "                        <td id=\"T_992e1158_cd94_11ed_bdbb_96000040dfb6row11_col15\" class=\"data row11 col15\" ></td>\n",
       "            </tr>\n",
       "            <tr>\n",
       "                        <th id=\"T_992e1158_cd94_11ed_bdbb_96000040dfb6level0_row12\" class=\"row_heading level0 row12\" >2020-09-13</th>\n",
       "                        <td id=\"T_992e1158_cd94_11ed_bdbb_96000040dfb6row12_col0\" class=\"data row12 col0\" >100.00%</td>\n",
       "                        <td id=\"T_992e1158_cd94_11ed_bdbb_96000040dfb6row12_col1\" class=\"data row12 col1\" >1.98%</td>\n",
       "                        <td id=\"T_992e1158_cd94_11ed_bdbb_96000040dfb6row12_col2\" class=\"data row12 col2\" >4.08%</td>\n",
       "                        <td id=\"T_992e1158_cd94_11ed_bdbb_96000040dfb6row12_col3\" class=\"data row12 col3\" >4.26%</td>\n",
       "                        <td id=\"T_992e1158_cd94_11ed_bdbb_96000040dfb6row12_col4\" class=\"data row12 col4\" >5.13%</td>\n",
       "                        <td id=\"T_992e1158_cd94_11ed_bdbb_96000040dfb6row12_col5\" class=\"data row12 col5\" >6.55%</td>\n",
       "                        <td id=\"T_992e1158_cd94_11ed_bdbb_96000040dfb6row12_col6\" class=\"data row12 col6\" >6.49%</td>\n",
       "                        <td id=\"T_992e1158_cd94_11ed_bdbb_96000040dfb6row12_col7\" class=\"data row12 col7\" >4.94%</td>\n",
       "                        <td id=\"T_992e1158_cd94_11ed_bdbb_96000040dfb6row12_col8\" class=\"data row12 col8\" >4.70%</td>\n",
       "                        <td id=\"T_992e1158_cd94_11ed_bdbb_96000040dfb6row12_col9\" class=\"data row12 col9\" >4.94%</td>\n",
       "                        <td id=\"T_992e1158_cd94_11ed_bdbb_96000040dfb6row12_col10\" class=\"data row12 col10\" >3.58%</td>\n",
       "                        <td id=\"T_992e1158_cd94_11ed_bdbb_96000040dfb6row12_col11\" class=\"data row12 col11\" ></td>\n",
       "                        <td id=\"T_992e1158_cd94_11ed_bdbb_96000040dfb6row12_col12\" class=\"data row12 col12\" ></td>\n",
       "                        <td id=\"T_992e1158_cd94_11ed_bdbb_96000040dfb6row12_col13\" class=\"data row12 col13\" ></td>\n",
       "                        <td id=\"T_992e1158_cd94_11ed_bdbb_96000040dfb6row12_col14\" class=\"data row12 col14\" ></td>\n",
       "                        <td id=\"T_992e1158_cd94_11ed_bdbb_96000040dfb6row12_col15\" class=\"data row12 col15\" ></td>\n",
       "            </tr>\n",
       "            <tr>\n",
       "                        <th id=\"T_992e1158_cd94_11ed_bdbb_96000040dfb6level0_row13\" class=\"row_heading level0 row13\" >2020-09-14</th>\n",
       "                        <td id=\"T_992e1158_cd94_11ed_bdbb_96000040dfb6row13_col0\" class=\"data row13 col0\" >100.00%</td>\n",
       "                        <td id=\"T_992e1158_cd94_11ed_bdbb_96000040dfb6row13_col1\" class=\"data row13 col1\" >2.22%</td>\n",
       "                        <td id=\"T_992e1158_cd94_11ed_bdbb_96000040dfb6row13_col2\" class=\"data row13 col2\" >3.83%</td>\n",
       "                        <td id=\"T_992e1158_cd94_11ed_bdbb_96000040dfb6row13_col3\" class=\"data row13 col3\" >4.51%</td>\n",
       "                        <td id=\"T_992e1158_cd94_11ed_bdbb_96000040dfb6row13_col4\" class=\"data row13 col4\" >5.31%</td>\n",
       "                        <td id=\"T_992e1158_cd94_11ed_bdbb_96000040dfb6row13_col5\" class=\"data row13 col5\" >6.49%</td>\n",
       "                        <td id=\"T_992e1158_cd94_11ed_bdbb_96000040dfb6row13_col6\" class=\"data row13 col6\" >6.98%</td>\n",
       "                        <td id=\"T_992e1158_cd94_11ed_bdbb_96000040dfb6row13_col7\" class=\"data row13 col7\" >6.30%</td>\n",
       "                        <td id=\"T_992e1158_cd94_11ed_bdbb_96000040dfb6row13_col8\" class=\"data row13 col8\" >4.45%</td>\n",
       "                        <td id=\"T_992e1158_cd94_11ed_bdbb_96000040dfb6row13_col9\" class=\"data row13 col9\" >2.90%</td>\n",
       "                        <td id=\"T_992e1158_cd94_11ed_bdbb_96000040dfb6row13_col10\" class=\"data row13 col10\" ></td>\n",
       "                        <td id=\"T_992e1158_cd94_11ed_bdbb_96000040dfb6row13_col11\" class=\"data row13 col11\" ></td>\n",
       "                        <td id=\"T_992e1158_cd94_11ed_bdbb_96000040dfb6row13_col12\" class=\"data row13 col12\" ></td>\n",
       "                        <td id=\"T_992e1158_cd94_11ed_bdbb_96000040dfb6row13_col13\" class=\"data row13 col13\" ></td>\n",
       "                        <td id=\"T_992e1158_cd94_11ed_bdbb_96000040dfb6row13_col14\" class=\"data row13 col14\" ></td>\n",
       "                        <td id=\"T_992e1158_cd94_11ed_bdbb_96000040dfb6row13_col15\" class=\"data row13 col15\" ></td>\n",
       "            </tr>\n",
       "            <tr>\n",
       "                        <th id=\"T_992e1158_cd94_11ed_bdbb_96000040dfb6level0_row14\" class=\"row_heading level0 row14\" >2020-09-15</th>\n",
       "                        <td id=\"T_992e1158_cd94_11ed_bdbb_96000040dfb6row14_col0\" class=\"data row14 col0\" >100.00%</td>\n",
       "                        <td id=\"T_992e1158_cd94_11ed_bdbb_96000040dfb6row14_col1\" class=\"data row14 col1\" >2.22%</td>\n",
       "                        <td id=\"T_992e1158_cd94_11ed_bdbb_96000040dfb6row14_col2\" class=\"data row14 col2\" >4.07%</td>\n",
       "                        <td id=\"T_992e1158_cd94_11ed_bdbb_96000040dfb6row14_col3\" class=\"data row14 col3\" >4.56%</td>\n",
       "                        <td id=\"T_992e1158_cd94_11ed_bdbb_96000040dfb6row14_col4\" class=\"data row14 col4\" >6.04%</td>\n",
       "                        <td id=\"T_992e1158_cd94_11ed_bdbb_96000040dfb6row14_col5\" class=\"data row14 col5\" >5.61%</td>\n",
       "                        <td id=\"T_992e1158_cd94_11ed_bdbb_96000040dfb6row14_col6\" class=\"data row14 col6\" >6.90%</td>\n",
       "                        <td id=\"T_992e1158_cd94_11ed_bdbb_96000040dfb6row14_col7\" class=\"data row14 col7\" >5.67%</td>\n",
       "                        <td id=\"T_992e1158_cd94_11ed_bdbb_96000040dfb6row14_col8\" class=\"data row14 col8\" >2.46%</td>\n",
       "                        <td id=\"T_992e1158_cd94_11ed_bdbb_96000040dfb6row14_col9\" class=\"data row14 col9\" ></td>\n",
       "                        <td id=\"T_992e1158_cd94_11ed_bdbb_96000040dfb6row14_col10\" class=\"data row14 col10\" ></td>\n",
       "                        <td id=\"T_992e1158_cd94_11ed_bdbb_96000040dfb6row14_col11\" class=\"data row14 col11\" ></td>\n",
       "                        <td id=\"T_992e1158_cd94_11ed_bdbb_96000040dfb6row14_col12\" class=\"data row14 col12\" ></td>\n",
       "                        <td id=\"T_992e1158_cd94_11ed_bdbb_96000040dfb6row14_col13\" class=\"data row14 col13\" ></td>\n",
       "                        <td id=\"T_992e1158_cd94_11ed_bdbb_96000040dfb6row14_col14\" class=\"data row14 col14\" ></td>\n",
       "                        <td id=\"T_992e1158_cd94_11ed_bdbb_96000040dfb6row14_col15\" class=\"data row14 col15\" ></td>\n",
       "            </tr>\n",
       "    </tbody></table>"
      ],
      "text/plain": [
       "<pandas.io.formats.style.Styler at 0x7fa507402dd8>"
      ]
     },
     "execution_count": 27,
     "metadata": {},
     "output_type": "execute_result"
    }
   ],
   "source": [
    "retention(df, start='2020-09-01', end='2020-09-15', days=15)"
   ]
  },
  {
   "cell_type": "markdown",
   "metadata": {},
   "source": [
    "Функция retention с 2020-09-10 по конечную дату"
   ]
  },
  {
   "cell_type": "code",
   "execution_count": 28,
   "metadata": {},
   "outputs": [
    {
     "data": {
      "text/html": [
       "<style  type=\"text/css\" >\n",
       "#T_99f61eb4_cd94_11ed_bdbb_96000040dfb6row0_col0,#T_99f61eb4_cd94_11ed_bdbb_96000040dfb6row0_col13,#T_99f61eb4_cd94_11ed_bdbb_96000040dfb6row1_col0,#T_99f61eb4_cd94_11ed_bdbb_96000040dfb6row1_col12,#T_99f61eb4_cd94_11ed_bdbb_96000040dfb6row2_col0,#T_99f61eb4_cd94_11ed_bdbb_96000040dfb6row2_col11,#T_99f61eb4_cd94_11ed_bdbb_96000040dfb6row3_col0,#T_99f61eb4_cd94_11ed_bdbb_96000040dfb6row3_col10,#T_99f61eb4_cd94_11ed_bdbb_96000040dfb6row4_col0,#T_99f61eb4_cd94_11ed_bdbb_96000040dfb6row4_col9,#T_99f61eb4_cd94_11ed_bdbb_96000040dfb6row5_col0,#T_99f61eb4_cd94_11ed_bdbb_96000040dfb6row5_col8,#T_99f61eb4_cd94_11ed_bdbb_96000040dfb6row6_col0,#T_99f61eb4_cd94_11ed_bdbb_96000040dfb6row6_col7,#T_99f61eb4_cd94_11ed_bdbb_96000040dfb6row7_col0,#T_99f61eb4_cd94_11ed_bdbb_96000040dfb6row7_col6,#T_99f61eb4_cd94_11ed_bdbb_96000040dfb6row8_col0,#T_99f61eb4_cd94_11ed_bdbb_96000040dfb6row8_col5,#T_99f61eb4_cd94_11ed_bdbb_96000040dfb6row9_col0,#T_99f61eb4_cd94_11ed_bdbb_96000040dfb6row9_col4,#T_99f61eb4_cd94_11ed_bdbb_96000040dfb6row10_col0,#T_99f61eb4_cd94_11ed_bdbb_96000040dfb6row10_col3,#T_99f61eb4_cd94_11ed_bdbb_96000040dfb6row11_col0,#T_99f61eb4_cd94_11ed_bdbb_96000040dfb6row11_col2,#T_99f61eb4_cd94_11ed_bdbb_96000040dfb6row12_col0,#T_99f61eb4_cd94_11ed_bdbb_96000040dfb6row12_col1,#T_99f61eb4_cd94_11ed_bdbb_96000040dfb6row13_col0{\n",
       "            background-color:  #440154;\n",
       "            color:  #f1f1f1;\n",
       "        }#T_99f61eb4_cd94_11ed_bdbb_96000040dfb6row0_col1{\n",
       "            background-color:  #5ec962;\n",
       "            color:  #000000;\n",
       "        }#T_99f61eb4_cd94_11ed_bdbb_96000040dfb6row0_col2{\n",
       "            background-color:  #93d741;\n",
       "            color:  #000000;\n",
       "        }#T_99f61eb4_cd94_11ed_bdbb_96000040dfb6row0_col3,#T_99f61eb4_cd94_11ed_bdbb_96000040dfb6row0_col5,#T_99f61eb4_cd94_11ed_bdbb_96000040dfb6row0_col7,#T_99f61eb4_cd94_11ed_bdbb_96000040dfb6row0_col12,#T_99f61eb4_cd94_11ed_bdbb_96000040dfb6row1_col11,#T_99f61eb4_cd94_11ed_bdbb_96000040dfb6row2_col8,#T_99f61eb4_cd94_11ed_bdbb_96000040dfb6row2_col9,#T_99f61eb4_cd94_11ed_bdbb_96000040dfb6row2_col10,#T_99f61eb4_cd94_11ed_bdbb_96000040dfb6row4_col6,#T_99f61eb4_cd94_11ed_bdbb_96000040dfb6row5_col4,#T_99f61eb4_cd94_11ed_bdbb_96000040dfb6row6_col5,#T_99f61eb4_cd94_11ed_bdbb_96000040dfb6row8_col2,#T_99f61eb4_cd94_11ed_bdbb_96000040dfb6row10_col1{\n",
       "            background-color:  #fde725;\n",
       "            color:  #000000;\n",
       "        }#T_99f61eb4_cd94_11ed_bdbb_96000040dfb6row0_col4{\n",
       "            background-color:  #365d8d;\n",
       "            color:  #f1f1f1;\n",
       "        }#T_99f61eb4_cd94_11ed_bdbb_96000040dfb6row0_col6{\n",
       "            background-color:  #5ac864;\n",
       "            color:  #000000;\n",
       "        }#T_99f61eb4_cd94_11ed_bdbb_96000040dfb6row0_col8,#T_99f61eb4_cd94_11ed_bdbb_96000040dfb6row2_col6{\n",
       "            background-color:  #9bd93c;\n",
       "            color:  #000000;\n",
       "        }#T_99f61eb4_cd94_11ed_bdbb_96000040dfb6row0_col9{\n",
       "            background-color:  #52c569;\n",
       "            color:  #000000;\n",
       "        }#T_99f61eb4_cd94_11ed_bdbb_96000040dfb6row0_col10{\n",
       "            background-color:  #f1e51d;\n",
       "            color:  #000000;\n",
       "        }#T_99f61eb4_cd94_11ed_bdbb_96000040dfb6row0_col11,#T_99f61eb4_cd94_11ed_bdbb_96000040dfb6row1_col9{\n",
       "            background-color:  #6ece58;\n",
       "            color:  #000000;\n",
       "        }#T_99f61eb4_cd94_11ed_bdbb_96000040dfb6row1_col1{\n",
       "            background-color:  #375b8d;\n",
       "            color:  #f1f1f1;\n",
       "        }#T_99f61eb4_cd94_11ed_bdbb_96000040dfb6row1_col2{\n",
       "            background-color:  #38b977;\n",
       "            color:  #000000;\n",
       "        }#T_99f61eb4_cd94_11ed_bdbb_96000040dfb6row1_col3{\n",
       "            background-color:  #b8de29;\n",
       "            color:  #000000;\n",
       "        }#T_99f61eb4_cd94_11ed_bdbb_96000040dfb6row1_col4,#T_99f61eb4_cd94_11ed_bdbb_96000040dfb6row7_col2{\n",
       "            background-color:  #98d83e;\n",
       "            color:  #000000;\n",
       "        }#T_99f61eb4_cd94_11ed_bdbb_96000040dfb6row1_col5{\n",
       "            background-color:  #2eb37c;\n",
       "            color:  #000000;\n",
       "        }#T_99f61eb4_cd94_11ed_bdbb_96000040dfb6row1_col6{\n",
       "            background-color:  #bade28;\n",
       "            color:  #000000;\n",
       "        }#T_99f61eb4_cd94_11ed_bdbb_96000040dfb6row1_col7,#T_99f61eb4_cd94_11ed_bdbb_96000040dfb6row3_col8{\n",
       "            background-color:  #77d153;\n",
       "            color:  #000000;\n",
       "        }#T_99f61eb4_cd94_11ed_bdbb_96000040dfb6row1_col8,#T_99f61eb4_cd94_11ed_bdbb_96000040dfb6row5_col2{\n",
       "            background-color:  #40bd72;\n",
       "            color:  #000000;\n",
       "        }#T_99f61eb4_cd94_11ed_bdbb_96000040dfb6row1_col10,#T_99f61eb4_cd94_11ed_bdbb_96000040dfb6row5_col1{\n",
       "            background-color:  #a0da39;\n",
       "            color:  #000000;\n",
       "        }#T_99f61eb4_cd94_11ed_bdbb_96000040dfb6row1_col13,#T_99f61eb4_cd94_11ed_bdbb_96000040dfb6row2_col13,#T_99f61eb4_cd94_11ed_bdbb_96000040dfb6row3_col13,#T_99f61eb4_cd94_11ed_bdbb_96000040dfb6row4_col13,#T_99f61eb4_cd94_11ed_bdbb_96000040dfb6row5_col13,#T_99f61eb4_cd94_11ed_bdbb_96000040dfb6row6_col13,#T_99f61eb4_cd94_11ed_bdbb_96000040dfb6row7_col13,#T_99f61eb4_cd94_11ed_bdbb_96000040dfb6row8_col13,#T_99f61eb4_cd94_11ed_bdbb_96000040dfb6row9_col13,#T_99f61eb4_cd94_11ed_bdbb_96000040dfb6row10_col13,#T_99f61eb4_cd94_11ed_bdbb_96000040dfb6row11_col13,#T_99f61eb4_cd94_11ed_bdbb_96000040dfb6row12_col13,#T_99f61eb4_cd94_11ed_bdbb_96000040dfb6row13_col13{\n",
       "            background-color:  #440154;\n",
       "            color:  #f1f1f1;\n",
       "            background-color:  white;\n",
       "        }#T_99f61eb4_cd94_11ed_bdbb_96000040dfb6row2_col1{\n",
       "            background-color:  #37b878;\n",
       "            color:  #000000;\n",
       "        }#T_99f61eb4_cd94_11ed_bdbb_96000040dfb6row2_col2{\n",
       "            background-color:  #1e9c89;\n",
       "            color:  #000000;\n",
       "        }#T_99f61eb4_cd94_11ed_bdbb_96000040dfb6row2_col3{\n",
       "            background-color:  #eae51a;\n",
       "            color:  #000000;\n",
       "        }#T_99f61eb4_cd94_11ed_bdbb_96000040dfb6row2_col4{\n",
       "            background-color:  #25858e;\n",
       "            color:  #000000;\n",
       "        }#T_99f61eb4_cd94_11ed_bdbb_96000040dfb6row2_col5{\n",
       "            background-color:  #67cc5c;\n",
       "            color:  #000000;\n",
       "        }#T_99f61eb4_cd94_11ed_bdbb_96000040dfb6row2_col7,#T_99f61eb4_cd94_11ed_bdbb_96000040dfb6row3_col4{\n",
       "            background-color:  #2db27d;\n",
       "            color:  #000000;\n",
       "        }#T_99f61eb4_cd94_11ed_bdbb_96000040dfb6row2_col12,#T_99f61eb4_cd94_11ed_bdbb_96000040dfb6row3_col11,#T_99f61eb4_cd94_11ed_bdbb_96000040dfb6row3_col12,#T_99f61eb4_cd94_11ed_bdbb_96000040dfb6row4_col10,#T_99f61eb4_cd94_11ed_bdbb_96000040dfb6row4_col11,#T_99f61eb4_cd94_11ed_bdbb_96000040dfb6row4_col12,#T_99f61eb4_cd94_11ed_bdbb_96000040dfb6row5_col9,#T_99f61eb4_cd94_11ed_bdbb_96000040dfb6row5_col10,#T_99f61eb4_cd94_11ed_bdbb_96000040dfb6row5_col11,#T_99f61eb4_cd94_11ed_bdbb_96000040dfb6row5_col12,#T_99f61eb4_cd94_11ed_bdbb_96000040dfb6row6_col8,#T_99f61eb4_cd94_11ed_bdbb_96000040dfb6row6_col9,#T_99f61eb4_cd94_11ed_bdbb_96000040dfb6row6_col10,#T_99f61eb4_cd94_11ed_bdbb_96000040dfb6row6_col11,#T_99f61eb4_cd94_11ed_bdbb_96000040dfb6row6_col12,#T_99f61eb4_cd94_11ed_bdbb_96000040dfb6row7_col7,#T_99f61eb4_cd94_11ed_bdbb_96000040dfb6row7_col8,#T_99f61eb4_cd94_11ed_bdbb_96000040dfb6row7_col9,#T_99f61eb4_cd94_11ed_bdbb_96000040dfb6row7_col10,#T_99f61eb4_cd94_11ed_bdbb_96000040dfb6row7_col11,#T_99f61eb4_cd94_11ed_bdbb_96000040dfb6row7_col12,#T_99f61eb4_cd94_11ed_bdbb_96000040dfb6row8_col6,#T_99f61eb4_cd94_11ed_bdbb_96000040dfb6row8_col7,#T_99f61eb4_cd94_11ed_bdbb_96000040dfb6row8_col8,#T_99f61eb4_cd94_11ed_bdbb_96000040dfb6row8_col9,#T_99f61eb4_cd94_11ed_bdbb_96000040dfb6row8_col10,#T_99f61eb4_cd94_11ed_bdbb_96000040dfb6row8_col11,#T_99f61eb4_cd94_11ed_bdbb_96000040dfb6row8_col12,#T_99f61eb4_cd94_11ed_bdbb_96000040dfb6row9_col5,#T_99f61eb4_cd94_11ed_bdbb_96000040dfb6row9_col6,#T_99f61eb4_cd94_11ed_bdbb_96000040dfb6row9_col7,#T_99f61eb4_cd94_11ed_bdbb_96000040dfb6row9_col8,#T_99f61eb4_cd94_11ed_bdbb_96000040dfb6row9_col9,#T_99f61eb4_cd94_11ed_bdbb_96000040dfb6row9_col10,#T_99f61eb4_cd94_11ed_bdbb_96000040dfb6row9_col11,#T_99f61eb4_cd94_11ed_bdbb_96000040dfb6row9_col12,#T_99f61eb4_cd94_11ed_bdbb_96000040dfb6row10_col4,#T_99f61eb4_cd94_11ed_bdbb_96000040dfb6row10_col5,#T_99f61eb4_cd94_11ed_bdbb_96000040dfb6row10_col6,#T_99f61eb4_cd94_11ed_bdbb_96000040dfb6row10_col7,#T_99f61eb4_cd94_11ed_bdbb_96000040dfb6row10_col8,#T_99f61eb4_cd94_11ed_bdbb_96000040dfb6row10_col9,#T_99f61eb4_cd94_11ed_bdbb_96000040dfb6row10_col10,#T_99f61eb4_cd94_11ed_bdbb_96000040dfb6row10_col11,#T_99f61eb4_cd94_11ed_bdbb_96000040dfb6row10_col12,#T_99f61eb4_cd94_11ed_bdbb_96000040dfb6row11_col3,#T_99f61eb4_cd94_11ed_bdbb_96000040dfb6row11_col4,#T_99f61eb4_cd94_11ed_bdbb_96000040dfb6row11_col5,#T_99f61eb4_cd94_11ed_bdbb_96000040dfb6row11_col6,#T_99f61eb4_cd94_11ed_bdbb_96000040dfb6row11_col7,#T_99f61eb4_cd94_11ed_bdbb_96000040dfb6row11_col8,#T_99f61eb4_cd94_11ed_bdbb_96000040dfb6row11_col9,#T_99f61eb4_cd94_11ed_bdbb_96000040dfb6row11_col10,#T_99f61eb4_cd94_11ed_bdbb_96000040dfb6row11_col11,#T_99f61eb4_cd94_11ed_bdbb_96000040dfb6row11_col12,#T_99f61eb4_cd94_11ed_bdbb_96000040dfb6row12_col2,#T_99f61eb4_cd94_11ed_bdbb_96000040dfb6row12_col3,#T_99f61eb4_cd94_11ed_bdbb_96000040dfb6row12_col4,#T_99f61eb4_cd94_11ed_bdbb_96000040dfb6row12_col5,#T_99f61eb4_cd94_11ed_bdbb_96000040dfb6row12_col6,#T_99f61eb4_cd94_11ed_bdbb_96000040dfb6row12_col7,#T_99f61eb4_cd94_11ed_bdbb_96000040dfb6row12_col8,#T_99f61eb4_cd94_11ed_bdbb_96000040dfb6row12_col9,#T_99f61eb4_cd94_11ed_bdbb_96000040dfb6row12_col10,#T_99f61eb4_cd94_11ed_bdbb_96000040dfb6row12_col11,#T_99f61eb4_cd94_11ed_bdbb_96000040dfb6row12_col12,#T_99f61eb4_cd94_11ed_bdbb_96000040dfb6row13_col1,#T_99f61eb4_cd94_11ed_bdbb_96000040dfb6row13_col2,#T_99f61eb4_cd94_11ed_bdbb_96000040dfb6row13_col3,#T_99f61eb4_cd94_11ed_bdbb_96000040dfb6row13_col4,#T_99f61eb4_cd94_11ed_bdbb_96000040dfb6row13_col5,#T_99f61eb4_cd94_11ed_bdbb_96000040dfb6row13_col6,#T_99f61eb4_cd94_11ed_bdbb_96000040dfb6row13_col7,#T_99f61eb4_cd94_11ed_bdbb_96000040dfb6row13_col8,#T_99f61eb4_cd94_11ed_bdbb_96000040dfb6row13_col9,#T_99f61eb4_cd94_11ed_bdbb_96000040dfb6row13_col10,#T_99f61eb4_cd94_11ed_bdbb_96000040dfb6row13_col11,#T_99f61eb4_cd94_11ed_bdbb_96000040dfb6row13_col12{\n",
       "            background-color:  #000000;\n",
       "            color:  #f1f1f1;\n",
       "            background-color:  white;\n",
       "        }#T_99f61eb4_cd94_11ed_bdbb_96000040dfb6row3_col1{\n",
       "            background-color:  #46c06f;\n",
       "            color:  #000000;\n",
       "        }#T_99f61eb4_cd94_11ed_bdbb_96000040dfb6row3_col2{\n",
       "            background-color:  #44bf70;\n",
       "            color:  #000000;\n",
       "        }#T_99f61eb4_cd94_11ed_bdbb_96000040dfb6row3_col3{\n",
       "            background-color:  #70cf57;\n",
       "            color:  #000000;\n",
       "        }#T_99f61eb4_cd94_11ed_bdbb_96000040dfb6row3_col5,#T_99f61eb4_cd94_11ed_bdbb_96000040dfb6row6_col3{\n",
       "            background-color:  #d0e11c;\n",
       "            color:  #000000;\n",
       "        }#T_99f61eb4_cd94_11ed_bdbb_96000040dfb6row3_col6{\n",
       "            background-color:  #89d548;\n",
       "            color:  #000000;\n",
       "        }#T_99f61eb4_cd94_11ed_bdbb_96000040dfb6row3_col7{\n",
       "            background-color:  #287d8e;\n",
       "            color:  #000000;\n",
       "        }#T_99f61eb4_cd94_11ed_bdbb_96000040dfb6row3_col9{\n",
       "            background-color:  #c5e021;\n",
       "            color:  #000000;\n",
       "        }#T_99f61eb4_cd94_11ed_bdbb_96000040dfb6row4_col1{\n",
       "            background-color:  #a2da37;\n",
       "            color:  #000000;\n",
       "        }#T_99f61eb4_cd94_11ed_bdbb_96000040dfb6row4_col2{\n",
       "            background-color:  #1f9a8a;\n",
       "            color:  #000000;\n",
       "        }#T_99f61eb4_cd94_11ed_bdbb_96000040dfb6row4_col3{\n",
       "            background-color:  #b2dd2d;\n",
       "            color:  #000000;\n",
       "        }#T_99f61eb4_cd94_11ed_bdbb_96000040dfb6row4_col4{\n",
       "            background-color:  #4cc26c;\n",
       "            color:  #000000;\n",
       "        }#T_99f61eb4_cd94_11ed_bdbb_96000040dfb6row4_col5,#T_99f61eb4_cd94_11ed_bdbb_96000040dfb6row5_col3{\n",
       "            background-color:  #c0df25;\n",
       "            color:  #000000;\n",
       "        }#T_99f61eb4_cd94_11ed_bdbb_96000040dfb6row4_col7{\n",
       "            background-color:  #73d056;\n",
       "            color:  #000000;\n",
       "        }#T_99f61eb4_cd94_11ed_bdbb_96000040dfb6row4_col8{\n",
       "            background-color:  #48c16e;\n",
       "            color:  #000000;\n",
       "        }#T_99f61eb4_cd94_11ed_bdbb_96000040dfb6row5_col5,#T_99f61eb4_cd94_11ed_bdbb_96000040dfb6row5_col7{\n",
       "            background-color:  #25ac82;\n",
       "            color:  #000000;\n",
       "        }#T_99f61eb4_cd94_11ed_bdbb_96000040dfb6row5_col6,#T_99f61eb4_cd94_11ed_bdbb_96000040dfb6row9_col3{\n",
       "            background-color:  #ece51b;\n",
       "            color:  #000000;\n",
       "        }#T_99f61eb4_cd94_11ed_bdbb_96000040dfb6row6_col1{\n",
       "            background-color:  #34b679;\n",
       "            color:  #000000;\n",
       "        }#T_99f61eb4_cd94_11ed_bdbb_96000040dfb6row6_col2{\n",
       "            background-color:  #81d34d;\n",
       "            color:  #000000;\n",
       "        }#T_99f61eb4_cd94_11ed_bdbb_96000040dfb6row6_col4{\n",
       "            background-color:  #23888e;\n",
       "            color:  #000000;\n",
       "        }#T_99f61eb4_cd94_11ed_bdbb_96000040dfb6row6_col6{\n",
       "            background-color:  #f8e621;\n",
       "            color:  #000000;\n",
       "        }#T_99f61eb4_cd94_11ed_bdbb_96000040dfb6row7_col1{\n",
       "            background-color:  #20928c;\n",
       "            color:  #000000;\n",
       "        }#T_99f61eb4_cd94_11ed_bdbb_96000040dfb6row7_col3{\n",
       "            background-color:  #bddf26;\n",
       "            color:  #000000;\n",
       "        }#T_99f61eb4_cd94_11ed_bdbb_96000040dfb6row7_col4{\n",
       "            background-color:  #6ccd5a;\n",
       "            color:  #000000;\n",
       "        }#T_99f61eb4_cd94_11ed_bdbb_96000040dfb6row7_col5{\n",
       "            background-color:  #90d743;\n",
       "            color:  #000000;\n",
       "        }#T_99f61eb4_cd94_11ed_bdbb_96000040dfb6row8_col1{\n",
       "            background-color:  #32b67a;\n",
       "            color:  #000000;\n",
       "        }#T_99f61eb4_cd94_11ed_bdbb_96000040dfb6row8_col3{\n",
       "            background-color:  #69cd5b;\n",
       "            color:  #000000;\n",
       "        }#T_99f61eb4_cd94_11ed_bdbb_96000040dfb6row8_col4{\n",
       "            background-color:  #3aba76;\n",
       "            color:  #000000;\n",
       "        }#T_99f61eb4_cd94_11ed_bdbb_96000040dfb6row9_col1{\n",
       "            background-color:  #26ad81;\n",
       "            color:  #000000;\n",
       "        }#T_99f61eb4_cd94_11ed_bdbb_96000040dfb6row9_col2{\n",
       "            background-color:  #2e6f8e;\n",
       "            color:  #f1f1f1;\n",
       "        }#T_99f61eb4_cd94_11ed_bdbb_96000040dfb6row10_col2{\n",
       "            background-color:  #a8db34;\n",
       "            color:  #000000;\n",
       "        }#T_99f61eb4_cd94_11ed_bdbb_96000040dfb6row11_col1{\n",
       "            background-color:  #31b57b;\n",
       "            color:  #000000;\n",
       "        }</style><table id=\"T_99f61eb4_cd94_11ed_bdbb_96000040dfb6\" ><caption>User retention by cohort</caption><thead>    <tr>        <th class=\"index_name level0\" >delta_days</th>        <th class=\"col_heading level0 col0\" >0</th>        <th class=\"col_heading level0 col1\" >1</th>        <th class=\"col_heading level0 col2\" >2</th>        <th class=\"col_heading level0 col3\" >3</th>        <th class=\"col_heading level0 col4\" >4</th>        <th class=\"col_heading level0 col5\" >5</th>        <th class=\"col_heading level0 col6\" >6</th>        <th class=\"col_heading level0 col7\" >7</th>        <th class=\"col_heading level0 col8\" >8</th>        <th class=\"col_heading level0 col9\" >9</th>        <th class=\"col_heading level0 col10\" >10</th>        <th class=\"col_heading level0 col11\" >11</th>        <th class=\"col_heading level0 col12\" >12</th>        <th class=\"col_heading level0 col13\" >13</th>    </tr>    <tr>        <th class=\"index_name level0\" >reg_ts</th>        <th class=\"blank\" ></th>        <th class=\"blank\" ></th>        <th class=\"blank\" ></th>        <th class=\"blank\" ></th>        <th class=\"blank\" ></th>        <th class=\"blank\" ></th>        <th class=\"blank\" ></th>        <th class=\"blank\" ></th>        <th class=\"blank\" ></th>        <th class=\"blank\" ></th>        <th class=\"blank\" ></th>        <th class=\"blank\" ></th>        <th class=\"blank\" ></th>        <th class=\"blank\" ></th>    </tr></thead><tbody>\n",
       "                <tr>\n",
       "                        <th id=\"T_99f61eb4_cd94_11ed_bdbb_96000040dfb6level0_row0\" class=\"row_heading level0 row0\" >2020-09-10</th>\n",
       "                        <td id=\"T_99f61eb4_cd94_11ed_bdbb_96000040dfb6row0_col0\" class=\"data row0 col0\" >100.00%</td>\n",
       "                        <td id=\"T_99f61eb4_cd94_11ed_bdbb_96000040dfb6row0_col1\" class=\"data row0 col1\" >2.05%</td>\n",
       "                        <td id=\"T_99f61eb4_cd94_11ed_bdbb_96000040dfb6row0_col2\" class=\"data row0 col2\" >4.29%</td>\n",
       "                        <td id=\"T_99f61eb4_cd94_11ed_bdbb_96000040dfb6row0_col3\" class=\"data row0 col3\" >4.79%</td>\n",
       "                        <td id=\"T_99f61eb4_cd94_11ed_bdbb_96000040dfb6row0_col4\" class=\"data row0 col4\" >4.23%</td>\n",
       "                        <td id=\"T_99f61eb4_cd94_11ed_bdbb_96000040dfb6row0_col5\" class=\"data row0 col5\" >6.77%</td>\n",
       "                        <td id=\"T_99f61eb4_cd94_11ed_bdbb_96000040dfb6row0_col6\" class=\"data row0 col6\" >6.28%</td>\n",
       "                        <td id=\"T_99f61eb4_cd94_11ed_bdbb_96000040dfb6row0_col7\" class=\"data row0 col7\" >7.09%</td>\n",
       "                        <td id=\"T_99f61eb4_cd94_11ed_bdbb_96000040dfb6row0_col8\" class=\"data row0 col8\" >4.85%</td>\n",
       "                        <td id=\"T_99f61eb4_cd94_11ed_bdbb_96000040dfb6row0_col9\" class=\"data row0 col9\" >4.54%</td>\n",
       "                        <td id=\"T_99f61eb4_cd94_11ed_bdbb_96000040dfb6row0_col10\" class=\"data row0 col10\" >5.66%</td>\n",
       "                        <td id=\"T_99f61eb4_cd94_11ed_bdbb_96000040dfb6row0_col11\" class=\"data row0 col11\" >4.72%</td>\n",
       "                        <td id=\"T_99f61eb4_cd94_11ed_bdbb_96000040dfb6row0_col12\" class=\"data row0 col12\" >5.22%</td>\n",
       "                        <td id=\"T_99f61eb4_cd94_11ed_bdbb_96000040dfb6row0_col13\" class=\"data row0 col13\" >3.60%</td>\n",
       "            </tr>\n",
       "            <tr>\n",
       "                        <th id=\"T_99f61eb4_cd94_11ed_bdbb_96000040dfb6level0_row1\" class=\"row_heading level0 row1\" >2020-09-11</th>\n",
       "                        <td id=\"T_99f61eb4_cd94_11ed_bdbb_96000040dfb6row1_col0\" class=\"data row1 col0\" >100.00%</td>\n",
       "                        <td id=\"T_99f61eb4_cd94_11ed_bdbb_96000040dfb6row1_col1\" class=\"data row1 col1\" >1.30%</td>\n",
       "                        <td id=\"T_99f61eb4_cd94_11ed_bdbb_96000040dfb6row1_col2\" class=\"data row1 col2\" >4.03%</td>\n",
       "                        <td id=\"T_99f61eb4_cd94_11ed_bdbb_96000040dfb6row1_col3\" class=\"data row1 col3\" >4.53%</td>\n",
       "                        <td id=\"T_99f61eb4_cd94_11ed_bdbb_96000040dfb6row1_col4\" class=\"data row1 col4\" >5.65%</td>\n",
       "                        <td id=\"T_99f61eb4_cd94_11ed_bdbb_96000040dfb6row1_col5\" class=\"data row1 col5\" >5.71%</td>\n",
       "                        <td id=\"T_99f61eb4_cd94_11ed_bdbb_96000040dfb6row1_col6\" class=\"data row1 col6\" >6.70%</td>\n",
       "                        <td id=\"T_99f61eb4_cd94_11ed_bdbb_96000040dfb6row1_col7\" class=\"data row1 col7\" >6.33%</td>\n",
       "                        <td id=\"T_99f61eb4_cd94_11ed_bdbb_96000040dfb6row1_col8\" class=\"data row1 col8\" >4.40%</td>\n",
       "                        <td id=\"T_99f61eb4_cd94_11ed_bdbb_96000040dfb6row1_col9\" class=\"data row1 col9\" >4.65%</td>\n",
       "                        <td id=\"T_99f61eb4_cd94_11ed_bdbb_96000040dfb6row1_col10\" class=\"data row1 col10\" >5.40%</td>\n",
       "                        <td id=\"T_99f61eb4_cd94_11ed_bdbb_96000040dfb6row1_col11\" class=\"data row1 col11\" >5.33%</td>\n",
       "                        <td id=\"T_99f61eb4_cd94_11ed_bdbb_96000040dfb6row1_col12\" class=\"data row1 col12\" >3.29%</td>\n",
       "                        <td id=\"T_99f61eb4_cd94_11ed_bdbb_96000040dfb6row1_col13\" class=\"data row1 col13\" ></td>\n",
       "            </tr>\n",
       "            <tr>\n",
       "                        <th id=\"T_99f61eb4_cd94_11ed_bdbb_96000040dfb6level0_row2\" class=\"row_heading level0 row2\" >2020-09-12</th>\n",
       "                        <td id=\"T_99f61eb4_cd94_11ed_bdbb_96000040dfb6row2_col0\" class=\"data row2 col0\" >100.00%</td>\n",
       "                        <td id=\"T_99f61eb4_cd94_11ed_bdbb_96000040dfb6row2_col1\" class=\"data row2 col1\" >1.92%</td>\n",
       "                        <td id=\"T_99f61eb4_cd94_11ed_bdbb_96000040dfb6row2_col2\" class=\"data row2 col2\" >3.84%</td>\n",
       "                        <td id=\"T_99f61eb4_cd94_11ed_bdbb_96000040dfb6row2_col3\" class=\"data row2 col3\" >4.71%</td>\n",
       "                        <td id=\"T_99f61eb4_cd94_11ed_bdbb_96000040dfb6row2_col4\" class=\"data row2 col4\" >4.65%</td>\n",
       "                        <td id=\"T_99f61eb4_cd94_11ed_bdbb_96000040dfb6row2_col5\" class=\"data row2 col5\" >6.07%</td>\n",
       "                        <td id=\"T_99f61eb4_cd94_11ed_bdbb_96000040dfb6row2_col6\" class=\"data row2 col6\" >6.57%</td>\n",
       "                        <td id=\"T_99f61eb4_cd94_11ed_bdbb_96000040dfb6row2_col7\" class=\"data row2 col7\" >5.76%</td>\n",
       "                        <td id=\"T_99f61eb4_cd94_11ed_bdbb_96000040dfb6row2_col8\" class=\"data row2 col8\" >5.27%</td>\n",
       "                        <td id=\"T_99f61eb4_cd94_11ed_bdbb_96000040dfb6row2_col9\" class=\"data row2 col9\" >5.14%</td>\n",
       "                        <td id=\"T_99f61eb4_cd94_11ed_bdbb_96000040dfb6row2_col10\" class=\"data row2 col10\" >5.70%</td>\n",
       "                        <td id=\"T_99f61eb4_cd94_11ed_bdbb_96000040dfb6row2_col11\" class=\"data row2 col11\" >2.54%</td>\n",
       "                        <td id=\"T_99f61eb4_cd94_11ed_bdbb_96000040dfb6row2_col12\" class=\"data row2 col12\" ></td>\n",
       "                        <td id=\"T_99f61eb4_cd94_11ed_bdbb_96000040dfb6row2_col13\" class=\"data row2 col13\" ></td>\n",
       "            </tr>\n",
       "            <tr>\n",
       "                        <th id=\"T_99f61eb4_cd94_11ed_bdbb_96000040dfb6level0_row3\" class=\"row_heading level0 row3\" >2020-09-13</th>\n",
       "                        <td id=\"T_99f61eb4_cd94_11ed_bdbb_96000040dfb6row3_col0\" class=\"data row3 col0\" >100.00%</td>\n",
       "                        <td id=\"T_99f61eb4_cd94_11ed_bdbb_96000040dfb6row3_col1\" class=\"data row3 col1\" >1.98%</td>\n",
       "                        <td id=\"T_99f61eb4_cd94_11ed_bdbb_96000040dfb6row3_col2\" class=\"data row3 col2\" >4.08%</td>\n",
       "                        <td id=\"T_99f61eb4_cd94_11ed_bdbb_96000040dfb6row3_col3\" class=\"data row3 col3\" >4.26%</td>\n",
       "                        <td id=\"T_99f61eb4_cd94_11ed_bdbb_96000040dfb6row3_col4\" class=\"data row3 col4\" >5.13%</td>\n",
       "                        <td id=\"T_99f61eb4_cd94_11ed_bdbb_96000040dfb6row3_col5\" class=\"data row3 col5\" >6.55%</td>\n",
       "                        <td id=\"T_99f61eb4_cd94_11ed_bdbb_96000040dfb6row3_col6\" class=\"data row3 col6\" >6.49%</td>\n",
       "                        <td id=\"T_99f61eb4_cd94_11ed_bdbb_96000040dfb6row3_col7\" class=\"data row3 col7\" >4.94%</td>\n",
       "                        <td id=\"T_99f61eb4_cd94_11ed_bdbb_96000040dfb6row3_col8\" class=\"data row3 col8\" >4.70%</td>\n",
       "                        <td id=\"T_99f61eb4_cd94_11ed_bdbb_96000040dfb6row3_col9\" class=\"data row3 col9\" >4.94%</td>\n",
       "                        <td id=\"T_99f61eb4_cd94_11ed_bdbb_96000040dfb6row3_col10\" class=\"data row3 col10\" >3.58%</td>\n",
       "                        <td id=\"T_99f61eb4_cd94_11ed_bdbb_96000040dfb6row3_col11\" class=\"data row3 col11\" ></td>\n",
       "                        <td id=\"T_99f61eb4_cd94_11ed_bdbb_96000040dfb6row3_col12\" class=\"data row3 col12\" ></td>\n",
       "                        <td id=\"T_99f61eb4_cd94_11ed_bdbb_96000040dfb6row3_col13\" class=\"data row3 col13\" ></td>\n",
       "            </tr>\n",
       "            <tr>\n",
       "                        <th id=\"T_99f61eb4_cd94_11ed_bdbb_96000040dfb6level0_row4\" class=\"row_heading level0 row4\" >2020-09-14</th>\n",
       "                        <td id=\"T_99f61eb4_cd94_11ed_bdbb_96000040dfb6row4_col0\" class=\"data row4 col0\" >100.00%</td>\n",
       "                        <td id=\"T_99f61eb4_cd94_11ed_bdbb_96000040dfb6row4_col1\" class=\"data row4 col1\" >2.22%</td>\n",
       "                        <td id=\"T_99f61eb4_cd94_11ed_bdbb_96000040dfb6row4_col2\" class=\"data row4 col2\" >3.83%</td>\n",
       "                        <td id=\"T_99f61eb4_cd94_11ed_bdbb_96000040dfb6row4_col3\" class=\"data row4 col3\" >4.51%</td>\n",
       "                        <td id=\"T_99f61eb4_cd94_11ed_bdbb_96000040dfb6row4_col4\" class=\"data row4 col4\" >5.31%</td>\n",
       "                        <td id=\"T_99f61eb4_cd94_11ed_bdbb_96000040dfb6row4_col5\" class=\"data row4 col5\" >6.49%</td>\n",
       "                        <td id=\"T_99f61eb4_cd94_11ed_bdbb_96000040dfb6row4_col6\" class=\"data row4 col6\" >6.98%</td>\n",
       "                        <td id=\"T_99f61eb4_cd94_11ed_bdbb_96000040dfb6row4_col7\" class=\"data row4 col7\" >6.30%</td>\n",
       "                        <td id=\"T_99f61eb4_cd94_11ed_bdbb_96000040dfb6row4_col8\" class=\"data row4 col8\" >4.45%</td>\n",
       "                        <td id=\"T_99f61eb4_cd94_11ed_bdbb_96000040dfb6row4_col9\" class=\"data row4 col9\" >2.90%</td>\n",
       "                        <td id=\"T_99f61eb4_cd94_11ed_bdbb_96000040dfb6row4_col10\" class=\"data row4 col10\" ></td>\n",
       "                        <td id=\"T_99f61eb4_cd94_11ed_bdbb_96000040dfb6row4_col11\" class=\"data row4 col11\" ></td>\n",
       "                        <td id=\"T_99f61eb4_cd94_11ed_bdbb_96000040dfb6row4_col12\" class=\"data row4 col12\" ></td>\n",
       "                        <td id=\"T_99f61eb4_cd94_11ed_bdbb_96000040dfb6row4_col13\" class=\"data row4 col13\" ></td>\n",
       "            </tr>\n",
       "            <tr>\n",
       "                        <th id=\"T_99f61eb4_cd94_11ed_bdbb_96000040dfb6level0_row5\" class=\"row_heading level0 row5\" >2020-09-15</th>\n",
       "                        <td id=\"T_99f61eb4_cd94_11ed_bdbb_96000040dfb6row5_col0\" class=\"data row5 col0\" >100.00%</td>\n",
       "                        <td id=\"T_99f61eb4_cd94_11ed_bdbb_96000040dfb6row5_col1\" class=\"data row5 col1\" >2.22%</td>\n",
       "                        <td id=\"T_99f61eb4_cd94_11ed_bdbb_96000040dfb6row5_col2\" class=\"data row5 col2\" >4.07%</td>\n",
       "                        <td id=\"T_99f61eb4_cd94_11ed_bdbb_96000040dfb6row5_col3\" class=\"data row5 col3\" >4.56%</td>\n",
       "                        <td id=\"T_99f61eb4_cd94_11ed_bdbb_96000040dfb6row5_col4\" class=\"data row5 col4\" >6.04%</td>\n",
       "                        <td id=\"T_99f61eb4_cd94_11ed_bdbb_96000040dfb6row5_col5\" class=\"data row5 col5\" >5.61%</td>\n",
       "                        <td id=\"T_99f61eb4_cd94_11ed_bdbb_96000040dfb6row5_col6\" class=\"data row5 col6\" >6.90%</td>\n",
       "                        <td id=\"T_99f61eb4_cd94_11ed_bdbb_96000040dfb6row5_col7\" class=\"data row5 col7\" >5.67%</td>\n",
       "                        <td id=\"T_99f61eb4_cd94_11ed_bdbb_96000040dfb6row5_col8\" class=\"data row5 col8\" >2.46%</td>\n",
       "                        <td id=\"T_99f61eb4_cd94_11ed_bdbb_96000040dfb6row5_col9\" class=\"data row5 col9\" ></td>\n",
       "                        <td id=\"T_99f61eb4_cd94_11ed_bdbb_96000040dfb6row5_col10\" class=\"data row5 col10\" ></td>\n",
       "                        <td id=\"T_99f61eb4_cd94_11ed_bdbb_96000040dfb6row5_col11\" class=\"data row5 col11\" ></td>\n",
       "                        <td id=\"T_99f61eb4_cd94_11ed_bdbb_96000040dfb6row5_col12\" class=\"data row5 col12\" ></td>\n",
       "                        <td id=\"T_99f61eb4_cd94_11ed_bdbb_96000040dfb6row5_col13\" class=\"data row5 col13\" ></td>\n",
       "            </tr>\n",
       "            <tr>\n",
       "                        <th id=\"T_99f61eb4_cd94_11ed_bdbb_96000040dfb6level0_row6\" class=\"row_heading level0 row6\" >2020-09-16</th>\n",
       "                        <td id=\"T_99f61eb4_cd94_11ed_bdbb_96000040dfb6row6_col0\" class=\"data row6 col0\" >100.00%</td>\n",
       "                        <td id=\"T_99f61eb4_cd94_11ed_bdbb_96000040dfb6row6_col1\" class=\"data row6 col1\" >1.91%</td>\n",
       "                        <td id=\"T_99f61eb4_cd94_11ed_bdbb_96000040dfb6row6_col2\" class=\"data row6 col2\" >4.25%</td>\n",
       "                        <td id=\"T_99f61eb4_cd94_11ed_bdbb_96000040dfb6row6_col3\" class=\"data row6 col3\" >4.62%</td>\n",
       "                        <td id=\"T_99f61eb4_cd94_11ed_bdbb_96000040dfb6row6_col4\" class=\"data row6 col4\" >4.68%</td>\n",
       "                        <td id=\"T_99f61eb4_cd94_11ed_bdbb_96000040dfb6row6_col5\" class=\"data row6 col5\" >6.77%</td>\n",
       "                        <td id=\"T_99f61eb4_cd94_11ed_bdbb_96000040dfb6row6_col6\" class=\"data row6 col6\" >6.95%</td>\n",
       "                        <td id=\"T_99f61eb4_cd94_11ed_bdbb_96000040dfb6row6_col7\" class=\"data row6 col7\" >3.38%</td>\n",
       "                        <td id=\"T_99f61eb4_cd94_11ed_bdbb_96000040dfb6row6_col8\" class=\"data row6 col8\" ></td>\n",
       "                        <td id=\"T_99f61eb4_cd94_11ed_bdbb_96000040dfb6row6_col9\" class=\"data row6 col9\" ></td>\n",
       "                        <td id=\"T_99f61eb4_cd94_11ed_bdbb_96000040dfb6row6_col10\" class=\"data row6 col10\" ></td>\n",
       "                        <td id=\"T_99f61eb4_cd94_11ed_bdbb_96000040dfb6row6_col11\" class=\"data row6 col11\" ></td>\n",
       "                        <td id=\"T_99f61eb4_cd94_11ed_bdbb_96000040dfb6row6_col12\" class=\"data row6 col12\" ></td>\n",
       "                        <td id=\"T_99f61eb4_cd94_11ed_bdbb_96000040dfb6row6_col13\" class=\"data row6 col13\" ></td>\n",
       "            </tr>\n",
       "            <tr>\n",
       "                        <th id=\"T_99f61eb4_cd94_11ed_bdbb_96000040dfb6level0_row7\" class=\"row_heading level0 row7\" >2020-09-17</th>\n",
       "                        <td id=\"T_99f61eb4_cd94_11ed_bdbb_96000040dfb6row7_col0\" class=\"data row7 col0\" >100.00%</td>\n",
       "                        <td id=\"T_99f61eb4_cd94_11ed_bdbb_96000040dfb6row7_col1\" class=\"data row7 col1\" >1.66%</td>\n",
       "                        <td id=\"T_99f61eb4_cd94_11ed_bdbb_96000040dfb6row7_col2\" class=\"data row7 col2\" >4.30%</td>\n",
       "                        <td id=\"T_99f61eb4_cd94_11ed_bdbb_96000040dfb6row7_col3\" class=\"data row7 col3\" >4.55%</td>\n",
       "                        <td id=\"T_99f61eb4_cd94_11ed_bdbb_96000040dfb6row7_col4\" class=\"data row7 col4\" >5.47%</td>\n",
       "                        <td id=\"T_99f61eb4_cd94_11ed_bdbb_96000040dfb6row7_col5\" class=\"data row7 col5\" >6.27%</td>\n",
       "                        <td id=\"T_99f61eb4_cd94_11ed_bdbb_96000040dfb6row7_col6\" class=\"data row7 col6\" >4.24%</td>\n",
       "                        <td id=\"T_99f61eb4_cd94_11ed_bdbb_96000040dfb6row7_col7\" class=\"data row7 col7\" ></td>\n",
       "                        <td id=\"T_99f61eb4_cd94_11ed_bdbb_96000040dfb6row7_col8\" class=\"data row7 col8\" ></td>\n",
       "                        <td id=\"T_99f61eb4_cd94_11ed_bdbb_96000040dfb6row7_col9\" class=\"data row7 col9\" ></td>\n",
       "                        <td id=\"T_99f61eb4_cd94_11ed_bdbb_96000040dfb6row7_col10\" class=\"data row7 col10\" ></td>\n",
       "                        <td id=\"T_99f61eb4_cd94_11ed_bdbb_96000040dfb6row7_col11\" class=\"data row7 col11\" ></td>\n",
       "                        <td id=\"T_99f61eb4_cd94_11ed_bdbb_96000040dfb6row7_col12\" class=\"data row7 col12\" ></td>\n",
       "                        <td id=\"T_99f61eb4_cd94_11ed_bdbb_96000040dfb6row7_col13\" class=\"data row7 col13\" ></td>\n",
       "            </tr>\n",
       "            <tr>\n",
       "                        <th id=\"T_99f61eb4_cd94_11ed_bdbb_96000040dfb6level0_row8\" class=\"row_heading level0 row8\" >2020-09-18</th>\n",
       "                        <td id=\"T_99f61eb4_cd94_11ed_bdbb_96000040dfb6row8_col0\" class=\"data row8 col0\" >100.00%</td>\n",
       "                        <td id=\"T_99f61eb4_cd94_11ed_bdbb_96000040dfb6row8_col1\" class=\"data row8 col1\" >1.90%</td>\n",
       "                        <td id=\"T_99f61eb4_cd94_11ed_bdbb_96000040dfb6row8_col2\" class=\"data row8 col2\" >4.54%</td>\n",
       "                        <td id=\"T_99f61eb4_cd94_11ed_bdbb_96000040dfb6row8_col3\" class=\"data row8 col3\" >4.23%</td>\n",
       "                        <td id=\"T_99f61eb4_cd94_11ed_bdbb_96000040dfb6row8_col4\" class=\"data row8 col4\" >5.21%</td>\n",
       "                        <td id=\"T_99f61eb4_cd94_11ed_bdbb_96000040dfb6row8_col5\" class=\"data row8 col5\" >3.74%</td>\n",
       "                        <td id=\"T_99f61eb4_cd94_11ed_bdbb_96000040dfb6row8_col6\" class=\"data row8 col6\" ></td>\n",
       "                        <td id=\"T_99f61eb4_cd94_11ed_bdbb_96000040dfb6row8_col7\" class=\"data row8 col7\" ></td>\n",
       "                        <td id=\"T_99f61eb4_cd94_11ed_bdbb_96000040dfb6row8_col8\" class=\"data row8 col8\" ></td>\n",
       "                        <td id=\"T_99f61eb4_cd94_11ed_bdbb_96000040dfb6row8_col9\" class=\"data row8 col9\" ></td>\n",
       "                        <td id=\"T_99f61eb4_cd94_11ed_bdbb_96000040dfb6row8_col10\" class=\"data row8 col10\" ></td>\n",
       "                        <td id=\"T_99f61eb4_cd94_11ed_bdbb_96000040dfb6row8_col11\" class=\"data row8 col11\" ></td>\n",
       "                        <td id=\"T_99f61eb4_cd94_11ed_bdbb_96000040dfb6row8_col12\" class=\"data row8 col12\" ></td>\n",
       "                        <td id=\"T_99f61eb4_cd94_11ed_bdbb_96000040dfb6row8_col13\" class=\"data row8 col13\" ></td>\n",
       "            </tr>\n",
       "            <tr>\n",
       "                        <th id=\"T_99f61eb4_cd94_11ed_bdbb_96000040dfb6level0_row9\" class=\"row_heading level0 row9\" >2020-09-19</th>\n",
       "                        <td id=\"T_99f61eb4_cd94_11ed_bdbb_96000040dfb6row9_col0\" class=\"data row9 col0\" >100.00%</td>\n",
       "                        <td id=\"T_99f61eb4_cd94_11ed_bdbb_96000040dfb6row9_col1\" class=\"data row9 col1\" >1.84%</td>\n",
       "                        <td id=\"T_99f61eb4_cd94_11ed_bdbb_96000040dfb6row9_col2\" class=\"data row9 col2\" >3.55%</td>\n",
       "                        <td id=\"T_99f61eb4_cd94_11ed_bdbb_96000040dfb6row9_col3\" class=\"data row9 col3\" >4.71%</td>\n",
       "                        <td id=\"T_99f61eb4_cd94_11ed_bdbb_96000040dfb6row9_col4\" class=\"data row9 col4\" >3.49%</td>\n",
       "                        <td id=\"T_99f61eb4_cd94_11ed_bdbb_96000040dfb6row9_col5\" class=\"data row9 col5\" ></td>\n",
       "                        <td id=\"T_99f61eb4_cd94_11ed_bdbb_96000040dfb6row9_col6\" class=\"data row9 col6\" ></td>\n",
       "                        <td id=\"T_99f61eb4_cd94_11ed_bdbb_96000040dfb6row9_col7\" class=\"data row9 col7\" ></td>\n",
       "                        <td id=\"T_99f61eb4_cd94_11ed_bdbb_96000040dfb6row9_col8\" class=\"data row9 col8\" ></td>\n",
       "                        <td id=\"T_99f61eb4_cd94_11ed_bdbb_96000040dfb6row9_col9\" class=\"data row9 col9\" ></td>\n",
       "                        <td id=\"T_99f61eb4_cd94_11ed_bdbb_96000040dfb6row9_col10\" class=\"data row9 col10\" ></td>\n",
       "                        <td id=\"T_99f61eb4_cd94_11ed_bdbb_96000040dfb6row9_col11\" class=\"data row9 col11\" ></td>\n",
       "                        <td id=\"T_99f61eb4_cd94_11ed_bdbb_96000040dfb6row9_col12\" class=\"data row9 col12\" ></td>\n",
       "                        <td id=\"T_99f61eb4_cd94_11ed_bdbb_96000040dfb6row9_col13\" class=\"data row9 col13\" ></td>\n",
       "            </tr>\n",
       "            <tr>\n",
       "                        <th id=\"T_99f61eb4_cd94_11ed_bdbb_96000040dfb6level0_row10\" class=\"row_heading level0 row10\" >2020-09-20</th>\n",
       "                        <td id=\"T_99f61eb4_cd94_11ed_bdbb_96000040dfb6row10_col0\" class=\"data row10 col0\" >100.00%</td>\n",
       "                        <td id=\"T_99f61eb4_cd94_11ed_bdbb_96000040dfb6row10_col1\" class=\"data row10 col1\" >2.44%</td>\n",
       "                        <td id=\"T_99f61eb4_cd94_11ed_bdbb_96000040dfb6row10_col2\" class=\"data row10 col2\" >4.34%</td>\n",
       "                        <td id=\"T_99f61eb4_cd94_11ed_bdbb_96000040dfb6row10_col3\" class=\"data row10 col3\" >2.38%</td>\n",
       "                        <td id=\"T_99f61eb4_cd94_11ed_bdbb_96000040dfb6row10_col4\" class=\"data row10 col4\" ></td>\n",
       "                        <td id=\"T_99f61eb4_cd94_11ed_bdbb_96000040dfb6row10_col5\" class=\"data row10 col5\" ></td>\n",
       "                        <td id=\"T_99f61eb4_cd94_11ed_bdbb_96000040dfb6row10_col6\" class=\"data row10 col6\" ></td>\n",
       "                        <td id=\"T_99f61eb4_cd94_11ed_bdbb_96000040dfb6row10_col7\" class=\"data row10 col7\" ></td>\n",
       "                        <td id=\"T_99f61eb4_cd94_11ed_bdbb_96000040dfb6row10_col8\" class=\"data row10 col8\" ></td>\n",
       "                        <td id=\"T_99f61eb4_cd94_11ed_bdbb_96000040dfb6row10_col9\" class=\"data row10 col9\" ></td>\n",
       "                        <td id=\"T_99f61eb4_cd94_11ed_bdbb_96000040dfb6row10_col10\" class=\"data row10 col10\" ></td>\n",
       "                        <td id=\"T_99f61eb4_cd94_11ed_bdbb_96000040dfb6row10_col11\" class=\"data row10 col11\" ></td>\n",
       "                        <td id=\"T_99f61eb4_cd94_11ed_bdbb_96000040dfb6row10_col12\" class=\"data row10 col12\" ></td>\n",
       "                        <td id=\"T_99f61eb4_cd94_11ed_bdbb_96000040dfb6row10_col13\" class=\"data row10 col13\" ></td>\n",
       "            </tr>\n",
       "            <tr>\n",
       "                        <th id=\"T_99f61eb4_cd94_11ed_bdbb_96000040dfb6level0_row11\" class=\"row_heading level0 row11\" >2020-09-21</th>\n",
       "                        <td id=\"T_99f61eb4_cd94_11ed_bdbb_96000040dfb6row11_col0\" class=\"data row11 col0\" >100.00%</td>\n",
       "                        <td id=\"T_99f61eb4_cd94_11ed_bdbb_96000040dfb6row11_col1\" class=\"data row11 col1\" >1.89%</td>\n",
       "                        <td id=\"T_99f61eb4_cd94_11ed_bdbb_96000040dfb6row11_col2\" class=\"data row11 col2\" >2.99%</td>\n",
       "                        <td id=\"T_99f61eb4_cd94_11ed_bdbb_96000040dfb6row11_col3\" class=\"data row11 col3\" ></td>\n",
       "                        <td id=\"T_99f61eb4_cd94_11ed_bdbb_96000040dfb6row11_col4\" class=\"data row11 col4\" ></td>\n",
       "                        <td id=\"T_99f61eb4_cd94_11ed_bdbb_96000040dfb6row11_col5\" class=\"data row11 col5\" ></td>\n",
       "                        <td id=\"T_99f61eb4_cd94_11ed_bdbb_96000040dfb6row11_col6\" class=\"data row11 col6\" ></td>\n",
       "                        <td id=\"T_99f61eb4_cd94_11ed_bdbb_96000040dfb6row11_col7\" class=\"data row11 col7\" ></td>\n",
       "                        <td id=\"T_99f61eb4_cd94_11ed_bdbb_96000040dfb6row11_col8\" class=\"data row11 col8\" ></td>\n",
       "                        <td id=\"T_99f61eb4_cd94_11ed_bdbb_96000040dfb6row11_col9\" class=\"data row11 col9\" ></td>\n",
       "                        <td id=\"T_99f61eb4_cd94_11ed_bdbb_96000040dfb6row11_col10\" class=\"data row11 col10\" ></td>\n",
       "                        <td id=\"T_99f61eb4_cd94_11ed_bdbb_96000040dfb6row11_col11\" class=\"data row11 col11\" ></td>\n",
       "                        <td id=\"T_99f61eb4_cd94_11ed_bdbb_96000040dfb6row11_col12\" class=\"data row11 col12\" ></td>\n",
       "                        <td id=\"T_99f61eb4_cd94_11ed_bdbb_96000040dfb6row11_col13\" class=\"data row11 col13\" ></td>\n",
       "            </tr>\n",
       "            <tr>\n",
       "                        <th id=\"T_99f61eb4_cd94_11ed_bdbb_96000040dfb6level0_row12\" class=\"row_heading level0 row12\" >2020-09-22</th>\n",
       "                        <td id=\"T_99f61eb4_cd94_11ed_bdbb_96000040dfb6row12_col0\" class=\"data row12 col0\" >100.00%</td>\n",
       "                        <td id=\"T_99f61eb4_cd94_11ed_bdbb_96000040dfb6row12_col1\" class=\"data row12 col1\" >0.85%</td>\n",
       "                        <td id=\"T_99f61eb4_cd94_11ed_bdbb_96000040dfb6row12_col2\" class=\"data row12 col2\" ></td>\n",
       "                        <td id=\"T_99f61eb4_cd94_11ed_bdbb_96000040dfb6row12_col3\" class=\"data row12 col3\" ></td>\n",
       "                        <td id=\"T_99f61eb4_cd94_11ed_bdbb_96000040dfb6row12_col4\" class=\"data row12 col4\" ></td>\n",
       "                        <td id=\"T_99f61eb4_cd94_11ed_bdbb_96000040dfb6row12_col5\" class=\"data row12 col5\" ></td>\n",
       "                        <td id=\"T_99f61eb4_cd94_11ed_bdbb_96000040dfb6row12_col6\" class=\"data row12 col6\" ></td>\n",
       "                        <td id=\"T_99f61eb4_cd94_11ed_bdbb_96000040dfb6row12_col7\" class=\"data row12 col7\" ></td>\n",
       "                        <td id=\"T_99f61eb4_cd94_11ed_bdbb_96000040dfb6row12_col8\" class=\"data row12 col8\" ></td>\n",
       "                        <td id=\"T_99f61eb4_cd94_11ed_bdbb_96000040dfb6row12_col9\" class=\"data row12 col9\" ></td>\n",
       "                        <td id=\"T_99f61eb4_cd94_11ed_bdbb_96000040dfb6row12_col10\" class=\"data row12 col10\" ></td>\n",
       "                        <td id=\"T_99f61eb4_cd94_11ed_bdbb_96000040dfb6row12_col11\" class=\"data row12 col11\" ></td>\n",
       "                        <td id=\"T_99f61eb4_cd94_11ed_bdbb_96000040dfb6row12_col12\" class=\"data row12 col12\" ></td>\n",
       "                        <td id=\"T_99f61eb4_cd94_11ed_bdbb_96000040dfb6row12_col13\" class=\"data row12 col13\" ></td>\n",
       "            </tr>\n",
       "            <tr>\n",
       "                        <th id=\"T_99f61eb4_cd94_11ed_bdbb_96000040dfb6level0_row13\" class=\"row_heading level0 row13\" >2020-09-23</th>\n",
       "                        <td id=\"T_99f61eb4_cd94_11ed_bdbb_96000040dfb6row13_col0\" class=\"data row13 col0\" >100.00%</td>\n",
       "                        <td id=\"T_99f61eb4_cd94_11ed_bdbb_96000040dfb6row13_col1\" class=\"data row13 col1\" ></td>\n",
       "                        <td id=\"T_99f61eb4_cd94_11ed_bdbb_96000040dfb6row13_col2\" class=\"data row13 col2\" ></td>\n",
       "                        <td id=\"T_99f61eb4_cd94_11ed_bdbb_96000040dfb6row13_col3\" class=\"data row13 col3\" ></td>\n",
       "                        <td id=\"T_99f61eb4_cd94_11ed_bdbb_96000040dfb6row13_col4\" class=\"data row13 col4\" ></td>\n",
       "                        <td id=\"T_99f61eb4_cd94_11ed_bdbb_96000040dfb6row13_col5\" class=\"data row13 col5\" ></td>\n",
       "                        <td id=\"T_99f61eb4_cd94_11ed_bdbb_96000040dfb6row13_col6\" class=\"data row13 col6\" ></td>\n",
       "                        <td id=\"T_99f61eb4_cd94_11ed_bdbb_96000040dfb6row13_col7\" class=\"data row13 col7\" ></td>\n",
       "                        <td id=\"T_99f61eb4_cd94_11ed_bdbb_96000040dfb6row13_col8\" class=\"data row13 col8\" ></td>\n",
       "                        <td id=\"T_99f61eb4_cd94_11ed_bdbb_96000040dfb6row13_col9\" class=\"data row13 col9\" ></td>\n",
       "                        <td id=\"T_99f61eb4_cd94_11ed_bdbb_96000040dfb6row13_col10\" class=\"data row13 col10\" ></td>\n",
       "                        <td id=\"T_99f61eb4_cd94_11ed_bdbb_96000040dfb6row13_col11\" class=\"data row13 col11\" ></td>\n",
       "                        <td id=\"T_99f61eb4_cd94_11ed_bdbb_96000040dfb6row13_col12\" class=\"data row13 col12\" ></td>\n",
       "                        <td id=\"T_99f61eb4_cd94_11ed_bdbb_96000040dfb6row13_col13\" class=\"data row13 col13\" ></td>\n",
       "            </tr>\n",
       "    </tbody></table>"
      ],
      "text/plain": [
       "<pandas.io.formats.style.Styler at 0x7fa4c5e3ea58>"
      ]
     },
     "execution_count": 28,
     "metadata": {},
     "output_type": "execute_result"
    }
   ],
   "source": [
    "retention(df, start='2020-09-10')"
   ]
  },
  {
   "cell_type": "markdown",
   "metadata": {},
   "source": [
    "**Задание 2**\n",
    "\n",
    "Имеются результаты A/B теста, в котором двум группам пользователей предлагались различные наборы акционных предложений. Известно, что ARPU в тестовой группе выше на 5%, чем в контрольной. При этом в контрольной группе 1928 игроков из 202103 оказались платящими, а в тестовой – 1805 из 202667.\n",
    "\n",
    "Какой набор предложений можно считать лучшим? Какие метрики стоит проанализировать для принятия правильного решения и как?"
   ]
  },
  {
   "cell_type": "markdown",
   "metadata": {},
   "source": [
    "Напишем функцию загрузки файла с данными с Яндекс-диска"
   ]
  },
  {
   "cell_type": "code",
   "execution_count": 29,
   "metadata": {},
   "outputs": [],
   "source": [
    "# Функция для получения загрузочной ссылки с яндекс-диска:\n",
    "\n",
    "def download_yandex(public_key):\n",
    "    base_url = 'https://cloud-api.yandex.net/v1/disk/public/resources/download?' \n",
    "    final_url = base_url + urlencode(dict(public_key=public_key)) \n",
    "    response = requests.get(final_url) \n",
    "    download_url = response.json()['href'] \n",
    "    return download_url"
   ]
  },
  {
   "cell_type": "code",
   "execution_count": 30,
   "metadata": {},
   "outputs": [],
   "source": [
    "path = 'https://disk.yandex.ru/d/SOkIsD5A8xlI7Q' # Ссылка для скачивания"
   ]
  },
  {
   "cell_type": "code",
   "execution_count": 31,
   "metadata": {},
   "outputs": [],
   "source": [
    "df = pd.read_csv(download_yandex(path), sep= ';') # Загружаем файл в датафрейм"
   ]
  },
  {
   "cell_type": "code",
   "execution_count": 32,
   "metadata": {},
   "outputs": [
    {
     "data": {
      "text/html": [
       "<div>\n",
       "<style scoped>\n",
       "    .dataframe tbody tr th:only-of-type {\n",
       "        vertical-align: middle;\n",
       "    }\n",
       "\n",
       "    .dataframe tbody tr th {\n",
       "        vertical-align: top;\n",
       "    }\n",
       "\n",
       "    .dataframe thead th {\n",
       "        text-align: right;\n",
       "    }\n",
       "</style>\n",
       "<table border=\"1\" class=\"dataframe\">\n",
       "  <thead>\n",
       "    <tr style=\"text-align: right;\">\n",
       "      <th></th>\n",
       "      <th>user_id</th>\n",
       "      <th>revenue</th>\n",
       "      <th>testgroup</th>\n",
       "    </tr>\n",
       "  </thead>\n",
       "  <tbody>\n",
       "    <tr>\n",
       "      <th>0</th>\n",
       "      <td>1</td>\n",
       "      <td>0</td>\n",
       "      <td>b</td>\n",
       "    </tr>\n",
       "    <tr>\n",
       "      <th>1</th>\n",
       "      <td>2</td>\n",
       "      <td>0</td>\n",
       "      <td>a</td>\n",
       "    </tr>\n",
       "    <tr>\n",
       "      <th>2</th>\n",
       "      <td>3</td>\n",
       "      <td>0</td>\n",
       "      <td>a</td>\n",
       "    </tr>\n",
       "    <tr>\n",
       "      <th>3</th>\n",
       "      <td>4</td>\n",
       "      <td>0</td>\n",
       "      <td>b</td>\n",
       "    </tr>\n",
       "    <tr>\n",
       "      <th>4</th>\n",
       "      <td>5</td>\n",
       "      <td>0</td>\n",
       "      <td>b</td>\n",
       "    </tr>\n",
       "    <tr>\n",
       "      <th>...</th>\n",
       "      <td>...</td>\n",
       "      <td>...</td>\n",
       "      <td>...</td>\n",
       "    </tr>\n",
       "    <tr>\n",
       "      <th>404765</th>\n",
       "      <td>404766</td>\n",
       "      <td>0</td>\n",
       "      <td>a</td>\n",
       "    </tr>\n",
       "    <tr>\n",
       "      <th>404766</th>\n",
       "      <td>404767</td>\n",
       "      <td>0</td>\n",
       "      <td>b</td>\n",
       "    </tr>\n",
       "    <tr>\n",
       "      <th>404767</th>\n",
       "      <td>404768</td>\n",
       "      <td>231</td>\n",
       "      <td>a</td>\n",
       "    </tr>\n",
       "    <tr>\n",
       "      <th>404768</th>\n",
       "      <td>404769</td>\n",
       "      <td>0</td>\n",
       "      <td>a</td>\n",
       "    </tr>\n",
       "    <tr>\n",
       "      <th>404769</th>\n",
       "      <td>404770</td>\n",
       "      <td>0</td>\n",
       "      <td>b</td>\n",
       "    </tr>\n",
       "  </tbody>\n",
       "</table>\n",
       "<p>404770 rows × 3 columns</p>\n",
       "</div>"
      ],
      "text/plain": [
       "        user_id  revenue testgroup\n",
       "0             1        0         b\n",
       "1             2        0         a\n",
       "2             3        0         a\n",
       "3             4        0         b\n",
       "4             5        0         b\n",
       "...         ...      ...       ...\n",
       "404765   404766        0         a\n",
       "404766   404767        0         b\n",
       "404767   404768      231         a\n",
       "404768   404769        0         a\n",
       "404769   404770        0         b\n",
       "\n",
       "[404770 rows x 3 columns]"
      ]
     },
     "execution_count": 32,
     "metadata": {},
     "output_type": "execute_result"
    }
   ],
   "source": [
    "df"
   ]
  },
  {
   "cell_type": "code",
   "execution_count": 33,
   "metadata": {},
   "outputs": [
    {
     "data": {
      "text/plain": [
       "user_id       int64\n",
       "revenue       int64\n",
       "testgroup    object\n",
       "dtype: object"
      ]
     },
     "execution_count": 33,
     "metadata": {},
     "output_type": "execute_result"
    }
   ],
   "source": [
    "df.dtypes # Проверяем типы данных"
   ]
  },
  {
   "cell_type": "code",
   "execution_count": 34,
   "metadata": {},
   "outputs": [
    {
     "data": {
      "text/plain": [
       "user_id      0\n",
       "revenue      0\n",
       "testgroup    0\n",
       "dtype: int64"
      ]
     },
     "execution_count": 34,
     "metadata": {},
     "output_type": "execute_result"
    }
   ],
   "source": [
    "df.isna().sum() # Пропущенные значения"
   ]
  },
  {
   "cell_type": "markdown",
   "metadata": {},
   "source": [
    "Количество уникальных пользователей в контрольной и тестовой группе совпадает с количеством строк в датафрейме, значит дублирования id пользователей нет"
   ]
  },
  {
   "cell_type": "code",
   "execution_count": 35,
   "metadata": {},
   "outputs": [
    {
     "data": {
      "text/plain": [
       "404770"
      ]
     },
     "execution_count": 35,
     "metadata": {},
     "output_type": "execute_result"
    }
   ],
   "source": [
    "df.testgroup.value_counts().sum()"
   ]
  },
  {
   "cell_type": "code",
   "execution_count": 36,
   "metadata": {},
   "outputs": [
    {
     "data": {
      "text/plain": [
       "404770"
      ]
     },
     "execution_count": 36,
     "metadata": {},
     "output_type": "execute_result"
    }
   ],
   "source": [
    "df.shape[0]"
   ]
  },
  {
   "cell_type": "markdown",
   "metadata": {},
   "source": [
    "Посмотрим на количество платящих пользователей в группах"
   ]
  },
  {
   "cell_type": "code",
   "execution_count": 37,
   "metadata": {},
   "outputs": [
    {
     "data": {
      "text/plain": [
       "a    1928\n",
       "b    1805\n",
       "Name: testgroup, dtype: int64"
      ]
     },
     "execution_count": 37,
     "metadata": {},
     "output_type": "execute_result"
    }
   ],
   "source": [
    "df.query('revenue > 0').testgroup.value_counts()"
   ]
  },
  {
   "cell_type": "markdown",
   "metadata": {},
   "source": [
    "Для удобства переименуем названия групп на контрольную и тестовую"
   ]
  },
  {
   "cell_type": "code",
   "execution_count": 38,
   "metadata": {},
   "outputs": [
    {
     "data": {
      "text/html": [
       "<div>\n",
       "<style scoped>\n",
       "    .dataframe tbody tr th:only-of-type {\n",
       "        vertical-align: middle;\n",
       "    }\n",
       "\n",
       "    .dataframe tbody tr th {\n",
       "        vertical-align: top;\n",
       "    }\n",
       "\n",
       "    .dataframe thead th {\n",
       "        text-align: right;\n",
       "    }\n",
       "</style>\n",
       "<table border=\"1\" class=\"dataframe\">\n",
       "  <thead>\n",
       "    <tr style=\"text-align: right;\">\n",
       "      <th></th>\n",
       "      <th>user_id</th>\n",
       "      <th>revenue</th>\n",
       "      <th>testgroup</th>\n",
       "    </tr>\n",
       "  </thead>\n",
       "  <tbody>\n",
       "    <tr>\n",
       "      <th>0</th>\n",
       "      <td>1</td>\n",
       "      <td>0</td>\n",
       "      <td>test</td>\n",
       "    </tr>\n",
       "    <tr>\n",
       "      <th>1</th>\n",
       "      <td>2</td>\n",
       "      <td>0</td>\n",
       "      <td>control</td>\n",
       "    </tr>\n",
       "    <tr>\n",
       "      <th>2</th>\n",
       "      <td>3</td>\n",
       "      <td>0</td>\n",
       "      <td>control</td>\n",
       "    </tr>\n",
       "    <tr>\n",
       "      <th>3</th>\n",
       "      <td>4</td>\n",
       "      <td>0</td>\n",
       "      <td>test</td>\n",
       "    </tr>\n",
       "    <tr>\n",
       "      <th>4</th>\n",
       "      <td>5</td>\n",
       "      <td>0</td>\n",
       "      <td>test</td>\n",
       "    </tr>\n",
       "  </tbody>\n",
       "</table>\n",
       "</div>"
      ],
      "text/plain": [
       "   user_id  revenue testgroup\n",
       "0        1        0      test\n",
       "1        2        0   control\n",
       "2        3        0   control\n",
       "3        4        0      test\n",
       "4        5        0      test"
      ]
     },
     "execution_count": 38,
     "metadata": {},
     "output_type": "execute_result"
    }
   ],
   "source": [
    "df.testgroup = df.testgroup.apply(lambda x: 'control' if x =='a' else 'test')\n",
    "df.head()"
   ]
  },
  {
   "cell_type": "markdown",
   "metadata": {},
   "source": [
    "Добавим столбец для определения категории пользователей (платящие = 1, остальные =  0)"
   ]
  },
  {
   "cell_type": "code",
   "execution_count": 39,
   "metadata": {},
   "outputs": [],
   "source": [
    "\n",
    "df['payment'] = df.revenue.apply(lambda x: 1 if x > 0 else 0)\n",
    "    "
   ]
  },
  {
   "cell_type": "markdown",
   "metadata": {},
   "source": [
    "Сгруппируем датафрейм и рассчитаем conversion rate и ARPU в разрезе каждой группы"
   ]
  },
  {
   "cell_type": "code",
   "execution_count": 40,
   "metadata": {},
   "outputs": [
    {
     "data": {
      "text/html": [
       "<div>\n",
       "<style scoped>\n",
       "    .dataframe tbody tr th:only-of-type {\n",
       "        vertical-align: middle;\n",
       "    }\n",
       "\n",
       "    .dataframe tbody tr th {\n",
       "        vertical-align: top;\n",
       "    }\n",
       "\n",
       "    .dataframe thead th {\n",
       "        text-align: right;\n",
       "    }\n",
       "</style>\n",
       "<table border=\"1\" class=\"dataframe\">\n",
       "  <thead>\n",
       "    <tr style=\"text-align: right;\">\n",
       "      <th></th>\n",
       "      <th>testgroup</th>\n",
       "      <th>CR</th>\n",
       "      <th>ARPU</th>\n",
       "    </tr>\n",
       "  </thead>\n",
       "  <tbody>\n",
       "    <tr>\n",
       "      <th>0</th>\n",
       "      <td>control</td>\n",
       "      <td>0.009540</td>\n",
       "      <td>25.413720</td>\n",
       "    </tr>\n",
       "    <tr>\n",
       "      <th>1</th>\n",
       "      <td>test</td>\n",
       "      <td>0.008906</td>\n",
       "      <td>26.751287</td>\n",
       "    </tr>\n",
       "  </tbody>\n",
       "</table>\n",
       "</div>"
      ],
      "text/plain": [
       "  testgroup        CR       ARPU\n",
       "0   control  0.009540  25.413720\n",
       "1      test  0.008906  26.751287"
      ]
     },
     "execution_count": 40,
     "metadata": {},
     "output_type": "execute_result"
    }
   ],
   "source": [
    "groups = df.groupby('testgroup', as_index=False).agg({'payment': 'mean', 'revenue': 'mean'})\\\n",
    "    .rename(columns={'payment':'CR', 'revenue':'ARPU'})\n",
    "groups"
   ]
  },
  {
   "cell_type": "markdown",
   "metadata": {},
   "source": [
    "Рассчитаем выручку на каждую группу и количество платящих пользователей"
   ]
  },
  {
   "cell_type": "code",
   "execution_count": 41,
   "metadata": {},
   "outputs": [],
   "source": [
    "groups_1 =  df.groupby('testgroup', as_index=False).agg({'revenue':'sum', 'payment':'sum'})\\\n",
    "    .rename(columns={'payment':'paying_users'})"
   ]
  },
  {
   "cell_type": "markdown",
   "metadata": {},
   "source": [
    "Соединим 2 датафрейма"
   ]
  },
  {
   "cell_type": "code",
   "execution_count": 42,
   "metadata": {},
   "outputs": [
    {
     "data": {
      "text/html": [
       "<div>\n",
       "<style scoped>\n",
       "    .dataframe tbody tr th:only-of-type {\n",
       "        vertical-align: middle;\n",
       "    }\n",
       "\n",
       "    .dataframe tbody tr th {\n",
       "        vertical-align: top;\n",
       "    }\n",
       "\n",
       "    .dataframe thead th {\n",
       "        text-align: right;\n",
       "    }\n",
       "</style>\n",
       "<table border=\"1\" class=\"dataframe\">\n",
       "  <thead>\n",
       "    <tr style=\"text-align: right;\">\n",
       "      <th></th>\n",
       "      <th>testgroup</th>\n",
       "      <th>revenue</th>\n",
       "      <th>paying_users</th>\n",
       "      <th>CR</th>\n",
       "      <th>ARPU</th>\n",
       "    </tr>\n",
       "  </thead>\n",
       "  <tbody>\n",
       "    <tr>\n",
       "      <th>0</th>\n",
       "      <td>control</td>\n",
       "      <td>5136189</td>\n",
       "      <td>1928</td>\n",
       "      <td>0.009540</td>\n",
       "      <td>25.413720</td>\n",
       "    </tr>\n",
       "    <tr>\n",
       "      <th>1</th>\n",
       "      <td>test</td>\n",
       "      <td>5421603</td>\n",
       "      <td>1805</td>\n",
       "      <td>0.008906</td>\n",
       "      <td>26.751287</td>\n",
       "    </tr>\n",
       "  </tbody>\n",
       "</table>\n",
       "</div>"
      ],
      "text/plain": [
       "  testgroup  revenue  paying_users        CR       ARPU\n",
       "0   control  5136189          1928  0.009540  25.413720\n",
       "1      test  5421603          1805  0.008906  26.751287"
      ]
     },
     "execution_count": 42,
     "metadata": {},
     "output_type": "execute_result"
    }
   ],
   "source": [
    "metrics = groups_1.merge(groups, on = 'testgroup')\n",
    "metrics"
   ]
  },
  {
   "cell_type": "markdown",
   "metadata": {},
   "source": [
    "Рассчитаем ARPPU"
   ]
  },
  {
   "cell_type": "markdown",
   "metadata": {},
   "source": [
    "Итоговая сводная таблица"
   ]
  },
  {
   "cell_type": "code",
   "execution_count": 43,
   "metadata": {},
   "outputs": [
    {
     "data": {
      "text/html": [
       "<div>\n",
       "<style scoped>\n",
       "    .dataframe tbody tr th:only-of-type {\n",
       "        vertical-align: middle;\n",
       "    }\n",
       "\n",
       "    .dataframe tbody tr th {\n",
       "        vertical-align: top;\n",
       "    }\n",
       "\n",
       "    .dataframe thead th {\n",
       "        text-align: right;\n",
       "    }\n",
       "</style>\n",
       "<table border=\"1\" class=\"dataframe\">\n",
       "  <thead>\n",
       "    <tr style=\"text-align: right;\">\n",
       "      <th></th>\n",
       "      <th>testgroup</th>\n",
       "      <th>revenue</th>\n",
       "      <th>paying_users</th>\n",
       "      <th>CR</th>\n",
       "      <th>ARPU</th>\n",
       "      <th>ARPPU</th>\n",
       "    </tr>\n",
       "  </thead>\n",
       "  <tbody>\n",
       "    <tr>\n",
       "      <th>0</th>\n",
       "      <td>control</td>\n",
       "      <td>5136189</td>\n",
       "      <td>1928</td>\n",
       "      <td>0.009540</td>\n",
       "      <td>25.413720</td>\n",
       "      <td>2663.998444</td>\n",
       "    </tr>\n",
       "    <tr>\n",
       "      <th>1</th>\n",
       "      <td>test</td>\n",
       "      <td>5421603</td>\n",
       "      <td>1805</td>\n",
       "      <td>0.008906</td>\n",
       "      <td>26.751287</td>\n",
       "      <td>3003.658172</td>\n",
       "    </tr>\n",
       "  </tbody>\n",
       "</table>\n",
       "</div>"
      ],
      "text/plain": [
       "  testgroup  revenue  paying_users        CR       ARPU        ARPPU\n",
       "0   control  5136189          1928  0.009540  25.413720  2663.998444\n",
       "1      test  5421603          1805  0.008906  26.751287  3003.658172"
      ]
     },
     "execution_count": 43,
     "metadata": {},
     "output_type": "execute_result"
    }
   ],
   "source": [
    "metrics['ARPPU'] = metrics.revenue / metrics.paying_users\n",
    "metrics"
   ]
  },
  {
   "cell_type": "code",
   "execution_count": 44,
   "metadata": {},
   "outputs": [
    {
     "name": "stdout",
     "output_type": "stream",
     "text": [
      "Вывод по сводной таблице:\n",
      "Конверсия снизилась на 7.11 %\n",
      "Метрика ARPU увеличилась на 5.26 %\n",
      "Метрика ARPPU увеличилась на 12.75 %\n"
     ]
    }
   ],
   "source": [
    "print('Вывод по сводной таблице:')\n",
    "print(f'Конверсия снизилась на {round((metrics.CR[0] / metrics.CR[1] - 1)*100, 2)} %')\n",
    "print(f'Метрика ARPU увеличилась на {round((metrics.ARPU[1] / groups.ARPU[0] - 1)*100, 2)} %')\n",
    "print(f'Метрика ARPPU увеличилась на {round((metrics.ARPPU[1] / metrics.ARPPU[0] - 1)*100, 2)} %')"
   ]
  },
  {
   "cell_type": "markdown",
   "metadata": {},
   "source": [
    "Как видим из вывода сводной таблицы, сумма на платящего пользователя в тестовой группе значительно увеличивается.\n",
    "Целесообразно проверить изменение именно этой метрики. \n",
    "Т.к. конверсия низкая (менее 1%), большая часть позьзователей с нулевой стоимостью не представляет для нас значительного интереса в части сравнения стоимостных метрик."
   ]
  },
  {
   "cell_type": "markdown",
   "metadata": {},
   "source": [
    "Для определения лучшего набора акционных предложений проверим следующую гипотезу:   \n",
    "\n",
    "H0 - ARPPU не различается в контрольной и тестовой группе;   \n",
    "H1 - В тестовой группе метрика ARPPU выше контрольной группы, акционные предложения в тестовой группе лучше."
   ]
  },
  {
   "cell_type": "code",
   "execution_count": 45,
   "metadata": {},
   "outputs": [],
   "source": [
    "plt.style.use('ggplot')"
   ]
  },
  {
   "cell_type": "markdown",
   "metadata": {},
   "source": [
    "Отфильтруем датафрейм и оставим только платящих пользователей"
   ]
  },
  {
   "cell_type": "code",
   "execution_count": 46,
   "metadata": {},
   "outputs": [],
   "source": [
    "df_corr = df.query('revenue > 0')"
   ]
  },
  {
   "cell_type": "code",
   "execution_count": 47,
   "metadata": {},
   "outputs": [
    {
     "data": {
      "text/html": [
       "<div>\n",
       "<style scoped>\n",
       "    .dataframe tbody tr th:only-of-type {\n",
       "        vertical-align: middle;\n",
       "    }\n",
       "\n",
       "    .dataframe tbody tr th {\n",
       "        vertical-align: top;\n",
       "    }\n",
       "\n",
       "    .dataframe thead th {\n",
       "        text-align: right;\n",
       "    }\n",
       "</style>\n",
       "<table border=\"1\" class=\"dataframe\">\n",
       "  <thead>\n",
       "    <tr style=\"text-align: right;\">\n",
       "      <th></th>\n",
       "      <th>user_id</th>\n",
       "      <th>revenue</th>\n",
       "      <th>testgroup</th>\n",
       "      <th>payment</th>\n",
       "    </tr>\n",
       "  </thead>\n",
       "  <tbody>\n",
       "    <tr>\n",
       "      <th>72</th>\n",
       "      <td>73</td>\n",
       "      <td>351</td>\n",
       "      <td>control</td>\n",
       "      <td>1</td>\n",
       "    </tr>\n",
       "    <tr>\n",
       "      <th>160</th>\n",
       "      <td>161</td>\n",
       "      <td>3797</td>\n",
       "      <td>test</td>\n",
       "      <td>1</td>\n",
       "    </tr>\n",
       "    <tr>\n",
       "      <th>341</th>\n",
       "      <td>342</td>\n",
       "      <td>290</td>\n",
       "      <td>control</td>\n",
       "      <td>1</td>\n",
       "    </tr>\n",
       "    <tr>\n",
       "      <th>377</th>\n",
       "      <td>378</td>\n",
       "      <td>3768</td>\n",
       "      <td>test</td>\n",
       "      <td>1</td>\n",
       "    </tr>\n",
       "    <tr>\n",
       "      <th>385</th>\n",
       "      <td>386</td>\n",
       "      <td>250</td>\n",
       "      <td>control</td>\n",
       "      <td>1</td>\n",
       "    </tr>\n",
       "    <tr>\n",
       "      <th>...</th>\n",
       "      <td>...</td>\n",
       "      <td>...</td>\n",
       "      <td>...</td>\n",
       "      <td>...</td>\n",
       "    </tr>\n",
       "    <tr>\n",
       "      <th>404315</th>\n",
       "      <td>404316</td>\n",
       "      <td>262</td>\n",
       "      <td>control</td>\n",
       "      <td>1</td>\n",
       "    </tr>\n",
       "    <tr>\n",
       "      <th>404525</th>\n",
       "      <td>404526</td>\n",
       "      <td>3120</td>\n",
       "      <td>test</td>\n",
       "      <td>1</td>\n",
       "    </tr>\n",
       "    <tr>\n",
       "      <th>404543</th>\n",
       "      <td>404544</td>\n",
       "      <td>369</td>\n",
       "      <td>control</td>\n",
       "      <td>1</td>\n",
       "    </tr>\n",
       "    <tr>\n",
       "      <th>404602</th>\n",
       "      <td>404603</td>\n",
       "      <td>251</td>\n",
       "      <td>control</td>\n",
       "      <td>1</td>\n",
       "    </tr>\n",
       "    <tr>\n",
       "      <th>404767</th>\n",
       "      <td>404768</td>\n",
       "      <td>231</td>\n",
       "      <td>control</td>\n",
       "      <td>1</td>\n",
       "    </tr>\n",
       "  </tbody>\n",
       "</table>\n",
       "<p>3733 rows × 4 columns</p>\n",
       "</div>"
      ],
      "text/plain": [
       "        user_id  revenue testgroup  payment\n",
       "72           73      351   control        1\n",
       "160         161     3797      test        1\n",
       "341         342      290   control        1\n",
       "377         378     3768      test        1\n",
       "385         386      250   control        1\n",
       "...         ...      ...       ...      ...\n",
       "404315   404316      262   control        1\n",
       "404525   404526     3120      test        1\n",
       "404543   404544      369   control        1\n",
       "404602   404603      251   control        1\n",
       "404767   404768      231   control        1\n",
       "\n",
       "[3733 rows x 4 columns]"
      ]
     },
     "execution_count": 47,
     "metadata": {},
     "output_type": "execute_result"
    }
   ],
   "source": [
    "df_corr"
   ]
  },
  {
   "cell_type": "markdown",
   "metadata": {},
   "source": [
    "Отобразим на графике boxplot выручку и посмотрим на распределения"
   ]
  },
  {
   "cell_type": "code",
   "execution_count": 48,
   "metadata": {},
   "outputs": [
    {
     "data": {
      "text/plain": [
       "<matplotlib.axes._subplots.AxesSubplot at 0x7fa4c553b208>"
      ]
     },
     "execution_count": 48,
     "metadata": {},
     "output_type": "execute_result"
    },
    {
     "data": {
      "image/png": "[encoded data removed]",
      "text/plain": [
       "<Figure size 432x288 with 1 Axes>"
      ]
     },
     "metadata": {},
     "output_type": "display_data"
    }
   ],
   "source": [
    "sns.boxplot(x = df_corr.testgroup, y = df_corr.revenue)"
   ]
  },
  {
   "cell_type": "markdown",
   "metadata": {},
   "source": [
    "Как видим из графика, имеются значительные выбросы в контрольной группе   \n",
    "\n",
    "Из таблицы описательных статистик данных групп видим, что медианы различаются в группах практичестки в 10 раз, при этом средние значения различаются не на порядок, за счет выбросов в контрольной группе."
   ]
  },
  {
   "cell_type": "code",
   "execution_count": 49,
   "metadata": {},
   "outputs": [
    {
     "data": {
      "text/html": [
       "<div>\n",
       "<style scoped>\n",
       "    .dataframe tbody tr th:only-of-type {\n",
       "        vertical-align: middle;\n",
       "    }\n",
       "\n",
       "    .dataframe tbody tr th {\n",
       "        vertical-align: top;\n",
       "    }\n",
       "\n",
       "    .dataframe thead th {\n",
       "        text-align: right;\n",
       "    }\n",
       "</style>\n",
       "<table border=\"1\" class=\"dataframe\">\n",
       "  <thead>\n",
       "    <tr style=\"text-align: right;\">\n",
       "      <th></th>\n",
       "      <th>count</th>\n",
       "      <th>mean</th>\n",
       "      <th>std</th>\n",
       "      <th>min</th>\n",
       "      <th>25%</th>\n",
       "      <th>50%</th>\n",
       "      <th>75%</th>\n",
       "      <th>max</th>\n",
       "    </tr>\n",
       "    <tr>\n",
       "      <th>testgroup</th>\n",
       "      <th></th>\n",
       "      <th></th>\n",
       "      <th></th>\n",
       "      <th></th>\n",
       "      <th></th>\n",
       "      <th></th>\n",
       "      <th></th>\n",
       "      <th></th>\n",
       "    </tr>\n",
       "  </thead>\n",
       "  <tbody>\n",
       "    <tr>\n",
       "      <th>control</th>\n",
       "      <td>1928.0</td>\n",
       "      <td>2663.998444</td>\n",
       "      <td>9049.039763</td>\n",
       "      <td>200.0</td>\n",
       "      <td>257.0</td>\n",
       "      <td>311.0</td>\n",
       "      <td>361.0</td>\n",
       "      <td>37433.0</td>\n",
       "    </tr>\n",
       "    <tr>\n",
       "      <th>test</th>\n",
       "      <td>1805.0</td>\n",
       "      <td>3003.658172</td>\n",
       "      <td>572.619709</td>\n",
       "      <td>2000.0</td>\n",
       "      <td>2513.0</td>\n",
       "      <td>3022.0</td>\n",
       "      <td>3478.0</td>\n",
       "      <td>4000.0</td>\n",
       "    </tr>\n",
       "  </tbody>\n",
       "</table>\n",
       "</div>"
      ],
      "text/plain": [
       "            count         mean          std     min     25%     50%     75%  \\\n",
       "testgroup                                                                     \n",
       "control    1928.0  2663.998444  9049.039763   200.0   257.0   311.0   361.0   \n",
       "test       1805.0  3003.658172   572.619709  2000.0  2513.0  3022.0  3478.0   \n",
       "\n",
       "               max  \n",
       "testgroup           \n",
       "control    37433.0  \n",
       "test        4000.0  "
      ]
     },
     "execution_count": 49,
     "metadata": {},
     "output_type": "execute_result"
    }
   ],
   "source": [
    "df_corr.groupby('testgroup')['revenue'].describe()"
   ]
  },
  {
   "cell_type": "markdown",
   "metadata": {},
   "source": [
    "Будем считать, что в контрольную группу подгрузились топ-пользователи, которые совершали покупки на значительные суммы.\n"
   ]
  },
  {
   "cell_type": "code",
   "execution_count": 50,
   "metadata": {},
   "outputs": [
    {
     "data": {
      "text/html": [
       "<div>\n",
       "<style scoped>\n",
       "    .dataframe tbody tr th:only-of-type {\n",
       "        vertical-align: middle;\n",
       "    }\n",
       "\n",
       "    .dataframe tbody tr th {\n",
       "        vertical-align: top;\n",
       "    }\n",
       "\n",
       "    .dataframe thead th {\n",
       "        text-align: right;\n",
       "    }\n",
       "</style>\n",
       "<table border=\"1\" class=\"dataframe\">\n",
       "  <thead>\n",
       "    <tr style=\"text-align: right;\">\n",
       "      <th></th>\n",
       "      <th>user_id</th>\n",
       "      <th>revenue</th>\n",
       "      <th>testgroup</th>\n",
       "      <th>payment</th>\n",
       "    </tr>\n",
       "  </thead>\n",
       "  <tbody>\n",
       "    <tr>\n",
       "      <th>416</th>\n",
       "      <td>417</td>\n",
       "      <td>37324</td>\n",
       "      <td>control</td>\n",
       "      <td>1</td>\n",
       "    </tr>\n",
       "    <tr>\n",
       "      <th>4428</th>\n",
       "      <td>4429</td>\n",
       "      <td>37304</td>\n",
       "      <td>control</td>\n",
       "      <td>1</td>\n",
       "    </tr>\n",
       "    <tr>\n",
       "      <th>5777</th>\n",
       "      <td>5778</td>\n",
       "      <td>37315</td>\n",
       "      <td>control</td>\n",
       "      <td>1</td>\n",
       "    </tr>\n",
       "    <tr>\n",
       "      <th>8065</th>\n",
       "      <td>8066</td>\n",
       "      <td>37307</td>\n",
       "      <td>control</td>\n",
       "      <td>1</td>\n",
       "    </tr>\n",
       "    <tr>\n",
       "      <th>8743</th>\n",
       "      <td>8744</td>\n",
       "      <td>37334</td>\n",
       "      <td>control</td>\n",
       "      <td>1</td>\n",
       "    </tr>\n",
       "    <tr>\n",
       "      <th>...</th>\n",
       "      <td>...</td>\n",
       "      <td>...</td>\n",
       "      <td>...</td>\n",
       "      <td>...</td>\n",
       "    </tr>\n",
       "    <tr>\n",
       "      <th>360696</th>\n",
       "      <td>360697</td>\n",
       "      <td>37347</td>\n",
       "      <td>control</td>\n",
       "      <td>1</td>\n",
       "    </tr>\n",
       "    <tr>\n",
       "      <th>378668</th>\n",
       "      <td>378669</td>\n",
       "      <td>37297</td>\n",
       "      <td>control</td>\n",
       "      <td>1</td>\n",
       "    </tr>\n",
       "    <tr>\n",
       "      <th>389341</th>\n",
       "      <td>389342</td>\n",
       "      <td>37298</td>\n",
       "      <td>control</td>\n",
       "      <td>1</td>\n",
       "    </tr>\n",
       "    <tr>\n",
       "      <th>394580</th>\n",
       "      <td>394581</td>\n",
       "      <td>37302</td>\n",
       "      <td>control</td>\n",
       "      <td>1</td>\n",
       "    </tr>\n",
       "    <tr>\n",
       "      <th>399294</th>\n",
       "      <td>399295</td>\n",
       "      <td>37321</td>\n",
       "      <td>control</td>\n",
       "      <td>1</td>\n",
       "    </tr>\n",
       "  </tbody>\n",
       "</table>\n",
       "<p>123 rows × 4 columns</p>\n",
       "</div>"
      ],
      "text/plain": [
       "        user_id  revenue testgroup  payment\n",
       "416         417    37324   control        1\n",
       "4428       4429    37304   control        1\n",
       "5777       5778    37315   control        1\n",
       "8065       8066    37307   control        1\n",
       "8743       8744    37334   control        1\n",
       "...         ...      ...       ...      ...\n",
       "360696   360697    37347   control        1\n",
       "378668   378669    37297   control        1\n",
       "389341   389342    37298   control        1\n",
       "394580   394581    37302   control        1\n",
       "399294   399295    37321   control        1\n",
       "\n",
       "[123 rows x 4 columns]"
      ]
     },
     "execution_count": 50,
     "metadata": {},
     "output_type": "execute_result"
    }
   ],
   "source": [
    "top_users = df_corr.query('revenue > 30000')\n",
    "top_users"
   ]
  },
  {
   "cell_type": "code",
   "execution_count": 51,
   "metadata": {},
   "outputs": [
    {
     "data": {
      "text/plain": [
       "'Таких пользователей составляет 6.38 % от контрольной группы, Общая сумма на топ-пользователей 89.37 % от контрольной'"
      ]
     },
     "execution_count": 51,
     "metadata": {},
     "output_type": "execute_result"
    }
   ],
   "source": [
    "f\"\"\"Таких пользователей составляет \\\n",
    "{round(top_users.user_id.nunique() / df_corr.query('testgroup == \"control\"').user_id.nunique() * 100, 2)} % от контрольной группы,\\\n",
    "\\\n",
    " Общая сумма на топ-пользователей {round(df_corr.query('revenue > 30000')['revenue'].sum() / metrics.revenue[0] * 100, 2)} % от контрольной\\\n",
    "\"\"\""
   ]
  },
  {
   "cell_type": "markdown",
   "metadata": {},
   "source": [
    "Ввиду значительного различия выручки на топ-пользователей и основной аудитории, отбросим топ-пользователей из контрольной группы "
   ]
  },
  {
   "cell_type": "code",
   "execution_count": 52,
   "metadata": {},
   "outputs": [],
   "source": [
    "df_corr_1 = df_corr.query('revenue < 30000')"
   ]
  },
  {
   "cell_type": "markdown",
   "metadata": {},
   "source": [
    "Выборки в контрольной и тестовой группах одинаковые по размеру"
   ]
  },
  {
   "cell_type": "code",
   "execution_count": 53,
   "metadata": {},
   "outputs": [
    {
     "data": {
      "text/plain": [
       "control    1805\n",
       "test       1805\n",
       "Name: testgroup, dtype: int64"
      ]
     },
     "execution_count": 53,
     "metadata": {},
     "output_type": "execute_result"
    }
   ],
   "source": [
    "df_corr_1.testgroup.value_counts()"
   ]
  },
  {
   "cell_type": "markdown",
   "metadata": {},
   "source": [
    "Отобразим на графике boxplot выручку по группам"
   ]
  },
  {
   "cell_type": "code",
   "execution_count": 54,
   "metadata": {},
   "outputs": [
    {
     "data": {
      "text/plain": [
       "<matplotlib.axes._subplots.AxesSubplot at 0x7fa4c54c4160>"
      ]
     },
     "execution_count": 54,
     "metadata": {},
     "output_type": "execute_result"
    },
    {
     "data": {
      "image/png": "[encoded data removed]",
      "text/plain": [
       "<Figure size 432x288 with 1 Axes>"
      ]
     },
     "metadata": {},
     "output_type": "display_data"
    }
   ],
   "source": [
    "sns.boxplot(x = df_corr_1.testgroup, y = df_corr_1.revenue)"
   ]
  },
  {
   "cell_type": "markdown",
   "metadata": {},
   "source": [
    "Скорректированный на выбросы датафрейм уже значительно лучше читается на графике.   \n",
    "На данном боксплоте мы видим существенное различие выручки между групп.   \n",
    "В контрольной группе выручка на пользователя не превышает 500, среднее/медианное меньше 500, когда в тестовой группе выручка на пользователя находится в диапазоне от 2000 до 4000, среднее/медианное значение чуть выше 3000.   \n",
    "\n",
    "Отобразим описательные статистики в сводной таблице"
   ]
  },
  {
   "cell_type": "code",
   "execution_count": 55,
   "metadata": {},
   "outputs": [
    {
     "data": {
      "text/html": [
       "<div>\n",
       "<style scoped>\n",
       "    .dataframe tbody tr th:only-of-type {\n",
       "        vertical-align: middle;\n",
       "    }\n",
       "\n",
       "    .dataframe tbody tr th {\n",
       "        vertical-align: top;\n",
       "    }\n",
       "\n",
       "    .dataframe thead th {\n",
       "        text-align: right;\n",
       "    }\n",
       "</style>\n",
       "<table border=\"1\" class=\"dataframe\">\n",
       "  <thead>\n",
       "    <tr style=\"text-align: right;\">\n",
       "      <th></th>\n",
       "      <th>count</th>\n",
       "      <th>mean</th>\n",
       "      <th>std</th>\n",
       "      <th>min</th>\n",
       "      <th>25%</th>\n",
       "      <th>50%</th>\n",
       "      <th>75%</th>\n",
       "      <th>max</th>\n",
       "    </tr>\n",
       "    <tr>\n",
       "      <th>testgroup</th>\n",
       "      <th></th>\n",
       "      <th></th>\n",
       "      <th></th>\n",
       "      <th></th>\n",
       "      <th></th>\n",
       "      <th></th>\n",
       "      <th></th>\n",
       "      <th></th>\n",
       "    </tr>\n",
       "  </thead>\n",
       "  <tbody>\n",
       "    <tr>\n",
       "      <th>control</th>\n",
       "      <td>1805.0</td>\n",
       "      <td>302.458172</td>\n",
       "      <td>57.914246</td>\n",
       "      <td>200.0</td>\n",
       "      <td>254.0</td>\n",
       "      <td>305.0</td>\n",
       "      <td>352.0</td>\n",
       "      <td>400.0</td>\n",
       "    </tr>\n",
       "    <tr>\n",
       "      <th>test</th>\n",
       "      <td>1805.0</td>\n",
       "      <td>3003.658172</td>\n",
       "      <td>572.619709</td>\n",
       "      <td>2000.0</td>\n",
       "      <td>2513.0</td>\n",
       "      <td>3022.0</td>\n",
       "      <td>3478.0</td>\n",
       "      <td>4000.0</td>\n",
       "    </tr>\n",
       "  </tbody>\n",
       "</table>\n",
       "</div>"
      ],
      "text/plain": [
       "            count         mean         std     min     25%     50%     75%  \\\n",
       "testgroup                                                                    \n",
       "control    1805.0   302.458172   57.914246   200.0   254.0   305.0   352.0   \n",
       "test       1805.0  3003.658172  572.619709  2000.0  2513.0  3022.0  3478.0   \n",
       "\n",
       "              max  \n",
       "testgroup          \n",
       "control     400.0  \n",
       "test       4000.0  "
      ]
     },
     "execution_count": 55,
     "metadata": {},
     "output_type": "execute_result"
    }
   ],
   "source": [
    "df_corr_1.groupby('testgroup')['revenue'].describe()"
   ]
  },
  {
   "cell_type": "markdown",
   "metadata": {},
   "source": [
    "Исходя из полученных данных, выручка на платящего пользователя в контрольной группе находится в диапазоне от 200 до 400,   \n",
    "в тестовой группе в диапазоне от 2000 до 4000.   \n",
    "\n",
    "Вывод: диапазоны в группах не пересекаются, средняя выручка имеет статистическую значимость.   \n",
    "Т.к. метрика ARPPU является средней выручкой на платящего пользователя, из полученных данных различие данной метрики в группах - на порядок.\n"
   ]
  },
  {
   "cell_type": "markdown",
   "metadata": {},
   "source": [
    "Посмотрим на распределения в группах"
   ]
  },
  {
   "cell_type": "code",
   "execution_count": 56,
   "metadata": {},
   "outputs": [],
   "source": [
    "control = df_corr_1.query('testgroup == \"control\"')['revenue']"
   ]
  },
  {
   "cell_type": "code",
   "execution_count": 57,
   "metadata": {},
   "outputs": [],
   "source": [
    "test = df_corr_1.query('testgroup == \"test\"')['revenue']"
   ]
  },
  {
   "cell_type": "code",
   "execution_count": 58,
   "metadata": {},
   "outputs": [
    {
     "name": "stderr",
     "output_type": "stream",
     "text": [
      "/opt/tljh/user/lib/python3.7/site-packages/seaborn/distributions.py:2557: FutureWarning: `distplot` is a deprecated function and will be removed in a future version. Please adapt your code to use either `displot` (a figure-level function with similar flexibility) or `histplot` (an axes-level function for histograms).\n",
      "  warnings.warn(msg, FutureWarning)\n"
     ]
    },
    {
     "data": {
      "text/plain": [
       "<matplotlib.axes._subplots.AxesSubplot at 0x7fa4c540f1d0>"
      ]
     },
     "execution_count": 58,
     "metadata": {},
     "output_type": "execute_result"
    },
    {
     "data": {
      "image/png": "[encoded data removed]",
      "text/plain": [
       "<Figure size 432x288 with 1 Axes>"
      ]
     },
     "metadata": {},
     "output_type": "display_data"
    }
   ],
   "source": [
    "sns.distplot(control, kde=False)"
   ]
  },
  {
   "cell_type": "code",
   "execution_count": 59,
   "metadata": {},
   "outputs": [
    {
     "data": {
      "text/plain": [
       "<matplotlib.axes._subplots.AxesSubplot at 0x7fa4c5383160>"
      ]
     },
     "execution_count": 59,
     "metadata": {},
     "output_type": "execute_result"
    },
    {
     "data": {
      "image/png": "[encoded data removed]",
      "text/plain": [
       "<Figure size 432x288 with 1 Axes>"
      ]
     },
     "metadata": {},
     "output_type": "display_data"
    }
   ],
   "source": [
    "sns.distplot(test, kde=False)"
   ]
  },
  {
   "cell_type": "markdown",
   "metadata": {},
   "source": [
    "В контрольной и тестовой группах наблюдаем равномерное распределение прибыли на пользователя"
   ]
  },
  {
   "cell_type": "markdown",
   "metadata": {},
   "source": [
    "В итоге мы получили существенные различия (приблизительно в 10 раз) средней выручки на платящего пользователя в контрольной и тестовой группах.   \n",
    "\n",
    "Для убедительности, проверим средние значения выручки на пользователя в группах с помощью bootstrap."
   ]
  },
  {
   "cell_type": "markdown",
   "metadata": {},
   "source": [
    "Определим функцию бутстрап для проверки средних значений"
   ]
  },
  {
   "cell_type": "code",
   "execution_count": 60,
   "metadata": {},
   "outputs": [],
   "source": [
    "def get_bootstrap(\n",
    "    data_column_1, # числовые значения первой выборки\n",
    "    data_column_2, # числовые значения второй выборки\n",
    "    boot_it = 1000, # количество бутстрэп-подвыборок\n",
    "    statistic = np.mean, # интересующая нас статистика\n",
    "    bootstrap_conf_level = 0.95 # уровень значимости\n",
    "):\n",
    "    boot_data = []\n",
    "    for i in tqdm(range(boot_it)): # извлекаем подвыборки\n",
    "        samples_1 = data_column_1.sample(\n",
    "            len(data_column_1), \n",
    "            replace = True # параметр возвращения\n",
    "        ).values\n",
    "        \n",
    "        samples_2 = data_column_2.sample(\n",
    "            len(data_column_1), \n",
    "            replace = True\n",
    "        ).values\n",
    "        \n",
    "        boot_data.append(statistic(samples_1)-statistic(samples_2)) # mean() - применяем статистику\n",
    "        \n",
    "    pd_boot_data = pd.DataFrame(boot_data)\n",
    "        \n",
    "    left_quant = (1 - bootstrap_conf_level)/2\n",
    "    right_quant = 1 - (1 - bootstrap_conf_level) / 2\n",
    "    quants = pd_boot_data.quantile([left_quant, right_quant])\n",
    "        \n",
    "    p_1 = norm.cdf(\n",
    "        x = 0, \n",
    "        loc = np.mean(boot_data), \n",
    "        scale = np.std(boot_data)\n",
    "    )\n",
    "    p_2 = norm.cdf(\n",
    "        x = 0, \n",
    "        loc = -np.mean(boot_data), \n",
    "        scale = np.std(boot_data)\n",
    "    )\n",
    "    p_value = min(p_1, p_2) * 2\n",
    "        \n",
    "    # Визуализация\n",
    "    _, _, bars = plt.hist(pd_boot_data[0], bins = 50)\n",
    "    for bar in bars:\n",
    "        if bar.get_x() <= quants.iloc[0][0] or bar.get_x() >= quants.iloc[1][0]:\n",
    "            bar.set_facecolor('red')\n",
    "        else: \n",
    "            bar.set_facecolor('grey')\n",
    "            bar.set_edgecolor('black')\n",
    "    \n",
    "    plt.style.use('ggplot')\n",
    "    plt.vlines(quants,ymin=0,ymax=50,linestyle='--')\n",
    "    plt.xlabel('boot_data')\n",
    "    plt.ylabel('frequency')\n",
    "    plt.title(\"Histogram of boot_data\")\n",
    "    plt.show()\n",
    "       \n",
    "    return {\"boot_data\": boot_data, \n",
    "            \"quants\": quants, \n",
    "            \"p_value\": p_value}"
   ]
  },
  {
   "cell_type": "markdown",
   "metadata": {},
   "source": [
    "Гистограмма бутстрапа показывает существенные различия средних значений в выборках, распределение разницы средних дает нам предсказуемую картину - в районе -2700, т.к. мы вычитаем из средних контрольной группы бутстраповских выборок средние значения тестовых выборок. Ноль не входит в диапазон, но это и понятно, учитывая что диапазоны выборок даже не пересекаются.\n",
    "\n",
    "p-value = 0"
   ]
  },
  {
   "cell_type": "code",
   "execution_count": 61,
   "metadata": {},
   "outputs": [
    {
     "data": {
      "application/vnd.jupyter.widget-view+json": {
       "model_id": "51c45379ef4e4c97a88956b719c55a16",
       "version_major": 2,
       "version_minor": 0
      },
      "text/plain": [
       "HBox(children=(FloatProgress(value=0.0, max=1000.0), HTML(value='')))"
      ]
     },
     "metadata": {},
     "output_type": "display_data"
    },
    {
     "name": "stdout",
     "output_type": "stream",
     "text": [
      "\n"
     ]
    },
    {
     "data": {
      "image/png": "[encoded data removed]",
      "text/plain": [
       "<Figure size 432x288 with 1 Axes>"
      ]
     },
     "metadata": {},
     "output_type": "display_data"
    }
   ],
   "source": [
    "booted_df = get_bootstrap(control, test)"
   ]
  },
  {
   "cell_type": "code",
   "execution_count": 62,
   "metadata": {},
   "outputs": [
    {
     "data": {
      "text/plain": [
       "0.0"
      ]
     },
     "execution_count": 62,
     "metadata": {},
     "output_type": "execute_result"
    }
   ],
   "source": [
    "booted_df['p_value']"
   ]
  },
  {
   "cell_type": "markdown",
   "metadata": {},
   "source": [
    "Убедившись в существенном различии выручки в группах по основной аудитории, отбросим топ-пользователей из основного датафрейма и пересчитаем метрики."
   ]
  },
  {
   "cell_type": "code",
   "execution_count": 63,
   "metadata": {},
   "outputs": [],
   "source": [
    "df_corr = df.query('revenue < 30000')"
   ]
  },
  {
   "cell_type": "code",
   "execution_count": 64,
   "metadata": {},
   "outputs": [
    {
     "data": {
      "text/html": [
       "<div>\n",
       "<style scoped>\n",
       "    .dataframe tbody tr th:only-of-type {\n",
       "        vertical-align: middle;\n",
       "    }\n",
       "\n",
       "    .dataframe tbody tr th {\n",
       "        vertical-align: top;\n",
       "    }\n",
       "\n",
       "    .dataframe thead th {\n",
       "        text-align: right;\n",
       "    }\n",
       "</style>\n",
       "<table border=\"1\" class=\"dataframe\">\n",
       "  <thead>\n",
       "    <tr style=\"text-align: right;\">\n",
       "      <th></th>\n",
       "      <th>testgroup</th>\n",
       "      <th>CR</th>\n",
       "      <th>ARPU</th>\n",
       "    </tr>\n",
       "  </thead>\n",
       "  <tbody>\n",
       "    <tr>\n",
       "      <th>0</th>\n",
       "      <td>control</td>\n",
       "      <td>0.008937</td>\n",
       "      <td>2.702926</td>\n",
       "    </tr>\n",
       "    <tr>\n",
       "      <th>1</th>\n",
       "      <td>test</td>\n",
       "      <td>0.008906</td>\n",
       "      <td>26.751287</td>\n",
       "    </tr>\n",
       "  </tbody>\n",
       "</table>\n",
       "</div>"
      ],
      "text/plain": [
       "  testgroup        CR       ARPU\n",
       "0   control  0.008937   2.702926\n",
       "1      test  0.008906  26.751287"
      ]
     },
     "execution_count": 64,
     "metadata": {},
     "output_type": "execute_result"
    }
   ],
   "source": [
    "groups_corr = df_corr.groupby('testgroup', as_index=False).agg({'payment': 'mean', 'revenue': 'mean'})\\\n",
    "    .rename(columns={'payment':'CR', 'revenue':'ARPU'})\n",
    "groups_corr"
   ]
  },
  {
   "cell_type": "code",
   "execution_count": 65,
   "metadata": {},
   "outputs": [],
   "source": [
    "groups_2 =  df_corr.groupby('testgroup', as_index=False).agg({'revenue':'sum', 'payment':'sum'})\\\n",
    "    .rename(columns={'payment':'paying_users'})"
   ]
  },
  {
   "cell_type": "code",
   "execution_count": 66,
   "metadata": {},
   "outputs": [
    {
     "data": {
      "text/html": [
       "<div>\n",
       "<style scoped>\n",
       "    .dataframe tbody tr th:only-of-type {\n",
       "        vertical-align: middle;\n",
       "    }\n",
       "\n",
       "    .dataframe tbody tr th {\n",
       "        vertical-align: top;\n",
       "    }\n",
       "\n",
       "    .dataframe thead th {\n",
       "        text-align: right;\n",
       "    }\n",
       "</style>\n",
       "<table border=\"1\" class=\"dataframe\">\n",
       "  <thead>\n",
       "    <tr style=\"text-align: right;\">\n",
       "      <th></th>\n",
       "      <th>testgroup</th>\n",
       "      <th>revenue</th>\n",
       "      <th>paying_users</th>\n",
       "      <th>CR</th>\n",
       "      <th>ARPU</th>\n",
       "    </tr>\n",
       "  </thead>\n",
       "  <tbody>\n",
       "    <tr>\n",
       "      <th>0</th>\n",
       "      <td>control</td>\n",
       "      <td>545937</td>\n",
       "      <td>1805</td>\n",
       "      <td>0.008937</td>\n",
       "      <td>2.702926</td>\n",
       "    </tr>\n",
       "    <tr>\n",
       "      <th>1</th>\n",
       "      <td>test</td>\n",
       "      <td>5421603</td>\n",
       "      <td>1805</td>\n",
       "      <td>0.008906</td>\n",
       "      <td>26.751287</td>\n",
       "    </tr>\n",
       "  </tbody>\n",
       "</table>\n",
       "</div>"
      ],
      "text/plain": [
       "  testgroup  revenue  paying_users        CR       ARPU\n",
       "0   control   545937          1805  0.008937   2.702926\n",
       "1      test  5421603          1805  0.008906  26.751287"
      ]
     },
     "execution_count": 66,
     "metadata": {},
     "output_type": "execute_result"
    }
   ],
   "source": [
    "metrics_corr = groups_2.merge(groups_corr, on = 'testgroup')\n",
    "metrics_corr"
   ]
  },
  {
   "cell_type": "code",
   "execution_count": 67,
   "metadata": {},
   "outputs": [
    {
     "data": {
      "text/html": [
       "<div>\n",
       "<style scoped>\n",
       "    .dataframe tbody tr th:only-of-type {\n",
       "        vertical-align: middle;\n",
       "    }\n",
       "\n",
       "    .dataframe tbody tr th {\n",
       "        vertical-align: top;\n",
       "    }\n",
       "\n",
       "    .dataframe thead th {\n",
       "        text-align: right;\n",
       "    }\n",
       "</style>\n",
       "<table border=\"1\" class=\"dataframe\">\n",
       "  <thead>\n",
       "    <tr style=\"text-align: right;\">\n",
       "      <th></th>\n",
       "      <th>testgroup</th>\n",
       "      <th>revenue</th>\n",
       "      <th>paying_users</th>\n",
       "      <th>CR</th>\n",
       "      <th>ARPU</th>\n",
       "      <th>ARPPU</th>\n",
       "    </tr>\n",
       "  </thead>\n",
       "  <tbody>\n",
       "    <tr>\n",
       "      <th>0</th>\n",
       "      <td>control</td>\n",
       "      <td>545937</td>\n",
       "      <td>1805</td>\n",
       "      <td>0.008937</td>\n",
       "      <td>2.702926</td>\n",
       "      <td>302.458172</td>\n",
       "    </tr>\n",
       "    <tr>\n",
       "      <th>1</th>\n",
       "      <td>test</td>\n",
       "      <td>5421603</td>\n",
       "      <td>1805</td>\n",
       "      <td>0.008906</td>\n",
       "      <td>26.751287</td>\n",
       "      <td>3003.658172</td>\n",
       "    </tr>\n",
       "  </tbody>\n",
       "</table>\n",
       "</div>"
      ],
      "text/plain": [
       "  testgroup  revenue  paying_users        CR       ARPU        ARPPU\n",
       "0   control   545937          1805  0.008937   2.702926   302.458172\n",
       "1      test  5421603          1805  0.008906  26.751287  3003.658172"
      ]
     },
     "execution_count": 67,
     "metadata": {},
     "output_type": "execute_result"
    }
   ],
   "source": [
    "metrics_corr['ARPPU'] = metrics_corr.revenue / metrics_corr.paying_users\n",
    "metrics_corr"
   ]
  },
  {
   "cell_type": "code",
   "execution_count": 68,
   "metadata": {},
   "outputs": [
    {
     "name": "stdout",
     "output_type": "stream",
     "text": [
      "Вывод по сводной таблице:\n",
      "Конверсия практически не изменилась (различие на 0.34 %)\n",
      "Метрика ARPU увеличилась на 889.72 %\n",
      "Метрика ARPPU увеличилась на 893.08 %\n",
      "В целом, сумма увеличилась на 893.08 %\n",
      "При этом количество платящих пользователей в группе одинаково\n"
     ]
    }
   ],
   "source": [
    "print('Вывод по сводной таблице:')\n",
    "print(f'Конверсия практически не изменилась (различие на {round((metrics_corr.CR[0] / metrics_corr.CR[1] - 1)*100, 2)} %)')\n",
    "print(f'Метрика ARPU увеличилась на {round((metrics_corr.ARPU[1] / metrics_corr.ARPU[0] - 1)*100, 2)} %')\n",
    "print(f'Метрика ARPPU увеличилась на {round((metrics_corr.ARPPU[1] / metrics_corr.ARPPU[0] - 1)*100, 2)} %')\n",
    "print(f'В целом, сумма увеличилась на {round((metrics_corr.revenue[1] / metrics_corr.revenue[0] - 1)*100, 2)} %')\n",
    "print('При этом количество платящих пользователей в группе одинаково')"
   ]
  },
  {
   "cell_type": "markdown",
   "metadata": {},
   "source": [
    "Итого: выбросы существенно влияют на исследуемые данные. Прежде чем применять статистические критерии, необходимо исследовать причины появления выбросов. В данном случае мы приняли выбросы за выгрузку топ-пользователей в контольную группу, выручка которых значительно выше основной аудитории (89% выручки контрольной группы на 6% пользователей данной группы).   \n",
    "Избавившись от выбросов, мы заметили существенные различия в стоимостных метриках - различия на порядок.   \n",
    "В итоге считаем, что наборы акционных предложений в тестовой группе значительно лучше чем в контрольной, пользователи оставляют в 10 раз больше денег."
   ]
  },
  {
   "cell_type": "markdown",
   "metadata": {},
   "source": [
    "**Задание 3**   \n",
    "В игре Plants & Gardens каждый месяц проводятся тематические события, ограниченные по времени. В них игроки могут получить уникальные предметы для сада и персонажей, дополнительные монеты или бонусы. Для получения награды требуется пройти ряд уровней за определенное время. С помощью каких метрик можно оценить результаты последнего прошедшего события?\n",
    "\n",
    "Предположим, в другом событии мы усложнили механику событий так, что при каждой неудачной попытке выполнения уровня игрок будет откатываться на несколько уровней назад. Изменится ли набор метрик оценки результата? Если да, то как?"
   ]
  },
  {
   "cell_type": "markdown",
   "metadata": {},
   "source": [
    "1. Учитывая проведение уникальных событий в игре по времени нам следует обратить внимание на следующие метрики:\n",
    " - DAU - дневная аудитория. По данной метрике мы можеи посмотреть динамику количества пользователей, как пользователи реагируют на данное событие.   \n",
    " - Retention/Rolling retention - можем посмотреть сколько с нами останется пользователей на время проведения данного события для сравнения метрики без события;   \n",
    " - Average Playing Time Per Day - игровое время на одного пользователя в день, предполагаем что игроки будут больше времени проводить в игре;   \n",
    " - Frequency by Day - частота входов пользователей в зависимости от времени с их первого визита, можем следить за данной метрикой с целью удержания пользователей;   \n",
    "  - Average Session Length - средняя продолжительность сессии за интервал проведения события, полезно сравнить с обычным средним значением.   \n",
    " Про финансовую составляющую в условии не сказано, лишь о прохождении доп. уровней, поэтому такие метрики как ARPU, ARPPU не рассматриваем.\n",
    " \n",
    "    В целом, если данные метрики идут вверх, можем считать событие успешным. Однако следует заранее предположить на сколько мы хотим увеличить данные метрики.   \n",
    "\n",
    "\n",
    "2. При усложнении механики событий набор метрик будет тот же самый, добавить можно сюда метрику churn, вероятно будет рост отвалившихся пользователей, и в целом рассматриваемые метрики пойдут вниз."
   ]
  },
  {
   "cell_type": "code",
   "execution_count": null,
   "metadata": {},
   "outputs": [],
   "source": []
  },
  {
   "cell_type": "code",
   "execution_count": null,
   "metadata": {},
   "outputs": [],
   "source": []
  }
 ],
 "metadata": {
  "kernelspec": {
   "display_name": "Python 3 (ipykernel)",
   "language": "python",
   "name": "python3"
  },
  "language_info": {
   "codemirror_mode": {
    "name": "ipython",
    "version": 3
   },
   "file_extension": ".py",
   "mimetype": "text/x-python",
   "name": "python",
   "nbconvert_exporter": "python",
   "pygments_lexer": "ipython3",
   "version": "3.9.12"
  }
 },
 "nbformat": 4,
 "nbformat_minor": 4
}

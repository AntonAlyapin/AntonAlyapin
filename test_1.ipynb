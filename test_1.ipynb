{
 "cells": [
  {
   "cell_type": "code",
   "execution_count": 30,
   "id": "9ee88a16-8903-48f3-b53a-d572c34943a1",
   "metadata": {},
   "outputs": [],
   "source": [
    "# Импортируем необходимые библиотеки для анализа данных\n",
    "\n",
    "import pandas as pd\n",
    "import numpy as np\n",
    "import seaborn as sns\n",
    "import matplotlib.pyplot as plt\n",
    "%matplotlib inline"
   ]
  },
  {
   "cell_type": "code",
   "execution_count": 31,
   "id": "567b91a1-d433-4472-913f-1f31a368b693",
   "metadata": {},
   "outputs": [],
   "source": [
    "# Настройка отображения графиков\n",
    "\n",
    "sns.set(\n",
    "    font_scale=2,\n",
    "    style=\"darkgrid\",\n",
    "    rc={'figure.figsize':(10,10)}\n",
    "        )"
   ]
  },
  {
   "cell_type": "code",
   "execution_count": 32,
   "id": "def159e5-1e7e-4e97-9f3a-cb2035eb37e8",
   "metadata": {},
   "outputs": [],
   "source": [
    "plt.style.use(\"dark_background\") # применим темную тему для графиков"
   ]
  },
  {
   "cell_type": "markdown",
   "id": "36656fe7-7af9-4152-8502-c8c7b37070ba",
   "metadata": {},
   "source": [
    "***\n",
    "## Задание 1\n",
    "\n",
    "**Найти все аномалии в фрейме продукта «Стратегия» (test_frame_V1.Json) и ответить на вопросы:**\n",
    "\n",
    "1. Какие из этих аномалий вы передадите в отдел безопасности, юридический отдел, разработчику продукта, отдел маркетинга (с каждой аномалией можно обратиться только в один отдел)\n",
    "\n",
    "2. Дать объяснение почему принято такое решение\n",
    "***"
   ]
  },
  {
   "cell_type": "code",
   "execution_count": 33,
   "id": "6f0e3475-8f48-40f0-aeac-4823999b3f3b",
   "metadata": {},
   "outputs": [],
   "source": [
    "df = pd.read_json('C:/Users/alyap/Finam/test_frame_V1.json') # Создаем DataFrame из файла json"
   ]
  },
  {
   "cell_type": "code",
   "execution_count": 34,
   "id": "a1f54186-7179-4e01-a1a8-91e0c0814470",
   "metadata": {},
   "outputs": [
    {
     "data": {
      "text/html": [
       "<div>\n",
       "<style scoped>\n",
       "    .dataframe tbody tr th:only-of-type {\n",
       "        vertical-align: middle;\n",
       "    }\n",
       "\n",
       "    .dataframe tbody tr th {\n",
       "        vertical-align: top;\n",
       "    }\n",
       "\n",
       "    .dataframe thead th {\n",
       "        text-align: right;\n",
       "    }\n",
       "</style>\n",
       "<table border=\"1\" class=\"dataframe\">\n",
       "  <thead>\n",
       "    <tr style=\"text-align: right;\">\n",
       "      <th></th>\n",
       "      <th>Клиент</th>\n",
       "      <th>Дата рождения</th>\n",
       "      <th>Брокерский счет</th>\n",
       "      <th>Услуга</th>\n",
       "      <th>Начало</th>\n",
       "      <th>Окончание</th>\n",
       "    </tr>\n",
       "  </thead>\n",
       "  <tbody>\n",
       "    <tr>\n",
       "      <th>0</th>\n",
       "      <td>User_0</td>\n",
       "      <td>2-3-1989</td>\n",
       "      <td>Broker_account_0</td>\n",
       "      <td>Strategy_0</td>\n",
       "      <td>2020-06-17T12:28:00.000Z</td>\n",
       "      <td>None</td>\n",
       "    </tr>\n",
       "    <tr>\n",
       "      <th>1</th>\n",
       "      <td>User_1</td>\n",
       "      <td>15-7-1981</td>\n",
       "      <td>Broker_account_1</td>\n",
       "      <td>Strategy_0</td>\n",
       "      <td>2020-11-27T16:39:12.000Z</td>\n",
       "      <td>2021-02-02T15:11:57.000Z</td>\n",
       "    </tr>\n",
       "    <tr>\n",
       "      <th>2</th>\n",
       "      <td>User_10</td>\n",
       "      <td>14-8-1988</td>\n",
       "      <td>Broker_account_10</td>\n",
       "      <td>Strategy_2</td>\n",
       "      <td>2020-12-09T11:59:27.000Z</td>\n",
       "      <td>None</td>\n",
       "    </tr>\n",
       "    <tr>\n",
       "      <th>3</th>\n",
       "      <td>User_10</td>\n",
       "      <td>14-8-1988</td>\n",
       "      <td>Broker_account_14023</td>\n",
       "      <td>Strategy_238</td>\n",
       "      <td>2020-09-24T12:54:06.000Z</td>\n",
       "      <td>2021-02-04T16:49:55.000Z</td>\n",
       "    </tr>\n",
       "    <tr>\n",
       "      <th>4</th>\n",
       "      <td>User_10</td>\n",
       "      <td>14-8-1988</td>\n",
       "      <td>Broker_account_14024</td>\n",
       "      <td>Strategy_236</td>\n",
       "      <td>2020-11-10T15:52:13.000Z</td>\n",
       "      <td>None</td>\n",
       "    </tr>\n",
       "  </tbody>\n",
       "</table>\n",
       "</div>"
      ],
      "text/plain": [
       "    Клиент Дата рождения       Брокерский счет        Услуга  \\\n",
       "0   User_0      2-3-1989      Broker_account_0    Strategy_0   \n",
       "1   User_1     15-7-1981      Broker_account_1    Strategy_0   \n",
       "2  User_10     14-8-1988     Broker_account_10    Strategy_2   \n",
       "3  User_10     14-8-1988  Broker_account_14023  Strategy_238   \n",
       "4  User_10     14-8-1988  Broker_account_14024  Strategy_236   \n",
       "\n",
       "                     Начало                 Окончание  \n",
       "0  2020-06-17T12:28:00.000Z                      None  \n",
       "1  2020-11-27T16:39:12.000Z  2021-02-02T15:11:57.000Z  \n",
       "2  2020-12-09T11:59:27.000Z                      None  \n",
       "3  2020-09-24T12:54:06.000Z  2021-02-04T16:49:55.000Z  \n",
       "4  2020-11-10T15:52:13.000Z                      None  "
      ]
     },
     "execution_count": 34,
     "metadata": {},
     "output_type": "execute_result"
    }
   ],
   "source": [
    "df.head() # Отобразим первые 5 строк датафрейма и убедимся, что файл правильно считан"
   ]
  },
  {
   "cell_type": "code",
   "execution_count": 35,
   "id": "6e735d3a-6c33-40c7-afa7-4810721fd7df",
   "metadata": {},
   "outputs": [
    {
     "data": {
      "text/plain": [
       "(17271, 6)"
      ]
     },
     "execution_count": 35,
     "metadata": {},
     "output_type": "execute_result"
    }
   ],
   "source": [
    "df.shape # Размер датафрейма"
   ]
  },
  {
   "cell_type": "code",
   "execution_count": 36,
   "id": "d0826e2b-aa45-4d01-98b8-f8187e73fcf8",
   "metadata": {},
   "outputs": [
    {
     "data": {
      "text/plain": [
       "Клиент             object\n",
       "Дата рождения      object\n",
       "Брокерский счет    object\n",
       "Услуга             object\n",
       "Начало             object\n",
       "Окончание          object\n",
       "dtype: object"
      ]
     },
     "execution_count": 36,
     "metadata": {},
     "output_type": "execute_result"
    }
   ],
   "source": [
    "# Типы данных в датафрейме\n",
    "\n",
    "df.dtypes"
   ]
  },
  {
   "cell_type": "code",
   "execution_count": 37,
   "id": "d8a70780-2b85-4974-be27-fad5e2a920da",
   "metadata": {},
   "outputs": [
    {
     "data": {
      "text/html": [
       "<div>\n",
       "<style scoped>\n",
       "    .dataframe tbody tr th:only-of-type {\n",
       "        vertical-align: middle;\n",
       "    }\n",
       "\n",
       "    .dataframe tbody tr th {\n",
       "        vertical-align: top;\n",
       "    }\n",
       "\n",
       "    .dataframe thead th {\n",
       "        text-align: right;\n",
       "    }\n",
       "</style>\n",
       "<table border=\"1\" class=\"dataframe\">\n",
       "  <thead>\n",
       "    <tr style=\"text-align: right;\">\n",
       "      <th></th>\n",
       "      <th>Клиент</th>\n",
       "      <th>Дата рождения</th>\n",
       "      <th>Брокерский счет</th>\n",
       "      <th>Услуга</th>\n",
       "      <th>Начало</th>\n",
       "      <th>Окончание</th>\n",
       "    </tr>\n",
       "  </thead>\n",
       "  <tbody>\n",
       "    <tr>\n",
       "      <th>5032</th>\n",
       "      <td>User_2111</td>\n",
       "      <td>14-3-1986</td>\n",
       "      <td>Broker_account_2354</td>\n",
       "      <td>Strategy_22</td>\n",
       "      <td>2020-05-04T14:30:15.000Z</td>\n",
       "      <td>2020-05-04T14:31:15.000Z</td>\n",
       "    </tr>\n",
       "  </tbody>\n",
       "</table>\n",
       "</div>"
      ],
      "text/plain": [
       "         Клиент Дата рождения      Брокерский счет       Услуга  \\\n",
       "5032  User_2111     14-3-1986  Broker_account_2354  Strategy_22   \n",
       "\n",
       "                        Начало                 Окончание  \n",
       "5032  2020-05-04T14:30:15.000Z  2020-05-04T14:31:15.000Z  "
      ]
     },
     "execution_count": 37,
     "metadata": {},
     "output_type": "execute_result"
    }
   ],
   "source": [
    "# Проверим датафрейм на дубли\n",
    "\n",
    "df[df.duplicated() == True]"
   ]
  },
  {
   "cell_type": "markdown",
   "id": "b6e0cca3-5098-424d-a964-281702f7a3d9",
   "metadata": {},
   "source": [
    "В датафрейме имеется одна дублирующая строка. Избавимся от нее"
   ]
  },
  {
   "cell_type": "code",
   "execution_count": 38,
   "id": "42a00d15-c7bc-4a76-a5f4-3ad588f383e5",
   "metadata": {},
   "outputs": [],
   "source": [
    "df.drop_duplicates(inplace=True)"
   ]
  },
  {
   "cell_type": "code",
   "execution_count": 39,
   "id": "a2acd877-2636-4ed3-9ad2-c38ca03eb695",
   "metadata": {},
   "outputs": [
    {
     "data": {
      "text/plain": [
       "(17270, 6)"
      ]
     },
     "execution_count": 39,
     "metadata": {},
     "output_type": "execute_result"
    }
   ],
   "source": [
    "df.shape"
   ]
  },
  {
   "cell_type": "code",
   "execution_count": 40,
   "id": "4011f1e0-3dc3-445f-9c71-0331bbd98769",
   "metadata": {},
   "outputs": [
    {
     "data": {
      "text/plain": [
       "Клиент                 0\n",
       "Дата рождения          0\n",
       "Брокерский счет        0\n",
       "Услуга                 0\n",
       "Начало                 0\n",
       "Окончание          12443\n",
       "dtype: int64"
      ]
     },
     "execution_count": 40,
     "metadata": {},
     "output_type": "execute_result"
    }
   ],
   "source": [
    "df.isna().sum() # Пропущенные значения"
   ]
  },
  {
   "cell_type": "code",
   "execution_count": 41,
   "id": "226ba8fe-30ab-41ba-80e2-2b04482f258d",
   "metadata": {},
   "outputs": [
    {
     "data": {
      "text/plain": [
       "0.7204979733642154"
      ]
     },
     "execution_count": 41,
     "metadata": {},
     "output_type": "execute_result"
    }
   ],
   "source": [
    "df['Окончание'].isna().mean()"
   ]
  },
  {
   "cell_type": "markdown",
   "id": "97a93ebb-9e5f-4460-b48f-3c5f39cb8e95",
   "metadata": {},
   "source": [
    "В датафрейме необходимо перевести временные данные: дни рождения в date, начала и окончания услуги в datetime,   \n",
    "при этом 72 % данных об окончании услуги отсутствуют."
   ]
  },
  {
   "cell_type": "code",
   "execution_count": 42,
   "id": "6af59dd5-d346-465f-acca-4c7167f5752a",
   "metadata": {},
   "outputs": [],
   "source": [
    "# Изменим тип данных в столбце день рождения\n",
    "\n",
    "df['Дата рождения'] = pd.to_datetime(df['Дата рождения'], format='%d-%m-%Y')"
   ]
  },
  {
   "cell_type": "code",
   "execution_count": 43,
   "id": "5ab7a9d3-a6cc-4ded-bbd7-aef22b7ef6d8",
   "metadata": {},
   "outputs": [
    {
     "data": {
      "text/plain": [
       "0   1989-03-02\n",
       "1   1981-07-15\n",
       "2   1988-08-14\n",
       "3   1988-08-14\n",
       "4   1988-08-14\n",
       "Name: Дата рождения, dtype: datetime64[ns]"
      ]
     },
     "execution_count": 43,
     "metadata": {},
     "output_type": "execute_result"
    }
   ],
   "source": [
    "df['Дата рождения'].head()"
   ]
  },
  {
   "cell_type": "markdown",
   "id": "74365795-a0db-4998-b8ef-b8e7cfc0339d",
   "metadata": {},
   "source": [
    "Изменим тип данных в столбцах Начало и Окончание   \n",
    "Для этого необходимо перевести даты из формата ISO в формат datetime   \n",
    "Возпользуемся библиотекой dateutil"
   ]
  },
  {
   "cell_type": "code",
   "execution_count": 44,
   "id": "057c1ebc-c4ba-4cb8-8c39-733379c8f91b",
   "metadata": {},
   "outputs": [],
   "source": [
    "from dateutil.parser import parse"
   ]
  },
  {
   "cell_type": "code",
   "execution_count": 45,
   "id": "7b6509ed-8e11-4f42-b8bb-f4a855d69d1e",
   "metadata": {},
   "outputs": [],
   "source": [
    "df['Начало_new'] = df['Начало'].apply(parse) # сщздадим новый столбец"
   ]
  },
  {
   "cell_type": "code",
   "execution_count": 46,
   "id": "bc707db6-f3d8-4d76-ac90-591ef8717b3b",
   "metadata": {},
   "outputs": [
    {
     "data": {
      "text/plain": [
       "0   2020-06-17 12:28:00+00:00\n",
       "1   2020-11-27 16:39:12+00:00\n",
       "2   2020-12-09 11:59:27+00:00\n",
       "3   2020-09-24 12:54:06+00:00\n",
       "4   2020-11-10 15:52:13+00:00\n",
       "Name: Начало_new, dtype: datetime64[ns, tzutc()]"
      ]
     },
     "execution_count": 46,
     "metadata": {},
     "output_type": "execute_result"
    }
   ],
   "source": [
    "df['Начало_new'].head()"
   ]
  },
  {
   "cell_type": "code",
   "execution_count": 47,
   "id": "f6ab57e4-3610-4042-95f3-0e1bb914a6f6",
   "metadata": {},
   "outputs": [],
   "source": [
    "from datetime import datetime"
   ]
  },
  {
   "cell_type": "code",
   "execution_count": 48,
   "id": "e274c2cd-e746-4ac0-ab40-ebe55b61a225",
   "metadata": {},
   "outputs": [
    {
     "data": {
      "text/plain": [
       "0   2020-06-17 12:28:00+00:00\n",
       "1   2020-11-27 16:39:12+00:00\n",
       "2   2020-12-09 11:59:27+00:00\n",
       "3   2020-09-24 12:54:06+00:00\n",
       "4   2020-11-10 15:52:13+00:00\n",
       "Name: Начало_new, dtype: datetime64[ns, tzutc()]"
      ]
     },
     "execution_count": 48,
     "metadata": {},
     "output_type": "execute_result"
    }
   ],
   "source": [
    "df['Начало_new'].head()"
   ]
  },
  {
   "cell_type": "code",
   "execution_count": 49,
   "id": "0514ab2e-1627-4bd2-a9fa-6ccd051cf96b",
   "metadata": {},
   "outputs": [],
   "source": [
    "df['Начало_new'] = pd.to_datetime(df['Начало_new'], format=\"%Y-%m-%d\") # Осталось перевести в формат datetime64"
   ]
  },
  {
   "cell_type": "code",
   "execution_count": 50,
   "id": "08345b8a-f17f-4b5c-846f-6f174489654e",
   "metadata": {},
   "outputs": [
    {
     "data": {
      "text/plain": [
       "0   2020-06-17 12:28:00+00:00\n",
       "1   2020-11-27 16:39:12+00:00\n",
       "2   2020-12-09 11:59:27+00:00\n",
       "3   2020-09-24 12:54:06+00:00\n",
       "4   2020-11-10 15:52:13+00:00\n",
       "Name: Начало_new, dtype: datetime64[ns, tzutc()]"
      ]
     },
     "execution_count": 50,
     "metadata": {},
     "output_type": "execute_result"
    }
   ],
   "source": [
    "df['Начало_new'].head()"
   ]
  },
  {
   "cell_type": "code",
   "execution_count": 51,
   "id": "dc7ee407-1f13-4350-ad5e-45c538c05eb6",
   "metadata": {},
   "outputs": [],
   "source": [
    "df['Окончание_new'] = df[df['Окончание'].isna() == False]['Окончание'].apply(parse)"
   ]
  },
  {
   "cell_type": "code",
   "execution_count": 52,
   "id": "3e6b3850-a04f-4ba9-978d-b781c9371d90",
   "metadata": {},
   "outputs": [
    {
     "data": {
      "text/plain": [
       "0                         NaT\n",
       "1   2021-02-02 15:11:57+00:00\n",
       "2                         NaT\n",
       "3   2021-02-04 16:49:55+00:00\n",
       "4                         NaT\n",
       "Name: Окончание_new, dtype: datetime64[ns, tzutc()]"
      ]
     },
     "execution_count": 52,
     "metadata": {},
     "output_type": "execute_result"
    }
   ],
   "source": [
    "df['Окончание_new'].head()"
   ]
  },
  {
   "cell_type": "code",
   "execution_count": 53,
   "id": "4892c153-351c-47f9-ad9f-5a09e1881b16",
   "metadata": {},
   "outputs": [],
   "source": [
    "df['Окончание_new'] = pd.to_datetime(df['Окончание_new'], format=\"%Y-%m-%d\")"
   ]
  },
  {
   "cell_type": "code",
   "execution_count": 54,
   "id": "5329d4f1-c129-4a9d-8fa6-6f77e4700192",
   "metadata": {},
   "outputs": [
    {
     "data": {
      "text/plain": [
       "0                         NaT\n",
       "1   2021-02-02 15:11:57+00:00\n",
       "2                         NaT\n",
       "3   2021-02-04 16:49:55+00:00\n",
       "4                         NaT\n",
       "Name: Окончание_new, dtype: datetime64[ns, tzutc()]"
      ]
     },
     "execution_count": 54,
     "metadata": {},
     "output_type": "execute_result"
    }
   ],
   "source": [
    "df['Окончание_new'].head()"
   ]
  },
  {
   "cell_type": "markdown",
   "id": "66698716-18c3-4652-8431-f507a2b97e92",
   "metadata": {},
   "source": [
    "Добавим столбцы с датами начала и окончания стратегий и разницу между этими датами"
   ]
  },
  {
   "cell_type": "code",
   "execution_count": 55,
   "id": "a7cca43b-e794-4342-a902-0ea679aee435",
   "metadata": {},
   "outputs": [],
   "source": [
    "df['Дата_начала'] = df['Начало_new'].dt.date"
   ]
  },
  {
   "cell_type": "code",
   "execution_count": 56,
   "id": "66f73c62-a4bf-463a-b9a4-abfc3e068362",
   "metadata": {},
   "outputs": [],
   "source": [
    "df['Дата_окончания'] = df['Окончание_new'].dt.date"
   ]
  },
  {
   "cell_type": "code",
   "execution_count": 57,
   "id": "e65c0e22-9c55-477a-9a1b-ca53e037ce2d",
   "metadata": {},
   "outputs": [],
   "source": [
    "df['Дельта_времени'] = df['Дата_окончания'] - df['Дата_начала']"
   ]
  },
  {
   "cell_type": "markdown",
   "id": "7ee47ba6-28e1-4e1f-970a-9d7917f2902c",
   "metadata": {},
   "source": [
    "Проверим есть ли отрицательная разница во времени окончания и начала услуги, не учитывая пропуски"
   ]
  },
  {
   "cell_type": "code",
   "execution_count": 58,
   "id": "4d12fddd-2a31-482b-b540-27ab0b7ef20c",
   "metadata": {},
   "outputs": [
    {
     "data": {
      "text/html": [
       "<div>\n",
       "<style scoped>\n",
       "    .dataframe tbody tr th:only-of-type {\n",
       "        vertical-align: middle;\n",
       "    }\n",
       "\n",
       "    .dataframe tbody tr th {\n",
       "        vertical-align: top;\n",
       "    }\n",
       "\n",
       "    .dataframe thead th {\n",
       "        text-align: right;\n",
       "    }\n",
       "</style>\n",
       "<table border=\"1\" class=\"dataframe\">\n",
       "  <thead>\n",
       "    <tr style=\"text-align: right;\">\n",
       "      <th></th>\n",
       "      <th>Клиент</th>\n",
       "      <th>Дата рождения</th>\n",
       "      <th>Брокерский счет</th>\n",
       "      <th>Услуга</th>\n",
       "      <th>Начало</th>\n",
       "      <th>Окончание</th>\n",
       "      <th>Начало_new</th>\n",
       "      <th>Окончание_new</th>\n",
       "      <th>Дата_начала</th>\n",
       "      <th>Дата_окончания</th>\n",
       "      <th>Дельта_времени</th>\n",
       "    </tr>\n",
       "  </thead>\n",
       "  <tbody>\n",
       "  </tbody>\n",
       "</table>\n",
       "</div>"
      ],
      "text/plain": [
       "Empty DataFrame\n",
       "Columns: [Клиент, Дата рождения, Брокерский счет, Услуга, Начало, Окончание, Начало_new, Окончание_new, Дата_начала, Дата_окончания, Дельта_времени]\n",
       "Index: []"
      ]
     },
     "execution_count": 58,
     "metadata": {},
     "output_type": "execute_result"
    }
   ],
   "source": [
    "df_timedelta = df[df['Дельта_времени'] < '0 days']\n",
    "df_timedelta"
   ]
  },
  {
   "cell_type": "markdown",
   "id": "2848d895-04ad-43fb-b84c-1603ffc8f6d7",
   "metadata": {},
   "source": [
    "Помним, что в в датафрейме отсутствуют 72% данных о дате завершения услуги.   \n",
    "Это говорит о следующем:   \n",
    " 1. Пользователи не прекратили пользоваться услугой на дату выгрузки данных.\n",
    " 2. Возникает вопрос о дате выгрузке таких данных, т.к. с февраля 2021 у нас нет информации о клиентах и времни оказания услуг.    \n",
    " 3. Необходимо определить следующее: дату, которой будем заполнять пропуски и от которой будем рассчитывать дальнейшие показатели.\n"
   ]
  },
  {
   "cell_type": "markdown",
   "id": "0052454e-5264-482e-9498-63cd4c987a08",
   "metadata": {},
   "source": [
    "Рассмотрим распределение времени пользования стратегиями по имеющимся данным."
   ]
  },
  {
   "cell_type": "code",
   "execution_count": 59,
   "id": "712a065e-8e06-4070-a2d8-ce71a41131b3",
   "metadata": {},
   "outputs": [
    {
     "data": {
      "text/plain": [
       "<AxesSubplot:>"
      ]
     },
     "execution_count": 59,
     "metadata": {},
     "output_type": "execute_result"
    },
    {
     "data": {
      "image/png": "[encoded data removed]",
      "text/plain": [
       "<Figure size 720x720 with 1 Axes>"
      ]
     },
     "metadata": {},
     "output_type": "display_data"
    }
   ],
   "source": [
    "df[df['Окончание_new'].isna() == False]['Дельта_времени'].dt.days.hist()"
   ]
  },
  {
   "cell_type": "code",
   "execution_count": 60,
   "id": "a21cf4d5-2311-41f7-a0d4-1be06e0e2962",
   "metadata": {},
   "outputs": [
    {
     "data": {
      "text/plain": [
       "count    4827.000000\n",
       "mean      113.942614\n",
       "std        90.428917\n",
       "min         0.000000\n",
       "25%        48.000000\n",
       "50%        92.000000\n",
       "75%       161.000000\n",
       "max       399.000000\n",
       "Name: Дельта_времени, dtype: float64"
      ]
     },
     "execution_count": 60,
     "metadata": {},
     "output_type": "execute_result"
    }
   ],
   "source": [
    "df[df['Окончание_new'].isna() == False]['Дельта_времени'].dt.days.describe()"
   ]
  },
  {
   "cell_type": "markdown",
   "id": "5b485723-f6ae-4a66-a68b-c3e7e158a75a",
   "metadata": {},
   "source": [
    "Медианное время пользования стратегией - 3 месяца."
   ]
  },
  {
   "cell_type": "markdown",
   "id": "63acd747-6eb4-4071-9ee8-b3db14ed7435",
   "metadata": {},
   "source": [
    "Посмотрим какая максимальная дата в датафрейме"
   ]
  },
  {
   "cell_type": "code",
   "execution_count": 61,
   "id": "96a16a6d-d44d-447d-98ca-a7cd39cc9b39",
   "metadata": {},
   "outputs": [
    {
     "data": {
      "text/plain": [
       "datetime.date(2020, 12, 14)"
      ]
     },
     "execution_count": 61,
     "metadata": {},
     "output_type": "execute_result"
    }
   ],
   "source": [
    "df['Дата_начала'].max()"
   ]
  },
  {
   "cell_type": "code",
   "execution_count": 62,
   "id": "0bdcc177-80ca-4e22-8d69-d3420b9ac93c",
   "metadata": {},
   "outputs": [
    {
     "data": {
      "text/plain": [
       "datetime.date(2021, 2, 16)"
      ]
     },
     "execution_count": 62,
     "metadata": {},
     "output_type": "execute_result"
    }
   ],
   "source": [
    "df[df['Дата_окончания'].isna() == False]['Дата_окончания'].max()"
   ]
  },
  {
   "cell_type": "code",
   "execution_count": 63,
   "id": "8fcdbc8d-6236-4ca1-991e-73b349b1dd56",
   "metadata": {},
   "outputs": [],
   "source": [
    "from datetime import timedelta"
   ]
  },
  {
   "cell_type": "markdown",
   "id": "4cba9eac-d641-43cc-92b4-3d0cadf62cc1",
   "metadata": {},
   "source": [
    "Исходя из значительного временного разрыва между рассматриваемым датафреймом и датами транзакций, а таже учитывая отсутствие данных за 2022 и 2023 год,   \n",
    "примем за дату расчета (дату выгрузки) максимальную дату в датафрейме плюс 3 месяца и дальнейшие расчеты будем проводить от этой даты. "
   ]
  },
  {
   "cell_type": "code",
   "execution_count": 64,
   "id": "899c7f06-c877-4bd1-beb2-365acd590e3c",
   "metadata": {},
   "outputs": [
    {
     "data": {
      "text/plain": [
       "datetime.date(2021, 5, 17)"
      ]
     },
     "execution_count": 64,
     "metadata": {},
     "output_type": "execute_result"
    }
   ],
   "source": [
    "max_date = df[df['Дата_окончания'].isna() == False]['Дата_окончания'].max() + timedelta(days=90)\n",
    "max_date"
   ]
  },
  {
   "cell_type": "code",
   "execution_count": 65,
   "id": "69715bc7-6818-4cc9-8a19-4ab9cd87c243",
   "metadata": {},
   "outputs": [],
   "source": [
    "df_filter = df.copy()"
   ]
  },
  {
   "cell_type": "markdown",
   "id": "23197ac5-e635-4500-9f6e-5f6769268575",
   "metadata": {},
   "source": [
    "Заменим датой max_date пропуски."
   ]
  },
  {
   "cell_type": "code",
   "execution_count": 66,
   "id": "d430df34-5afb-4692-9e6c-cf6c28487f94",
   "metadata": {},
   "outputs": [],
   "source": [
    "df_filter['Дата_окончания'] = df_filter['Дата_окончания'].fillna(max_date)"
   ]
  },
  {
   "cell_type": "markdown",
   "id": "3ad510d3-196c-4575-9f6e-fef0be07531f",
   "metadata": {},
   "source": [
    "Рассчитаем разницу между датами"
   ]
  },
  {
   "cell_type": "code",
   "execution_count": 67,
   "id": "457c40dc-6a1f-44ee-bc95-3e4d3d868bed",
   "metadata": {},
   "outputs": [],
   "source": [
    "df_filter['Дельта_времени'] = df_filter['Дата_окончания'] - df_filter['Дата_начала']"
   ]
  },
  {
   "cell_type": "code",
   "execution_count": 68,
   "id": "94668660-2f08-46d2-ac20-c1075f702188",
   "metadata": {},
   "outputs": [
    {
     "data": {
      "text/plain": [
       "0"
      ]
     },
     "execution_count": 68,
     "metadata": {},
     "output_type": "execute_result"
    }
   ],
   "source": [
    "df_filter['Дельта_времени'].isna().sum() # Пропуски отсутствуют"
   ]
  },
  {
   "cell_type": "markdown",
   "id": "bd10d3d7-0b13-4e0a-b550-1aadbab08b43",
   "metadata": {},
   "source": [
    "В дельте оставим только количество дней"
   ]
  },
  {
   "cell_type": "code",
   "execution_count": 69,
   "id": "717e8f4f-5294-4c27-baf0-c83aed6474f0",
   "metadata": {},
   "outputs": [],
   "source": [
    "df_filter['Дельта_времени'] = df_filter['Дельта_времени'].dt.days"
   ]
  },
  {
   "cell_type": "code",
   "execution_count": 70,
   "id": "49c9bf7b-2dc0-4b77-891e-68d99ec923d4",
   "metadata": {},
   "outputs": [
    {
     "data": {
      "text/plain": [
       "count    17270.000000\n",
       "mean       227.092588\n",
       "std        119.292036\n",
       "min          0.000000\n",
       "25%        161.000000\n",
       "50%        209.000000\n",
       "75%        300.000000\n",
       "max        501.000000\n",
       "Name: Дельта_времени, dtype: float64"
      ]
     },
     "execution_count": 70,
     "metadata": {},
     "output_type": "execute_result"
    }
   ],
   "source": [
    "df_filter['Дельта_времени'].describe()"
   ]
  },
  {
   "cell_type": "code",
   "execution_count": 105,
   "id": "92514d07-d48d-49d2-ab88-dd49d1eecb02",
   "metadata": {},
   "outputs": [
    {
     "data": {
      "text/plain": [
       "185.0"
      ]
     },
     "execution_count": 105,
     "metadata": {},
     "output_type": "execute_result"
    }
   ],
   "source": [
    "df_filter['Дельта_времени'].quantile(0.40)"
   ]
  },
  {
   "cell_type": "code",
   "execution_count": 72,
   "id": "61cc807e-4c79-4cdd-9d9d-7acf243210c6",
   "metadata": {},
   "outputs": [
    {
     "name": "stderr",
     "output_type": "stream",
     "text": [
      "C:\\Users\\alyap\\anaconda3\\lib\\site-packages\\seaborn\\distributions.py:2619: FutureWarning: `distplot` is a deprecated function and will be removed in a future version. Please adapt your code to use either `displot` (a figure-level function with similar flexibility) or `histplot` (an axes-level function for histograms).\n",
      "  warnings.warn(msg, FutureWarning)\n"
     ]
    },
    {
     "data": {
      "text/plain": [
       "<AxesSubplot:xlabel='Дельта_времени'>"
      ]
     },
     "execution_count": 72,
     "metadata": {},
     "output_type": "execute_result"
    },
    {
     "data": {
      "image/png": "[encoded data removed]",
      "text/plain": [
       "<Figure size 720x720 with 1 Axes>"
      ]
     },
     "metadata": {},
     "output_type": "display_data"
    }
   ],
   "source": [
    "sns.distplot(df_filter['Дельта_времени'], kde=False)"
   ]
  },
  {
   "cell_type": "markdown",
   "id": "d7ef310d-0c7a-4cbc-8168-be5788545cfa",
   "metadata": {},
   "source": [
    "Большинство пользователей предпочитают долгосрочные стратегии с вложением средств на срок больше чем на 6 месяцев (Больше 60%)  \n",
    "Резкий скачок на 180 дней говорит о том, что многие клиенты предпочитают вкладываться в стратегию на пол года.   \n",
    "Отсутствующие данные в дате окончания (72%) говорят о том, что клиенты не прекратили пользоваться услугой на 2021-02-16."
   ]
  },
  {
   "cell_type": "markdown",
   "id": "c8bf0b65-020b-48e9-a623-0da6d813054a",
   "metadata": {},
   "source": [
    "Представим данные по временным группам пользования услугой на рассчитанную дату max_date и рассчитаем количество пользователей в каждой группе"
   ]
  },
  {
   "cell_type": "code",
   "execution_count": 106,
   "id": "8cc6c3b9-6152-4658-8412-a8c5b8d1ace4",
   "metadata": {},
   "outputs": [],
   "source": [
    "def group(x):\n",
    "    if 0 <= x <= 150:\n",
    "        return 'До 5 мес'\n",
    "    if 150 < x <= 300:\n",
    "        return 'От 5 до 10 мес'\n",
    "    else: return '> 10 мес'"
   ]
  },
  {
   "cell_type": "code",
   "execution_count": 107,
   "id": "605166c7-2c2f-46f8-9b9f-8f94e36771ae",
   "metadata": {},
   "outputs": [],
   "source": [
    "df_filter['Временная группа'] = df_filter['Дельта_времени'].apply(group)"
   ]
  },
  {
   "cell_type": "code",
   "execution_count": 108,
   "id": "323b1ceb-1f39-47d3-a8a6-91996d0429d4",
   "metadata": {},
   "outputs": [],
   "source": [
    "time_groups = df_filter.groupby('Временная группа', as_index = False).agg({'Клиент':'nunique'})\\\n",
    "                                                        .rename(columns={'Клиент':'Количество пользователей'})"
   ]
  },
  {
   "cell_type": "code",
   "execution_count": 109,
   "id": "e7fc7947-ab7a-4db2-8839-e06eeeb7ab24",
   "metadata": {},
   "outputs": [],
   "source": [
    "time_groups['Процент'] = round(time_groups['Количество пользователей'] / time_groups['Количество пользователей'].sum() * 100, 2)"
   ]
  },
  {
   "cell_type": "code",
   "execution_count": 110,
   "id": "27504cb9-87a5-4986-871a-418718a95f45",
   "metadata": {},
   "outputs": [
    {
     "data": {
      "text/html": [
       "<div>\n",
       "<style scoped>\n",
       "    .dataframe tbody tr th:only-of-type {\n",
       "        vertical-align: middle;\n",
       "    }\n",
       "\n",
       "    .dataframe tbody tr th {\n",
       "        vertical-align: top;\n",
       "    }\n",
       "\n",
       "    .dataframe thead th {\n",
       "        text-align: right;\n",
       "    }\n",
       "</style>\n",
       "<table border=\"1\" class=\"dataframe\">\n",
       "  <thead>\n",
       "    <tr style=\"text-align: right;\">\n",
       "      <th></th>\n",
       "      <th>Временная группа</th>\n",
       "      <th>Количество пользователей</th>\n",
       "      <th>Процент</th>\n",
       "    </tr>\n",
       "  </thead>\n",
       "  <tbody>\n",
       "    <tr>\n",
       "      <th>0</th>\n",
       "      <td>&gt; 10 мес</td>\n",
       "      <td>3424</td>\n",
       "      <td>27.97</td>\n",
       "    </tr>\n",
       "    <tr>\n",
       "      <th>1</th>\n",
       "      <td>До 5 мес</td>\n",
       "      <td>2299</td>\n",
       "      <td>18.78</td>\n",
       "    </tr>\n",
       "    <tr>\n",
       "      <th>2</th>\n",
       "      <td>От 5 до 10 мес</td>\n",
       "      <td>6517</td>\n",
       "      <td>53.24</td>\n",
       "    </tr>\n",
       "  </tbody>\n",
       "</table>\n",
       "</div>"
      ],
      "text/plain": [
       "  Временная группа  Количество пользователей  Процент\n",
       "0         > 10 мес                      3424    27.97\n",
       "1         До 5 мес                      2299    18.78\n",
       "2   От 5 до 10 мес                      6517    53.24"
      ]
     },
     "execution_count": 110,
     "metadata": {},
     "output_type": "execute_result"
    }
   ],
   "source": [
    "time_groups"
   ]
  },
  {
   "cell_type": "markdown",
   "id": "fd0b1478-3bc8-4cd7-b8f8-0efca7426e17",
   "metadata": {},
   "source": [
    "Большинство пользователей предпочитают пользоваться стратегиями сроком больше 6 мес, при этом учитываем что большинство пользователей не прекратили пользоваться услугой."
   ]
  },
  {
   "cell_type": "markdown",
   "id": "5e2a87ee-2eb3-498a-b508-5e13ca964810",
   "metadata": {},
   "source": [
    "Посчитаем количество пользователей в разрезе услуг, а также на какое время в среднем пользуются услугой.   \n",
    "Итоговый датафрейм отсортируем по наименьшему среднему времени и количеству пользователей."
   ]
  },
  {
   "cell_type": "code",
   "execution_count": 78,
   "id": "02037396-f017-45bc-a752-bad9f0219ac6",
   "metadata": {},
   "outputs": [],
   "source": [
    "strategies = df_filter.groupby('Услуга', as_index=False)['Дельта_времени'].agg(['mean', 'median'])\\\n",
    "                                                            .sort_values('median')\\\n",
    "                                                            .rename(columns={'mean':'Среднее_к-во_дней', 'median':'Медианное_к-во дней'})\\\n",
    "                                                            .reset_index()"
   ]
  },
  {
   "cell_type": "code",
   "execution_count": 79,
   "id": "2a869e25-3d21-4881-84ac-ff217a829122",
   "metadata": {},
   "outputs": [
    {
     "data": {
      "text/html": [
       "<div>\n",
       "<style scoped>\n",
       "    .dataframe tbody tr th:only-of-type {\n",
       "        vertical-align: middle;\n",
       "    }\n",
       "\n",
       "    .dataframe tbody tr th {\n",
       "        vertical-align: top;\n",
       "    }\n",
       "\n",
       "    .dataframe thead th {\n",
       "        text-align: right;\n",
       "    }\n",
       "</style>\n",
       "<table border=\"1\" class=\"dataframe\">\n",
       "  <thead>\n",
       "    <tr style=\"text-align: right;\">\n",
       "      <th></th>\n",
       "      <th>Услуга</th>\n",
       "      <th>Среднее_к-во_дней</th>\n",
       "      <th>Медианное_к-во дней</th>\n",
       "    </tr>\n",
       "  </thead>\n",
       "  <tbody>\n",
       "    <tr>\n",
       "      <th>0</th>\n",
       "      <td>Strategy_27</td>\n",
       "      <td>0.0</td>\n",
       "      <td>0.0</td>\n",
       "    </tr>\n",
       "    <tr>\n",
       "      <th>1</th>\n",
       "      <td>Strategy_57</td>\n",
       "      <td>0.0</td>\n",
       "      <td>0.0</td>\n",
       "    </tr>\n",
       "    <tr>\n",
       "      <th>2</th>\n",
       "      <td>Strategy_14</td>\n",
       "      <td>0.0</td>\n",
       "      <td>0.0</td>\n",
       "    </tr>\n",
       "    <tr>\n",
       "      <th>3</th>\n",
       "      <td>Strategy_205</td>\n",
       "      <td>0.0</td>\n",
       "      <td>0.0</td>\n",
       "    </tr>\n",
       "    <tr>\n",
       "      <th>4</th>\n",
       "      <td>Strategy_63</td>\n",
       "      <td>0.0</td>\n",
       "      <td>0.0</td>\n",
       "    </tr>\n",
       "  </tbody>\n",
       "</table>\n",
       "</div>"
      ],
      "text/plain": [
       "         Услуга  Среднее_к-во_дней  Медианное_к-во дней\n",
       "0   Strategy_27                0.0                  0.0\n",
       "1   Strategy_57                0.0                  0.0\n",
       "2   Strategy_14                0.0                  0.0\n",
       "3  Strategy_205                0.0                  0.0\n",
       "4   Strategy_63                0.0                  0.0"
      ]
     },
     "execution_count": 79,
     "metadata": {},
     "output_type": "execute_result"
    }
   ],
   "source": [
    "strategies.head()"
   ]
  },
  {
   "cell_type": "markdown",
   "id": "9194e8fd-84dc-4810-8c67-0cd11f6ebb84",
   "metadata": {},
   "source": [
    "В данных присутствуют услуги, в среднем которыми не пользовались и одного дня"
   ]
  },
  {
   "cell_type": "code",
   "execution_count": 80,
   "id": "5a57b0b7-34c7-4172-81d7-cbb7b46446e1",
   "metadata": {},
   "outputs": [
    {
     "data": {
      "text/html": [
       "<div>\n",
       "<style scoped>\n",
       "    .dataframe tbody tr th:only-of-type {\n",
       "        vertical-align: middle;\n",
       "    }\n",
       "\n",
       "    .dataframe tbody tr th {\n",
       "        vertical-align: top;\n",
       "    }\n",
       "\n",
       "    .dataframe thead th {\n",
       "        text-align: right;\n",
       "    }\n",
       "</style>\n",
       "<table border=\"1\" class=\"dataframe\">\n",
       "  <thead>\n",
       "    <tr style=\"text-align: right;\">\n",
       "      <th></th>\n",
       "      <th>Услуга</th>\n",
       "      <th>Среднее_к-во_дней</th>\n",
       "      <th>Медианное_к-во дней</th>\n",
       "    </tr>\n",
       "  </thead>\n",
       "  <tbody>\n",
       "    <tr>\n",
       "      <th>0</th>\n",
       "      <td>Strategy_27</td>\n",
       "      <td>0.0</td>\n",
       "      <td>0.0</td>\n",
       "    </tr>\n",
       "    <tr>\n",
       "      <th>1</th>\n",
       "      <td>Strategy_57</td>\n",
       "      <td>0.0</td>\n",
       "      <td>0.0</td>\n",
       "    </tr>\n",
       "    <tr>\n",
       "      <th>2</th>\n",
       "      <td>Strategy_14</td>\n",
       "      <td>0.0</td>\n",
       "      <td>0.0</td>\n",
       "    </tr>\n",
       "    <tr>\n",
       "      <th>3</th>\n",
       "      <td>Strategy_205</td>\n",
       "      <td>0.0</td>\n",
       "      <td>0.0</td>\n",
       "    </tr>\n",
       "    <tr>\n",
       "      <th>4</th>\n",
       "      <td>Strategy_63</td>\n",
       "      <td>0.0</td>\n",
       "      <td>0.0</td>\n",
       "    </tr>\n",
       "    <tr>\n",
       "      <th>5</th>\n",
       "      <td>Strategy_288</td>\n",
       "      <td>0.0</td>\n",
       "      <td>0.0</td>\n",
       "    </tr>\n",
       "    <tr>\n",
       "      <th>6</th>\n",
       "      <td>Strategy_121</td>\n",
       "      <td>0.0</td>\n",
       "      <td>0.0</td>\n",
       "    </tr>\n",
       "    <tr>\n",
       "      <th>7</th>\n",
       "      <td>Strategy_344</td>\n",
       "      <td>50.5</td>\n",
       "      <td>0.0</td>\n",
       "    </tr>\n",
       "    <tr>\n",
       "      <th>8</th>\n",
       "      <td>Strategy_313</td>\n",
       "      <td>0.0</td>\n",
       "      <td>0.0</td>\n",
       "    </tr>\n",
       "  </tbody>\n",
       "</table>\n",
       "</div>"
      ],
      "text/plain": [
       "         Услуга  Среднее_к-во_дней  Медианное_к-во дней\n",
       "0   Strategy_27                0.0                  0.0\n",
       "1   Strategy_57                0.0                  0.0\n",
       "2   Strategy_14                0.0                  0.0\n",
       "3  Strategy_205                0.0                  0.0\n",
       "4   Strategy_63                0.0                  0.0\n",
       "5  Strategy_288                0.0                  0.0\n",
       "6  Strategy_121                0.0                  0.0\n",
       "7  Strategy_344               50.5                  0.0\n",
       "8  Strategy_313                0.0                  0.0"
      ]
     },
     "execution_count": 80,
     "metadata": {},
     "output_type": "execute_result"
    }
   ],
   "source": [
    "strategies[strategies['Медианное_к-во дней'] == 0]"
   ]
  },
  {
   "cell_type": "markdown",
   "id": "15b944d8-f052-46fb-be80-4c1dae8b2234",
   "metadata": {},
   "source": [
    "Рассчитаем сколько клиентов воспользовались услугой"
   ]
  },
  {
   "cell_type": "code",
   "execution_count": 81,
   "id": "8c32b7eb-b382-4b48-b94f-86f2d23894fe",
   "metadata": {},
   "outputs": [],
   "source": [
    "strategies_users = df_filter.groupby('Услуга', as_index=False)['Клиент'].agg(['nunique'])\\\n",
    "                                                            .sort_values('nunique')\\\n",
    "                                                            .rename(columns={'nunique':'К-во_клиентов'})\\\n",
    "                                                            .reset_index()"
   ]
  },
  {
   "cell_type": "code",
   "execution_count": 82,
   "id": "cb2ff41d-1417-42d9-b5c0-46a054a7c18d",
   "metadata": {},
   "outputs": [
    {
     "data": {
      "text/html": [
       "<div>\n",
       "<style scoped>\n",
       "    .dataframe tbody tr th:only-of-type {\n",
       "        vertical-align: middle;\n",
       "    }\n",
       "\n",
       "    .dataframe tbody tr th {\n",
       "        vertical-align: top;\n",
       "    }\n",
       "\n",
       "    .dataframe thead th {\n",
       "        text-align: right;\n",
       "    }\n",
       "</style>\n",
       "<table border=\"1\" class=\"dataframe\">\n",
       "  <thead>\n",
       "    <tr style=\"text-align: right;\">\n",
       "      <th></th>\n",
       "      <th>Услуга</th>\n",
       "      <th>К-во_клиентов</th>\n",
       "    </tr>\n",
       "  </thead>\n",
       "  <tbody>\n",
       "    <tr>\n",
       "      <th>0</th>\n",
       "      <td>Strategy_27</td>\n",
       "      <td>1</td>\n",
       "    </tr>\n",
       "    <tr>\n",
       "      <th>1</th>\n",
       "      <td>Strategy_306</td>\n",
       "      <td>1</td>\n",
       "    </tr>\n",
       "    <tr>\n",
       "      <th>2</th>\n",
       "      <td>Strategy_308</td>\n",
       "      <td>1</td>\n",
       "    </tr>\n",
       "    <tr>\n",
       "      <th>3</th>\n",
       "      <td>Strategy_178</td>\n",
       "      <td>1</td>\n",
       "    </tr>\n",
       "    <tr>\n",
       "      <th>4</th>\n",
       "      <td>Strategy_313</td>\n",
       "      <td>1</td>\n",
       "    </tr>\n",
       "  </tbody>\n",
       "</table>\n",
       "</div>"
      ],
      "text/plain": [
       "         Услуга  К-во_клиентов\n",
       "0   Strategy_27              1\n",
       "1  Strategy_306              1\n",
       "2  Strategy_308              1\n",
       "3  Strategy_178              1\n",
       "4  Strategy_313              1"
      ]
     },
     "execution_count": 82,
     "metadata": {},
     "output_type": "execute_result"
    }
   ],
   "source": [
    "strategies_users.head()"
   ]
  },
  {
   "cell_type": "code",
   "execution_count": 83,
   "id": "afc236de-45da-4fd8-8e0d-484047797b38",
   "metadata": {},
   "outputs": [],
   "source": [
    "strategies_final = strategies.merge(strategies_users, on='Услуга') # Соединим датафрейм"
   ]
  },
  {
   "cell_type": "code",
   "execution_count": 84,
   "id": "1f53c76a-1124-4854-948b-382e0db15bc2",
   "metadata": {},
   "outputs": [
    {
     "data": {
      "text/html": [
       "<div>\n",
       "<style scoped>\n",
       "    .dataframe tbody tr th:only-of-type {\n",
       "        vertical-align: middle;\n",
       "    }\n",
       "\n",
       "    .dataframe tbody tr th {\n",
       "        vertical-align: top;\n",
       "    }\n",
       "\n",
       "    .dataframe thead th {\n",
       "        text-align: right;\n",
       "    }\n",
       "</style>\n",
       "<table border=\"1\" class=\"dataframe\">\n",
       "  <thead>\n",
       "    <tr style=\"text-align: right;\">\n",
       "      <th></th>\n",
       "      <th>Услуга</th>\n",
       "      <th>Среднее_к-во_дней</th>\n",
       "      <th>Медианное_к-во дней</th>\n",
       "      <th>К-во_клиентов</th>\n",
       "    </tr>\n",
       "  </thead>\n",
       "  <tbody>\n",
       "    <tr>\n",
       "      <th>0</th>\n",
       "      <td>Strategy_27</td>\n",
       "      <td>0.0</td>\n",
       "      <td>0.0</td>\n",
       "      <td>1</td>\n",
       "    </tr>\n",
       "    <tr>\n",
       "      <th>1</th>\n",
       "      <td>Strategy_57</td>\n",
       "      <td>0.0</td>\n",
       "      <td>0.0</td>\n",
       "      <td>1</td>\n",
       "    </tr>\n",
       "    <tr>\n",
       "      <th>2</th>\n",
       "      <td>Strategy_14</td>\n",
       "      <td>0.0</td>\n",
       "      <td>0.0</td>\n",
       "      <td>2</td>\n",
       "    </tr>\n",
       "    <tr>\n",
       "      <th>3</th>\n",
       "      <td>Strategy_205</td>\n",
       "      <td>0.0</td>\n",
       "      <td>0.0</td>\n",
       "      <td>1</td>\n",
       "    </tr>\n",
       "    <tr>\n",
       "      <th>4</th>\n",
       "      <td>Strategy_63</td>\n",
       "      <td>0.0</td>\n",
       "      <td>0.0</td>\n",
       "      <td>1</td>\n",
       "    </tr>\n",
       "    <tr>\n",
       "      <th>5</th>\n",
       "      <td>Strategy_288</td>\n",
       "      <td>0.0</td>\n",
       "      <td>0.0</td>\n",
       "      <td>1</td>\n",
       "    </tr>\n",
       "    <tr>\n",
       "      <th>6</th>\n",
       "      <td>Strategy_121</td>\n",
       "      <td>0.0</td>\n",
       "      <td>0.0</td>\n",
       "      <td>1</td>\n",
       "    </tr>\n",
       "    <tr>\n",
       "      <th>7</th>\n",
       "      <td>Strategy_344</td>\n",
       "      <td>50.5</td>\n",
       "      <td>0.0</td>\n",
       "      <td>3</td>\n",
       "    </tr>\n",
       "    <tr>\n",
       "      <th>8</th>\n",
       "      <td>Strategy_313</td>\n",
       "      <td>0.0</td>\n",
       "      <td>0.0</td>\n",
       "      <td>1</td>\n",
       "    </tr>\n",
       "    <tr>\n",
       "      <th>9</th>\n",
       "      <td>Strategy_165</td>\n",
       "      <td>0.5</td>\n",
       "      <td>0.5</td>\n",
       "      <td>2</td>\n",
       "    </tr>\n",
       "  </tbody>\n",
       "</table>\n",
       "</div>"
      ],
      "text/plain": [
       "         Услуга  Среднее_к-во_дней  Медианное_к-во дней  К-во_клиентов\n",
       "0   Strategy_27                0.0                  0.0              1\n",
       "1   Strategy_57                0.0                  0.0              1\n",
       "2   Strategy_14                0.0                  0.0              2\n",
       "3  Strategy_205                0.0                  0.0              1\n",
       "4   Strategy_63                0.0                  0.0              1\n",
       "5  Strategy_288                0.0                  0.0              1\n",
       "6  Strategy_121                0.0                  0.0              1\n",
       "7  Strategy_344               50.5                  0.0              3\n",
       "8  Strategy_313                0.0                  0.0              1\n",
       "9  Strategy_165                0.5                  0.5              2"
      ]
     },
     "execution_count": 84,
     "metadata": {},
     "output_type": "execute_result"
    }
   ],
   "source": [
    "strategies_final.head(10)"
   ]
  },
  {
   "cell_type": "markdown",
   "id": "16c7d1d7-68b4-4995-a47a-e4fa7032c5e8",
   "metadata": {},
   "source": [
    "Присоединим последнюю дату входа в стратегию"
   ]
  },
  {
   "cell_type": "code",
   "execution_count": 85,
   "id": "287ecbd7-7eef-4386-8189-2607ff3c8f9d",
   "metadata": {},
   "outputs": [],
   "source": [
    "strategies_final = strategies_final.merge(df_filter[['Услуга','Дата_начала']]\\\n",
    "                                                    .groupby('Услуга', as_index=False)\\\n",
    "                                                    .agg({'Дата_начала':'max'}), on = 'Услуга')"
   ]
  },
  {
   "cell_type": "code",
   "execution_count": 86,
   "id": "13ff45ca-cbf0-4584-830d-e200bfe6a4fd",
   "metadata": {},
   "outputs": [],
   "source": [
    "strategies_final['Среднее_к-во_дней'] = np.round(strategies_final['Среднее_к-во_дней'],1)"
   ]
  },
  {
   "cell_type": "code",
   "execution_count": 87,
   "id": "b3893601-0ae8-4c1e-9607-7e114de21f8d",
   "metadata": {},
   "outputs": [
    {
     "data": {
      "text/plain": [
       "165    2020-12-14\n",
       "56     2020-12-14\n",
       "230    2020-12-14\n",
       "231    2020-12-14\n",
       "234    2020-12-14\n",
       "          ...    \n",
       "281    2020-01-24\n",
       "327    2020-01-21\n",
       "328    2020-01-21\n",
       "329    2020-01-14\n",
       "330    2020-01-13\n",
       "Name: Дата_начала, Length: 331, dtype: object"
      ]
     },
     "execution_count": 87,
     "metadata": {},
     "output_type": "execute_result"
    }
   ],
   "source": [
    "strategies_final['Дата_начала'].sort_values(ascending=False)"
   ]
  },
  {
   "cell_type": "markdown",
   "id": "a230f22d-df2d-4039-8076-7d1ce76925bb",
   "metadata": {},
   "source": [
    "Отобразим на графике распределение среднего количества дней"
   ]
  },
  {
   "cell_type": "code",
   "execution_count": 88,
   "id": "48d8b9e6-c274-48b3-abfd-0b425abdd3bc",
   "metadata": {},
   "outputs": [
    {
     "name": "stderr",
     "output_type": "stream",
     "text": [
      "C:\\Users\\alyap\\anaconda3\\lib\\site-packages\\seaborn\\distributions.py:2619: FutureWarning: `distplot` is a deprecated function and will be removed in a future version. Please adapt your code to use either `displot` (a figure-level function with similar flexibility) or `histplot` (an axes-level function for histograms).\n",
      "  warnings.warn(msg, FutureWarning)\n"
     ]
    },
    {
     "data": {
      "text/plain": [
       "<AxesSubplot:xlabel='Среднее_к-во_дней'>"
      ]
     },
     "execution_count": 88,
     "metadata": {},
     "output_type": "execute_result"
    },
    {
     "data": {
      "image/png": "[encoded data removed]",
      "text/plain": [
       "<Figure size 720x720 with 1 Axes>"
      ]
     },
     "metadata": {},
     "output_type": "display_data"
    }
   ],
   "source": [
    "sns.distplot(strategies_final['Среднее_к-во_дней'], kde=False)"
   ]
  },
  {
   "cell_type": "code",
   "execution_count": 89,
   "id": "8226c6ae-e9e8-418c-812e-fd35032fd49b",
   "metadata": {},
   "outputs": [
    {
     "data": {
      "text/plain": [
       "<AxesSubplot:xlabel='Медианное_к-во дней'>"
      ]
     },
     "execution_count": 89,
     "metadata": {},
     "output_type": "execute_result"
    },
    {
     "data": {
      "image/png": "[encoded data removed]",
      "text/plain": [
       "<Figure size 720x720 with 1 Axes>"
      ]
     },
     "metadata": {},
     "output_type": "display_data"
    }
   ],
   "source": [
    "sns.distplot(strategies_final['Медианное_к-во дней'], kde=False)"
   ]
  },
  {
   "cell_type": "markdown",
   "id": "d3ee07c6-c969-450a-8acc-d7f3089dd21f",
   "metadata": {},
   "source": [
    "Среднее и медиана практически сходятся.   \n",
    "Отобразим на графике распределение к-во клиентов меньше 20"
   ]
  },
  {
   "cell_type": "code",
   "execution_count": 90,
   "id": "7fb26dd8-ccb4-4baa-88de-f13d857009da",
   "metadata": {},
   "outputs": [
    {
     "data": {
      "text/plain": [
       "<AxesSubplot:xlabel='К-во_клиентов'>"
      ]
     },
     "execution_count": 90,
     "metadata": {},
     "output_type": "execute_result"
    },
    {
     "data": {
      "image/png": "[encoded data removed]",
      "text/plain": [
       "<Figure size 720x720 with 1 Axes>"
      ]
     },
     "metadata": {},
     "output_type": "display_data"
    }
   ],
   "source": [
    "sns.distplot(strategies_final[strategies_final['К-во_клиентов'] <= 20]['К-во_клиентов'], kde=False)"
   ]
  },
  {
   "cell_type": "markdown",
   "id": "0898a445-7aae-4c2d-86fd-b779273fa861",
   "metadata": {},
   "source": [
    "Нас интересуют те стратегии, в которые зашли до 5 клиентов"
   ]
  },
  {
   "cell_type": "code",
   "execution_count": 91,
   "id": "38629a8b-0010-438c-a7f8-08a3bd8c7c11",
   "metadata": {},
   "outputs": [
    {
     "data": {
      "text/plain": [
       "1    83\n",
       "2    38\n",
       "3    20\n",
       "4    19\n",
       "5    17\n",
       "Name: К-во_клиентов, dtype: int64"
      ]
     },
     "execution_count": 91,
     "metadata": {},
     "output_type": "execute_result"
    }
   ],
   "source": [
    "strategies_final['К-во_клиентов'].value_counts().head()"
   ]
  },
  {
   "cell_type": "markdown",
   "id": "90d3756c-afa1-437c-83e1-5fa106339912",
   "metadata": {},
   "source": [
    "Поставим фильтр на медианное к-во дней < 30 либо количества клиентов меньше 5 и направим данную таблицу в отдел маркетинга для проработки решений по данным стратегиям."
   ]
  },
  {
   "cell_type": "code",
   "execution_count": 92,
   "id": "0a96910a-e938-4011-bbd1-f7b041c785ee",
   "metadata": {},
   "outputs": [
    {
     "data": {
      "text/html": [
       "<div>\n",
       "<style scoped>\n",
       "    .dataframe tbody tr th:only-of-type {\n",
       "        vertical-align: middle;\n",
       "    }\n",
       "\n",
       "    .dataframe tbody tr th {\n",
       "        vertical-align: top;\n",
       "    }\n",
       "\n",
       "    .dataframe thead th {\n",
       "        text-align: right;\n",
       "    }\n",
       "</style>\n",
       "<table border=\"1\" class=\"dataframe\">\n",
       "  <thead>\n",
       "    <tr style=\"text-align: right;\">\n",
       "      <th></th>\n",
       "      <th>Услуга</th>\n",
       "      <th>Среднее_к-во_дней</th>\n",
       "      <th>Медианное_к-во дней</th>\n",
       "      <th>К-во_клиентов</th>\n",
       "      <th>Дата_начала</th>\n",
       "    </tr>\n",
       "  </thead>\n",
       "  <tbody>\n",
       "    <tr>\n",
       "      <th>25</th>\n",
       "      <td>Strategy_75</td>\n",
       "      <td>40.6</td>\n",
       "      <td>21.0</td>\n",
       "      <td>15</td>\n",
       "      <td>2020-12-10</td>\n",
       "    </tr>\n",
       "    <tr>\n",
       "      <th>13</th>\n",
       "      <td>Strategy_341</td>\n",
       "      <td>103.7</td>\n",
       "      <td>2.0</td>\n",
       "      <td>5</td>\n",
       "      <td>2020-12-14</td>\n",
       "    </tr>\n",
       "    <tr>\n",
       "      <th>20</th>\n",
       "      <td>Strategy_86</td>\n",
       "      <td>86.0</td>\n",
       "      <td>13.5</td>\n",
       "      <td>4</td>\n",
       "      <td>2020-12-11</td>\n",
       "    </tr>\n",
       "    <tr>\n",
       "      <th>26</th>\n",
       "      <td>Strategy_102</td>\n",
       "      <td>48.4</td>\n",
       "      <td>23.0</td>\n",
       "      <td>4</td>\n",
       "      <td>2020-12-14</td>\n",
       "    </tr>\n",
       "    <tr>\n",
       "      <th>7</th>\n",
       "      <td>Strategy_344</td>\n",
       "      <td>50.5</td>\n",
       "      <td>0.0</td>\n",
       "      <td>3</td>\n",
       "      <td>2020-12-14</td>\n",
       "    </tr>\n",
       "    <tr>\n",
       "      <th>23</th>\n",
       "      <td>Strategy_73</td>\n",
       "      <td>17.0</td>\n",
       "      <td>17.0</td>\n",
       "      <td>3</td>\n",
       "      <td>2020-12-10</td>\n",
       "    </tr>\n",
       "    <tr>\n",
       "      <th>93</th>\n",
       "      <td>Strategy_89</td>\n",
       "      <td>169.5</td>\n",
       "      <td>169.5</td>\n",
       "      <td>2</td>\n",
       "      <td>2020-12-07</td>\n",
       "    </tr>\n",
       "    <tr>\n",
       "      <th>52</th>\n",
       "      <td>Strategy_74</td>\n",
       "      <td>92.5</td>\n",
       "      <td>92.5</td>\n",
       "      <td>2</td>\n",
       "      <td>2020-10-08</td>\n",
       "    </tr>\n",
       "    <tr>\n",
       "      <th>80</th>\n",
       "      <td>Strategy_310</td>\n",
       "      <td>162.5</td>\n",
       "      <td>162.5</td>\n",
       "      <td>2</td>\n",
       "      <td>2020-12-09</td>\n",
       "    </tr>\n",
       "    <tr>\n",
       "      <th>246</th>\n",
       "      <td>Strategy_194</td>\n",
       "      <td>302.0</td>\n",
       "      <td>302.0</td>\n",
       "      <td>2</td>\n",
       "      <td>2020-11-17</td>\n",
       "    </tr>\n",
       "  </tbody>\n",
       "</table>\n",
       "</div>"
      ],
      "text/plain": [
       "           Услуга  Среднее_к-во_дней  Медианное_к-во дней  К-во_клиентов  \\\n",
       "25    Strategy_75               40.6                 21.0             15   \n",
       "13   Strategy_341              103.7                  2.0              5   \n",
       "20    Strategy_86               86.0                 13.5              4   \n",
       "26   Strategy_102               48.4                 23.0              4   \n",
       "7    Strategy_344               50.5                  0.0              3   \n",
       "23    Strategy_73               17.0                 17.0              3   \n",
       "93    Strategy_89              169.5                169.5              2   \n",
       "52    Strategy_74               92.5                 92.5              2   \n",
       "80   Strategy_310              162.5                162.5              2   \n",
       "246  Strategy_194              302.0                302.0              2   \n",
       "\n",
       "    Дата_начала  \n",
       "25   2020-12-10  \n",
       "13   2020-12-14  \n",
       "20   2020-12-11  \n",
       "26   2020-12-14  \n",
       "7    2020-12-14  \n",
       "23   2020-12-10  \n",
       "93   2020-12-07  \n",
       "52   2020-10-08  \n",
       "80   2020-12-09  \n",
       "246  2020-11-17  "
      ]
     },
     "execution_count": 92,
     "metadata": {},
     "output_type": "execute_result"
    }
   ],
   "source": [
    "strategies_final_ = strategies_final[(strategies_final['К-во_клиентов'] <= 2) | (strategies_final['Медианное_к-во дней'] <= 30)]\n",
    "strategies_final_.sort_values('К-во_клиентов', ascending=False).head(10)"
   ]
  },
  {
   "cell_type": "code",
   "execution_count": 93,
   "id": "735e5580-1bbd-4947-971e-0c1817af1bad",
   "metadata": {},
   "outputs": [
    {
     "data": {
      "text/html": [
       "<div>\n",
       "<style scoped>\n",
       "    .dataframe tbody tr th:only-of-type {\n",
       "        vertical-align: middle;\n",
       "    }\n",
       "\n",
       "    .dataframe tbody tr th {\n",
       "        vertical-align: top;\n",
       "    }\n",
       "\n",
       "    .dataframe thead th {\n",
       "        text-align: right;\n",
       "    }\n",
       "</style>\n",
       "<table border=\"1\" class=\"dataframe\">\n",
       "  <thead>\n",
       "    <tr style=\"text-align: right;\">\n",
       "      <th></th>\n",
       "      <th>Услуга</th>\n",
       "      <th>Среднее_к-во_дней</th>\n",
       "      <th>Медианное_к-во дней</th>\n",
       "      <th>К-во_клиентов</th>\n",
       "      <th>Дата_начала</th>\n",
       "    </tr>\n",
       "  </thead>\n",
       "  <tbody>\n",
       "    <tr>\n",
       "      <th>0</th>\n",
       "      <td>Strategy_27</td>\n",
       "      <td>0.0</td>\n",
       "      <td>0.0</td>\n",
       "      <td>1</td>\n",
       "      <td>2020-05-04</td>\n",
       "    </tr>\n",
       "    <tr>\n",
       "      <th>1</th>\n",
       "      <td>Strategy_57</td>\n",
       "      <td>0.0</td>\n",
       "      <td>0.0</td>\n",
       "      <td>1</td>\n",
       "      <td>2020-05-04</td>\n",
       "    </tr>\n",
       "    <tr>\n",
       "      <th>2</th>\n",
       "      <td>Strategy_14</td>\n",
       "      <td>0.0</td>\n",
       "      <td>0.0</td>\n",
       "      <td>2</td>\n",
       "      <td>2020-12-11</td>\n",
       "    </tr>\n",
       "    <tr>\n",
       "      <th>3</th>\n",
       "      <td>Strategy_205</td>\n",
       "      <td>0.0</td>\n",
       "      <td>0.0</td>\n",
       "      <td>1</td>\n",
       "      <td>2020-12-08</td>\n",
       "    </tr>\n",
       "    <tr>\n",
       "      <th>4</th>\n",
       "      <td>Strategy_63</td>\n",
       "      <td>0.0</td>\n",
       "      <td>0.0</td>\n",
       "      <td>1</td>\n",
       "      <td>2020-12-07</td>\n",
       "    </tr>\n",
       "    <tr>\n",
       "      <th>5</th>\n",
       "      <td>Strategy_288</td>\n",
       "      <td>0.0</td>\n",
       "      <td>0.0</td>\n",
       "      <td>1</td>\n",
       "      <td>2020-12-08</td>\n",
       "    </tr>\n",
       "    <tr>\n",
       "      <th>6</th>\n",
       "      <td>Strategy_121</td>\n",
       "      <td>0.0</td>\n",
       "      <td>0.0</td>\n",
       "      <td>1</td>\n",
       "      <td>2020-12-14</td>\n",
       "    </tr>\n",
       "    <tr>\n",
       "      <th>7</th>\n",
       "      <td>Strategy_344</td>\n",
       "      <td>50.5</td>\n",
       "      <td>0.0</td>\n",
       "      <td>3</td>\n",
       "      <td>2020-12-14</td>\n",
       "    </tr>\n",
       "    <tr>\n",
       "      <th>8</th>\n",
       "      <td>Strategy_313</td>\n",
       "      <td>0.0</td>\n",
       "      <td>0.0</td>\n",
       "      <td>1</td>\n",
       "      <td>2020-12-08</td>\n",
       "    </tr>\n",
       "    <tr>\n",
       "      <th>9</th>\n",
       "      <td>Strategy_165</td>\n",
       "      <td>0.5</td>\n",
       "      <td>0.5</td>\n",
       "      <td>2</td>\n",
       "      <td>2020-12-14</td>\n",
       "    </tr>\n",
       "  </tbody>\n",
       "</table>\n",
       "</div>"
      ],
      "text/plain": [
       "         Услуга  Среднее_к-во_дней  Медианное_к-во дней  К-во_клиентов  \\\n",
       "0   Strategy_27                0.0                  0.0              1   \n",
       "1   Strategy_57                0.0                  0.0              1   \n",
       "2   Strategy_14                0.0                  0.0              2   \n",
       "3  Strategy_205                0.0                  0.0              1   \n",
       "4   Strategy_63                0.0                  0.0              1   \n",
       "5  Strategy_288                0.0                  0.0              1   \n",
       "6  Strategy_121                0.0                  0.0              1   \n",
       "7  Strategy_344               50.5                  0.0              3   \n",
       "8  Strategy_313                0.0                  0.0              1   \n",
       "9  Strategy_165                0.5                  0.5              2   \n",
       "\n",
       "  Дата_начала  \n",
       "0  2020-05-04  \n",
       "1  2020-05-04  \n",
       "2  2020-12-11  \n",
       "3  2020-12-08  \n",
       "4  2020-12-07  \n",
       "5  2020-12-08  \n",
       "6  2020-12-14  \n",
       "7  2020-12-14  \n",
       "8  2020-12-08  \n",
       "9  2020-12-14  "
      ]
     },
     "execution_count": 93,
     "metadata": {},
     "output_type": "execute_result"
    }
   ],
   "source": [
    "strategies_final_.sort_values('Медианное_к-во дней').head(10)"
   ]
  },
  {
   "cell_type": "markdown",
   "id": "757fa4e9-c6dd-4cb5-bac1-4e54c2f53f4d",
   "metadata": {},
   "source": [
    "Вывод:    \n",
    "Достаточно большое к-во стратегий, которыми клиенты не пользуются:   \n",
    " * 121 стратегия, в которые зашли только 1-2 клиента,\n",
    " * существуют стратегии, которыми пользуются меньше месяца,\n",
    " * существуют стратегии, срок захода в которых составляет менее одного дня "
   ]
  },
  {
   "cell_type": "markdown",
   "id": "8e30d5c8-035d-4971-b045-d6b895cc9794",
   "metadata": {},
   "source": [
    "Проанализируем возраст пользователей   \n",
    "Возраст будем считать от даты max_date, т.к. мы приняли эту дату за дату выгрузки"
   ]
  },
  {
   "cell_type": "code",
   "execution_count": 95,
   "id": "e48eb087-a3f1-42e8-87cf-dd889cb0f501",
   "metadata": {},
   "outputs": [],
   "source": [
    "df['Возраст'] = df['Дата рождения'].apply(\n",
    "               lambda x: max_date.year - x.year - \n",
    "               ((max_date.month, max_date.day) < (x.month, x.day)) \n",
    "               )"
   ]
  },
  {
   "cell_type": "code",
   "execution_count": 96,
   "id": "7d1115d0-cf1a-4e96-8ef3-2120b7b81596",
   "metadata": {},
   "outputs": [
    {
     "data": {
      "text/plain": [
       "11306     6\n",
       "2459     29\n",
       "11833    29\n",
       "11832    29\n",
       "11831    29\n",
       "         ..\n",
       "7129     40\n",
       "7130     40\n",
       "1578     40\n",
       "13432    40\n",
       "10960    40\n",
       "Name: Возраст, Length: 17270, dtype: int64"
      ]
     },
     "execution_count": 96,
     "metadata": {},
     "output_type": "execute_result"
    }
   ],
   "source": [
    "df['Возраст'].sort_values() # Отсортируем по возрастанию"
   ]
  },
  {
   "cell_type": "markdown",
   "id": "0b39e2e0-ed67-4991-bf99-ba766da952e8",
   "metadata": {},
   "source": [
    "Заметим аномалию - пользователь с возрастом 6 лет, направим данную информацию в юридическую службу для проверки документов   \n",
    "Всем остальным клиентам от 29 до 40 лет"
   ]
  },
  {
   "cell_type": "code",
   "execution_count": 97,
   "id": "5fc403f3-6f1e-453f-9e5c-95c3ac14f574",
   "metadata": {},
   "outputs": [
    {
     "data": {
      "text/plain": [
       "Клиент                             User_6066\n",
       "Дата рождения            2015-04-07 00:00:00\n",
       "Брокерский счет          Broker_account_7044\n",
       "Услуга                           Strategy_59\n",
       "Начало              2020-08-07T16:48:07.000Z\n",
       "Окончание                               None\n",
       "Начало_new         2020-08-07 16:48:07+00:00\n",
       "Окончание_new                            NaT\n",
       "Дата_начала              2020-08-07 00:00:00\n",
       "Дата_окончания                           NaT\n",
       "Дельта_времени                           NaT\n",
       "Возраст                                    6\n",
       "Name: 11306, dtype: object"
      ]
     },
     "execution_count": 97,
     "metadata": {},
     "output_type": "execute_result"
    }
   ],
   "source": [
    "df.loc[11306,]"
   ]
  },
  {
   "cell_type": "code",
   "execution_count": 98,
   "id": "da19911a-30e3-4d49-911b-fc185d987b23",
   "metadata": {},
   "outputs": [],
   "source": [
    "user_min_age = df.query('Клиент == \"User_6066\"').to_csv('C:/Users/alyap/Finam/user_min_age.csv', index=False)"
   ]
  },
  {
   "cell_type": "markdown",
   "id": "fe444999-713c-4a25-a3fb-b5eec0c5008e",
   "metadata": {},
   "source": [
    "Проанализируем пользователей по наличию количества брокерских счетов"
   ]
  },
  {
   "cell_type": "code",
   "execution_count": 99,
   "id": "093a73c3-4f4f-4ac8-9c12-ffe5412b8ee9",
   "metadata": {},
   "outputs": [
    {
     "data": {
      "text/html": [
       "<div>\n",
       "<style scoped>\n",
       "    .dataframe tbody tr th:only-of-type {\n",
       "        vertical-align: middle;\n",
       "    }\n",
       "\n",
       "    .dataframe tbody tr th {\n",
       "        vertical-align: top;\n",
       "    }\n",
       "\n",
       "    .dataframe thead th {\n",
       "        text-align: right;\n",
       "    }\n",
       "</style>\n",
       "<table border=\"1\" class=\"dataframe\">\n",
       "  <thead>\n",
       "    <tr style=\"text-align: right;\">\n",
       "      <th></th>\n",
       "      <th>Клиент</th>\n",
       "      <th>Брокерский счет</th>\n",
       "    </tr>\n",
       "  </thead>\n",
       "  <tbody>\n",
       "    <tr>\n",
       "      <th>242</th>\n",
       "      <td>User_10219</td>\n",
       "      <td>22</td>\n",
       "    </tr>\n",
       "    <tr>\n",
       "      <th>8426</th>\n",
       "      <td>User_766</td>\n",
       "      <td>20</td>\n",
       "    </tr>\n",
       "    <tr>\n",
       "      <th>7866</th>\n",
       "      <td>User_6831</td>\n",
       "      <td>18</td>\n",
       "    </tr>\n",
       "    <tr>\n",
       "      <th>5944</th>\n",
       "      <td>User_4765</td>\n",
       "      <td>18</td>\n",
       "    </tr>\n",
       "    <tr>\n",
       "      <th>7460</th>\n",
       "      <td>User_6293</td>\n",
       "      <td>18</td>\n",
       "    </tr>\n",
       "    <tr>\n",
       "      <th>...</th>\n",
       "      <td>...</td>\n",
       "      <td>...</td>\n",
       "    </tr>\n",
       "    <tr>\n",
       "      <th>3748</th>\n",
       "      <td>User_2481</td>\n",
       "      <td>1</td>\n",
       "    </tr>\n",
       "    <tr>\n",
       "      <th>3747</th>\n",
       "      <td>User_2480</td>\n",
       "      <td>1</td>\n",
       "    </tr>\n",
       "    <tr>\n",
       "      <th>3746</th>\n",
       "      <td>User_248</td>\n",
       "      <td>1</td>\n",
       "    </tr>\n",
       "    <tr>\n",
       "      <th>3745</th>\n",
       "      <td>User_2479</td>\n",
       "      <td>1</td>\n",
       "    </tr>\n",
       "    <tr>\n",
       "      <th>5160</th>\n",
       "      <td>User_3943</td>\n",
       "      <td>1</td>\n",
       "    </tr>\n",
       "  </tbody>\n",
       "</table>\n",
       "<p>10320 rows × 2 columns</p>\n",
       "</div>"
      ],
      "text/plain": [
       "          Клиент  Брокерский счет\n",
       "242   User_10219               22\n",
       "8426    User_766               20\n",
       "7866   User_6831               18\n",
       "5944   User_4765               18\n",
       "7460   User_6293               18\n",
       "...          ...              ...\n",
       "3748   User_2481                1\n",
       "3747   User_2480                1\n",
       "3746    User_248                1\n",
       "3745   User_2479                1\n",
       "5160   User_3943                1\n",
       "\n",
       "[10320 rows x 2 columns]"
      ]
     },
     "execution_count": 99,
     "metadata": {},
     "output_type": "execute_result"
    }
   ],
   "source": [
    "df.groupby('Клиент', as_index=False).agg({'Брокерский счет':'nunique'}).sort_values('Брокерский счет', ascending=False)"
   ]
  },
  {
   "cell_type": "markdown",
   "id": "81d2b981-4b6c-4bd8-b888-00d45d96b1c3",
   "metadata": {},
   "source": [
    "Клиент может открыть сколько угодно брокерских счетов, однако совместные брокерские счета в России запрещены.   \n",
    "Рассмотрим имеются ли совместные счета в датафрейме."
   ]
  },
  {
   "cell_type": "code",
   "execution_count": 111,
   "id": "3f0d77c4-14ab-4bd4-b43f-71f7b64b4a37",
   "metadata": {},
   "outputs": [
    {
     "data": {
      "text/html": [
       "<div>\n",
       "<style scoped>\n",
       "    .dataframe tbody tr th:only-of-type {\n",
       "        vertical-align: middle;\n",
       "    }\n",
       "\n",
       "    .dataframe tbody tr th {\n",
       "        vertical-align: top;\n",
       "    }\n",
       "\n",
       "    .dataframe thead th {\n",
       "        text-align: right;\n",
       "    }\n",
       "</style>\n",
       "<table border=\"1\" class=\"dataframe\">\n",
       "  <thead>\n",
       "    <tr style=\"text-align: right;\">\n",
       "      <th></th>\n",
       "      <th>Брокерский счет</th>\n",
       "      <th>Клиент</th>\n",
       "    </tr>\n",
       "  </thead>\n",
       "  <tbody>\n",
       "    <tr>\n",
       "      <th>16455</th>\n",
       "      <td>Broker_account_9999</td>\n",
       "      <td>1</td>\n",
       "    </tr>\n",
       "    <tr>\n",
       "      <th>16454</th>\n",
       "      <td>Broker_account_9996</td>\n",
       "      <td>1</td>\n",
       "    </tr>\n",
       "    <tr>\n",
       "      <th>16453</th>\n",
       "      <td>Broker_account_9994</td>\n",
       "      <td>1</td>\n",
       "    </tr>\n",
       "    <tr>\n",
       "      <th>16452</th>\n",
       "      <td>Broker_account_9993</td>\n",
       "      <td>1</td>\n",
       "    </tr>\n",
       "    <tr>\n",
       "      <th>16451</th>\n",
       "      <td>Broker_account_9992</td>\n",
       "      <td>1</td>\n",
       "    </tr>\n",
       "    <tr>\n",
       "      <th>...</th>\n",
       "      <td>...</td>\n",
       "      <td>...</td>\n",
       "    </tr>\n",
       "    <tr>\n",
       "      <th>4</th>\n",
       "      <td>Broker_account_1000</td>\n",
       "      <td>1</td>\n",
       "    </tr>\n",
       "    <tr>\n",
       "      <th>3</th>\n",
       "      <td>Broker_account_100</td>\n",
       "      <td>1</td>\n",
       "    </tr>\n",
       "    <tr>\n",
       "      <th>2</th>\n",
       "      <td>Broker_account_10</td>\n",
       "      <td>1</td>\n",
       "    </tr>\n",
       "    <tr>\n",
       "      <th>1</th>\n",
       "      <td>Broker_account_1</td>\n",
       "      <td>1</td>\n",
       "    </tr>\n",
       "    <tr>\n",
       "      <th>0</th>\n",
       "      <td>Broker_account_0</td>\n",
       "      <td>1</td>\n",
       "    </tr>\n",
       "  </tbody>\n",
       "</table>\n",
       "<p>16456 rows × 2 columns</p>\n",
       "</div>"
      ],
      "text/plain": [
       "           Брокерский счет  Клиент\n",
       "16455  Broker_account_9999       1\n",
       "16454  Broker_account_9996       1\n",
       "16453  Broker_account_9994       1\n",
       "16452  Broker_account_9993       1\n",
       "16451  Broker_account_9992       1\n",
       "...                    ...     ...\n",
       "4      Broker_account_1000       1\n",
       "3       Broker_account_100       1\n",
       "2        Broker_account_10       1\n",
       "1         Broker_account_1       1\n",
       "0         Broker_account_0       1\n",
       "\n",
       "[16456 rows x 2 columns]"
      ]
     },
     "execution_count": 111,
     "metadata": {},
     "output_type": "execute_result"
    }
   ],
   "source": [
    "df.groupby('Брокерский счет', as_index=False).agg({'Клиент':'nunique'}).sort_values('Брокерский счет', ascending=False)"
   ]
  },
  {
   "cell_type": "markdown",
   "id": "f20016d1-6695-4f7b-807c-010cc672c4d1",
   "metadata": {},
   "source": [
    "Совместные счета отсутстсвуют.   \n",
    "Рассмотрим теперь на скольких счетах клиент подключил одну и ту же стратегию."
   ]
  },
  {
   "cell_type": "code",
   "execution_count": null,
   "id": "6bc4ab5f-ee9c-44f2-aaf1-44f54d3286f1",
   "metadata": {},
   "outputs": [],
   "source": []
  },
  {
   "cell_type": "code",
   "execution_count": 100,
   "id": "8854e8eb-f700-4325-afa4-16bb8eb6106f",
   "metadata": {},
   "outputs": [
    {
     "data": {
      "text/html": [
       "<div>\n",
       "<style scoped>\n",
       "    .dataframe tbody tr th:only-of-type {\n",
       "        vertical-align: middle;\n",
       "    }\n",
       "\n",
       "    .dataframe tbody tr th {\n",
       "        vertical-align: top;\n",
       "    }\n",
       "\n",
       "    .dataframe thead th {\n",
       "        text-align: right;\n",
       "    }\n",
       "</style>\n",
       "<table border=\"1\" class=\"dataframe\">\n",
       "  <thead>\n",
       "    <tr style=\"text-align: right;\">\n",
       "      <th></th>\n",
       "      <th>Клиент</th>\n",
       "      <th>Услуга</th>\n",
       "      <th>Количество_счетов</th>\n",
       "    </tr>\n",
       "  </thead>\n",
       "  <tbody>\n",
       "    <tr>\n",
       "      <th>611</th>\n",
       "      <td>User_10219</td>\n",
       "      <td>Strategy_254</td>\n",
       "      <td>22</td>\n",
       "    </tr>\n",
       "    <tr>\n",
       "      <th>610</th>\n",
       "      <td>User_10218</td>\n",
       "      <td>Strategy_254</td>\n",
       "      <td>12</td>\n",
       "    </tr>\n",
       "    <tr>\n",
       "      <th>14252</th>\n",
       "      <td>User_8944</td>\n",
       "      <td>Strategy_211</td>\n",
       "      <td>8</td>\n",
       "    </tr>\n",
       "    <tr>\n",
       "      <th>11344</th>\n",
       "      <td>User_6205</td>\n",
       "      <td>Strategy_234</td>\n",
       "      <td>7</td>\n",
       "    </tr>\n",
       "    <tr>\n",
       "      <th>3129</th>\n",
       "      <td>User_13407</td>\n",
       "      <td>Strategy_362</td>\n",
       "      <td>5</td>\n",
       "    </tr>\n",
       "    <tr>\n",
       "      <th>...</th>\n",
       "      <td>...</td>\n",
       "      <td>...</td>\n",
       "      <td>...</td>\n",
       "    </tr>\n",
       "    <tr>\n",
       "      <th>5692</th>\n",
       "      <td>User_258</td>\n",
       "      <td>Strategy_17</td>\n",
       "      <td>1</td>\n",
       "    </tr>\n",
       "    <tr>\n",
       "      <th>5693</th>\n",
       "      <td>User_2580</td>\n",
       "      <td>Strategy_19</td>\n",
       "      <td>1</td>\n",
       "    </tr>\n",
       "    <tr>\n",
       "      <th>5694</th>\n",
       "      <td>User_2582</td>\n",
       "      <td>Strategy_16</td>\n",
       "      <td>1</td>\n",
       "    </tr>\n",
       "    <tr>\n",
       "      <th>5695</th>\n",
       "      <td>User_2582</td>\n",
       "      <td>Strategy_212</td>\n",
       "      <td>1</td>\n",
       "    </tr>\n",
       "    <tr>\n",
       "      <th>16932</th>\n",
       "      <td>User_9999</td>\n",
       "      <td>Strategy_258</td>\n",
       "      <td>1</td>\n",
       "    </tr>\n",
       "  </tbody>\n",
       "</table>\n",
       "<p>16933 rows × 3 columns</p>\n",
       "</div>"
      ],
      "text/plain": [
       "           Клиент        Услуга  Количество_счетов\n",
       "611    User_10219  Strategy_254                 22\n",
       "610    User_10218  Strategy_254                 12\n",
       "14252   User_8944  Strategy_211                  8\n",
       "11344   User_6205  Strategy_234                  7\n",
       "3129   User_13407  Strategy_362                  5\n",
       "...           ...           ...                ...\n",
       "5692     User_258   Strategy_17                  1\n",
       "5693    User_2580   Strategy_19                  1\n",
       "5694    User_2582   Strategy_16                  1\n",
       "5695    User_2582  Strategy_212                  1\n",
       "16932   User_9999  Strategy_258                  1\n",
       "\n",
       "[16933 rows x 3 columns]"
      ]
     },
     "execution_count": 100,
     "metadata": {},
     "output_type": "execute_result"
    }
   ],
   "source": [
    "the_usual_suspects = df.groupby(['Клиент', 'Услуга'], as_index=False).agg({'Брокерский счет':'nunique'})\\\n",
    "                                                .sort_values('Брокерский счет', ascending=False)\\\n",
    "                                                .rename(columns={'Брокерский счет':'Количество_счетов'})\n",
    "the_usual_suspects"
   ]
  },
  {
   "cell_type": "markdown",
   "id": "6a5c63c2-face-49f9-9da9-72eeb01904c8",
   "metadata": {},
   "source": [
    "Заметим, что 2 зарегистрированные подряд пользователя User_10218 и User_10219 воспользовались услугой Strategy_254 суммарно c 34х брокерских счетов.   \n",
    "Считаем данную информацию подозрительной, направим данные в службу безопасности для проверки пользователей."
   ]
  },
  {
   "cell_type": "code",
   "execution_count": 101,
   "id": "94d0e189-f6b8-4773-9e77-3cc0934af54c",
   "metadata": {},
   "outputs": [],
   "source": [
    "the_usual_suspects = df.query('(Клиент == \"User_10218\") or (Клиент == \"User_10219\")')\n",
    "the_usual_suspects.to_csv('C:/Users/alyap/Finam/the_usual_suspects.csv', index=False)"
   ]
  },
  {
   "cell_type": "code",
   "execution_count": 102,
   "id": "17492bdf-7f50-446f-a560-3616d5e7e6d1",
   "metadata": {},
   "outputs": [
    {
     "data": {
      "text/html": [
       "<div>\n",
       "<style scoped>\n",
       "    .dataframe tbody tr th:only-of-type {\n",
       "        vertical-align: middle;\n",
       "    }\n",
       "\n",
       "    .dataframe tbody tr th {\n",
       "        vertical-align: top;\n",
       "    }\n",
       "\n",
       "    .dataframe thead th {\n",
       "        text-align: right;\n",
       "    }\n",
       "</style>\n",
       "<table border=\"1\" class=\"dataframe\">\n",
       "  <thead>\n",
       "    <tr style=\"text-align: right;\">\n",
       "      <th></th>\n",
       "      <th>Клиент</th>\n",
       "      <th>Дата рождения</th>\n",
       "      <th>Брокерский счет</th>\n",
       "      <th>Услуга</th>\n",
       "      <th>Начало</th>\n",
       "      <th>Окончание</th>\n",
       "      <th>Начало_new</th>\n",
       "      <th>Окончание_new</th>\n",
       "      <th>Дата_начала</th>\n",
       "      <th>Дата_окончания</th>\n",
       "      <th>Дельта_времени</th>\n",
       "      <th>Возраст</th>\n",
       "    </tr>\n",
       "  </thead>\n",
       "  <tbody>\n",
       "    <tr>\n",
       "      <th>622</th>\n",
       "      <td>User_10218</td>\n",
       "      <td>1983-05-01</td>\n",
       "      <td>Broker_account_14697</td>\n",
       "      <td>Strategy_236</td>\n",
       "      <td>2020-11-24T19:51:58.000Z</td>\n",
       "      <td>2021-01-25T16:03:36.000Z</td>\n",
       "      <td>2020-11-24 19:51:58+00:00</td>\n",
       "      <td>2021-01-25 16:03:36+00:00</td>\n",
       "      <td>2020-11-24</td>\n",
       "      <td>2021-01-25</td>\n",
       "      <td>62 days</td>\n",
       "      <td>38</td>\n",
       "    </tr>\n",
       "    <tr>\n",
       "      <th>623</th>\n",
       "      <td>User_10218</td>\n",
       "      <td>1983-05-01</td>\n",
       "      <td>Broker_account_14698</td>\n",
       "      <td>Strategy_254</td>\n",
       "      <td>2020-12-07T21:26:50.000Z</td>\n",
       "      <td>2021-01-25T16:05:49.000Z</td>\n",
       "      <td>2020-12-07 21:26:50+00:00</td>\n",
       "      <td>2021-01-25 16:05:49+00:00</td>\n",
       "      <td>2020-12-07</td>\n",
       "      <td>2021-01-25</td>\n",
       "      <td>49 days</td>\n",
       "      <td>38</td>\n",
       "    </tr>\n",
       "    <tr>\n",
       "      <th>624</th>\n",
       "      <td>User_10218</td>\n",
       "      <td>1983-05-01</td>\n",
       "      <td>Broker_account_14699</td>\n",
       "      <td>Strategy_254</td>\n",
       "      <td>2020-10-26T10:32:06.000Z</td>\n",
       "      <td>2021-01-25T16:04:14.000Z</td>\n",
       "      <td>2020-10-26 10:32:06+00:00</td>\n",
       "      <td>2021-01-25 16:04:14+00:00</td>\n",
       "      <td>2020-10-26</td>\n",
       "      <td>2021-01-25</td>\n",
       "      <td>91 days</td>\n",
       "      <td>38</td>\n",
       "    </tr>\n",
       "    <tr>\n",
       "      <th>625</th>\n",
       "      <td>User_10218</td>\n",
       "      <td>1983-05-01</td>\n",
       "      <td>Broker_account_14700</td>\n",
       "      <td>Strategy_254</td>\n",
       "      <td>2020-10-26T10:32:55.000Z</td>\n",
       "      <td>2021-01-25T16:07:01.000Z</td>\n",
       "      <td>2020-10-26 10:32:55+00:00</td>\n",
       "      <td>2021-01-25 16:07:01+00:00</td>\n",
       "      <td>2020-10-26</td>\n",
       "      <td>2021-01-25</td>\n",
       "      <td>91 days</td>\n",
       "      <td>38</td>\n",
       "    </tr>\n",
       "    <tr>\n",
       "      <th>626</th>\n",
       "      <td>User_10218</td>\n",
       "      <td>1983-05-01</td>\n",
       "      <td>Broker_account_14701</td>\n",
       "      <td>Strategy_254</td>\n",
       "      <td>2020-11-01T17:43:56.000Z</td>\n",
       "      <td>2021-01-25T16:07:56.000Z</td>\n",
       "      <td>2020-11-01 17:43:56+00:00</td>\n",
       "      <td>2021-01-25 16:07:56+00:00</td>\n",
       "      <td>2020-11-01</td>\n",
       "      <td>2021-01-25</td>\n",
       "      <td>85 days</td>\n",
       "      <td>38</td>\n",
       "    </tr>\n",
       "  </tbody>\n",
       "</table>\n",
       "</div>"
      ],
      "text/plain": [
       "         Клиент Дата рождения       Брокерский счет        Услуга  \\\n",
       "622  User_10218    1983-05-01  Broker_account_14697  Strategy_236   \n",
       "623  User_10218    1983-05-01  Broker_account_14698  Strategy_254   \n",
       "624  User_10218    1983-05-01  Broker_account_14699  Strategy_254   \n",
       "625  User_10218    1983-05-01  Broker_account_14700  Strategy_254   \n",
       "626  User_10218    1983-05-01  Broker_account_14701  Strategy_254   \n",
       "\n",
       "                       Начало                 Окончание  \\\n",
       "622  2020-11-24T19:51:58.000Z  2021-01-25T16:03:36.000Z   \n",
       "623  2020-12-07T21:26:50.000Z  2021-01-25T16:05:49.000Z   \n",
       "624  2020-10-26T10:32:06.000Z  2021-01-25T16:04:14.000Z   \n",
       "625  2020-10-26T10:32:55.000Z  2021-01-25T16:07:01.000Z   \n",
       "626  2020-11-01T17:43:56.000Z  2021-01-25T16:07:56.000Z   \n",
       "\n",
       "                   Начало_new             Окончание_new Дата_начала  \\\n",
       "622 2020-11-24 19:51:58+00:00 2021-01-25 16:03:36+00:00  2020-11-24   \n",
       "623 2020-12-07 21:26:50+00:00 2021-01-25 16:05:49+00:00  2020-12-07   \n",
       "624 2020-10-26 10:32:06+00:00 2021-01-25 16:04:14+00:00  2020-10-26   \n",
       "625 2020-10-26 10:32:55+00:00 2021-01-25 16:07:01+00:00  2020-10-26   \n",
       "626 2020-11-01 17:43:56+00:00 2021-01-25 16:07:56+00:00  2020-11-01   \n",
       "\n",
       "    Дата_окончания Дельта_времени  Возраст  \n",
       "622     2021-01-25        62 days       38  \n",
       "623     2021-01-25        49 days       38  \n",
       "624     2021-01-25        91 days       38  \n",
       "625     2021-01-25        91 days       38  \n",
       "626     2021-01-25        85 days       38  "
      ]
     },
     "execution_count": 102,
     "metadata": {},
     "output_type": "execute_result"
    }
   ],
   "source": [
    "the_usual_suspects.head()"
   ]
  },
  {
   "cell_type": "markdown",
   "id": "4f17eae0-3b7e-4f03-bdcb-920ff1cadd55",
   "metadata": {},
   "source": [
    "***\n",
    "## Выводы:\n",
    "\n",
    "**1. Информация для разработчика продукта:**\n",
    " * существуют услуги, срок захода в которых составляет менее одного дня.   \n",
    " Их подключили 1-2 пользователя и вышли в тот же день.   \n",
    " Это означает что данные услуги не привлекательны для клиента и разработчику необходимо принять решение либ о пересмотре условий либо об аннулировании таких услуг.   \n",
    " \n",
    "**2. Информация для отдела маркетинга:**\n",
    " * Достаточно большое к-во услуг, которыми пользователи не пользуются:\n",
    " * 121 услуга, в которые зашли только 1-2 клиента,\n",
    " * есть услуги, в которые клиент заходит на небольшой срок (меньше месяца).    \n",
    " Направим сводную таблицу со списком стратегий для принятия решения по их развитию.\n",
    "\n",
    "**3. Информация для юридического отдела:**\n",
    " * Выявлен пользователь с возрастом 6 лет   \n",
    " Необходимо проверить документы пользователя\n",
    " \n",
    "**4. Информация для отдела безопасности:**\n",
    " * Выявлено 2 зарегистрированных подряд пользователя User_10218 и User_10219, которые открыли суммарно 34 брокерских счета и воспользовались услугой Strategy_254.\n",
    "Необходимо проверить деятельность данных пользователей на портале.\n",
    " \n",
    "***"
   ]
  },
  {
   "cell_type": "code",
   "execution_count": null,
   "id": "91fb95b0-84e8-4556-b1d5-7ac5e60cc0e5",
   "metadata": {},
   "outputs": [],
   "source": []
  }
 ],
 "metadata": {
  "kernelspec": {
   "display_name": "Python 3 (ipykernel)",
   "language": "python",
   "name": "python3"
  },
  "language_info": {
   "codemirror_mode": {
    "name": "ipython",
    "version": 3
   },
   "file_extension": ".py",
   "mimetype": "text/x-python",
   "name": "python",
   "nbconvert_exporter": "python",
   "pygments_lexer": "ipython3",
   "version": "3.9.12"
  }
 },
 "nbformat": 4,
 "nbformat_minor": 5
}
